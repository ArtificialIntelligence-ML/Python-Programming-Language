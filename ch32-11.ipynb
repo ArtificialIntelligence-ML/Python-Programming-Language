{
 "cells": [
  {
   "cell_type": "markdown",
   "id": "95ed0304-2054-4170-b0b0-ba79f819d874",
   "metadata": {},
   "source": [
    "# Specifying a regular expression for the shortest match"
   ]
  },
  {
   "cell_type": "code",
   "execution_count": 1,
   "id": "61c1d646-e77a-4066-9861-cb6ec6ca5d69",
   "metadata": {
    "tags": []
   },
   "outputs": [],
   "source": [
    "import re"
   ]
  },
  {
   "cell_type": "code",
   "execution_count": 2,
   "id": "039894af-b6e3-4b4e-8962-43807df1c2ee",
   "metadata": {
    "tags": []
   },
   "outputs": [],
   "source": [
    "pat = re.compile(r'\\\"(.*)\\\"')"
   ]
  },
  {
   "cell_type": "code",
   "execution_count": 3,
   "id": "9077e8ec-a5da-4daf-909b-9f633e4598d6",
   "metadata": {
    "tags": []
   },
   "outputs": [],
   "source": [
    "text = 'I am \"Ghazal\", a Python programmer in \"Udemy\"...'"
   ]
  },
  {
   "cell_type": "code",
   "execution_count": 4,
   "id": "77ba7b58-abdc-4445-b145-2fc16ca33b39",
   "metadata": {
    "tags": []
   },
   "outputs": [
    {
     "data": {
      "text/plain": [
       "['Ghazal\", a Python programmer in \"Udemy']"
      ]
     },
     "execution_count": 4,
     "metadata": {},
     "output_type": "execute_result"
    }
   ],
   "source": [
    "pat.findall(text)"
   ]
  },
  {
   "cell_type": "code",
   "execution_count": 5,
   "id": "f777d512-8ea1-42a4-8d83-641e025a8e7e",
   "metadata": {
    "tags": []
   },
   "outputs": [],
   "source": [
    "pat2 = re.compile(r'\\\"(.*?)\\\"')"
   ]
  },
  {
   "cell_type": "code",
   "execution_count": 6,
   "id": "c10d2415-83f5-49ab-be6e-12c6a4e39e4f",
   "metadata": {
    "tags": []
   },
   "outputs": [
    {
     "data": {
      "text/plain": [
       "['Ghazal', 'Udemy']"
      ]
     },
     "execution_count": 6,
     "metadata": {},
     "output_type": "execute_result"
    }
   ],
   "source": [
    "pat2.findall(text)"
   ]
  },
  {
   "cell_type": "markdown",
   "id": "74f20e16-bab9-4fc0-826b-0fb6177138f5",
   "metadata": {},
   "source": [
    "# Normilizing Unicode text to a standard representation"
   ]
  },
  {
   "cell_type": "code",
   "execution_count": 7,
   "id": "670e3c0a-3200-4108-bdf8-f517f3f83b5f",
   "metadata": {
    "tags": []
   },
   "outputs": [],
   "source": [
    "# غزل"
   ]
  },
  {
   "cell_type": "code",
   "execution_count": 7,
   "id": "27c14052-2508-475f-8a2e-9f0db885c934",
   "metadata": {
    "tags": []
   },
   "outputs": [],
   "source": [
    "Ghazal = '\\u063a\\u0632\\u0644'"
   ]
  },
  {
   "cell_type": "code",
   "execution_count": 8,
   "id": "5dec4d67-c1c9-45d4-a23d-1f367adb516a",
   "metadata": {
    "tags": []
   },
   "outputs": [
    {
     "data": {
      "text/plain": [
       "'غزل'"
      ]
     },
     "execution_count": 8,
     "metadata": {},
     "output_type": "execute_result"
    }
   ],
   "source": [
    "Ghazal"
   ]
  },
  {
   "cell_type": "code",
   "execution_count": 9,
   "id": "2165c64c-0e7e-43cc-9c4b-5bccd25fff1d",
   "metadata": {},
   "outputs": [],
   "source": [
    "s1 = 'Elni\\u00f1o'"
   ]
  },
  {
   "cell_type": "code",
   "execution_count": 10,
   "id": "87887fde-e2ca-48b1-8f9e-317527351d20",
   "metadata": {
    "tags": []
   },
   "outputs": [
    {
     "data": {
      "text/plain": [
       "'Elniño'"
      ]
     },
     "execution_count": 10,
     "metadata": {},
     "output_type": "execute_result"
    }
   ],
   "source": [
    "s1"
   ]
  },
  {
   "cell_type": "code",
   "execution_count": 11,
   "id": "1472421f-9f35-49d0-877f-db41d5e3cea8",
   "metadata": {
    "tags": []
   },
   "outputs": [],
   "source": [
    "s2 = 'Elnin\\u0303o'"
   ]
  },
  {
   "cell_type": "code",
   "execution_count": 12,
   "id": "ab8ebbcd-80a9-49f8-a095-a4cf9374dcb0",
   "metadata": {
    "tags": []
   },
   "outputs": [
    {
     "data": {
      "text/plain": [
       "'Elniño'"
      ]
     },
     "execution_count": 12,
     "metadata": {},
     "output_type": "execute_result"
    }
   ],
   "source": [
    "s2"
   ]
  },
  {
   "cell_type": "code",
   "execution_count": 13,
   "id": "3d71e326-2bb3-4641-9e40-d08a3c5bd32b",
   "metadata": {
    "tags": []
   },
   "outputs": [
    {
     "data": {
      "text/plain": [
       "False"
      ]
     },
     "execution_count": 13,
     "metadata": {},
     "output_type": "execute_result"
    }
   ],
   "source": [
    "s1 == s2"
   ]
  },
  {
   "cell_type": "code",
   "execution_count": 14,
   "id": "4051474e-f1e7-4afb-9bc7-8c7200815470",
   "metadata": {
    "tags": []
   },
   "outputs": [
    {
     "data": {
      "text/plain": [
       "(6, 7)"
      ]
     },
     "execution_count": 14,
     "metadata": {},
     "output_type": "execute_result"
    }
   ],
   "source": [
    "len(s1), len(s2)"
   ]
  },
  {
   "cell_type": "code",
   "execution_count": 15,
   "id": "749299c5-c5b7-41b0-879d-6b31dd7a32b0",
   "metadata": {
    "tags": []
   },
   "outputs": [],
   "source": [
    "import unicodedata"
   ]
  },
  {
   "cell_type": "code",
   "execution_count": 16,
   "id": "617b3011-569c-4c0f-84a1-92eb1e0d05bb",
   "metadata": {
    "tags": []
   },
   "outputs": [],
   "source": [
    "s1n = unicodedata.normalize('NFC', s1)"
   ]
  },
  {
   "cell_type": "code",
   "execution_count": 17,
   "id": "a12d75fa-bd8d-42f1-b514-abef0b2f4f1f",
   "metadata": {
    "tags": []
   },
   "outputs": [],
   "source": [
    "s2n = unicodedata.normalize('NFC', s2)"
   ]
  },
  {
   "cell_type": "code",
   "execution_count": 18,
   "id": "f5103992-17d2-4911-b582-e0a4ad5fdbbc",
   "metadata": {
    "tags": []
   },
   "outputs": [
    {
     "data": {
      "text/plain": [
       "'Elniño'"
      ]
     },
     "execution_count": 18,
     "metadata": {},
     "output_type": "execute_result"
    }
   ],
   "source": [
    "s1n"
   ]
  },
  {
   "cell_type": "code",
   "execution_count": 19,
   "id": "3df5a106-e4f1-45ac-bdcf-8465beaf8bd2",
   "metadata": {
    "tags": []
   },
   "outputs": [
    {
     "data": {
      "text/plain": [
       "'Elniño'"
      ]
     },
     "execution_count": 19,
     "metadata": {},
     "output_type": "execute_result"
    }
   ],
   "source": [
    "s2n"
   ]
  },
  {
   "cell_type": "code",
   "execution_count": 20,
   "id": "8d77b046-25d0-4641-bc52-13e908a707fc",
   "metadata": {
    "tags": []
   },
   "outputs": [
    {
     "data": {
      "text/plain": [
       "True"
      ]
     },
     "execution_count": 20,
     "metadata": {},
     "output_type": "execute_result"
    }
   ],
   "source": [
    "s1n == s2n"
   ]
  },
  {
   "cell_type": "code",
   "execution_count": 21,
   "id": "bf9f846c-bb31-460a-8244-72723805b84f",
   "metadata": {
    "tags": []
   },
   "outputs": [
    {
     "name": "stdout",
     "output_type": "stream",
     "text": [
      "'Elni\\xf1o'\n"
     ]
    }
   ],
   "source": [
    "print(ascii(s1n))"
   ]
  },
  {
   "cell_type": "code",
   "execution_count": 22,
   "id": "bfa15603-d603-4ce9-9eb7-9ea67f957587",
   "metadata": {
    "tags": []
   },
   "outputs": [
    {
     "name": "stdout",
     "output_type": "stream",
     "text": [
      "'Elni\\xf1o'\n"
     ]
    }
   ],
   "source": [
    "print(ascii(s2n))"
   ]
  },
  {
   "cell_type": "code",
   "execution_count": 23,
   "id": "d8d97ced-c27e-4d39-b29d-4d6f01656d06",
   "metadata": {
    "tags": []
   },
   "outputs": [
    {
     "data": {
      "text/plain": [
       "109"
      ]
     },
     "execution_count": 23,
     "metadata": {},
     "output_type": "execute_result"
    }
   ],
   "source": [
    "ord('m')"
   ]
  },
  {
   "cell_type": "code",
   "execution_count": 24,
   "id": "a5a487db-b3f2-42be-b671-58201939929d",
   "metadata": {
    "tags": []
   },
   "outputs": [
    {
     "data": {
      "text/plain": [
       "77"
      ]
     },
     "execution_count": 24,
     "metadata": {},
     "output_type": "execute_result"
    }
   ],
   "source": [
    "ord('M')"
   ]
  },
  {
   "cell_type": "code",
   "execution_count": 25,
   "id": "5c0e218a-b48d-4d0a-88ea-b8329c1ae941",
   "metadata": {
    "tags": []
   },
   "outputs": [
    {
     "data": {
      "text/plain": [
       "'m'"
      ]
     },
     "execution_count": 25,
     "metadata": {},
     "output_type": "execute_result"
    }
   ],
   "source": [
    "chr(109)"
   ]
  },
  {
   "cell_type": "code",
   "execution_count": 26,
   "id": "7e60ca98-4ca0-41ca-85fd-cf4a5a2cb469",
   "metadata": {
    "tags": []
   },
   "outputs": [
    {
     "data": {
      "text/plain": [
       "'M'"
      ]
     },
     "execution_count": 26,
     "metadata": {},
     "output_type": "execute_result"
    }
   ],
   "source": [
    "chr(77)"
   ]
  },
  {
   "cell_type": "code",
   "execution_count": 27,
   "id": "7f2ba399-5eee-43bd-8ea1-61db1d2e88d3",
   "metadata": {
    "tags": []
   },
   "outputs": [
    {
     "data": {
      "text/plain": [
       "69"
      ]
     },
     "execution_count": 27,
     "metadata": {},
     "output_type": "execute_result"
    }
   ],
   "source": [
    "ord('E')"
   ]
  },
  {
   "cell_type": "code",
   "execution_count": 28,
   "id": "535d9e88-4e94-4784-91e0-e7903b0aabcd",
   "metadata": {
    "tags": []
   },
   "outputs": [
    {
     "data": {
      "text/plain": [
       "'E'"
      ]
     },
     "execution_count": 28,
     "metadata": {},
     "output_type": "execute_result"
    }
   ],
   "source": [
    "chr(69)"
   ]
  },
  {
   "cell_type": "code",
   "execution_count": 29,
   "id": "680603b0-fdad-4f18-ad34-b28bbc021c4c",
   "metadata": {
    "tags": []
   },
   "outputs": [],
   "source": [
    "s1n2 = unicodedata.normalize('NFD', s1)"
   ]
  },
  {
   "cell_type": "code",
   "execution_count": 30,
   "id": "dc08eb35-aa20-40e8-bff6-73a38e199745",
   "metadata": {
    "tags": []
   },
   "outputs": [],
   "source": [
    "s2n2 = unicodedata.normalize('NFD', s2)"
   ]
  },
  {
   "cell_type": "code",
   "execution_count": 31,
   "id": "955e668c-4563-4774-9bf1-c2b752f8d896",
   "metadata": {
    "tags": []
   },
   "outputs": [
    {
     "data": {
      "text/plain": [
       "'Elniño'"
      ]
     },
     "execution_count": 31,
     "metadata": {},
     "output_type": "execute_result"
    }
   ],
   "source": [
    "s1n2"
   ]
  },
  {
   "cell_type": "code",
   "execution_count": 32,
   "id": "60ceae77-0223-4e6e-8b19-1304afdcc532",
   "metadata": {
    "tags": []
   },
   "outputs": [
    {
     "data": {
      "text/plain": [
       "'Elniño'"
      ]
     },
     "execution_count": 32,
     "metadata": {},
     "output_type": "execute_result"
    }
   ],
   "source": [
    "s2n2"
   ]
  },
  {
   "cell_type": "code",
   "execution_count": 33,
   "id": "f5b2697a-a776-4412-b457-2d2e5f1f4453",
   "metadata": {
    "tags": []
   },
   "outputs": [
    {
     "data": {
      "text/plain": [
       "True"
      ]
     },
     "execution_count": 33,
     "metadata": {},
     "output_type": "execute_result"
    }
   ],
   "source": [
    "s1n2 == s2n2"
   ]
  },
  {
   "cell_type": "code",
   "execution_count": 34,
   "id": "1c870b5a-163e-4141-9ca0-efab9613d90c",
   "metadata": {
    "tags": []
   },
   "outputs": [
    {
     "name": "stdout",
     "output_type": "stream",
     "text": [
      "'Elnin\\u0303o'\n"
     ]
    }
   ],
   "source": [
    "print(ascii(s1n2))"
   ]
  },
  {
   "cell_type": "code",
   "execution_count": 35,
   "id": "32304262-4c6d-4903-845a-6cf36442e325",
   "metadata": {
    "tags": []
   },
   "outputs": [
    {
     "name": "stdout",
     "output_type": "stream",
     "text": [
      "'Elnin\\u0303o'\n"
     ]
    }
   ],
   "source": [
    "print(ascii(s2n2))"
   ]
  },
  {
   "cell_type": "code",
   "execution_count": 36,
   "id": "aa1b7bff-6ab1-491c-ae03-df6985d989d8",
   "metadata": {
    "tags": []
   },
   "outputs": [
    {
     "data": {
      "text/plain": [
       "'ﬁ'"
      ]
     },
     "execution_count": 36,
     "metadata": {},
     "output_type": "execute_result"
    }
   ],
   "source": [
    "s = '\\ufb01'; s"
   ]
  },
  {
   "cell_type": "code",
   "execution_count": 37,
   "id": "b1916873-1b54-4696-81d1-e9d976eb7b90",
   "metadata": {
    "tags": []
   },
   "outputs": [
    {
     "data": {
      "text/plain": [
       "'ﬁ'"
      ]
     },
     "execution_count": 37,
     "metadata": {},
     "output_type": "execute_result"
    }
   ],
   "source": [
    "unicodedata.normalize('NFD', s)"
   ]
  },
  {
   "cell_type": "code",
   "execution_count": 38,
   "id": "44f99234-be0b-4e80-8cd3-c3992387370c",
   "metadata": {
    "tags": []
   },
   "outputs": [
    {
     "data": {
      "text/plain": [
       "'ﬁ'"
      ]
     },
     "execution_count": 38,
     "metadata": {},
     "output_type": "execute_result"
    }
   ],
   "source": [
    "unicodedata.normalize('NFC', s)"
   ]
  },
  {
   "cell_type": "code",
   "execution_count": 39,
   "id": "5a375134-705f-48df-89ed-f22a2acf2f33",
   "metadata": {
    "tags": []
   },
   "outputs": [
    {
     "data": {
      "text/plain": [
       "'fi'"
      ]
     },
     "execution_count": 39,
     "metadata": {},
     "output_type": "execute_result"
    }
   ],
   "source": [
    "unicodedata.normalize('NFKD', s)"
   ]
  },
  {
   "cell_type": "code",
   "execution_count": 40,
   "id": "1ff3f329-1e5a-4293-962a-c38257c4fa69",
   "metadata": {
    "tags": []
   },
   "outputs": [
    {
     "data": {
      "text/plain": [
       "'fi'"
      ]
     },
     "execution_count": 40,
     "metadata": {},
     "output_type": "execute_result"
    }
   ],
   "source": [
    "unicodedata.normalize('NFKC', s)"
   ]
  },
  {
   "cell_type": "code",
   "execution_count": 41,
   "id": "e6822d81-b989-4986-829a-a28955d99b0a",
   "metadata": {
    "tags": []
   },
   "outputs": [
    {
     "name": "stdout",
     "output_type": "stream",
     "text": [
      "'fi'\n"
     ]
    }
   ],
   "source": [
    "print(ascii('fi'))"
   ]
  },
  {
   "cell_type": "code",
   "execution_count": 42,
   "id": "2c0287ca-c95f-4485-8875-904d95736583",
   "metadata": {
    "tags": []
   },
   "outputs": [
    {
     "name": "stdout",
     "output_type": "stream",
     "text": [
      "'\\ufb01'\n"
     ]
    }
   ],
   "source": [
    "print(ascii('ﬁ'))"
   ]
  },
  {
   "cell_type": "code",
   "execution_count": 43,
   "id": "e6eb9255-948f-4676-94d6-d802cba7089f",
   "metadata": {
    "tags": []
   },
   "outputs": [
    {
     "name": "stdout",
     "output_type": "stream",
     "text": [
      "'Elnin\\u0303o'\n"
     ]
    }
   ],
   "source": [
    "print(ascii('Elniño'))"
   ]
  },
  {
   "cell_type": "code",
   "execution_count": null,
   "id": "74347fb1-4534-4d20-a939-acae6bb1e13c",
   "metadata": {},
   "outputs": [],
   "source": []
  }
 ],
 "metadata": {
  "kernelspec": {
   "display_name": "Python 3 (ipykernel)",
   "language": "python",
   "name": "python3"
  },
  "language_info": {
   "codemirror_mode": {
    "name": "ipython",
    "version": 3
   },
   "file_extension": ".py",
   "mimetype": "text/x-python",
   "name": "python",
   "nbconvert_exporter": "python",
   "pygments_lexer": "ipython3",
   "version": "3.11.3"
  }
 },
 "nbformat": 4,
 "nbformat_minor": 5
}
