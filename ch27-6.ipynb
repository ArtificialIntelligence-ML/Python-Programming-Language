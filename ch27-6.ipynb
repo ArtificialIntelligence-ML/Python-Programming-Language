{
 "cells": [
  {
   "cell_type": "markdown",
   "id": "0ba03fa6-58af-4552-b16a-4d2dd4988a34",
   "metadata": {},
   "source": [
    "# Filtering sequence's elements"
   ]
  },
  {
   "cell_type": "code",
   "execution_count": 1,
   "id": "ca44bc19-67a5-42c6-ae90-db6046318ffa",
   "metadata": {
    "tags": []
   },
   "outputs": [],
   "source": [
    "#list comprehension"
   ]
  },
  {
   "cell_type": "code",
   "execution_count": 2,
   "id": "c531aeb4-95e0-408e-b9a2-af4b7a70012b",
   "metadata": {
    "tags": []
   },
   "outputs": [],
   "source": [
    "l = [1, 25, -9, 81, -54, 32, -17, 12, -2]"
   ]
  },
  {
   "cell_type": "code",
   "execution_count": 4,
   "id": "3bbb5b13-506a-445b-96ab-261888a1e3c0",
   "metadata": {
    "tags": []
   },
   "outputs": [
    {
     "ename": "SyntaxError",
     "evalue": "invalid syntax (3480555131.py, line 1)",
     "output_type": "error",
     "traceback": [
      "\u001b[1;36m  Cell \u001b[1;32mIn[4], line 1\u001b[1;36m\u001b[0m\n\u001b[1;33m    n for n in l if n>0\u001b[0m\n\u001b[1;37m      ^\u001b[0m\n\u001b[1;31mSyntaxError\u001b[0m\u001b[1;31m:\u001b[0m invalid syntax\n"
     ]
    }
   ],
   "source": [
    "n for n in l if n>0"
   ]
  },
  {
   "cell_type": "code",
   "execution_count": 5,
   "id": "0c1d1a28-8e82-4323-a169-279c395d5431",
   "metadata": {
    "tags": []
   },
   "outputs": [],
   "source": [
    "l2 = []\n",
    "for n in l:\n",
    "    if n>0:\n",
    "        l2.append(n)\n",
    "        \n",
    "        "
   ]
  },
  {
   "cell_type": "code",
   "execution_count": 6,
   "id": "fe58d3c7-1b28-4228-9d8c-c607e1daba4c",
   "metadata": {
    "tags": []
   },
   "outputs": [
    {
     "data": {
      "text/plain": [
       "[1, 25, 81, 32, 12]"
      ]
     },
     "execution_count": 6,
     "metadata": {},
     "output_type": "execute_result"
    }
   ],
   "source": [
    "l2"
   ]
  },
  {
   "cell_type": "code",
   "execution_count": 8,
   "id": "281b2d74-0b9b-4ab8-8c75-1fdbb0ba7120",
   "metadata": {
    "tags": []
   },
   "outputs": [
    {
     "data": {
      "text/plain": [
       "[1, 25, 81, 32, 12]"
      ]
     },
     "execution_count": 8,
     "metadata": {},
     "output_type": "execute_result"
    }
   ],
   "source": [
    "[n for n in l if n>0]"
   ]
  },
  {
   "cell_type": "code",
   "execution_count": 9,
   "id": "c7325783-038d-4aed-8fd6-18cde00598bf",
   "metadata": {
    "tags": []
   },
   "outputs": [
    {
     "data": {
      "text/plain": [
       "[-9, -54, -17, -2]"
      ]
     },
     "execution_count": 9,
     "metadata": {},
     "output_type": "execute_result"
    }
   ],
   "source": [
    "[n for n in l if n<0]"
   ]
  },
  {
   "cell_type": "code",
   "execution_count": 10,
   "id": "525b2531-f19e-4c56-9a57-069f22800e97",
   "metadata": {
    "tags": []
   },
   "outputs": [
    {
     "ename": "NameError",
     "evalue": "name 'p' is not defined",
     "output_type": "error",
     "traceback": [
      "\u001b[1;31m---------------------------------------------------------------------------\u001b[0m",
      "\u001b[1;31mNameError\u001b[0m                                 Traceback (most recent call last)",
      "Cell \u001b[1;32mIn[10], line 1\u001b[0m\n\u001b[1;32m----> 1\u001b[0m \u001b[38;5;28;01mfor\u001b[39;00m i \u001b[38;5;129;01min\u001b[39;00m p:\n\u001b[0;32m      2\u001b[0m     \u001b[38;5;28mprint\u001b[39m(i)\n",
      "\u001b[1;31mNameError\u001b[0m: name 'p' is not defined"
     ]
    }
   ],
   "source": [
    "for i in p:\n",
    "    print(i)"
   ]
  },
  {
   "cell_type": "code",
   "execution_count": 11,
   "id": "971b14bf-40a7-4945-9464-8810e527ebf4",
   "metadata": {
    "tags": []
   },
   "outputs": [],
   "source": [
    "val = ['120', '95', '-12', '93', '*', '2', 'N/A', '20'] "
   ]
  },
  {
   "cell_type": "code",
   "execution_count": 12,
   "id": "7b8324b1-9443-4ab9-975e-31b23417d9b9",
   "metadata": {
    "tags": []
   },
   "outputs": [
    {
     "ename": "ValueError",
     "evalue": "invalid literal for int() with base 10: '*'",
     "output_type": "error",
     "traceback": [
      "\u001b[1;31m---------------------------------------------------------------------------\u001b[0m",
      "\u001b[1;31mValueError\u001b[0m                                Traceback (most recent call last)",
      "Cell \u001b[1;32mIn[12], line 1\u001b[0m\n\u001b[1;32m----> 1\u001b[0m [\u001b[38;5;28mint\u001b[39m(n) \u001b[38;5;28;01mfor\u001b[39;00m n \u001b[38;5;129;01min\u001b[39;00m val]\n",
      "Cell \u001b[1;32mIn[12], line 1\u001b[0m, in \u001b[0;36m<listcomp>\u001b[1;34m(.0)\u001b[0m\n\u001b[1;32m----> 1\u001b[0m [\u001b[38;5;28mint\u001b[39m(n) \u001b[38;5;28;01mfor\u001b[39;00m n \u001b[38;5;129;01min\u001b[39;00m val]\n",
      "\u001b[1;31mValueError\u001b[0m: invalid literal for int() with base 10: '*'"
     ]
    }
   ],
   "source": [
    "[int(n) for n in val]"
   ]
  },
  {
   "cell_type": "code",
   "execution_count": 15,
   "id": "6a340003-dbd7-4a05-9670-88956ad578c3",
   "metadata": {
    "tags": []
   },
   "outputs": [],
   "source": [
    "def is_int(v):\n",
    "    try:\n",
    "        x = int(v)\n",
    "        return True\n",
    "    except ValueError:\n",
    "        return False"
   ]
  },
  {
   "cell_type": "code",
   "execution_count": 16,
   "id": "d7e13094-509d-4628-ab81-e708ae9506af",
   "metadata": {
    "tags": []
   },
   "outputs": [
    {
     "data": {
      "text/plain": [
       "<filter at 0x7ba0639990>"
      ]
     },
     "execution_count": 16,
     "metadata": {},
     "output_type": "execute_result"
    }
   ],
   "source": [
    "filter(is_int, val)"
   ]
  },
  {
   "cell_type": "code",
   "execution_count": 17,
   "id": "0494cabf-8151-4a3e-8486-318e9b9a5e56",
   "metadata": {
    "tags": []
   },
   "outputs": [
    {
     "data": {
      "text/plain": [
       "['120', '95', '-12', '93', '2', '20']"
      ]
     },
     "execution_count": 17,
     "metadata": {},
     "output_type": "execute_result"
    }
   ],
   "source": [
    "list(filter(is_int, val))"
   ]
  },
  {
   "cell_type": "code",
   "execution_count": 18,
   "id": "451086ac-1b87-4959-9942-861d16b2accd",
   "metadata": {
    "tags": []
   },
   "outputs": [],
   "source": [
    "num = [1, -5, 21, 7, -6, 14, -12]"
   ]
  },
  {
   "cell_type": "code",
   "execution_count": 19,
   "id": "c9cf07e2-c1c2-426c-8464-82dc9a4dec52",
   "metadata": {
    "tags": []
   },
   "outputs": [],
   "source": [
    "import math"
   ]
  },
  {
   "cell_type": "code",
   "execution_count": 20,
   "id": "ab1f4aa0-8885-437b-857d-e6e4f46f14b1",
   "metadata": {
    "tags": []
   },
   "outputs": [
    {
     "data": {
      "text/plain": [
       "[1.0, 4.58257569495584, 2.6457513110645907, 3.7416573867739413]"
      ]
     },
     "execution_count": 20,
     "metadata": {},
     "output_type": "execute_result"
    }
   ],
   "source": [
    "[math.sqrt(n) for n in num if n>0]"
   ]
  },
  {
   "cell_type": "code",
   "execution_count": 21,
   "id": "5d7598f8-96f1-44de-a684-ac2df877e85c",
   "metadata": {
    "tags": []
   },
   "outputs": [
    {
     "data": {
      "text/plain": [
       "[1, 0, 21, 7, 0, 14, 0]"
      ]
     },
     "execution_count": 21,
     "metadata": {},
     "output_type": "execute_result"
    }
   ],
   "source": [
    "[n if n>0 else 0 for n in num]"
   ]
  },
  {
   "cell_type": "code",
   "execution_count": 22,
   "id": "8789c04c-1a4f-4ce4-a0fe-3b53f696f8c7",
   "metadata": {
    "tags": []
   },
   "outputs": [
    {
     "data": {
      "text/plain": [
       "[0, -5, 0, 0, -6, 0, -12]"
      ]
     },
     "execution_count": 22,
     "metadata": {},
     "output_type": "execute_result"
    }
   ],
   "source": [
    "[n if n<0 else 0 for n in num]"
   ]
  },
  {
   "cell_type": "code",
   "execution_count": 23,
   "id": "f599fd47-16d2-4032-a8f6-992f777d8f59",
   "metadata": {
    "tags": []
   },
   "outputs": [],
   "source": [
    "data1 = [\n",
    "    'Ghazal',\n",
    "    'John', \n",
    "    'Mary',\n",
    "    'Hilary',\n",
    "    'Tom'\n",
    "]"
   ]
  },
  {
   "cell_type": "code",
   "execution_count": 24,
   "id": "8d737080-5ff5-4e08-8844-37657117c1a7",
   "metadata": {
    "tags": []
   },
   "outputs": [],
   "source": [
    "data2 = [30, 24, 27, 31, 25]"
   ]
  },
  {
   "cell_type": "code",
   "execution_count": 25,
   "id": "4f30f63f-680b-4cfd-a0d5-a7abc776b730",
   "metadata": {
    "tags": []
   },
   "outputs": [],
   "source": [
    "from itertools import compress"
   ]
  },
  {
   "cell_type": "code",
   "execution_count": 26,
   "id": "f1949a6c-847b-4cb7-8e25-ed664126c146",
   "metadata": {
    "tags": []
   },
   "outputs": [],
   "source": [
    "morethan25 = [n>25 for n in data2]"
   ]
  },
  {
   "cell_type": "code",
   "execution_count": 27,
   "id": "975f7e03-8551-4f5e-a5a1-b1737eb3d864",
   "metadata": {
    "tags": []
   },
   "outputs": [
    {
     "data": {
      "text/plain": [
       "[True, False, True, True, False]"
      ]
     },
     "execution_count": 27,
     "metadata": {},
     "output_type": "execute_result"
    }
   ],
   "source": [
    "morethan25"
   ]
  },
  {
   "cell_type": "code",
   "execution_count": 28,
   "id": "0042607e-74aa-41ae-b255-7b86f44c987e",
   "metadata": {
    "tags": []
   },
   "outputs": [
    {
     "data": {
      "text/plain": [
       "<itertools.compress at 0x7ba0639ed0>"
      ]
     },
     "execution_count": 28,
     "metadata": {},
     "output_type": "execute_result"
    }
   ],
   "source": [
    "compress(data1, morethan25)"
   ]
  },
  {
   "cell_type": "code",
   "execution_count": 29,
   "id": "5032ed95-1338-4d01-9b41-c18e0ff8e783",
   "metadata": {
    "tags": []
   },
   "outputs": [
    {
     "data": {
      "text/plain": [
       "['Ghazal', 'Mary', 'Hilary']"
      ]
     },
     "execution_count": 29,
     "metadata": {},
     "output_type": "execute_result"
    }
   ],
   "source": [
    "list(compress(data1, morethan25))"
   ]
  },
  {
   "cell_type": "markdown",
   "id": "f79933e8-b446-4bbd-8caa-b940071a0877",
   "metadata": {},
   "source": [
    "# Extracting a subset from a dictionary"
   ]
  },
  {
   "cell_type": "code",
   "execution_count": 31,
   "id": "61369a6a-119e-44d5-9994-017ce1a186ba",
   "metadata": {
    "tags": []
   },
   "outputs": [],
   "source": [
    "d = {\n",
    "    'ASR' : 25.3,\n",
    "    'MNB': 41.2,\n",
    "    'OLP': 65.3,\n",
    "    'RTC': 41.8,\n",
    "    'AZR': 74.5\n",
    "}"
   ]
  },
  {
   "cell_type": "code",
   "execution_count": 34,
   "id": "3ce9b728-1dba-4ebe-af62-c3bcc59b0e5d",
   "metadata": {
    "tags": []
   },
   "outputs": [
    {
     "data": {
      "text/plain": [
       "{'a': 5, 'b': 6}"
      ]
     },
     "execution_count": 34,
     "metadata": {},
     "output_type": "execute_result"
    }
   ],
   "source": [
    "dict([('a', 5), ('b', 6)])"
   ]
  },
  {
   "cell_type": "code",
   "execution_count": 35,
   "id": "cad32900-625f-46c5-a6da-f8c33544331a",
   "metadata": {
    "tags": []
   },
   "outputs": [],
   "source": [
    "#Solution1\n",
    "d1 = dict((key,value) for key, value in d.items() if value > 41.5)"
   ]
  },
  {
   "cell_type": "code",
   "execution_count": 36,
   "id": "be8c9c4a-53c9-4437-8a04-b63249bd0901",
   "metadata": {
    "tags": []
   },
   "outputs": [
    {
     "data": {
      "text/plain": [
       "{'OLP': 65.3, 'RTC': 41.8, 'AZR': 74.5}"
      ]
     },
     "execution_count": 36,
     "metadata": {},
     "output_type": "execute_result"
    }
   ],
   "source": [
    "d1"
   ]
  },
  {
   "cell_type": "code",
   "execution_count": 37,
   "id": "de47db68-5923-41ee-8247-9d832bcb2a97",
   "metadata": {
    "tags": []
   },
   "outputs": [],
   "source": [
    "#dictionary comprehension"
   ]
  },
  {
   "cell_type": "code",
   "execution_count": 39,
   "id": "e4861b4c-988e-4c4f-9f30-a1c4f2ef2372",
   "metadata": {
    "tags": []
   },
   "outputs": [],
   "source": [
    "#solution2\n",
    "d1 = {key: value for key, value in d.items() if value>41.5}"
   ]
  },
  {
   "cell_type": "code",
   "execution_count": 40,
   "id": "fec839f1-828b-4f78-bf13-ef0f2d9f2ea2",
   "metadata": {
    "tags": []
   },
   "outputs": [
    {
     "data": {
      "text/plain": [
       "{'OLP': 65.3, 'RTC': 41.8, 'AZR': 74.5}"
      ]
     },
     "execution_count": 40,
     "metadata": {},
     "output_type": "execute_result"
    }
   ],
   "source": [
    "d1"
   ]
  },
  {
   "cell_type": "code",
   "execution_count": 41,
   "id": "1f537545-a56d-4da4-9fe5-2b141204a6d8",
   "metadata": {
    "tags": []
   },
   "outputs": [],
   "source": [
    "names = {'OLP', 'RTC', 'ASR'}"
   ]
  },
  {
   "cell_type": "code",
   "execution_count": 50,
   "id": "dd3779df-7894-4fe0-b7cf-c58625af4255",
   "metadata": {
    "tags": []
   },
   "outputs": [
    {
     "name": "stdout",
     "output_type": "stream",
     "text": [
      "3.93 µs ± 1.11 µs per loop (mean ± std. dev. of 7 runs, 100,000 loops each)\n"
     ]
    }
   ],
   "source": [
    "%%timeit\n",
    "d2 = {key: d[key] for key in d.keys() & names}"
   ]
  },
  {
   "cell_type": "code",
   "execution_count": 43,
   "id": "51a45658-20f3-4bca-8fe9-e65aaa279703",
   "metadata": {
    "tags": []
   },
   "outputs": [
    {
     "data": {
      "text/plain": [
       "{'RTC': 41.8, 'ASR': 25.3, 'OLP': 65.3}"
      ]
     },
     "execution_count": 43,
     "metadata": {},
     "output_type": "execute_result"
    }
   ],
   "source": [
    "d2"
   ]
  },
  {
   "cell_type": "code",
   "execution_count": 51,
   "id": "18033110-3685-4c2c-afaa-121fd4015b39",
   "metadata": {
    "tags": []
   },
   "outputs": [
    {
     "name": "stdout",
     "output_type": "stream",
     "text": [
      "3.58 µs ± 875 ns per loop (mean ± std. dev. of 7 runs, 100,000 loops each)\n"
     ]
    }
   ],
   "source": [
    "%%timeit\n",
    "d2 = { key: value for key, value in d.items() if value >41.5}"
   ]
  },
  {
   "cell_type": "code",
   "execution_count": 45,
   "id": "0ff3d144-3543-4bde-b05a-17b14c068d9f",
   "metadata": {
    "tags": []
   },
   "outputs": [
    {
     "data": {
      "text/plain": [
       "{'OLP': 65.3, 'RTC': 41.8, 'AZR': 74.5}"
      ]
     },
     "execution_count": 45,
     "metadata": {},
     "output_type": "execute_result"
    }
   ],
   "source": [
    "d2"
   ]
  },
  {
   "cell_type": "markdown",
   "id": "c83f1cf1-2388-4b82-bb7b-b9b608d33ee3",
   "metadata": {},
   "source": [
    "# Mapping of names to sequence elements"
   ]
  },
  {
   "cell_type": "code",
   "execution_count": 52,
   "id": "923496b1-0800-4845-9085-14f353d0e168",
   "metadata": {
    "tags": []
   },
   "outputs": [],
   "source": [
    "from collections import namedtuple"
   ]
  },
  {
   "cell_type": "code",
   "execution_count": 53,
   "id": "87f1fe96-93d7-4268-be60-422a2c162c60",
   "metadata": {
    "tags": []
   },
   "outputs": [],
   "source": [
    "User = namedtuple('User', ['fname', 'lname', 'PL', 'age'])"
   ]
  },
  {
   "cell_type": "code",
   "execution_count": 54,
   "id": "355a78f5-f8d7-45cc-854d-22eae2ede2ee",
   "metadata": {
    "tags": []
   },
   "outputs": [],
   "source": [
    "user = User('Ghazal', 'Lalooha', 'Python', '30')"
   ]
  },
  {
   "cell_type": "code",
   "execution_count": 55,
   "id": "48328e2b-a9ea-4a7a-a4a8-c2b2d05e4184",
   "metadata": {
    "tags": []
   },
   "outputs": [
    {
     "data": {
      "text/plain": [
       "User(fname='Ghazal', lname='Lalooha', PL='Python', age='30')"
      ]
     },
     "execution_count": 55,
     "metadata": {},
     "output_type": "execute_result"
    }
   ],
   "source": [
    "user"
   ]
  },
  {
   "cell_type": "code",
   "execution_count": 56,
   "id": "a4eab8cc-ae55-43cd-a3df-f22d300d3921",
   "metadata": {
    "tags": []
   },
   "outputs": [
    {
     "data": {
      "text/plain": [
       "'Ghazal'"
      ]
     },
     "execution_count": 56,
     "metadata": {},
     "output_type": "execute_result"
    }
   ],
   "source": [
    "user.fname"
   ]
  },
  {
   "cell_type": "code",
   "execution_count": 57,
   "id": "cc033eb5-cf9b-4502-a6cd-417ff6b74b79",
   "metadata": {
    "tags": []
   },
   "outputs": [
    {
     "data": {
      "text/plain": [
       "'Lalooha'"
      ]
     },
     "execution_count": 57,
     "metadata": {},
     "output_type": "execute_result"
    }
   ],
   "source": [
    "user.lname"
   ]
  },
  {
   "cell_type": "code",
   "execution_count": 58,
   "id": "ce845d25-7769-488d-9fca-d861117f92e1",
   "metadata": {
    "tags": []
   },
   "outputs": [
    {
     "data": {
      "text/plain": [
       "'Python'"
      ]
     },
     "execution_count": 58,
     "metadata": {},
     "output_type": "execute_result"
    }
   ],
   "source": [
    "user.PL"
   ]
  },
  {
   "cell_type": "code",
   "execution_count": 59,
   "id": "04074e4a-b41b-41aa-bb8d-5460875c86f2",
   "metadata": {
    "tags": []
   },
   "outputs": [
    {
     "data": {
      "text/plain": [
       "'30'"
      ]
     },
     "execution_count": 59,
     "metadata": {},
     "output_type": "execute_result"
    }
   ],
   "source": [
    "user.age"
   ]
  },
  {
   "cell_type": "code",
   "execution_count": 60,
   "id": "6b5e45d2-9a23-49c6-a58e-74b9ff6171e2",
   "metadata": {
    "tags": []
   },
   "outputs": [
    {
     "data": {
      "text/plain": [
       "4"
      ]
     },
     "execution_count": 60,
     "metadata": {},
     "output_type": "execute_result"
    }
   ],
   "source": [
    "len(user)"
   ]
  },
  {
   "cell_type": "code",
   "execution_count": 61,
   "id": "6969162d-f188-4604-9f8e-c607682060a1",
   "metadata": {
    "tags": []
   },
   "outputs": [],
   "source": [
    "fname, lname, PL, age = user"
   ]
  },
  {
   "cell_type": "code",
   "execution_count": 62,
   "id": "080fe512-3790-48de-b392-eca8bd1d06c4",
   "metadata": {
    "tags": []
   },
   "outputs": [
    {
     "data": {
      "text/plain": [
       "'Ghazal'"
      ]
     },
     "execution_count": 62,
     "metadata": {},
     "output_type": "execute_result"
    }
   ],
   "source": [
    "fname"
   ]
  },
  {
   "cell_type": "code",
   "execution_count": 63,
   "id": "4388bd00-844a-404a-b6e4-26666e7cea7b",
   "metadata": {
    "tags": []
   },
   "outputs": [
    {
     "data": {
      "text/plain": [
       "'Lalooha'"
      ]
     },
     "execution_count": 63,
     "metadata": {},
     "output_type": "execute_result"
    }
   ],
   "source": [
    "lname"
   ]
  },
  {
   "cell_type": "code",
   "execution_count": 64,
   "id": "eea05a84-be74-4789-99eb-533b351272e5",
   "metadata": {
    "tags": []
   },
   "outputs": [
    {
     "data": {
      "text/plain": [
       "'Python'"
      ]
     },
     "execution_count": 64,
     "metadata": {},
     "output_type": "execute_result"
    }
   ],
   "source": [
    "PL"
   ]
  },
  {
   "cell_type": "code",
   "execution_count": 65,
   "id": "39df7685-001e-4172-a350-257a885acb72",
   "metadata": {
    "tags": []
   },
   "outputs": [
    {
     "data": {
      "text/plain": [
       "'30'"
      ]
     },
     "execution_count": 65,
     "metadata": {},
     "output_type": "execute_result"
    }
   ],
   "source": [
    "age"
   ]
  },
  {
   "cell_type": "code",
   "execution_count": 66,
   "id": "d3d4ff67-cee4-40ae-bb62-e1882156fe6f",
   "metadata": {
    "tags": []
   },
   "outputs": [],
   "source": [
    "r = (9000, 24, 360)"
   ]
  },
  {
   "cell_type": "code",
   "execution_count": 67,
   "id": "21b52c99-77dc-42e3-be36-a1d14718c524",
   "metadata": {
    "tags": []
   },
   "outputs": [],
   "source": [
    "def comp_sal(r):\n",
    "    return r[0] + r[1]*r[2]"
   ]
  },
  {
   "cell_type": "code",
   "execution_count": 68,
   "id": "5e512bae-926a-4b42-a042-d99e9fcabe37",
   "metadata": {
    "tags": []
   },
   "outputs": [
    {
     "data": {
      "text/plain": [
       "17640"
      ]
     },
     "execution_count": 68,
     "metadata": {},
     "output_type": "execute_result"
    }
   ],
   "source": [
    "comp_sal(r)"
   ]
  },
  {
   "cell_type": "code",
   "execution_count": 69,
   "id": "04a45d48-033e-42a5-bb40-66a29fab68fe",
   "metadata": {
    "tags": []
   },
   "outputs": [],
   "source": [
    "r = ('Ghazal', 'Lalooha', 9000, 24, 360)"
   ]
  },
  {
   "cell_type": "code",
   "execution_count": 70,
   "id": "c8bc588b-755d-41f7-bc67-7125fbeb6ecc",
   "metadata": {
    "tags": []
   },
   "outputs": [],
   "source": [
    "def comp_sal(r):\n",
    "    return r[0] + r[1]*r[2]"
   ]
  },
  {
   "cell_type": "code",
   "execution_count": 71,
   "id": "6f38a2aa-708e-4a50-9a9b-9dbff6ade560",
   "metadata": {
    "tags": []
   },
   "outputs": [
    {
     "data": {
      "text/plain": [
       "'GhazalLaloohaLaloohaLaloohaLaloohaLaloohaLaloohaLaloohaLaloohaLaloohaLaloohaLaloohaLaloohaLaloohaLaloohaLaloohaLaloohaLaloohaLaloohaLaloohaLaloohaLaloohaLaloohaLaloohaLaloohaLaloohaLaloohaLaloohaLaloohaLaloohaLaloohaLaloohaLaloohaLaloohaLaloohaLaloohaLaloohaLaloohaLaloohaLaloohaLaloohaLaloohaLaloohaLaloohaLaloohaLaloohaLaloohaLaloohaLaloohaLaloohaLaloohaLaloohaLaloohaLaloohaLaloohaLaloohaLaloohaLaloohaLaloohaLaloohaLaloohaLaloohaLaloohaLaloohaLaloohaLaloohaLaloohaLaloohaLaloohaLaloohaLaloohaLaloohaLaloohaLaloohaLaloohaLaloohaLaloohaLaloohaLaloohaLaloohaLaloohaLaloohaLaloohaLaloohaLaloohaLaloohaLaloohaLaloohaLaloohaLaloohaLaloohaLaloohaLaloohaLaloohaLaloohaLaloohaLaloohaLaloohaLaloohaLaloohaLaloohaLaloohaLaloohaLaloohaLaloohaLaloohaLaloohaLaloohaLaloohaLaloohaLaloohaLaloohaLaloohaLaloohaLaloohaLaloohaLaloohaLaloohaLaloohaLaloohaLaloohaLaloohaLaloohaLaloohaLaloohaLaloohaLaloohaLaloohaLaloohaLaloohaLaloohaLaloohaLaloohaLaloohaLaloohaLaloohaLaloohaLaloohaLaloohaLaloohaLaloohaLaloohaLaloohaLaloohaLaloohaLaloohaLaloohaLaloohaLaloohaLaloohaLaloohaLaloohaLaloohaLaloohaLaloohaLaloohaLaloohaLaloohaLaloohaLaloohaLaloohaLaloohaLaloohaLaloohaLaloohaLaloohaLaloohaLaloohaLaloohaLaloohaLaloohaLaloohaLaloohaLaloohaLaloohaLaloohaLaloohaLaloohaLaloohaLaloohaLaloohaLaloohaLaloohaLaloohaLaloohaLaloohaLaloohaLaloohaLaloohaLaloohaLaloohaLaloohaLaloohaLaloohaLaloohaLaloohaLaloohaLaloohaLaloohaLaloohaLaloohaLaloohaLaloohaLaloohaLaloohaLaloohaLaloohaLaloohaLaloohaLaloohaLaloohaLaloohaLaloohaLaloohaLaloohaLaloohaLaloohaLaloohaLaloohaLaloohaLaloohaLaloohaLaloohaLaloohaLaloohaLaloohaLaloohaLaloohaLaloohaLaloohaLaloohaLaloohaLaloohaLaloohaLaloohaLaloohaLaloohaLaloohaLaloohaLaloohaLaloohaLaloohaLaloohaLaloohaLaloohaLaloohaLaloohaLaloohaLaloohaLaloohaLaloohaLaloohaLaloohaLaloohaLaloohaLaloohaLaloohaLaloohaLaloohaLaloohaLaloohaLaloohaLaloohaLaloohaLaloohaLaloohaLaloohaLaloohaLaloohaLaloohaLaloohaLaloohaLaloohaLaloohaLaloohaLaloohaLaloohaLaloohaLaloohaLaloohaLaloohaLaloohaLaloohaLaloohaLaloohaLaloohaLaloohaLaloohaLaloohaLaloohaLaloohaLaloohaLaloohaLaloohaLaloohaLaloohaLaloohaLaloohaLaloohaLaloohaLaloohaLaloohaLaloohaLaloohaLaloohaLaloohaLaloohaLaloohaLaloohaLaloohaLaloohaLaloohaLaloohaLaloohaLaloohaLaloohaLaloohaLaloohaLaloohaLaloohaLaloohaLaloohaLaloohaLaloohaLaloohaLaloohaLaloohaLaloohaLaloohaLaloohaLaloohaLaloohaLaloohaLaloohaLaloohaLaloohaLaloohaLaloohaLaloohaLaloohaLaloohaLaloohaLaloohaLaloohaLaloohaLaloohaLaloohaLaloohaLaloohaLaloohaLaloohaLaloohaLaloohaLaloohaLaloohaLaloohaLaloohaLaloohaLaloohaLaloohaLaloohaLaloohaLaloohaLaloohaLaloohaLaloohaLaloohaLaloohaLaloohaLaloohaLaloohaLaloohaLaloohaLaloohaLaloohaLaloohaLaloohaLaloohaLaloohaLaloohaLaloohaLaloohaLaloohaLaloohaLaloohaLaloohaLaloohaLaloohaLaloohaLaloohaLaloohaLaloohaLaloohaLaloohaLaloohaLaloohaLaloohaLaloohaLaloohaLaloohaLaloohaLaloohaLaloohaLaloohaLaloohaLaloohaLaloohaLaloohaLaloohaLaloohaLaloohaLaloohaLaloohaLaloohaLaloohaLaloohaLaloohaLaloohaLaloohaLaloohaLaloohaLaloohaLaloohaLaloohaLaloohaLaloohaLaloohaLaloohaLaloohaLaloohaLaloohaLaloohaLaloohaLaloohaLaloohaLaloohaLaloohaLaloohaLaloohaLaloohaLaloohaLaloohaLaloohaLaloohaLaloohaLaloohaLaloohaLaloohaLaloohaLaloohaLaloohaLaloohaLaloohaLaloohaLaloohaLaloohaLaloohaLaloohaLaloohaLaloohaLaloohaLaloohaLaloohaLaloohaLaloohaLaloohaLaloohaLaloohaLaloohaLaloohaLaloohaLaloohaLaloohaLaloohaLaloohaLaloohaLaloohaLaloohaLaloohaLaloohaLaloohaLaloohaLaloohaLaloohaLaloohaLaloohaLaloohaLaloohaLaloohaLaloohaLaloohaLaloohaLaloohaLaloohaLaloohaLaloohaLaloohaLaloohaLaloohaLaloohaLaloohaLaloohaLaloohaLaloohaLaloohaLaloohaLaloohaLaloohaLaloohaLaloohaLaloohaLaloohaLaloohaLaloohaLaloohaLaloohaLaloohaLaloohaLaloohaLaloohaLaloohaLaloohaLaloohaLaloohaLaloohaLaloohaLaloohaLaloohaLaloohaLaloohaLaloohaLaloohaLaloohaLaloohaLaloohaLaloohaLaloohaLaloohaLaloohaLaloohaLaloohaLaloohaLaloohaLaloohaLaloohaLaloohaLaloohaLaloohaLaloohaLaloohaLaloohaLaloohaLaloohaLaloohaLaloohaLaloohaLaloohaLaloohaLaloohaLaloohaLaloohaLaloohaLaloohaLaloohaLaloohaLaloohaLaloohaLaloohaLaloohaLaloohaLaloohaLaloohaLaloohaLaloohaLaloohaLaloohaLaloohaLaloohaLaloohaLaloohaLaloohaLaloohaLaloohaLaloohaLaloohaLaloohaLaloohaLaloohaLaloohaLaloohaLaloohaLaloohaLaloohaLaloohaLaloohaLaloohaLaloohaLaloohaLaloohaLaloohaLaloohaLaloohaLaloohaLaloohaLaloohaLaloohaLaloohaLaloohaLaloohaLaloohaLaloohaLaloohaLaloohaLaloohaLaloohaLaloohaLaloohaLaloohaLaloohaLaloohaLaloohaLaloohaLaloohaLaloohaLaloohaLaloohaLaloohaLaloohaLaloohaLaloohaLaloohaLaloohaLaloohaLaloohaLaloohaLaloohaLaloohaLaloohaLaloohaLaloohaLaloohaLaloohaLaloohaLaloohaLaloohaLaloohaLaloohaLaloohaLaloohaLaloohaLaloohaLaloohaLaloohaLaloohaLaloohaLaloohaLaloohaLaloohaLaloohaLaloohaLaloohaLaloohaLaloohaLaloohaLaloohaLaloohaLaloohaLaloohaLaloohaLaloohaLaloohaLaloohaLaloohaLaloohaLaloohaLaloohaLaloohaLaloohaLaloohaLaloohaLaloohaLaloohaLaloohaLaloohaLaloohaLaloohaLaloohaLaloohaLaloohaLaloohaLaloohaLaloohaLaloohaLaloohaLaloohaLaloohaLaloohaLaloohaLaloohaLaloohaLaloohaLaloohaLaloohaLaloohaLaloohaLaloohaLaloohaLaloohaLaloohaLaloohaLaloohaLaloohaLaloohaLaloohaLaloohaLaloohaLaloohaLaloohaLaloohaLaloohaLaloohaLaloohaLaloohaLaloohaLaloohaLaloohaLaloohaLaloohaLaloohaLaloohaLaloohaLaloohaLaloohaLaloohaLaloohaLaloohaLaloohaLaloohaLaloohaLaloohaLaloohaLaloohaLaloohaLaloohaLaloohaLaloohaLaloohaLaloohaLaloohaLaloohaLaloohaLaloohaLaloohaLaloohaLaloohaLaloohaLaloohaLaloohaLaloohaLaloohaLaloohaLaloohaLaloohaLaloohaLaloohaLaloohaLaloohaLaloohaLaloohaLaloohaLaloohaLaloohaLaloohaLaloohaLaloohaLaloohaLaloohaLaloohaLaloohaLaloohaLaloohaLaloohaLaloohaLaloohaLaloohaLaloohaLaloohaLaloohaLaloohaLaloohaLaloohaLaloohaLaloohaLaloohaLaloohaLaloohaLaloohaLaloohaLaloohaLaloohaLaloohaLaloohaLaloohaLaloohaLaloohaLaloohaLaloohaLaloohaLaloohaLaloohaLaloohaLaloohaLaloohaLaloohaLaloohaLaloohaLaloohaLaloohaLaloohaLaloohaLaloohaLaloohaLaloohaLaloohaLaloohaLaloohaLaloohaLaloohaLaloohaLaloohaLaloohaLaloohaLaloohaLaloohaLaloohaLaloohaLaloohaLaloohaLaloohaLaloohaLaloohaLaloohaLaloohaLaloohaLaloohaLaloohaLaloohaLaloohaLaloohaLaloohaLaloohaLaloohaLaloohaLaloohaLaloohaLaloohaLaloohaLaloohaLaloohaLaloohaLaloohaLaloohaLaloohaLaloohaLaloohaLaloohaLaloohaLaloohaLaloohaLaloohaLaloohaLaloohaLaloohaLaloohaLaloohaLaloohaLaloohaLaloohaLaloohaLaloohaLaloohaLaloohaLaloohaLaloohaLaloohaLaloohaLaloohaLaloohaLaloohaLaloohaLaloohaLaloohaLaloohaLaloohaLaloohaLaloohaLaloohaLaloohaLaloohaLaloohaLaloohaLaloohaLaloohaLaloohaLaloohaLaloohaLaloohaLaloohaLaloohaLaloohaLaloohaLaloohaLaloohaLaloohaLaloohaLaloohaLaloohaLaloohaLaloohaLaloohaLaloohaLaloohaLaloohaLaloohaLaloohaLaloohaLaloohaLaloohaLaloohaLaloohaLaloohaLaloohaLaloohaLaloohaLaloohaLaloohaLaloohaLaloohaLaloohaLaloohaLaloohaLaloohaLaloohaLaloohaLaloohaLaloohaLaloohaLaloohaLaloohaLaloohaLaloohaLaloohaLaloohaLaloohaLaloohaLaloohaLaloohaLaloohaLaloohaLaloohaLaloohaLaloohaLaloohaLaloohaLaloohaLaloohaLaloohaLaloohaLaloohaLaloohaLaloohaLaloohaLaloohaLaloohaLaloohaLaloohaLaloohaLaloohaLaloohaLaloohaLaloohaLaloohaLaloohaLaloohaLaloohaLaloohaLaloohaLaloohaLaloohaLaloohaLaloohaLaloohaLaloohaLaloohaLaloohaLaloohaLaloohaLaloohaLaloohaLaloohaLaloohaLaloohaLaloohaLaloohaLaloohaLaloohaLaloohaLaloohaLaloohaLaloohaLaloohaLaloohaLaloohaLaloohaLaloohaLaloohaLaloohaLaloohaLaloohaLaloohaLaloohaLaloohaLaloohaLaloohaLaloohaLaloohaLaloohaLaloohaLaloohaLaloohaLaloohaLaloohaLaloohaLaloohaLaloohaLaloohaLaloohaLaloohaLaloohaLaloohaLaloohaLaloohaLaloohaLaloohaLaloohaLaloohaLaloohaLaloohaLaloohaLaloohaLaloohaLaloohaLaloohaLaloohaLaloohaLaloohaLaloohaLaloohaLaloohaLaloohaLaloohaLaloohaLaloohaLaloohaLaloohaLaloohaLaloohaLaloohaLaloohaLaloohaLaloohaLaloohaLaloohaLaloohaLaloohaLaloohaLaloohaLaloohaLaloohaLaloohaLaloohaLaloohaLaloohaLaloohaLaloohaLaloohaLaloohaLaloohaLaloohaLaloohaLaloohaLaloohaLaloohaLaloohaLaloohaLaloohaLaloohaLaloohaLaloohaLaloohaLaloohaLaloohaLaloohaLaloohaLaloohaLaloohaLaloohaLaloohaLaloohaLaloohaLaloohaLaloohaLaloohaLaloohaLaloohaLaloohaLaloohaLaloohaLaloohaLaloohaLaloohaLaloohaLaloohaLaloohaLaloohaLaloohaLaloohaLaloohaLaloohaLaloohaLaloohaLaloohaLaloohaLaloohaLaloohaLaloohaLaloohaLaloohaLaloohaLaloohaLaloohaLaloohaLaloohaLaloohaLaloohaLaloohaLaloohaLaloohaLaloohaLaloohaLaloohaLaloohaLaloohaLaloohaLaloohaLaloohaLaloohaLaloohaLaloohaLaloohaLaloohaLaloohaLaloohaLaloohaLaloohaLaloohaLaloohaLaloohaLaloohaLaloohaLaloohaLaloohaLaloohaLaloohaLaloohaLaloohaLaloohaLaloohaLaloohaLaloohaLaloohaLaloohaLaloohaLaloohaLaloohaLaloohaLaloohaLaloohaLaloohaLaloohaLaloohaLaloohaLaloohaLaloohaLaloohaLaloohaLaloohaLaloohaLaloohaLaloohaLaloohaLaloohaLaloohaLaloohaLaloohaLaloohaLaloohaLaloohaLaloohaLaloohaLaloohaLaloohaLaloohaLaloohaLaloohaLaloohaLaloohaLaloohaLaloohaLaloohaLaloohaLaloohaLaloohaLaloohaLaloohaLaloohaLaloohaLaloohaLaloohaLaloohaLaloohaLaloohaLaloohaLaloohaLaloohaLaloohaLaloohaLaloohaLaloohaLaloohaLaloohaLaloohaLaloohaLaloohaLaloohaLaloohaLaloohaLaloohaLaloohaLaloohaLaloohaLaloohaLaloohaLaloohaLaloohaLaloohaLaloohaLaloohaLaloohaLaloohaLaloohaLaloohaLaloohaLaloohaLaloohaLaloohaLaloohaLaloohaLaloohaLaloohaLaloohaLaloohaLaloohaLaloohaLaloohaLaloohaLaloohaLaloohaLaloohaLaloohaLaloohaLaloohaLaloohaLaloohaLaloohaLaloohaLaloohaLaloohaLaloohaLaloohaLaloohaLaloohaLaloohaLaloohaLaloohaLaloohaLaloohaLaloohaLaloohaLaloohaLaloohaLaloohaLaloohaLaloohaLaloohaLaloohaLaloohaLaloohaLaloohaLaloohaLaloohaLaloohaLaloohaLaloohaLaloohaLaloohaLaloohaLaloohaLaloohaLaloohaLaloohaLaloohaLaloohaLaloohaLaloohaLaloohaLaloohaLaloohaLaloohaLaloohaLaloohaLaloohaLaloohaLaloohaLaloohaLaloohaLaloohaLaloohaLaloohaLaloohaLaloohaLaloohaLaloohaLaloohaLaloohaLaloohaLaloohaLaloohaLaloohaLaloohaLaloohaLaloohaLaloohaLaloohaLaloohaLaloohaLaloohaLaloohaLaloohaLaloohaLaloohaLaloohaLaloohaLaloohaLaloohaLaloohaLaloohaLaloohaLaloohaLaloohaLaloohaLaloohaLaloohaLaloohaLaloohaLaloohaLaloohaLaloohaLaloohaLaloohaLaloohaLaloohaLaloohaLaloohaLaloohaLaloohaLaloohaLaloohaLaloohaLaloohaLaloohaLaloohaLaloohaLaloohaLaloohaLaloohaLaloohaLaloohaLaloohaLaloohaLaloohaLaloohaLaloohaLaloohaLaloohaLaloohaLaloohaLaloohaLaloohaLaloohaLaloohaLaloohaLaloohaLaloohaLaloohaLaloohaLaloohaLaloohaLaloohaLaloohaLaloohaLaloohaLaloohaLaloohaLaloohaLaloohaLaloohaLaloohaLaloohaLaloohaLaloohaLaloohaLaloohaLaloohaLaloohaLaloohaLaloohaLaloohaLaloohaLaloohaLaloohaLaloohaLaloohaLaloohaLaloohaLaloohaLaloohaLaloohaLaloohaLaloohaLaloohaLaloohaLaloohaLaloohaLaloohaLaloohaLaloohaLaloohaLaloohaLaloohaLaloohaLaloohaLaloohaLaloohaLaloohaLaloohaLaloohaLaloohaLaloohaLaloohaLaloohaLaloohaLaloohaLaloohaLaloohaLaloohaLaloohaLaloohaLaloohaLaloohaLaloohaLaloohaLaloohaLaloohaLaloohaLaloohaLaloohaLaloohaLaloohaLaloohaLaloohaLaloohaLaloohaLaloohaLaloohaLaloohaLaloohaLaloohaLaloohaLaloohaLaloohaLaloohaLaloohaLaloohaLaloohaLaloohaLaloohaLaloohaLaloohaLaloohaLaloohaLaloohaLaloohaLaloohaLaloohaLaloohaLaloohaLaloohaLaloohaLaloohaLaloohaLaloohaLaloohaLaloohaLaloohaLaloohaLaloohaLaloohaLaloohaLaloohaLaloohaLaloohaLaloohaLaloohaLaloohaLaloohaLaloohaLaloohaLaloohaLaloohaLaloohaLaloohaLaloohaLaloohaLaloohaLaloohaLaloohaLaloohaLaloohaLaloohaLaloohaLaloohaLaloohaLaloohaLaloohaLaloohaLaloohaLaloohaLaloohaLaloohaLaloohaLaloohaLaloohaLaloohaLaloohaLaloohaLaloohaLaloohaLaloohaLaloohaLaloohaLaloohaLaloohaLaloohaLaloohaLaloohaLaloohaLaloohaLaloohaLaloohaLaloohaLaloohaLaloohaLaloohaLaloohaLaloohaLaloohaLaloohaLaloohaLaloohaLaloohaLaloohaLaloohaLaloohaLaloohaLaloohaLaloohaLaloohaLaloohaLaloohaLaloohaLaloohaLaloohaLaloohaLaloohaLaloohaLaloohaLaloohaLaloohaLaloohaLaloohaLaloohaLaloohaLaloohaLaloohaLaloohaLaloohaLaloohaLaloohaLaloohaLaloohaLaloohaLaloohaLaloohaLaloohaLaloohaLaloohaLaloohaLaloohaLaloohaLaloohaLaloohaLaloohaLaloohaLaloohaLaloohaLaloohaLaloohaLaloohaLaloohaLaloohaLaloohaLaloohaLaloohaLaloohaLaloohaLaloohaLaloohaLaloohaLaloohaLaloohaLaloohaLaloohaLaloohaLaloohaLaloohaLaloohaLaloohaLaloohaLaloohaLaloohaLaloohaLaloohaLaloohaLaloohaLaloohaLaloohaLaloohaLaloohaLaloohaLaloohaLaloohaLaloohaLaloohaLaloohaLaloohaLaloohaLaloohaLaloohaLaloohaLaloohaLaloohaLaloohaLaloohaLaloohaLaloohaLaloohaLaloohaLaloohaLaloohaLaloohaLaloohaLaloohaLaloohaLaloohaLaloohaLaloohaLaloohaLaloohaLaloohaLaloohaLaloohaLaloohaLaloohaLaloohaLaloohaLaloohaLaloohaLaloohaLaloohaLaloohaLaloohaLaloohaLaloohaLaloohaLaloohaLaloohaLaloohaLaloohaLaloohaLaloohaLaloohaLaloohaLaloohaLaloohaLaloohaLaloohaLaloohaLaloohaLaloohaLaloohaLaloohaLaloohaLaloohaLaloohaLaloohaLaloohaLaloohaLaloohaLaloohaLaloohaLaloohaLaloohaLaloohaLaloohaLaloohaLaloohaLaloohaLaloohaLaloohaLaloohaLaloohaLaloohaLaloohaLaloohaLaloohaLaloohaLaloohaLaloohaLaloohaLaloohaLaloohaLaloohaLaloohaLaloohaLaloohaLaloohaLaloohaLaloohaLaloohaLaloohaLaloohaLaloohaLaloohaLaloohaLaloohaLaloohaLaloohaLaloohaLaloohaLaloohaLaloohaLaloohaLaloohaLaloohaLaloohaLaloohaLaloohaLaloohaLaloohaLaloohaLaloohaLaloohaLaloohaLaloohaLaloohaLaloohaLaloohaLaloohaLaloohaLaloohaLaloohaLaloohaLaloohaLaloohaLaloohaLaloohaLaloohaLaloohaLaloohaLaloohaLaloohaLaloohaLaloohaLaloohaLaloohaLaloohaLaloohaLaloohaLaloohaLaloohaLaloohaLaloohaLaloohaLaloohaLaloohaLaloohaLaloohaLaloohaLaloohaLaloohaLaloohaLaloohaLaloohaLaloohaLaloohaLaloohaLaloohaLaloohaLaloohaLaloohaLaloohaLaloohaLaloohaLaloohaLaloohaLaloohaLaloohaLaloohaLaloohaLaloohaLaloohaLaloohaLaloohaLaloohaLaloohaLaloohaLaloohaLaloohaLaloohaLaloohaLaloohaLaloohaLaloohaLaloohaLaloohaLaloohaLaloohaLaloohaLaloohaLaloohaLaloohaLaloohaLaloohaLaloohaLaloohaLaloohaLaloohaLaloohaLaloohaLaloohaLaloohaLaloohaLaloohaLaloohaLaloohaLaloohaLaloohaLaloohaLaloohaLaloohaLaloohaLaloohaLaloohaLaloohaLaloohaLaloohaLaloohaLaloohaLaloohaLaloohaLaloohaLaloohaLaloohaLaloohaLaloohaLaloohaLaloohaLaloohaLaloohaLaloohaLaloohaLaloohaLaloohaLaloohaLaloohaLaloohaLaloohaLaloohaLaloohaLaloohaLaloohaLaloohaLaloohaLaloohaLaloohaLaloohaLaloohaLaloohaLaloohaLaloohaLaloohaLaloohaLaloohaLaloohaLaloohaLaloohaLaloohaLaloohaLaloohaLaloohaLaloohaLaloohaLaloohaLaloohaLaloohaLaloohaLaloohaLaloohaLaloohaLaloohaLaloohaLaloohaLaloohaLaloohaLaloohaLaloohaLaloohaLaloohaLaloohaLaloohaLaloohaLaloohaLaloohaLaloohaLaloohaLaloohaLaloohaLaloohaLaloohaLaloohaLaloohaLaloohaLaloohaLaloohaLaloohaLaloohaLaloohaLaloohaLaloohaLaloohaLaloohaLaloohaLaloohaLaloohaLaloohaLaloohaLaloohaLaloohaLaloohaLaloohaLaloohaLaloohaLaloohaLaloohaLaloohaLaloohaLaloohaLaloohaLaloohaLaloohaLaloohaLaloohaLaloohaLaloohaLaloohaLaloohaLaloohaLaloohaLaloohaLaloohaLaloohaLaloohaLaloohaLaloohaLaloohaLaloohaLaloohaLaloohaLaloohaLaloohaLaloohaLaloohaLaloohaLaloohaLaloohaLaloohaLaloohaLaloohaLaloohaLaloohaLaloohaLaloohaLaloohaLaloohaLaloohaLaloohaLaloohaLaloohaLaloohaLaloohaLaloohaLaloohaLaloohaLaloohaLaloohaLaloohaLaloohaLaloohaLaloohaLaloohaLaloohaLaloohaLaloohaLaloohaLaloohaLaloohaLaloohaLaloohaLaloohaLaloohaLaloohaLaloohaLaloohaLaloohaLaloohaLaloohaLaloohaLaloohaLaloohaLaloohaLaloohaLaloohaLaloohaLaloohaLaloohaLaloohaLaloohaLaloohaLaloohaLaloohaLaloohaLaloohaLaloohaLaloohaLaloohaLaloohaLaloohaLaloohaLaloohaLaloohaLaloohaLaloohaLaloohaLaloohaLaloohaLaloohaLaloohaLaloohaLaloohaLaloohaLaloohaLaloohaLaloohaLaloohaLaloohaLaloohaLaloohaLaloohaLaloohaLaloohaLaloohaLaloohaLaloohaLaloohaLaloohaLaloohaLaloohaLaloohaLaloohaLaloohaLaloohaLaloohaLaloohaLaloohaLaloohaLaloohaLaloohaLaloohaLaloohaLaloohaLaloohaLaloohaLaloohaLaloohaLaloohaLaloohaLaloohaLaloohaLaloohaLaloohaLaloohaLaloohaLaloohaLaloohaLaloohaLaloohaLaloohaLaloohaLaloohaLaloohaLaloohaLaloohaLaloohaLaloohaLaloohaLaloohaLaloohaLaloohaLaloohaLaloohaLaloohaLaloohaLaloohaLaloohaLaloohaLaloohaLaloohaLaloohaLaloohaLaloohaLaloohaLaloohaLaloohaLaloohaLaloohaLaloohaLaloohaLaloohaLaloohaLaloohaLaloohaLaloohaLaloohaLaloohaLaloohaLaloohaLaloohaLaloohaLaloohaLaloohaLaloohaLaloohaLaloohaLaloohaLaloohaLaloohaLaloohaLaloohaLaloohaLaloohaLaloohaLaloohaLaloohaLaloohaLaloohaLaloohaLaloohaLaloohaLaloohaLaloohaLaloohaLaloohaLaloohaLaloohaLaloohaLaloohaLaloohaLaloohaLaloohaLaloohaLaloohaLaloohaLaloohaLaloohaLaloohaLaloohaLaloohaLaloohaLaloohaLaloohaLaloohaLaloohaLaloohaLaloohaLaloohaLaloohaLaloohaLaloohaLaloohaLaloohaLaloohaLaloohaLaloohaLaloohaLaloohaLaloohaLaloohaLaloohaLaloohaLaloohaLaloohaLaloohaLaloohaLaloohaLaloohaLaloohaLaloohaLaloohaLaloohaLaloohaLaloohaLaloohaLaloohaLaloohaLaloohaLaloohaLaloohaLaloohaLaloohaLaloohaLaloohaLaloohaLaloohaLaloohaLaloohaLaloohaLaloohaLaloohaLaloohaLaloohaLaloohaLaloohaLaloohaLaloohaLaloohaLaloohaLaloohaLaloohaLaloohaLaloohaLaloohaLaloohaLaloohaLaloohaLaloohaLaloohaLaloohaLaloohaLaloohaLaloohaLaloohaLaloohaLaloohaLaloohaLaloohaLaloohaLaloohaLaloohaLaloohaLaloohaLaloohaLaloohaLaloohaLaloohaLaloohaLaloohaLaloohaLaloohaLaloohaLaloohaLaloohaLaloohaLaloohaLaloohaLaloohaLaloohaLaloohaLaloohaLaloohaLaloohaLaloohaLaloohaLaloohaLaloohaLaloohaLaloohaLaloohaLaloohaLaloohaLaloohaLaloohaLaloohaLaloohaLaloohaLaloohaLaloohaLaloohaLaloohaLaloohaLaloohaLaloohaLaloohaLaloohaLaloohaLaloohaLaloohaLaloohaLaloohaLaloohaLaloohaLaloohaLaloohaLaloohaLaloohaLaloohaLaloohaLaloohaLaloohaLaloohaLaloohaLaloohaLaloohaLaloohaLaloohaLaloohaLaloohaLaloohaLaloohaLaloohaLaloohaLaloohaLaloohaLaloohaLaloohaLaloohaLaloohaLaloohaLaloohaLaloohaLaloohaLaloohaLaloohaLaloohaLaloohaLaloohaLaloohaLaloohaLaloohaLaloohaLaloohaLaloohaLaloohaLaloohaLaloohaLaloohaLaloohaLaloohaLaloohaLaloohaLaloohaLaloohaLaloohaLaloohaLaloohaLaloohaLaloohaLaloohaLaloohaLaloohaLaloohaLaloohaLaloohaLaloohaLaloohaLaloohaLaloohaLaloohaLaloohaLaloohaLaloohaLaloohaLaloohaLaloohaLaloohaLaloohaLaloohaLaloohaLaloohaLaloohaLaloohaLaloohaLaloohaLaloohaLaloohaLaloohaLaloohaLaloohaLaloohaLaloohaLaloohaLaloohaLaloohaLaloohaLaloohaLaloohaLaloohaLaloohaLaloohaLaloohaLaloohaLaloohaLaloohaLaloohaLaloohaLaloohaLaloohaLaloohaLaloohaLaloohaLaloohaLaloohaLaloohaLaloohaLaloohaLaloohaLaloohaLaloohaLaloohaLaloohaLaloohaLaloohaLaloohaLaloohaLaloohaLaloohaLaloohaLaloohaLaloohaLaloohaLaloohaLaloohaLaloohaLaloohaLaloohaLaloohaLaloohaLaloohaLaloohaLaloohaLaloohaLaloohaLaloohaLaloohaLaloohaLaloohaLaloohaLaloohaLaloohaLaloohaLaloohaLaloohaLaloohaLaloohaLaloohaLaloohaLaloohaLaloohaLaloohaLaloohaLaloohaLaloohaLaloohaLaloohaLaloohaLaloohaLaloohaLaloohaLaloohaLaloohaLaloohaLaloohaLaloohaLaloohaLaloohaLaloohaLaloohaLaloohaLaloohaLaloohaLaloohaLaloohaLaloohaLaloohaLaloohaLaloohaLaloohaLaloohaLaloohaLaloohaLaloohaLaloohaLaloohaLaloohaLaloohaLaloohaLaloohaLaloohaLaloohaLaloohaLaloohaLaloohaLaloohaLaloohaLaloohaLaloohaLaloohaLaloohaLaloohaLaloohaLaloohaLaloohaLaloohaLaloohaLaloohaLaloohaLaloohaLaloohaLaloohaLaloohaLaloohaLaloohaLaloohaLaloohaLaloohaLaloohaLaloohaLaloohaLaloohaLaloohaLaloohaLaloohaLaloohaLaloohaLaloohaLaloohaLaloohaLaloohaLaloohaLaloohaLaloohaLaloohaLaloohaLaloohaLaloohaLaloohaLaloohaLaloohaLaloohaLaloohaLaloohaLaloohaLaloohaLaloohaLaloohaLaloohaLaloohaLaloohaLaloohaLaloohaLaloohaLaloohaLaloohaLaloohaLaloohaLaloohaLaloohaLaloohaLaloohaLaloohaLaloohaLaloohaLaloohaLaloohaLaloohaLaloohaLaloohaLaloohaLaloohaLaloohaLaloohaLaloohaLaloohaLaloohaLaloohaLaloohaLaloohaLaloohaLaloohaLaloohaLaloohaLaloohaLaloohaLaloohaLaloohaLaloohaLaloohaLaloohaLaloohaLaloohaLaloohaLaloohaLaloohaLaloohaLaloohaLaloohaLaloohaLaloohaLaloohaLaloohaLaloohaLaloohaLaloohaLaloohaLaloohaLaloohaLaloohaLaloohaLaloohaLaloohaLaloohaLaloohaLaloohaLaloohaLaloohaLaloohaLaloohaLaloohaLaloohaLaloohaLaloohaLaloohaLaloohaLaloohaLaloohaLaloohaLaloohaLaloohaLaloohaLaloohaLaloohaLaloohaLaloohaLaloohaLaloohaLaloohaLaloohaLaloohaLaloohaLaloohaLaloohaLaloohaLaloohaLaloohaLaloohaLaloohaLaloohaLaloohaLaloohaLaloohaLaloohaLaloohaLaloohaLaloohaLaloohaLaloohaLaloohaLaloohaLaloohaLaloohaLaloohaLaloohaLaloohaLaloohaLaloohaLaloohaLaloohaLaloohaLaloohaLaloohaLaloohaLaloohaLaloohaLaloohaLaloohaLaloohaLaloohaLaloohaLaloohaLaloohaLaloohaLaloohaLaloohaLaloohaLaloohaLaloohaLaloohaLaloohaLaloohaLaloohaLaloohaLaloohaLaloohaLaloohaLaloohaLaloohaLaloohaLaloohaLaloohaLaloohaLaloohaLaloohaLaloohaLaloohaLaloohaLaloohaLaloohaLaloohaLaloohaLaloohaLaloohaLaloohaLaloohaLaloohaLaloohaLaloohaLaloohaLaloohaLaloohaLaloohaLaloohaLaloohaLaloohaLaloohaLaloohaLaloohaLaloohaLaloohaLaloohaLaloohaLaloohaLaloohaLaloohaLaloohaLaloohaLaloohaLaloohaLaloohaLaloohaLaloohaLaloohaLaloohaLaloohaLaloohaLaloohaLaloohaLaloohaLaloohaLaloohaLaloohaLaloohaLaloohaLaloohaLaloohaLaloohaLaloohaLaloohaLaloohaLaloohaLaloohaLaloohaLaloohaLaloohaLaloohaLaloohaLaloohaLaloohaLaloohaLaloohaLaloohaLaloohaLaloohaLaloohaLaloohaLaloohaLaloohaLaloohaLaloohaLaloohaLaloohaLaloohaLaloohaLaloohaLaloohaLaloohaLaloohaLaloohaLaloohaLaloohaLaloohaLaloohaLaloohaLaloohaLaloohaLaloohaLaloohaLaloohaLaloohaLaloohaLaloohaLaloohaLaloohaLaloohaLaloohaLaloohaLaloohaLaloohaLaloohaLaloohaLaloohaLaloohaLaloohaLaloohaLaloohaLaloohaLaloohaLaloohaLaloohaLaloohaLaloohaLaloohaLaloohaLaloohaLaloohaLaloohaLaloohaLaloohaLaloohaLaloohaLaloohaLaloohaLaloohaLaloohaLaloohaLaloohaLaloohaLaloohaLaloohaLaloohaLaloohaLaloohaLaloohaLaloohaLaloohaLaloohaLaloohaLaloohaLaloohaLaloohaLaloohaLaloohaLaloohaLaloohaLaloohaLaloohaLaloohaLaloohaLaloohaLaloohaLaloohaLaloohaLaloohaLaloohaLaloohaLaloohaLaloohaLaloohaLaloohaLaloohaLaloohaLaloohaLaloohaLaloohaLaloohaLaloohaLaloohaLaloohaLaloohaLaloohaLaloohaLaloohaLaloohaLaloohaLaloohaLaloohaLaloohaLaloohaLaloohaLaloohaLaloohaLaloohaLaloohaLaloohaLaloohaLaloohaLaloohaLaloohaLaloohaLaloohaLaloohaLaloohaLaloohaLaloohaLaloohaLaloohaLaloohaLaloohaLaloohaLaloohaLaloohaLaloohaLaloohaLaloohaLaloohaLaloohaLaloohaLaloohaLaloohaLaloohaLaloohaLaloohaLaloohaLaloohaLaloohaLaloohaLaloohaLaloohaLaloohaLaloohaLaloohaLaloohaLaloohaLaloohaLaloohaLaloohaLaloohaLaloohaLaloohaLaloohaLaloohaLaloohaLaloohaLaloohaLaloohaLaloohaLaloohaLaloohaLaloohaLaloohaLaloohaLaloohaLaloohaLaloohaLaloohaLaloohaLaloohaLaloohaLaloohaLaloohaLaloohaLaloohaLaloohaLaloohaLaloohaLaloohaLaloohaLaloohaLaloohaLaloohaLaloohaLaloohaLaloohaLaloohaLaloohaLaloohaLaloohaLaloohaLaloohaLaloohaLaloohaLaloohaLaloohaLaloohaLaloohaLaloohaLaloohaLaloohaLaloohaLaloohaLaloohaLaloohaLaloohaLaloohaLaloohaLaloohaLaloohaLaloohaLaloohaLaloohaLaloohaLaloohaLaloohaLaloohaLaloohaLaloohaLaloohaLaloohaLaloohaLaloohaLaloohaLaloohaLaloohaLaloohaLaloohaLaloohaLaloohaLaloohaLaloohaLaloohaLaloohaLaloohaLaloohaLaloohaLaloohaLaloohaLaloohaLaloohaLaloohaLaloohaLaloohaLaloohaLaloohaLaloohaLaloohaLaloohaLaloohaLaloohaLaloohaLaloohaLaloohaLaloohaLaloohaLaloohaLaloohaLaloohaLaloohaLaloohaLaloohaLaloohaLaloohaLaloohaLaloohaLaloohaLaloohaLaloohaLaloohaLaloohaLaloohaLaloohaLaloohaLaloohaLaloohaLaloohaLaloohaLaloohaLaloohaLaloohaLaloohaLaloohaLaloohaLaloohaLaloohaLaloohaLaloohaLaloohaLaloohaLaloohaLaloohaLaloohaLaloohaLaloohaLaloohaLaloohaLaloohaLaloohaLaloohaLaloohaLaloohaLaloohaLaloohaLaloohaLaloohaLaloohaLaloohaLaloohaLaloohaLaloohaLaloohaLaloohaLaloohaLaloohaLaloohaLaloohaLaloohaLaloohaLaloohaLaloohaLaloohaLaloohaLaloohaLaloohaLaloohaLaloohaLaloohaLaloohaLaloohaLaloohaLaloohaLaloohaLaloohaLaloohaLaloohaLaloohaLaloohaLaloohaLaloohaLaloohaLaloohaLaloohaLaloohaLaloohaLaloohaLaloohaLaloohaLaloohaLaloohaLaloohaLaloohaLaloohaLaloohaLaloohaLaloohaLaloohaLaloohaLaloohaLaloohaLaloohaLaloohaLaloohaLaloohaLaloohaLaloohaLaloohaLaloohaLaloohaLaloohaLaloohaLaloohaLaloohaLaloohaLaloohaLaloohaLaloohaLaloohaLaloohaLaloohaLaloohaLaloohaLaloohaLaloohaLaloohaLaloohaLaloohaLaloohaLaloohaLaloohaLaloohaLaloohaLaloohaLaloohaLaloohaLaloohaLaloohaLaloohaLaloohaLaloohaLaloohaLaloohaLaloohaLaloohaLaloohaLaloohaLaloohaLaloohaLaloohaLaloohaLaloohaLaloohaLaloohaLaloohaLaloohaLaloohaLaloohaLaloohaLaloohaLaloohaLaloohaLaloohaLaloohaLaloohaLaloohaLaloohaLaloohaLaloohaLaloohaLaloohaLaloohaLaloohaLaloohaLaloohaLaloohaLaloohaLaloohaLaloohaLaloohaLaloohaLaloohaLaloohaLaloohaLaloohaLaloohaLaloohaLaloohaLaloohaLaloohaLaloohaLaloohaLaloohaLaloohaLaloohaLaloohaLaloohaLaloohaLaloohaLaloohaLaloohaLaloohaLaloohaLaloohaLaloohaLaloohaLaloohaLaloohaLaloohaLaloohaLaloohaLaloohaLaloohaLaloohaLaloohaLaloohaLaloohaLaloohaLaloohaLaloohaLaloohaLaloohaLaloohaLaloohaLaloohaLaloohaLaloohaLaloohaLaloohaLaloohaLaloohaLaloohaLaloohaLaloohaLaloohaLaloohaLaloohaLaloohaLaloohaLaloohaLaloohaLaloohaLaloohaLaloohaLaloohaLaloohaLaloohaLaloohaLaloohaLaloohaLaloohaLaloohaLaloohaLaloohaLaloohaLaloohaLaloohaLaloohaLaloohaLaloohaLaloohaLaloohaLaloohaLaloohaLaloohaLaloohaLaloohaLaloohaLaloohaLaloohaLaloohaLaloohaLaloohaLaloohaLaloohaLaloohaLaloohaLaloohaLaloohaLaloohaLaloohaLaloohaLaloohaLaloohaLaloohaLaloohaLaloohaLaloohaLaloohaLaloohaLaloohaLaloohaLaloohaLaloohaLaloohaLaloohaLaloohaLaloohaLaloohaLaloohaLaloohaLaloohaLaloohaLaloohaLaloohaLaloohaLaloohaLaloohaLaloohaLaloohaLaloohaLaloohaLaloohaLaloohaLaloohaLaloohaLaloohaLaloohaLaloohaLaloohaLaloohaLaloohaLaloohaLaloohaLaloohaLaloohaLaloohaLaloohaLaloohaLaloohaLaloohaLaloohaLaloohaLaloohaLaloohaLaloohaLaloohaLaloohaLaloohaLaloohaLaloohaLaloohaLaloohaLaloohaLaloohaLaloohaLaloohaLaloohaLaloohaLaloohaLaloohaLaloohaLaloohaLaloohaLaloohaLaloohaLaloohaLaloohaLaloohaLaloohaLaloohaLaloohaLaloohaLaloohaLaloohaLaloohaLaloohaLaloohaLaloohaLaloohaLaloohaLaloohaLaloohaLaloohaLaloohaLaloohaLaloohaLaloohaLaloohaLaloohaLaloohaLaloohaLaloohaLaloohaLaloohaLaloohaLaloohaLaloohaLaloohaLaloohaLaloohaLaloohaLaloohaLaloohaLaloohaLaloohaLaloohaLaloohaLaloohaLaloohaLaloohaLaloohaLaloohaLaloohaLaloohaLaloohaLaloohaLaloohaLaloohaLaloohaLaloohaLaloohaLaloohaLaloohaLaloohaLaloohaLaloohaLaloohaLaloohaLaloohaLaloohaLaloohaLaloohaLaloohaLaloohaLaloohaLaloohaLaloohaLaloohaLaloohaLaloohaLaloohaLaloohaLaloohaLaloohaLaloohaLaloohaLaloohaLaloohaLaloohaLaloohaLaloohaLaloohaLaloohaLaloohaLaloohaLaloohaLaloohaLaloohaLaloohaLaloohaLaloohaLaloohaLaloohaLaloohaLaloohaLaloohaLaloohaLaloohaLaloohaLaloohaLaloohaLaloohaLaloohaLaloohaLaloohaLaloohaLaloohaLaloohaLaloohaLaloohaLaloohaLaloohaLaloohaLaloohaLaloohaLaloohaLaloohaLaloohaLaloohaLaloohaLaloohaLaloohaLaloohaLaloohaLaloohaLaloohaLaloohaLaloohaLaloohaLaloohaLaloohaLaloohaLaloohaLaloohaLaloohaLaloohaLaloohaLaloohaLaloohaLaloohaLaloohaLaloohaLaloohaLaloohaLaloohaLaloohaLaloohaLaloohaLaloohaLaloohaLaloohaLaloohaLaloohaLaloohaLaloohaLaloohaLaloohaLaloohaLaloohaLaloohaLaloohaLaloohaLaloohaLaloohaLaloohaLaloohaLaloohaLaloohaLaloohaLaloohaLaloohaLaloohaLaloohaLaloohaLaloohaLaloohaLaloohaLaloohaLaloohaLaloohaLaloohaLaloohaLaloohaLaloohaLaloohaLaloohaLaloohaLaloohaLaloohaLaloohaLaloohaLaloohaLaloohaLaloohaLaloohaLaloohaLaloohaLaloohaLaloohaLaloohaLaloohaLaloohaLaloohaLaloohaLaloohaLaloohaLaloohaLaloohaLaloohaLaloohaLaloohaLaloohaLaloohaLaloohaLaloohaLaloohaLaloohaLaloohaLaloohaLaloohaLaloohaLaloohaLaloohaLaloohaLaloohaLaloohaLaloohaLaloohaLaloohaLaloohaLaloohaLaloohaLaloohaLaloohaLaloohaLaloohaLaloohaLaloohaLaloohaLaloohaLaloohaLaloohaLaloohaLaloohaLaloohaLaloohaLaloohaLaloohaLaloohaLaloohaLaloohaLaloohaLaloohaLaloohaLaloohaLaloohaLaloohaLaloohaLaloohaLaloohaLaloohaLaloohaLaloohaLaloohaLaloohaLaloohaLaloohaLaloohaLaloohaLaloohaLaloohaLaloohaLaloohaLaloohaLaloohaLaloohaLaloohaLaloohaLaloohaLaloohaLaloohaLaloohaLaloohaLaloohaLaloohaLaloohaLaloohaLaloohaLaloohaLaloohaLaloohaLaloohaLaloohaLaloohaLaloohaLaloohaLaloohaLaloohaLaloohaLaloohaLaloohaLaloohaLaloohaLaloohaLaloohaLaloohaLaloohaLaloohaLaloohaLaloohaLaloohaLaloohaLaloohaLaloohaLaloohaLaloohaLaloohaLaloohaLaloohaLaloohaLaloohaLaloohaLaloohaLaloohaLaloohaLaloohaLaloohaLaloohaLaloohaLaloohaLaloohaLaloohaLaloohaLaloohaLaloohaLaloohaLaloohaLaloohaLaloohaLaloohaLaloohaLaloohaLaloohaLaloohaLaloohaLaloohaLaloohaLaloohaLaloohaLaloohaLaloohaLaloohaLaloohaLaloohaLaloohaLaloohaLaloohaLaloohaLaloohaLaloohaLaloohaLaloohaLaloohaLaloohaLaloohaLaloohaLaloohaLaloohaLaloohaLaloohaLaloohaLaloohaLaloohaLaloohaLaloohaLaloohaLaloohaLaloohaLaloohaLaloohaLaloohaLaloohaLaloohaLaloohaLaloohaLaloohaLaloohaLaloohaLaloohaLaloohaLaloohaLaloohaLaloohaLaloohaLaloohaLaloohaLaloohaLaloohaLaloohaLaloohaLaloohaLaloohaLaloohaLaloohaLaloohaLaloohaLaloohaLaloohaLaloohaLaloohaLaloohaLaloohaLaloohaLaloohaLaloohaLaloohaLaloohaLaloohaLaloohaLaloohaLaloohaLaloohaLaloohaLaloohaLaloohaLaloohaLaloohaLaloohaLaloohaLaloohaLaloohaLaloohaLaloohaLaloohaLaloohaLaloohaLaloohaLaloohaLaloohaLaloohaLaloohaLaloohaLaloohaLaloohaLaloohaLaloohaLaloohaLaloohaLaloohaLaloohaLaloohaLaloohaLaloohaLaloohaLaloohaLaloohaLaloohaLaloohaLaloohaLaloohaLaloohaLaloohaLaloohaLaloohaLaloohaLaloohaLaloohaLaloohaLaloohaLaloohaLaloohaLaloohaLaloohaLaloohaLaloohaLaloohaLaloohaLaloohaLaloohaLaloohaLaloohaLaloohaLaloohaLaloohaLaloohaLaloohaLaloohaLaloohaLaloohaLaloohaLaloohaLaloohaLaloohaLaloohaLaloohaLaloohaLaloohaLaloohaLaloohaLaloohaLaloohaLaloohaLaloohaLaloohaLaloohaLaloohaLaloohaLaloohaLaloohaLaloohaLaloohaLaloohaLaloohaLaloohaLaloohaLaloohaLaloohaLaloohaLaloohaLaloohaLaloohaLaloohaLaloohaLaloohaLaloohaLaloohaLaloohaLaloohaLaloohaLaloohaLaloohaLaloohaLaloohaLaloohaLaloohaLaloohaLaloohaLaloohaLaloohaLaloohaLaloohaLaloohaLaloohaLaloohaLaloohaLaloohaLaloohaLaloohaLaloohaLaloohaLaloohaLaloohaLaloohaLaloohaLaloohaLaloohaLaloohaLaloohaLaloohaLaloohaLaloohaLaloohaLaloohaLaloohaLaloohaLaloohaLaloohaLaloohaLaloohaLaloohaLaloohaLaloohaLaloohaLaloohaLaloohaLaloohaLaloohaLaloohaLaloohaLaloohaLaloohaLaloohaLaloohaLaloohaLaloohaLaloohaLaloohaLaloohaLaloohaLaloohaLaloohaLaloohaLaloohaLaloohaLaloohaLaloohaLaloohaLaloohaLaloohaLaloohaLaloohaLaloohaLaloohaLaloohaLaloohaLaloohaLaloohaLaloohaLaloohaLaloohaLaloohaLaloohaLaloohaLaloohaLaloohaLaloohaLaloohaLaloohaLaloohaLaloohaLaloohaLaloohaLaloohaLaloohaLaloohaLaloohaLaloohaLaloohaLaloohaLaloohaLaloohaLaloohaLaloohaLaloohaLaloohaLaloohaLaloohaLaloohaLaloohaLaloohaLaloohaLaloohaLaloohaLaloohaLaloohaLaloohaLaloohaLaloohaLaloohaLaloohaLaloohaLaloohaLaloohaLaloohaLaloohaLaloohaLaloohaLaloohaLaloohaLaloohaLaloohaLaloohaLaloohaLaloohaLaloohaLaloohaLaloohaLaloohaLaloohaLaloohaLaloohaLaloohaLaloohaLaloohaLaloohaLaloohaLaloohaLaloohaLaloohaLaloohaLaloohaLaloohaLaloohaLaloohaLaloohaLaloohaLaloohaLaloohaLaloohaLaloohaLaloohaLaloohaLaloohaLaloohaLaloohaLaloohaLaloohaLaloohaLaloohaLaloohaLaloohaLaloohaLaloohaLaloohaLaloohaLaloohaLaloohaLaloohaLaloohaLaloohaLaloohaLaloohaLaloohaLaloohaLaloohaLaloohaLaloohaLaloohaLaloohaLaloohaLaloohaLaloohaLaloohaLaloohaLaloohaLaloohaLaloohaLaloohaLaloohaLaloohaLaloohaLaloohaLaloohaLaloohaLaloohaLaloohaLaloohaLaloohaLaloohaLaloohaLaloohaLaloohaLaloohaLaloohaLaloohaLaloohaLaloohaLaloohaLaloohaLaloohaLaloohaLaloohaLaloohaLaloohaLaloohaLaloohaLaloohaLaloohaLaloohaLaloohaLaloohaLaloohaLaloohaLaloohaLaloohaLaloohaLaloohaLaloohaLaloohaLaloohaLaloohaLaloohaLaloohaLaloohaLaloohaLaloohaLaloohaLaloohaLaloohaLaloohaLaloohaLaloohaLaloohaLaloohaLaloohaLaloohaLaloohaLaloohaLaloohaLaloohaLaloohaLaloohaLaloohaLaloohaLaloohaLaloohaLaloohaLaloohaLaloohaLaloohaLaloohaLaloohaLaloohaLaloohaLaloohaLaloohaLaloohaLaloohaLaloohaLaloohaLaloohaLaloohaLaloohaLaloohaLaloohaLaloohaLaloohaLaloohaLaloohaLaloohaLaloohaLaloohaLaloohaLaloohaLaloohaLaloohaLaloohaLaloohaLaloohaLaloohaLaloohaLaloohaLaloohaLaloohaLaloohaLaloohaLaloohaLaloohaLaloohaLaloohaLaloohaLaloohaLaloohaLaloohaLaloohaLaloohaLaloohaLaloohaLaloohaLaloohaLaloohaLaloohaLaloohaLaloohaLaloohaLaloohaLaloohaLaloohaLaloohaLaloohaLaloohaLaloohaLaloohaLaloohaLaloohaLaloohaLaloohaLaloohaLaloohaLaloohaLaloohaLaloohaLaloohaLaloohaLaloohaLaloohaLaloohaLaloohaLaloohaLaloohaLaloohaLaloohaLaloohaLaloohaLaloohaLaloohaLaloohaLaloohaLaloohaLaloohaLaloohaLaloohaLaloohaLaloohaLaloohaLaloohaLaloohaLaloohaLaloohaLaloohaLaloohaLaloohaLaloohaLaloohaLaloohaLaloohaLaloohaLaloohaLaloohaLaloohaLaloohaLaloohaLaloohaLaloohaLaloohaLaloohaLaloohaLaloohaLaloohaLaloohaLaloohaLaloohaLaloohaLaloohaLaloohaLaloohaLaloohaLaloohaLaloohaLaloohaLaloohaLaloohaLaloohaLaloohaLaloohaLaloohaLaloohaLaloohaLaloohaLaloohaLaloohaLaloohaLaloohaLaloohaLaloohaLaloohaLaloohaLaloohaLaloohaLaloohaLaloohaLaloohaLaloohaLaloohaLaloohaLaloohaLaloohaLaloohaLaloohaLaloohaLaloohaLaloohaLaloohaLaloohaLaloohaLaloohaLaloohaLaloohaLaloohaLaloohaLaloohaLaloohaLaloohaLaloohaLaloohaLaloohaLaloohaLaloohaLaloohaLaloohaLaloohaLaloohaLaloohaLaloohaLaloohaLaloohaLaloohaLaloohaLaloohaLaloohaLaloohaLaloohaLaloohaLaloohaLaloohaLaloohaLaloohaLaloohaLaloohaLaloohaLaloohaLaloohaLaloohaLaloohaLaloohaLaloohaLaloohaLaloohaLaloohaLaloohaLaloohaLaloohaLaloohaLaloohaLaloohaLaloohaLaloohaLaloohaLaloohaLaloohaLaloohaLaloohaLaloohaLaloohaLaloohaLaloohaLaloohaLaloohaLaloohaLaloohaLaloohaLaloohaLaloohaLaloohaLaloohaLaloohaLaloohaLaloohaLaloohaLaloohaLaloohaLaloohaLaloohaLaloohaLaloohaLaloohaLaloohaLaloohaLaloohaLaloohaLaloohaLaloohaLaloohaLaloohaLaloohaLaloohaLaloohaLaloohaLaloohaLaloohaLaloohaLaloohaLaloohaLaloohaLaloohaLaloohaLaloohaLaloohaLaloohaLaloohaLaloohaLaloohaLaloohaLaloohaLaloohaLaloohaLaloohaLaloohaLaloohaLaloohaLaloohaLaloohaLaloohaLaloohaLaloohaLaloohaLaloohaLaloohaLaloohaLaloohaLaloohaLaloohaLaloohaLaloohaLaloohaLaloohaLaloohaLaloohaLaloohaLaloohaLaloohaLaloohaLaloohaLaloohaLaloohaLaloohaLaloohaLaloohaLaloohaLaloohaLaloohaLaloohaLaloohaLaloohaLaloohaLaloohaLaloohaLaloohaLaloohaLaloohaLaloohaLaloohaLaloohaLaloohaLaloohaLaloohaLaloohaLaloohaLaloohaLaloohaLaloohaLaloohaLaloohaLaloohaLaloohaLaloohaLaloohaLaloohaLaloohaLaloohaLaloohaLaloohaLaloohaLaloohaLaloohaLaloohaLaloohaLaloohaLaloohaLaloohaLaloohaLaloohaLaloohaLaloohaLaloohaLaloohaLaloohaLaloohaLaloohaLaloohaLaloohaLaloohaLaloohaLaloohaLaloohaLaloohaLaloohaLaloohaLaloohaLaloohaLaloohaLaloohaLaloohaLaloohaLaloohaLaloohaLaloohaLaloohaLaloohaLaloohaLaloohaLaloohaLaloohaLaloohaLaloohaLaloohaLaloohaLaloohaLaloohaLaloohaLaloohaLaloohaLaloohaLaloohaLaloohaLaloohaLaloohaLaloohaLaloohaLaloohaLaloohaLaloohaLaloohaLaloohaLaloohaLaloohaLaloohaLaloohaLaloohaLaloohaLaloohaLaloohaLaloohaLaloohaLaloohaLaloohaLaloohaLaloohaLaloohaLaloohaLaloohaLaloohaLaloohaLaloohaLaloohaLaloohaLaloohaLaloohaLaloohaLaloohaLaloohaLaloohaLaloohaLaloohaLaloohaLaloohaLaloohaLaloohaLaloohaLaloohaLaloohaLaloohaLaloohaLaloohaLaloohaLaloohaLaloohaLaloohaLaloohaLaloohaLaloohaLaloohaLaloohaLaloohaLaloohaLaloohaLaloohaLaloohaLaloohaLaloohaLaloohaLaloohaLaloohaLaloohaLaloohaLaloohaLaloohaLaloohaLaloohaLaloohaLaloohaLaloohaLaloohaLaloohaLaloohaLaloohaLaloohaLaloohaLaloohaLaloohaLaloohaLaloohaLaloohaLaloohaLaloohaLaloohaLaloohaLaloohaLaloohaLaloohaLaloohaLaloohaLaloohaLaloohaLaloohaLaloohaLaloohaLaloohaLaloohaLaloohaLaloohaLaloohaLaloohaLaloohaLaloohaLaloohaLaloohaLaloohaLaloohaLaloohaLaloohaLaloohaLaloohaLaloohaLaloohaLaloohaLaloohaLaloohaLaloohaLaloohaLaloohaLaloohaLaloohaLaloohaLaloohaLaloohaLaloohaLaloohaLaloohaLaloohaLaloohaLaloohaLaloohaLaloohaLaloohaLaloohaLaloohaLaloohaLaloohaLaloohaLaloohaLaloohaLaloohaLaloohaLaloohaLaloohaLaloohaLaloohaLaloohaLaloohaLaloohaLaloohaLaloohaLaloohaLaloohaLaloohaLaloohaLaloohaLaloohaLaloohaLaloohaLaloohaLaloohaLaloohaLaloohaLaloohaLaloohaLaloohaLaloohaLaloohaLaloohaLaloohaLaloohaLaloohaLaloohaLaloohaLaloohaLaloohaLaloohaLaloohaLaloohaLaloohaLaloohaLaloohaLaloohaLaloohaLaloohaLaloohaLaloohaLaloohaLaloohaLaloohaLaloohaLaloohaLaloohaLaloohaLaloohaLaloohaLaloohaLaloohaLaloohaLaloohaLaloohaLaloohaLaloohaLaloohaLaloohaLaloohaLaloohaLaloohaLaloohaLaloohaLaloohaLaloohaLaloohaLaloohaLaloohaLaloohaLaloohaLaloohaLaloohaLaloohaLaloohaLaloohaLaloohaLaloohaLaloohaLaloohaLaloohaLaloohaLaloohaLaloohaLaloohaLaloohaLaloohaLaloohaLaloohaLaloohaLaloohaLaloohaLaloohaLaloohaLaloohaLaloohaLaloohaLaloohaLaloohaLaloohaLaloohaLaloohaLaloohaLaloohaLaloohaLaloohaLaloohaLaloohaLaloohaLaloohaLaloohaLaloohaLaloohaLaloohaLaloohaLaloohaLaloohaLaloohaLaloohaLaloohaLaloohaLaloohaLaloohaLaloohaLaloohaLaloohaLaloohaLaloohaLaloohaLaloohaLaloohaLaloohaLaloohaLaloohaLaloohaLaloohaLaloohaLaloohaLaloohaLaloohaLaloohaLaloohaLaloohaLaloohaLaloohaLaloohaLaloohaLaloohaLaloohaLaloohaLaloohaLaloohaLaloohaLaloohaLaloohaLaloohaLaloohaLaloohaLaloohaLaloohaLaloohaLaloohaLaloohaLaloohaLaloohaLaloohaLaloohaLaloohaLaloohaLaloohaLaloohaLaloohaLaloohaLaloohaLaloohaLaloohaLaloohaLaloohaLaloohaLaloohaLaloohaLaloohaLaloohaLaloohaLaloohaLaloohaLaloohaLaloohaLaloohaLaloohaLaloohaLaloohaLaloohaLaloohaLaloohaLaloohaLaloohaLaloohaLaloohaLaloohaLaloohaLaloohaLaloohaLaloohaLaloohaLaloohaLaloohaLaloohaLaloohaLaloohaLaloohaLaloohaLaloohaLaloohaLaloohaLaloohaLaloohaLaloohaLaloohaLaloohaLaloohaLaloohaLaloohaLaloohaLaloohaLaloohaLaloohaLaloohaLaloohaLaloohaLaloohaLaloohaLaloohaLaloohaLaloohaLaloohaLaloohaLaloohaLaloohaLaloohaLaloohaLaloohaLaloohaLaloohaLaloohaLaloohaLaloohaLaloohaLaloohaLaloohaLaloohaLaloohaLaloohaLaloohaLaloohaLaloohaLaloohaLaloohaLaloohaLaloohaLaloohaLaloohaLaloohaLaloohaLaloohaLaloohaLaloohaLaloohaLaloohaLaloohaLaloohaLaloohaLaloohaLaloohaLaloohaLaloohaLaloohaLaloohaLaloohaLaloohaLaloohaLaloohaLaloohaLaloohaLaloohaLaloohaLaloohaLaloohaLaloohaLaloohaLaloohaLaloohaLaloohaLaloohaLaloohaLaloohaLaloohaLaloohaLaloohaLaloohaLaloohaLaloohaLaloohaLaloohaLaloohaLaloohaLaloohaLaloohaLaloohaLaloohaLaloohaLaloohaLaloohaLaloohaLaloohaLaloohaLaloohaLaloohaLaloohaLaloohaLaloohaLaloohaLaloohaLaloohaLaloohaLaloohaLaloohaLaloohaLaloohaLaloohaLaloohaLaloohaLaloohaLaloohaLaloohaLaloohaLaloohaLaloohaLaloohaLaloohaLaloohaLaloohaLaloohaLaloohaLaloohaLaloohaLaloohaLaloohaLaloohaLaloohaLaloohaLaloohaLaloohaLaloohaLaloohaLaloohaLaloohaLaloohaLaloohaLaloohaLaloohaLaloohaLaloohaLaloohaLaloohaLaloohaLaloohaLaloohaLaloohaLaloohaLaloohaLaloohaLaloohaLaloohaLaloohaLaloohaLaloohaLaloohaLaloohaLaloohaLaloohaLaloohaLaloohaLaloohaLaloohaLaloohaLaloohaLaloohaLaloohaLaloohaLaloohaLaloohaLaloohaLaloohaLaloohaLaloohaLaloohaLaloohaLaloohaLaloohaLaloohaLaloohaLaloohaLaloohaLaloohaLaloohaLaloohaLaloohaLaloohaLaloohaLaloohaLaloohaLaloohaLaloohaLaloohaLaloohaLaloohaLaloohaLaloohaLaloohaLaloohaLaloohaLaloohaLaloohaLaloohaLaloohaLaloohaLaloohaLaloohaLaloohaLaloohaLaloohaLaloohaLaloohaLaloohaLaloohaLaloohaLaloohaLaloohaLaloohaLaloohaLaloohaLaloohaLaloohaLaloohaLaloohaLaloohaLaloohaLaloohaLaloohaLaloohaLaloohaLaloohaLaloohaLaloohaLaloohaLaloohaLaloohaLaloohaLaloohaLaloohaLaloohaLaloohaLaloohaLaloohaLaloohaLaloohaLaloohaLaloohaLaloohaLaloohaLaloohaLaloohaLaloohaLaloohaLaloohaLaloohaLaloohaLaloohaLaloohaLaloohaLaloohaLaloohaLaloohaLaloohaLaloohaLaloohaLaloohaLaloohaLaloohaLaloohaLaloohaLaloohaLaloohaLaloohaLaloohaLaloohaLaloohaLaloohaLaloohaLaloohaLaloohaLaloohaLaloohaLaloohaLaloohaLaloohaLaloohaLaloohaLaloohaLaloohaLaloohaLaloohaLaloohaLaloohaLaloohaLaloohaLaloohaLaloohaLaloohaLaloohaLaloohaLaloohaLaloohaLaloohaLaloohaLaloohaLaloohaLaloohaLaloohaLaloohaLaloohaLaloohaLaloohaLaloohaLaloohaLaloohaLaloohaLaloohaLaloohaLaloohaLaloohaLaloohaLaloohaLaloohaLaloohaLaloohaLaloohaLaloohaLaloohaLaloohaLaloohaLaloohaLaloohaLaloohaLaloohaLaloohaLaloohaLaloohaLaloohaLaloohaLaloohaLaloohaLaloohaLaloohaLaloohaLaloohaLaloohaLaloohaLaloohaLaloohaLaloohaLaloohaLaloohaLaloohaLaloohaLaloohaLaloohaLaloohaLaloohaLaloohaLaloohaLaloohaLaloohaLaloohaLaloohaLaloohaLaloohaLaloohaLaloohaLaloohaLaloohaLaloohaLaloohaLaloohaLaloohaLaloohaLaloohaLaloohaLaloohaLaloohaLaloohaLaloohaLaloohaLaloohaLaloohaLaloohaLaloohaLaloohaLaloohaLaloohaLaloohaLaloohaLaloohaLaloohaLaloohaLaloohaLaloohaLaloohaLaloohaLaloohaLaloohaLaloohaLaloohaLaloohaLaloohaLaloohaLaloohaLaloohaLaloohaLaloohaLaloohaLaloohaLaloohaLaloohaLaloohaLaloohaLaloohaLaloohaLaloohaLaloohaLaloohaLaloohaLaloohaLaloohaLaloohaLaloohaLaloohaLaloohaLaloohaLaloohaLaloohaLaloohaLaloohaLaloohaLaloohaLaloohaLaloohaLaloohaLaloohaLaloohaLaloohaLaloohaLaloohaLaloohaLaloohaLaloohaLaloohaLaloohaLaloohaLaloohaLaloohaLaloohaLaloohaLaloohaLaloohaLaloohaLaloohaLaloohaLaloohaLaloohaLaloohaLaloohaLaloohaLaloohaLaloohaLaloohaLaloohaLaloohaLaloohaLaloohaLaloohaLaloohaLaloohaLaloohaLaloohaLaloohaLaloohaLaloohaLaloohaLaloohaLaloohaLaloohaLaloohaLaloohaLaloohaLaloohaLaloohaLaloohaLaloohaLaloohaLaloohaLaloohaLaloohaLaloohaLaloohaLaloohaLaloohaLaloohaLaloohaLaloohaLaloohaLaloohaLaloohaLaloohaLaloohaLaloohaLaloohaLaloohaLaloohaLaloohaLaloohaLaloohaLaloohaLaloohaLaloohaLaloohaLaloohaLaloohaLaloohaLaloohaLaloohaLaloohaLaloohaLaloohaLaloohaLaloohaLaloohaLaloohaLaloohaLaloohaLaloohaLaloohaLaloohaLaloohaLaloohaLaloohaLaloohaLaloohaLaloohaLaloohaLaloohaLaloohaLaloohaLaloohaLaloohaLaloohaLaloohaLaloohaLaloohaLaloohaLaloohaLaloohaLaloohaLaloohaLaloohaLaloohaLaloohaLaloohaLaloohaLaloohaLaloohaLaloohaLaloohaLaloohaLaloohaLaloohaLaloohaLaloohaLaloohaLaloohaLaloohaLaloohaLaloohaLaloohaLaloohaLaloohaLaloohaLaloohaLaloohaLaloohaLaloohaLaloohaLaloohaLaloohaLaloohaLaloohaLaloohaLaloohaLaloohaLaloohaLaloohaLaloohaLaloohaLaloohaLaloohaLaloohaLaloohaLaloohaLaloohaLaloohaLaloohaLaloohaLaloohaLaloohaLaloohaLaloohaLaloohaLaloohaLaloohaLaloohaLaloohaLaloohaLaloohaLaloohaLaloohaLaloohaLaloohaLaloohaLaloohaLaloohaLaloohaLaloohaLaloohaLaloohaLaloohaLaloohaLaloohaLaloohaLaloohaLaloohaLaloohaLaloohaLaloohaLaloohaLaloohaLaloohaLaloohaLaloohaLaloohaLaloohaLaloohaLaloohaLaloohaLaloohaLaloohaLaloohaLaloohaLaloohaLaloohaLaloohaLaloohaLaloohaLaloohaLaloohaLaloohaLaloohaLaloohaLaloohaLaloohaLaloohaLaloohaLaloohaLaloohaLaloohaLaloohaLaloohaLaloohaLaloohaLaloohaLaloohaLaloohaLaloohaLaloohaLaloohaLaloohaLaloohaLaloohaLaloohaLaloohaLaloohaLaloohaLaloohaLaloohaLaloohaLaloohaLaloohaLaloohaLaloohaLaloohaLaloohaLaloohaLaloohaLaloohaLaloohaLaloohaLaloohaLaloohaLaloohaLaloohaLaloohaLaloohaLaloohaLaloohaLaloohaLaloohaLaloohaLaloohaLaloohaLaloohaLaloohaLaloohaLaloohaLaloohaLaloohaLaloohaLaloohaLaloohaLaloohaLaloohaLaloohaLaloohaLaloohaLaloohaLaloohaLaloohaLaloohaLaloohaLaloohaLaloohaLaloohaLaloohaLaloohaLaloohaLaloohaLaloohaLaloohaLaloohaLaloohaLaloohaLaloohaLaloohaLaloohaLaloohaLaloohaLaloohaLaloohaLaloohaLaloohaLaloohaLaloohaLaloohaLaloohaLaloohaLaloohaLaloohaLaloohaLaloohaLaloohaLaloohaLaloohaLaloohaLaloohaLaloohaLaloohaLaloohaLaloohaLaloohaLaloohaLaloohaLaloohaLaloohaLaloohaLaloohaLaloohaLaloohaLaloohaLaloohaLaloohaLaloohaLaloohaLaloohaLaloohaLaloohaLaloohaLaloohaLaloohaLaloohaLaloohaLaloohaLaloohaLaloohaLaloohaLaloohaLaloohaLaloohaLaloohaLaloohaLaloohaLaloohaLaloohaLaloohaLaloohaLaloohaLaloohaLaloohaLaloohaLaloohaLaloohaLaloohaLaloohaLaloohaLaloohaLaloohaLaloohaLaloohaLaloohaLaloohaLaloohaLaloohaLaloohaLaloohaLaloohaLaloohaLaloohaLaloohaLaloohaLaloohaLaloohaLaloohaLaloohaLaloohaLaloohaLaloohaLaloohaLaloohaLaloohaLaloohaLaloohaLaloohaLaloohaLaloohaLaloohaLaloohaLaloohaLaloohaLaloohaLaloohaLaloohaLaloohaLaloohaLaloohaLaloohaLaloohaLaloohaLaloohaLaloohaLaloohaLaloohaLaloohaLaloohaLaloohaLaloohaLaloohaLaloohaLaloohaLaloohaLaloohaLaloohaLaloohaLaloohaLaloohaLaloohaLaloohaLaloohaLaloohaLaloohaLaloohaLaloohaLaloohaLaloohaLaloohaLaloohaLaloohaLaloohaLaloohaLaloohaLaloohaLaloohaLaloohaLaloohaLaloohaLaloohaLaloohaLaloohaLaloohaLaloohaLaloohaLaloohaLaloohaLaloohaLaloohaLaloohaLaloohaLaloohaLaloohaLaloohaLaloohaLaloohaLaloohaLaloohaLaloohaLaloohaLaloohaLaloohaLaloohaLaloohaLaloohaLaloohaLaloohaLaloohaLaloohaLaloohaLaloohaLaloohaLaloohaLaloohaLaloohaLaloohaLaloohaLaloohaLaloohaLaloohaLaloohaLaloohaLaloohaLaloohaLaloohaLaloohaLaloohaLaloohaLaloohaLaloohaLaloohaLaloohaLaloohaLaloohaLaloohaLaloohaLaloohaLaloohaLaloohaLaloohaLaloohaLaloohaLaloohaLaloohaLaloohaLaloohaLaloohaLaloohaLaloohaLaloohaLaloohaLaloohaLaloohaLaloohaLaloohaLaloohaLaloohaLaloohaLaloohaLaloohaLaloohaLaloohaLaloohaLaloohaLaloohaLaloohaLaloohaLaloohaLaloohaLaloohaLaloohaLaloohaLaloohaLaloohaLaloohaLaloohaLaloohaLaloohaLaloohaLaloohaLaloohaLaloohaLaloohaLaloohaLaloohaLaloohaLaloohaLaloohaLaloohaLaloohaLaloohaLaloohaLaloohaLaloohaLaloohaLaloohaLaloohaLaloohaLaloohaLaloohaLaloohaLaloohaLaloohaLaloohaLaloohaLaloohaLaloohaLaloohaLaloohaLaloohaLaloohaLaloohaLaloohaLaloohaLaloohaLaloohaLaloohaLaloohaLaloohaLaloohaLaloohaLaloohaLaloohaLaloohaLaloohaLaloohaLaloohaLaloohaLaloohaLaloohaLaloohaLaloohaLaloohaLaloohaLaloohaLaloohaLaloohaLaloohaLaloohaLaloohaLaloohaLaloohaLaloohaLaloohaLaloohaLaloohaLaloohaLaloohaLaloohaLaloohaLaloohaLaloohaLaloohaLaloohaLaloohaLaloohaLaloohaLaloohaLaloohaLaloohaLaloohaLaloohaLaloohaLaloohaLaloohaLaloohaLaloohaLaloohaLaloohaLaloohaLaloohaLaloohaLaloohaLaloohaLaloohaLaloohaLaloohaLaloohaLaloohaLaloohaLaloohaLaloohaLaloohaLaloohaLaloohaLaloohaLaloohaLaloohaLaloohaLaloohaLaloohaLaloohaLaloohaLaloohaLaloohaLaloohaLaloohaLaloohaLaloohaLaloohaLaloohaLaloohaLaloohaLaloohaLaloohaLaloohaLaloohaLaloohaLaloohaLaloohaLaloohaLaloohaLaloohaLaloohaLaloohaLaloohaLaloohaLaloohaLaloohaLaloohaLaloohaLaloohaLaloohaLaloohaLaloohaLaloohaLaloohaLaloohaLaloohaLaloohaLaloohaLaloohaLaloohaLaloohaLaloohaLaloohaLaloohaLaloohaLaloohaLaloohaLaloohaLaloohaLaloohaLaloohaLaloohaLaloohaLaloohaLaloohaLaloohaLaloohaLaloohaLaloohaLaloohaLaloohaLaloohaLaloohaLaloohaLaloohaLaloohaLaloohaLaloohaLaloohaLaloohaLaloohaLaloohaLaloohaLaloohaLaloohaLaloohaLaloohaLaloohaLaloohaLaloohaLaloohaLaloohaLaloohaLaloohaLaloohaLaloohaLaloohaLaloohaLaloohaLaloohaLaloohaLaloohaLaloohaLaloohaLaloohaLaloohaLaloohaLaloohaLaloohaLaloohaLaloohaLaloohaLaloohaLaloohaLaloohaLaloohaLaloohaLaloohaLaloohaLaloohaLaloohaLaloohaLaloohaLaloohaLaloohaLaloohaLaloohaLaloohaLaloohaLaloohaLaloohaLaloohaLaloohaLaloohaLaloohaLaloohaLaloohaLaloohaLaloohaLaloohaLaloohaLaloohaLaloohaLaloohaLaloohaLaloohaLaloohaLaloohaLaloohaLaloohaLaloohaLaloohaLaloohaLaloohaLaloohaLaloohaLaloohaLaloohaLaloohaLaloohaLaloohaLaloohaLaloohaLaloohaLaloohaLaloohaLaloohaLaloohaLaloohaLaloohaLaloohaLaloohaLaloohaLaloohaLaloohaLaloohaLaloohaLaloohaLaloohaLaloohaLaloohaLaloohaLaloohaLaloohaLaloohaLaloohaLaloohaLaloohaLaloohaLaloohaLaloohaLaloohaLaloohaLaloohaLaloohaLaloohaLaloohaLaloohaLaloohaLaloohaLaloohaLaloohaLaloohaLaloohaLaloohaLaloohaLaloohaLaloohaLaloohaLaloohaLaloohaLaloohaLaloohaLaloohaLaloohaLaloohaLaloohaLaloohaLaloohaLaloohaLaloohaLaloohaLaloohaLaloohaLaloohaLaloohaLaloohaLaloohaLaloohaLaloohaLaloohaLaloohaLaloohaLaloohaLaloohaLaloohaLaloohaLaloohaLaloohaLaloohaLaloohaLaloohaLaloohaLaloohaLaloohaLaloohaLaloohaLaloohaLaloohaLaloohaLaloohaLaloohaLaloohaLaloohaLaloohaLaloohaLaloohaLaloohaLaloohaLaloohaLaloohaLaloohaLaloohaLaloohaLaloohaLaloohaLaloohaLaloohaLaloohaLaloohaLaloohaLaloohaLaloohaLaloohaLaloohaLaloohaLaloohaLaloohaLaloohaLaloohaLaloohaLaloohaLaloohaLaloohaLaloohaLaloohaLaloohaLaloohaLaloohaLaloohaLaloohaLaloohaLaloohaLaloohaLaloohaLaloohaLaloohaLaloohaLaloohaLaloohaLaloohaLaloohaLaloohaLaloohaLaloohaLaloohaLaloohaLaloohaLaloohaLaloohaLaloohaLaloohaLaloohaLaloohaLaloohaLaloohaLaloohaLaloohaLaloohaLaloohaLaloohaLaloohaLaloohaLaloohaLaloohaLaloohaLaloohaLaloohaLaloohaLaloohaLaloohaLaloohaLaloohaLaloohaLaloohaLaloohaLaloohaLaloohaLaloohaLaloohaLaloohaLaloohaLaloohaLaloohaLaloohaLaloohaLaloohaLaloohaLaloohaLaloohaLaloohaLaloohaLaloohaLaloohaLaloohaLaloohaLaloohaLaloohaLaloohaLaloohaLaloohaLaloohaLaloohaLaloohaLaloohaLaloohaLaloohaLaloohaLaloohaLaloohaLaloohaLaloohaLaloohaLaloohaLaloohaLaloohaLaloohaLaloohaLaloohaLaloohaLaloohaLaloohaLaloohaLaloohaLaloohaLaloohaLaloohaLaloohaLaloohaLaloohaLaloohaLaloohaLaloohaLaloohaLaloohaLaloohaLaloohaLaloohaLaloohaLaloohaLaloohaLaloohaLaloohaLaloohaLaloohaLaloohaLaloohaLaloohaLaloohaLaloohaLaloohaLaloohaLaloohaLaloohaLaloohaLaloohaLaloohaLaloohaLaloohaLaloohaLaloohaLaloohaLaloohaLaloohaLaloohaLaloohaLaloohaLaloohaLaloohaLaloohaLaloohaLaloohaLaloohaLaloohaLaloohaLaloohaLaloohaLaloohaLaloohaLaloohaLaloohaLaloohaLaloohaLaloohaLaloohaLaloohaLaloohaLaloohaLaloohaLaloohaLaloohaLaloohaLaloohaLaloohaLaloohaLaloohaLaloohaLaloohaLaloohaLaloohaLaloohaLaloohaLaloohaLaloohaLaloohaLaloohaLaloohaLaloohaLaloohaLaloohaLaloohaLaloohaLaloohaLaloohaLaloohaLaloohaLaloohaLaloohaLaloohaLaloohaLaloohaLaloohaLaloohaLaloohaLaloohaLaloohaLaloohaLaloohaLaloohaLaloohaLaloohaLaloohaLaloohaLaloohaLaloohaLaloohaLaloohaLaloohaLaloohaLaloohaLaloohaLaloohaLaloohaLaloohaLaloohaLaloohaLaloohaLaloohaLaloohaLaloohaLaloohaLaloohaLaloohaLaloohaLaloohaLaloohaLaloohaLaloohaLaloohaLaloohaLaloohaLaloohaLaloohaLaloohaLaloohaLaloohaLaloohaLaloohaLaloohaLaloohaLaloohaLaloohaLaloohaLaloohaLaloohaLaloohaLaloohaLaloohaLaloohaLaloohaLaloohaLaloohaLaloohaLaloohaLaloohaLaloohaLaloohaLaloohaLaloohaLaloohaLaloohaLaloohaLaloohaLaloohaLaloohaLaloohaLaloohaLaloohaLaloohaLaloohaLaloohaLaloohaLaloohaLaloohaLaloohaLaloohaLaloohaLaloohaLaloohaLaloohaLaloohaLaloohaLaloohaLaloohaLaloohaLaloohaLaloohaLaloohaLaloohaLaloohaLaloohaLaloohaLaloohaLaloohaLaloohaLaloohaLaloohaLaloohaLaloohaLaloohaLaloohaLaloohaLaloohaLaloohaLaloohaLaloohaLaloohaLaloohaLaloohaLaloohaLaloohaLaloohaLaloohaLaloohaLaloohaLaloohaLaloohaLaloohaLaloohaLaloohaLaloohaLaloohaLaloohaLaloohaLaloohaLaloohaLaloohaLaloohaLaloohaLaloohaLaloohaLaloohaLaloohaLaloohaLaloohaLaloohaLaloohaLaloohaLaloohaLaloohaLaloohaLaloohaLaloohaLaloohaLaloohaLaloohaLaloohaLaloohaLaloohaLaloohaLaloohaLaloohaLaloohaLaloohaLaloohaLaloohaLaloohaLaloohaLaloohaLaloohaLaloohaLaloohaLaloohaLaloohaLaloohaLaloohaLaloohaLaloohaLaloohaLaloohaLaloohaLaloohaLaloohaLaloohaLaloohaLaloohaLaloohaLaloohaLaloohaLaloohaLaloohaLaloohaLaloohaLaloohaLaloohaLaloohaLaloohaLaloohaLaloohaLaloohaLaloohaLaloohaLaloohaLaloohaLaloohaLaloohaLaloohaLaloohaLaloohaLaloohaLaloohaLaloohaLaloohaLaloohaLaloohaLaloohaLaloohaLaloohaLaloohaLaloohaLaloohaLaloohaLaloohaLaloohaLaloohaLaloohaLaloohaLaloohaLaloohaLaloohaLaloohaLaloohaLaloohaLaloohaLaloohaLaloohaLaloohaLaloohaLaloohaLaloohaLaloohaLaloohaLaloohaLaloohaLaloohaLaloohaLaloohaLaloohaLaloohaLaloohaLaloohaLaloohaLaloohaLaloohaLaloohaLaloohaLaloohaLaloohaLaloohaLaloohaLaloohaLaloohaLaloohaLaloohaLaloohaLaloohaLaloohaLaloohaLaloohaLaloohaLaloohaLaloohaLaloohaLaloohaLaloohaLaloohaLaloohaLaloohaLaloohaLaloohaLaloohaLaloohaLaloohaLaloohaLaloohaLaloohaLaloohaLaloohaLaloohaLaloohaLaloohaLaloohaLaloohaLaloohaLaloohaLaloohaLaloohaLaloohaLaloohaLaloohaLaloohaLaloohaLaloohaLaloohaLaloohaLaloohaLaloohaLaloohaLaloohaLaloohaLaloohaLaloohaLaloohaLaloohaLaloohaLaloohaLaloohaLaloohaLaloohaLaloohaLaloohaLaloohaLaloohaLaloohaLaloohaLaloohaLaloohaLaloohaLaloohaLaloohaLaloohaLaloohaLaloohaLaloohaLaloohaLaloohaLaloohaLaloohaLaloohaLaloohaLaloohaLaloohaLaloohaLaloohaLaloohaLaloohaLaloohaLaloohaLaloohaLaloohaLaloohaLaloohaLaloohaLaloohaLaloohaLaloohaLaloohaLaloohaLaloohaLaloohaLaloohaLaloohaLaloohaLaloohaLaloohaLaloohaLaloohaLaloohaLaloohaLaloohaLaloohaLaloohaLaloohaLaloohaLaloohaLaloohaLaloohaLaloohaLaloohaLaloohaLaloohaLaloohaLaloohaLaloohaLaloohaLaloohaLaloohaLaloohaLaloohaLaloohaLaloohaLaloohaLaloohaLaloohaLaloohaLaloohaLaloohaLaloohaLaloohaLaloohaLaloohaLaloohaLaloohaLaloohaLaloohaLaloohaLaloohaLaloohaLaloohaLaloohaLaloohaLaloohaLaloohaLaloohaLaloohaLaloohaLaloohaLaloohaLaloohaLaloohaLaloohaLaloohaLaloohaLaloohaLaloohaLaloohaLaloohaLaloohaLaloohaLaloohaLaloohaLaloohaLaloohaLaloohaLaloohaLaloohaLaloohaLaloohaLaloohaLaloohaLaloohaLaloohaLaloohaLaloohaLaloohaLaloohaLaloohaLaloohaLaloohaLaloohaLaloohaLaloohaLaloohaLaloohaLaloohaLaloohaLaloohaLaloohaLaloohaLaloohaLaloohaLaloohaLaloohaLaloohaLaloohaLaloohaLaloohaLaloohaLaloohaLaloohaLaloohaLaloohaLaloohaLaloohaLaloohaLaloohaLaloohaLaloohaLaloohaLaloohaLaloohaLaloohaLaloohaLaloohaLaloohaLaloohaLaloohaLaloohaLaloohaLaloohaLaloohaLaloohaLaloohaLaloohaLaloohaLaloohaLaloohaLaloohaLaloohaLaloohaLaloohaLaloohaLaloohaLaloohaLaloohaLaloohaLaloohaLaloohaLaloohaLaloohaLaloohaLaloohaLaloohaLaloohaLaloohaLaloohaLaloohaLaloohaLaloohaLaloohaLaloohaLaloohaLaloohaLaloohaLaloohaLaloohaLaloohaLaloohaLaloohaLaloohaLaloohaLaloohaLaloohaLaloohaLaloohaLaloohaLaloohaLaloohaLaloohaLaloohaLaloohaLaloohaLaloohaLaloohaLaloohaLaloohaLaloohaLaloohaLaloohaLaloohaLaloohaLaloohaLaloohaLaloohaLaloohaLaloohaLaloohaLaloohaLaloohaLaloohaLaloohaLaloohaLaloohaLaloohaLaloohaLaloohaLaloohaLaloohaLaloohaLaloohaLaloohaLaloohaLaloohaLaloohaLaloohaLaloohaLaloohaLaloohaLaloohaLaloohaLaloohaLaloohaLaloohaLaloohaLaloohaLaloohaLaloohaLaloohaLaloohaLaloohaLaloohaLaloohaLaloohaLaloohaLaloohaLaloohaLaloohaLaloohaLaloohaLaloohaLaloohaLaloohaLaloohaLaloohaLaloohaLaloohaLaloohaLaloohaLaloohaLaloohaLaloohaLaloohaLaloohaLaloohaLaloohaLaloohaLaloohaLaloohaLaloohaLaloohaLaloohaLaloohaLaloohaLaloohaLaloohaLaloohaLaloohaLaloohaLaloohaLaloohaLaloohaLaloohaLaloohaLaloohaLaloohaLaloohaLaloohaLaloohaLaloohaLaloohaLaloohaLaloohaLaloohaLaloohaLaloohaLaloohaLaloohaLaloohaLaloohaLaloohaLaloohaLaloohaLaloohaLaloohaLaloohaLaloohaLaloohaLaloohaLaloohaLaloohaLaloohaLaloohaLaloohaLaloohaLaloohaLaloohaLaloohaLaloohaLaloohaLaloohaLaloohaLaloohaLaloohaLaloohaLaloohaLaloohaLaloohaLaloohaLaloohaLaloohaLaloohaLaloohaLaloohaLaloohaLaloohaLaloohaLaloohaLaloohaLaloohaLaloohaLaloohaLaloohaLaloohaLaloohaLaloohaLaloohaLaloohaLaloohaLaloohaLaloohaLaloohaLaloohaLaloohaLaloohaLaloohaLaloohaLaloohaLaloohaLaloohaLaloohaLaloohaLaloohaLaloohaLaloohaLaloohaLaloohaLaloohaLaloohaLaloohaLaloohaLaloohaLaloohaLaloohaLaloohaLaloohaLaloohaLaloohaLaloohaLaloohaLaloohaLaloohaLaloohaLaloohaLaloohaLaloohaLaloohaLaloohaLaloohaLaloohaLaloohaLaloohaLaloohaLaloohaLaloohaLaloohaLaloohaLaloohaLaloohaLaloohaLaloohaLaloohaLaloohaLaloohaLaloohaLaloohaLaloohaLaloohaLaloohaLaloohaLaloohaLaloohaLaloohaLaloohaLaloohaLaloohaLaloohaLaloohaLaloohaLaloohaLaloohaLaloohaLaloohaLaloohaLaloohaLaloohaLaloohaLaloohaLaloohaLaloohaLaloohaLaloohaLaloohaLaloohaLaloohaLaloohaLaloohaLaloohaLaloohaLaloohaLaloohaLaloohaLaloohaLaloohaLaloohaLaloohaLaloohaLaloohaLaloohaLaloohaLaloohaLaloohaLaloohaLaloohaLaloohaLaloohaLaloohaLaloohaLaloohaLaloohaLaloohaLaloohaLaloohaLaloohaLaloohaLaloohaLaloohaLaloohaLaloohaLaloohaLaloohaLaloohaLaloohaLaloohaLaloohaLaloohaLaloohaLaloohaLaloohaLaloohaLaloohaLaloohaLaloohaLaloohaLaloohaLaloohaLaloohaLaloohaLaloohaLaloohaLaloohaLaloohaLaloohaLaloohaLaloohaLaloohaLaloohaLaloohaLaloohaLaloohaLaloohaLaloohaLaloohaLaloohaLaloohaLaloohaLaloohaLaloohaLaloohaLaloohaLaloohaLaloohaLaloohaLaloohaLaloohaLaloohaLaloohaLaloohaLaloohaLaloohaLaloohaLaloohaLaloohaLaloohaLaloohaLaloohaLaloohaLaloohaLaloohaLaloohaLaloohaLaloohaLaloohaLaloohaLaloohaLaloohaLaloohaLaloohaLaloohaLaloohaLaloohaLaloohaLaloohaLaloohaLaloohaLaloohaLaloohaLaloohaLaloohaLaloohaLaloohaLaloohaLaloohaLaloohaLaloohaLaloohaLaloohaLaloohaLaloohaLaloohaLaloohaLaloohaLaloohaLaloohaLaloohaLaloohaLaloohaLaloohaLaloohaLaloohaLaloohaLaloohaLaloohaLaloohaLaloohaLaloohaLaloohaLaloohaLaloohaLaloohaLaloohaLaloohaLaloohaLaloohaLaloohaLaloohaLaloohaLaloohaLaloohaLaloohaLaloohaLaloohaLaloohaLaloohaLaloohaLaloohaLaloohaLaloohaLaloohaLaloohaLaloohaLaloohaLaloohaLaloohaLaloohaLaloohaLaloohaLaloohaLaloohaLaloohaLaloohaLaloohaLaloohaLaloohaLaloohaLaloohaLaloohaLaloohaLaloohaLaloohaLaloohaLaloohaLaloohaLaloohaLaloohaLaloohaLaloohaLaloohaLaloohaLaloohaLaloohaLaloohaLaloohaLaloohaLaloohaLaloohaLaloohaLaloohaLaloohaLaloohaLaloohaLaloohaLaloohaLaloohaLaloohaLaloohaLaloohaLaloohaLaloohaLaloohaLaloohaLaloohaLaloohaLaloohaLaloohaLaloohaLaloohaLaloohaLaloohaLaloohaLaloohaLaloohaLaloohaLaloohaLaloohaLaloohaLaloohaLaloohaLaloohaLaloohaLaloohaLaloohaLaloohaLaloohaLaloohaLaloohaLaloohaLaloohaLaloohaLaloohaLaloohaLaloohaLaloohaLaloohaLaloohaLaloohaLaloohaLaloohaLaloohaLaloohaLaloohaLaloohaLaloohaLaloohaLaloohaLaloohaLaloohaLaloohaLaloohaLaloohaLaloohaLaloohaLaloohaLaloohaLaloohaLaloohaLaloohaLaloohaLaloohaLaloohaLaloohaLaloohaLaloohaLaloohaLaloohaLaloohaLaloohaLaloohaLaloohaLaloohaLaloohaLaloohaLaloohaLaloohaLaloohaLaloohaLaloohaLaloohaLaloohaLaloohaLaloohaLaloohaLaloohaLaloohaLaloohaLaloohaLaloohaLaloohaLaloohaLaloohaLaloohaLaloohaLaloohaLaloohaLaloohaLaloohaLaloohaLaloohaLaloohaLaloohaLaloohaLaloohaLaloohaLaloohaLaloohaLaloohaLaloohaLaloohaLaloohaLaloohaLaloohaLaloohaLaloohaLaloohaLaloohaLaloohaLaloohaLaloohaLaloohaLaloohaLaloohaLaloohaLaloohaLaloohaLaloohaLaloohaLaloohaLaloohaLaloohaLaloohaLaloohaLaloohaLaloohaLaloohaLaloohaLaloohaLaloohaLaloohaLaloohaLaloohaLaloohaLaloohaLaloohaLaloohaLaloohaLaloohaLaloohaLaloohaLaloohaLaloohaLaloohaLaloohaLaloohaLaloohaLaloohaLaloohaLaloohaLaloohaLaloohaLaloohaLaloohaLaloohaLaloohaLaloohaLaloohaLaloohaLaloohaLaloohaLaloohaLaloohaLaloohaLaloohaLaloohaLaloohaLaloohaLaloohaLaloohaLaloohaLaloohaLaloohaLaloohaLaloohaLaloohaLaloohaLaloohaLaloohaLaloohaLaloohaLaloohaLaloohaLaloohaLaloohaLaloohaLaloohaLaloohaLaloohaLaloohaLaloohaLaloohaLaloohaLaloohaLaloohaLaloohaLaloohaLaloohaLaloohaLaloohaLaloohaLaloohaLaloohaLaloohaLaloohaLaloohaLaloohaLaloohaLaloohaLaloohaLaloohaLaloohaLaloohaLaloohaLaloohaLaloohaLaloohaLaloohaLaloohaLaloohaLaloohaLaloohaLaloohaLaloohaLaloohaLaloohaLaloohaLaloohaLaloohaLaloohaLaloohaLaloohaLaloohaLaloohaLaloohaLaloohaLaloohaLaloohaLaloohaLaloohaLaloohaLaloohaLaloohaLaloohaLaloohaLaloohaLaloohaLaloohaLaloohaLaloohaLaloohaLaloohaLaloohaLaloohaLaloohaLaloohaLaloohaLaloohaLaloohaLaloohaLaloohaLaloohaLaloohaLaloohaLaloohaLaloohaLaloohaLaloohaLaloohaLaloohaLaloohaLaloohaLaloohaLaloohaLaloohaLaloohaLaloohaLaloohaLaloohaLaloohaLaloohaLaloohaLaloohaLaloohaLaloohaLaloohaLaloohaLaloohaLaloohaLaloohaLaloohaLaloohaLaloohaLaloohaLaloohaLaloohaLaloohaLaloohaLaloohaLaloohaLaloohaLaloohaLaloohaLaloohaLaloohaLaloohaLaloohaLaloohaLaloohaLaloohaLaloohaLaloohaLaloohaLaloohaLaloohaLaloohaLaloohaLaloohaLaloohaLaloohaLaloohaLaloohaLaloohaLaloohaLaloohaLaloohaLaloohaLaloohaLaloohaLaloohaLaloohaLaloohaLaloohaLaloohaLaloohaLaloohaLaloohaLaloohaLaloohaLaloohaLaloohaLaloohaLaloohaLaloohaLaloohaLaloohaLaloohaLaloohaLaloohaLaloohaLaloohaLaloohaLaloohaLaloohaLaloohaLaloohaLaloohaLaloohaLaloohaLaloohaLaloohaLaloohaLaloohaLaloohaLaloohaLaloohaLaloohaLaloohaLaloohaLaloohaLaloohaLaloohaLaloohaLaloohaLaloohaLaloohaLaloohaLaloohaLaloohaLaloohaLaloohaLaloohaLaloohaLaloohaLaloohaLaloohaLaloohaLaloohaLaloohaLaloohaLaloohaLaloohaLaloohaLaloohaLaloohaLaloohaLaloohaLaloohaLaloohaLaloohaLaloohaLaloohaLaloohaLaloohaLaloohaLaloohaLaloohaLaloohaLaloohaLaloohaLaloohaLaloohaLaloohaLaloohaLaloohaLaloohaLaloohaLaloohaLaloohaLaloohaLaloohaLaloohaLaloohaLaloohaLaloohaLaloohaLaloohaLaloohaLaloohaLaloohaLaloohaLaloohaLaloohaLaloohaLaloohaLaloohaLaloohaLaloohaLaloohaLaloohaLaloohaLaloohaLaloohaLaloohaLaloohaLaloohaLaloohaLaloohaLaloohaLaloohaLaloohaLaloohaLaloohaLaloohaLaloohaLaloohaLaloohaLaloohaLaloohaLaloohaLaloohaLaloohaLaloohaLaloohaLaloohaLaloohaLaloohaLaloohaLaloohaLaloohaLaloohaLaloohaLaloohaLaloohaLaloohaLaloohaLaloohaLaloohaLaloohaLaloohaLaloohaLaloohaLaloohaLaloohaLaloohaLaloohaLaloohaLaloohaLaloohaLaloohaLaloohaLaloohaLaloohaLaloohaLaloohaLaloohaLaloohaLaloohaLaloohaLaloohaLaloohaLaloohaLaloohaLaloohaLaloohaLaloohaLaloohaLaloohaLaloohaLaloohaLaloohaLaloohaLaloohaLaloohaLaloohaLaloohaLaloohaLaloohaLaloohaLaloohaLaloohaLaloohaLaloohaLaloohaLaloohaLaloohaLaloohaLaloohaLaloohaLaloohaLaloohaLaloohaLaloohaLaloohaLaloohaLaloohaLaloohaLaloohaLaloohaLaloohaLaloohaLaloohaLaloohaLaloohaLaloohaLaloohaLaloohaLaloohaLaloohaLaloohaLaloohaLaloohaLaloohaLaloohaLaloohaLaloohaLaloohaLaloohaLaloohaLaloohaLaloohaLaloohaLaloohaLaloohaLaloohaLaloohaLaloohaLaloohaLaloohaLaloohaLaloohaLaloohaLaloohaLaloohaLaloohaLaloohaLaloohaLaloohaLaloohaLaloohaLaloohaLaloohaLaloohaLaloohaLaloohaLaloohaLaloohaLaloohaLaloohaLaloohaLaloohaLaloohaLaloohaLaloohaLaloohaLaloohaLaloohaLaloohaLaloohaLaloohaLaloohaLaloohaLaloohaLaloohaLaloohaLaloohaLaloohaLaloohaLaloohaLaloohaLaloohaLaloohaLaloohaLaloohaLaloohaLaloohaLaloohaLaloohaLaloohaLaloohaLaloohaLaloohaLaloohaLaloohaLaloohaLaloohaLaloohaLaloohaLaloohaLaloohaLaloohaLaloohaLaloohaLaloohaLaloohaLaloohaLaloohaLaloohaLaloohaLaloohaLaloohaLaloohaLaloohaLaloohaLaloohaLaloohaLaloohaLaloohaLaloohaLaloohaLaloohaLaloohaLaloohaLaloohaLaloohaLaloohaLaloohaLaloohaLaloohaLaloohaLaloohaLaloohaLaloohaLaloohaLaloohaLaloohaLaloohaLaloohaLaloohaLaloohaLaloohaLaloohaLaloohaLaloohaLaloohaLaloohaLaloohaLaloohaLaloohaLaloohaLaloohaLaloohaLaloohaLaloohaLaloohaLaloohaLaloohaLaloohaLaloohaLaloohaLaloohaLaloohaLaloohaLaloohaLaloohaLaloohaLaloohaLaloohaLaloohaLaloohaLaloohaLaloohaLaloohaLaloohaLaloohaLaloohaLaloohaLaloohaLaloohaLaloohaLaloohaLaloohaLaloohaLaloohaLaloohaLaloohaLaloohaLaloohaLaloohaLaloohaLaloohaLaloohaLaloohaLaloohaLaloohaLaloohaLaloohaLaloohaLaloohaLaloohaLaloohaLaloohaLaloohaLaloohaLaloohaLaloohaLaloohaLaloohaLaloohaLaloohaLaloohaLaloohaLaloohaLaloohaLaloohaLaloohaLaloohaLaloohaLaloohaLaloohaLaloohaLaloohaLaloohaLaloohaLaloohaLaloohaLaloohaLaloohaLaloohaLaloohaLaloohaLaloohaLaloohaLaloohaLaloohaLaloohaLaloohaLaloohaLaloohaLaloohaLaloohaLaloohaLaloohaLaloohaLaloohaLaloohaLaloohaLaloohaLaloohaLaloohaLaloohaLaloohaLaloohaLaloohaLaloohaLaloohaLaloohaLaloohaLaloohaLaloohaLaloohaLaloohaLaloohaLaloohaLaloohaLaloohaLaloohaLaloohaLaloohaLaloohaLaloohaLaloohaLaloohaLaloohaLaloohaLaloohaLaloohaLaloohaLaloohaLaloohaLaloohaLaloohaLaloohaLaloohaLaloohaLaloohaLaloohaLaloohaLaloohaLaloohaLaloohaLaloohaLaloohaLaloohaLaloohaLaloohaLaloohaLaloohaLaloohaLaloohaLaloohaLaloohaLaloohaLaloohaLaloohaLaloohaLaloohaLaloohaLaloohaLaloohaLaloohaLaloohaLaloohaLaloohaLaloohaLaloohaLaloohaLaloohaLaloohaLaloohaLaloohaLaloohaLaloohaLaloohaLaloohaLaloohaLaloohaLaloohaLaloohaLaloohaLaloohaLaloohaLaloohaLaloohaLaloohaLaloohaLaloohaLaloohaLaloohaLaloohaLaloohaLaloohaLaloohaLaloohaLaloohaLaloohaLaloohaLaloohaLaloohaLaloohaLaloohaLaloohaLaloohaLaloohaLaloohaLaloohaLaloohaLaloohaLaloohaLaloohaLaloohaLaloohaLaloohaLaloohaLaloohaLaloohaLaloohaLaloohaLaloohaLaloohaLaloohaLaloohaLaloohaLaloohaLaloohaLaloohaLaloohaLaloohaLaloohaLaloohaLaloohaLaloohaLaloohaLaloohaLaloohaLaloohaLaloohaLaloohaLaloohaLaloohaLaloohaLaloohaLaloohaLaloohaLaloohaLaloohaLaloohaLaloohaLaloohaLaloohaLaloohaLaloohaLaloohaLaloohaLaloohaLaloohaLaloohaLaloohaLaloohaLaloohaLaloohaLaloohaLaloohaLaloohaLaloohaLaloohaLaloohaLaloohaLaloohaLaloohaLaloohaLaloohaLaloohaLaloohaLaloohaLaloohaLaloohaLaloohaLaloohaLaloohaLaloohaLaloohaLaloohaLaloohaLaloohaLaloohaLaloohaLaloohaLaloohaLaloohaLaloohaLaloohaLaloohaLaloohaLaloohaLaloohaLaloohaLaloohaLaloohaLaloohaLaloohaLaloohaLaloohaLaloohaLaloohaLaloohaLaloohaLaloohaLaloohaLaloohaLaloohaLaloohaLaloohaLaloohaLaloohaLaloohaLaloohaLaloohaLaloohaLaloohaLaloohaLaloohaLaloohaLaloohaLaloohaLaloohaLaloohaLaloohaLaloohaLaloohaLaloohaLaloohaLaloohaLaloohaLaloohaLaloohaLaloohaLaloohaLaloohaLaloohaLaloohaLaloohaLaloohaLaloohaLaloohaLaloohaLaloohaLaloohaLaloohaLaloohaLaloohaLaloohaLaloohaLaloohaLaloohaLaloohaLaloohaLaloohaLaloohaLaloohaLaloohaLaloohaLaloohaLaloohaLaloohaLaloohaLaloohaLaloohaLaloohaLaloohaLaloohaLaloohaLaloohaLaloohaLaloohaLaloohaLaloohaLaloohaLaloohaLaloohaLaloohaLaloohaLaloohaLaloohaLaloohaLaloohaLaloohaLaloohaLaloohaLaloohaLaloohaLaloohaLaloohaLaloohaLaloohaLaloohaLaloohaLaloohaLaloohaLaloohaLaloohaLaloohaLaloohaLaloohaLaloohaLaloohaLaloohaLaloohaLaloohaLaloohaLaloohaLaloohaLaloohaLaloohaLaloohaLaloohaLaloohaLaloohaLaloohaLaloohaLaloohaLaloohaLaloohaLaloohaLaloohaLaloohaLaloohaLaloohaLaloohaLaloohaLaloohaLaloohaLaloohaLaloohaLaloohaLaloohaLaloohaLaloohaLaloohaLaloohaLaloohaLaloohaLaloohaLaloohaLaloohaLaloohaLaloohaLaloohaLaloohaLaloohaLaloohaLaloohaLaloohaLaloohaLaloohaLaloohaLaloohaLaloohaLaloohaLaloohaLaloohaLaloohaLaloohaLaloohaLaloohaLaloohaLaloohaLaloohaLaloohaLaloohaLaloohaLaloohaLaloohaLaloohaLaloohaLaloohaLaloohaLaloohaLaloohaLaloohaLaloohaLaloohaLaloohaLaloohaLaloohaLaloohaLaloohaLaloohaLaloohaLaloohaLaloohaLaloohaLaloohaLaloohaLaloohaLaloohaLaloohaLaloohaLaloohaLaloohaLaloohaLaloohaLaloohaLaloohaLaloohaLaloohaLaloohaLaloohaLaloohaLaloohaLaloohaLaloohaLaloohaLaloohaLaloohaLaloohaLaloohaLaloohaLaloohaLaloohaLaloohaLaloohaLaloohaLaloohaLaloohaLaloohaLaloohaLaloohaLaloohaLaloohaLaloohaLaloohaLaloohaLaloohaLaloohaLaloohaLaloohaLaloohaLaloohaLaloohaLaloohaLaloohaLaloohaLaloohaLaloohaLaloohaLaloohaLaloohaLaloohaLaloohaLaloohaLaloohaLaloohaLaloohaLaloohaLaloohaLaloohaLaloohaLaloohaLaloohaLaloohaLaloohaLaloohaLaloohaLaloohaLaloohaLaloohaLaloohaLaloohaLaloohaLaloohaLaloohaLaloohaLaloohaLaloohaLaloohaLaloohaLaloohaLaloohaLaloohaLaloohaLaloohaLaloohaLaloohaLaloohaLaloohaLaloohaLaloohaLaloohaLaloohaLaloohaLaloohaLaloohaLaloohaLaloohaLaloohaLaloohaLaloohaLaloohaLaloohaLaloohaLaloohaLaloohaLaloohaLaloohaLaloohaLaloohaLaloohaLaloohaLaloohaLaloohaLaloohaLaloohaLaloohaLaloohaLaloohaLaloohaLaloohaLaloohaLaloohaLaloohaLaloohaLaloohaLaloohaLaloohaLaloohaLaloohaLaloohaLaloohaLaloohaLaloohaLaloohaLaloohaLaloohaLaloohaLaloohaLaloohaLaloohaLaloohaLaloohaLaloohaLaloohaLaloohaLaloohaLaloohaLaloohaLaloohaLaloohaLaloohaLaloohaLaloohaLaloohaLaloohaLaloohaLaloohaLaloohaLaloohaLaloohaLaloohaLaloohaLaloohaLaloohaLaloohaLaloohaLaloohaLaloohaLaloohaLaloohaLaloohaLaloohaLaloohaLaloohaLaloohaLaloohaLaloohaLaloohaLaloohaLaloohaLaloohaLaloohaLaloohaLaloohaLaloohaLaloohaLaloohaLaloohaLaloohaLaloohaLaloohaLaloohaLaloohaLaloohaLaloohaLaloohaLalooha'"
      ]
     },
     "execution_count": 71,
     "metadata": {},
     "output_type": "execute_result"
    }
   ],
   "source": [
    "comp_sal(r)"
   ]
  },
  {
   "cell_type": "code",
   "execution_count": 72,
   "id": "0a47e970-c75d-47e3-9c85-1f31f71632de",
   "metadata": {
    "tags": []
   },
   "outputs": [],
   "source": [
    "def comp_sal(r):\n",
    "    return r[2] + r[3]*r[4]"
   ]
  },
  {
   "cell_type": "code",
   "execution_count": 73,
   "id": "a4e88f3f-3fcd-41eb-88b3-6948907b8bcc",
   "metadata": {
    "tags": []
   },
   "outputs": [
    {
     "data": {
      "text/plain": [
       "17640"
      ]
     },
     "execution_count": 73,
     "metadata": {},
     "output_type": "execute_result"
    }
   ],
   "source": [
    "comp_sal(r)"
   ]
  },
  {
   "cell_type": "code",
   "execution_count": 74,
   "id": "4e5e6c14-b95e-403c-973e-608d913a0abe",
   "metadata": {
    "tags": []
   },
   "outputs": [],
   "source": [
    "W = namedtuple('W', ['c_salary', 'hour', 'SPH'])"
   ]
  },
  {
   "cell_type": "code",
   "execution_count": 75,
   "id": "0f08c5e5-48d1-40ac-be8c-770fac74ed12",
   "metadata": {
    "tags": []
   },
   "outputs": [],
   "source": [
    "w = W(9000, 24, 360)"
   ]
  },
  {
   "cell_type": "code",
   "execution_count": 76,
   "id": "7ea886a7-e0b2-4e79-a32e-95895fe30b77",
   "metadata": {
    "tags": []
   },
   "outputs": [],
   "source": [
    "def comp_sal(t):\n",
    "    return t.c_salary + t.hour*t.SPH"
   ]
  },
  {
   "cell_type": "code",
   "execution_count": 77,
   "id": "039c763f-5641-4e1e-8999-b172d4d2c1c9",
   "metadata": {
    "tags": []
   },
   "outputs": [
    {
     "data": {
      "text/plain": [
       "17640"
      ]
     },
     "execution_count": 77,
     "metadata": {},
     "output_type": "execute_result"
    }
   ],
   "source": [
    "comp_sal(w)"
   ]
  },
  {
   "cell_type": "code",
   "execution_count": 78,
   "id": "e325273d-ca66-4e99-a540-4bd095f4c6ad",
   "metadata": {
    "tags": []
   },
   "outputs": [],
   "source": [
    "W = namedtuple('W', ['fname', 'lname', 'c_salary', 'hour', 'SPH'])"
   ]
  },
  {
   "cell_type": "code",
   "execution_count": 79,
   "id": "74bc547c-ded2-4049-a50a-1c29d886a235",
   "metadata": {
    "tags": []
   },
   "outputs": [],
   "source": [
    "w = W('Ghazal', 'Lalooha', 9000, 24, 360)"
   ]
  },
  {
   "cell_type": "code",
   "execution_count": 80,
   "id": "675b0f7a-4eb1-4a92-a9e6-8c2d8dfab2ab",
   "metadata": {
    "tags": []
   },
   "outputs": [
    {
     "data": {
      "text/plain": [
       "17640"
      ]
     },
     "execution_count": 80,
     "metadata": {},
     "output_type": "execute_result"
    }
   ],
   "source": [
    "comp_sal(w)"
   ]
  },
  {
   "cell_type": "code",
   "execution_count": 81,
   "id": "1293f5a8-61d0-4db5-94bc-6a4091d9170a",
   "metadata": {
    "tags": []
   },
   "outputs": [
    {
     "ename": "AttributeError",
     "evalue": "can't set attribute",
     "output_type": "error",
     "traceback": [
      "\u001b[1;31m---------------------------------------------------------------------------\u001b[0m",
      "\u001b[1;31mAttributeError\u001b[0m                            Traceback (most recent call last)",
      "Cell \u001b[1;32mIn[81], line 1\u001b[0m\n\u001b[1;32m----> 1\u001b[0m w\u001b[38;5;241m.\u001b[39mSPH \u001b[38;5;241m=\u001b[39m \u001b[38;5;241m0.3\u001b[39m\n",
      "\u001b[1;31mAttributeError\u001b[0m: can't set attribute"
     ]
    }
   ],
   "source": [
    "w.SPH = 0.3"
   ]
  },
  {
   "cell_type": "code",
   "execution_count": 82,
   "id": "f34027ac-621e-4bb4-b335-e9bb81b8cc71",
   "metadata": {
    "tags": []
   },
   "outputs": [],
   "source": [
    "w = w._replace(SPH = 0.3)"
   ]
  },
  {
   "cell_type": "code",
   "execution_count": 83,
   "id": "2105f99b-a7e2-4b57-965f-85c9d328eddf",
   "metadata": {
    "tags": []
   },
   "outputs": [
    {
     "data": {
      "text/plain": [
       "W(fname='Ghazal', lname='Lalooha', c_salary=9000, hour=24, SPH=0.3)"
      ]
     },
     "execution_count": 83,
     "metadata": {},
     "output_type": "execute_result"
    }
   ],
   "source": [
    "w"
   ]
  },
  {
   "cell_type": "code",
   "execution_count": 84,
   "id": "61c5ea92-9a40-48ed-a510-d3fd2f4e5d2d",
   "metadata": {
    "tags": []
   },
   "outputs": [],
   "source": [
    "W  =namedtuple('W', ['fname', 'lname', 'c_salary', 'hour', 'SPH'])"
   ]
  },
  {
   "cell_type": "code",
   "execution_count": 85,
   "id": "a54b55d4-e05b-412d-9cc8-30f18ad38bac",
   "metadata": {
    "tags": []
   },
   "outputs": [],
   "source": [
    "w = W( '', '', 0, 0, 0)"
   ]
  },
  {
   "cell_type": "code",
   "execution_count": 86,
   "id": "4a847a8b-3a7f-4e0f-9458-048c18cd294d",
   "metadata": {
    "tags": []
   },
   "outputs": [
    {
     "data": {
      "text/plain": [
       "W(fname='', lname='', c_salary=0, hour=0, SPH=0)"
      ]
     },
     "execution_count": 86,
     "metadata": {},
     "output_type": "execute_result"
    }
   ],
   "source": [
    "w"
   ]
  },
  {
   "cell_type": "code",
   "execution_count": 87,
   "id": "a87d9793-504e-4eff-bc40-4420d8e8bf4d",
   "metadata": {
    "tags": []
   },
   "outputs": [],
   "source": [
    "d = {'fname': 'Ghazal', 'lname': 'Lalooha', 'c_salary': 1000, \n",
    "     'hour': 40, 'SPH': 720}"
   ]
  },
  {
   "cell_type": "code",
   "execution_count": 88,
   "id": "76015d38-c733-4ec3-b3cc-06a920d28b22",
   "metadata": {
    "tags": []
   },
   "outputs": [],
   "source": [
    "def dict_to_nt(h):\n",
    "    return w._replace(**h)"
   ]
  },
  {
   "cell_type": "code",
   "execution_count": 89,
   "id": "38a8e841-442a-4d68-916b-5bb4e4f0c234",
   "metadata": {
    "tags": []
   },
   "outputs": [
    {
     "data": {
      "text/plain": [
       "W(fname='Ghazal', lname='Lalooha', c_salary=1000, hour=40, SPH=720)"
      ]
     },
     "execution_count": 89,
     "metadata": {},
     "output_type": "execute_result"
    }
   ],
   "source": [
    "dict_to_nt(d)"
   ]
  },
  {
   "cell_type": "code",
   "execution_count": null,
   "id": "3245901d-1cc8-4f0e-875c-963c2ea32c16",
   "metadata": {},
   "outputs": [],
   "source": []
  }
 ],
 "metadata": {
  "kernelspec": {
   "display_name": "Python 3 (ipykernel)",
   "language": "python",
   "name": "python3"
  },
  "language_info": {
   "codemirror_mode": {
    "name": "ipython",
    "version": 3
   },
   "file_extension": ".py",
   "mimetype": "text/x-python",
   "name": "python",
   "nbconvert_exporter": "python",
   "pygments_lexer": "ipython3",
   "version": "3.11.3"
  }
 },
 "nbformat": 4,
 "nbformat_minor": 5
}
