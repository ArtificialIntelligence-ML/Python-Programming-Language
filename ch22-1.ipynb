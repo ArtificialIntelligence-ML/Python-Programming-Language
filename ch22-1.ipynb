{
 "cells": [
  {
   "cell_type": "markdown",
   "id": "44b3676c-4ad9-40cf-86b6-337c4895ba01",
   "metadata": {},
   "source": [
    "# Data Structures and Algorithms"
   ]
  },
  {
   "cell_type": "code",
   "execution_count": 2,
   "id": "b7d2df30-c689-42f9-8e37-dd948af7fa89",
   "metadata": {
    "tags": []
   },
   "outputs": [],
   "source": [
    "a = (5, 12, 35)"
   ]
  },
  {
   "cell_type": "code",
   "execution_count": 3,
   "id": "d7650032-f6e6-447d-bdcd-bade33dcb72c",
   "metadata": {
    "tags": []
   },
   "outputs": [],
   "source": [
    "a1, a2, a3 = a"
   ]
  },
  {
   "cell_type": "code",
   "execution_count": 4,
   "id": "05f9c49b-8d4d-49f2-9129-823356b8f10b",
   "metadata": {
    "tags": []
   },
   "outputs": [
    {
     "data": {
      "text/plain": [
       "5"
      ]
     },
     "execution_count": 4,
     "metadata": {},
     "output_type": "execute_result"
    }
   ],
   "source": [
    "a1"
   ]
  },
  {
   "cell_type": "code",
   "execution_count": 5,
   "id": "86032603-0c30-44d4-8de4-9d22f73899c3",
   "metadata": {
    "tags": []
   },
   "outputs": [
    {
     "data": {
      "text/plain": [
       "12"
      ]
     },
     "execution_count": 5,
     "metadata": {},
     "output_type": "execute_result"
    }
   ],
   "source": [
    "a2"
   ]
  },
  {
   "cell_type": "code",
   "execution_count": 6,
   "id": "18c33f29-6edf-4fad-b9c1-3c1adf45e989",
   "metadata": {
    "tags": []
   },
   "outputs": [
    {
     "data": {
      "text/plain": [
       "35"
      ]
     },
     "execution_count": 6,
     "metadata": {},
     "output_type": "execute_result"
    }
   ],
   "source": [
    "a3"
   ]
  },
  {
   "cell_type": "code",
   "execution_count": 7,
   "id": "c8a820bc-8cad-4ddf-ae58-884fe9dd011a",
   "metadata": {
    "tags": []
   },
   "outputs": [],
   "source": [
    "b = (2, 4, 6, 8)"
   ]
  },
  {
   "cell_type": "code",
   "execution_count": 8,
   "id": "58f59e70-6c49-425b-8964-71df5a03175a",
   "metadata": {
    "tags": []
   },
   "outputs": [
    {
     "ename": "ValueError",
     "evalue": "too many values to unpack (expected 2)",
     "output_type": "error",
     "traceback": [
      "\u001b[1;31m---------------------------------------------------------------------------\u001b[0m",
      "\u001b[1;31mValueError\u001b[0m                                Traceback (most recent call last)",
      "Cell \u001b[1;32mIn[8], line 1\u001b[0m\n\u001b[1;32m----> 1\u001b[0m b1 , b2 \u001b[38;5;241m=\u001b[39m b\n",
      "\u001b[1;31mValueError\u001b[0m: too many values to unpack (expected 2)"
     ]
    }
   ],
   "source": [
    "b1 , b2 = b"
   ]
  },
  {
   "cell_type": "code",
   "execution_count": 9,
   "id": "62a62166-0b03-462c-92eb-30a6ad27e330",
   "metadata": {
    "tags": []
   },
   "outputs": [
    {
     "ename": "ValueError",
     "evalue": "not enough values to unpack (expected 5, got 4)",
     "output_type": "error",
     "traceback": [
      "\u001b[1;31m---------------------------------------------------------------------------\u001b[0m",
      "\u001b[1;31mValueError\u001b[0m                                Traceback (most recent call last)",
      "Cell \u001b[1;32mIn[9], line 1\u001b[0m\n\u001b[1;32m----> 1\u001b[0m b1, b2, b3, b4, b5 \u001b[38;5;241m=\u001b[39m b\n",
      "\u001b[1;31mValueError\u001b[0m: not enough values to unpack (expected 5, got 4)"
     ]
    }
   ],
   "source": [
    "b1, b2, b3, b4, b5 = b"
   ]
  },
  {
   "cell_type": "code",
   "execution_count": 10,
   "id": "140d2a40-9dc4-46e3-a38b-8c46ef304111",
   "metadata": {
    "tags": []
   },
   "outputs": [],
   "source": [
    "b1, b2, b3, b4 = b"
   ]
  },
  {
   "cell_type": "code",
   "execution_count": 11,
   "id": "ec522df9-3b16-40e8-a4b9-54a4f9afa4db",
   "metadata": {
    "tags": []
   },
   "outputs": [],
   "source": [
    "L = ['Udemy', 33, 12.9, (12, 25, 7)]"
   ]
  },
  {
   "cell_type": "code",
   "execution_count": 12,
   "id": "e750aa2d-f2bd-4426-9cb3-0b7ea50f9dbe",
   "metadata": {
    "tags": []
   },
   "outputs": [
    {
     "data": {
      "text/plain": [
       "'Udemy'"
      ]
     },
     "execution_count": 12,
     "metadata": {},
     "output_type": "execute_result"
    }
   ],
   "source": [
    "L[0]"
   ]
  },
  {
   "cell_type": "code",
   "execution_count": 13,
   "id": "d84c15e0-6fc2-4b6e-9b37-f754e9c43dbd",
   "metadata": {
    "tags": []
   },
   "outputs": [],
   "source": [
    "s, i, f, t = L"
   ]
  },
  {
   "cell_type": "code",
   "execution_count": 14,
   "id": "59209053-765c-464f-9be8-d09ae31a4d4d",
   "metadata": {
    "tags": []
   },
   "outputs": [
    {
     "data": {
      "text/plain": [
       "'Udemy'"
      ]
     },
     "execution_count": 14,
     "metadata": {},
     "output_type": "execute_result"
    }
   ],
   "source": [
    "s"
   ]
  },
  {
   "cell_type": "code",
   "execution_count": 15,
   "id": "da5e706c-dbe4-48e9-a8a1-e4488796bd52",
   "metadata": {
    "tags": []
   },
   "outputs": [
    {
     "data": {
      "text/plain": [
       "33"
      ]
     },
     "execution_count": 15,
     "metadata": {},
     "output_type": "execute_result"
    }
   ],
   "source": [
    "i"
   ]
  },
  {
   "cell_type": "code",
   "execution_count": 16,
   "id": "c5c6c32f-122c-48af-9fa7-efa91c8c968b",
   "metadata": {
    "tags": []
   },
   "outputs": [
    {
     "data": {
      "text/plain": [
       "12.9"
      ]
     },
     "execution_count": 16,
     "metadata": {},
     "output_type": "execute_result"
    }
   ],
   "source": [
    "f"
   ]
  },
  {
   "cell_type": "code",
   "execution_count": 17,
   "id": "aa118259-1d92-4bb0-b142-e9a667f4b9ed",
   "metadata": {
    "tags": []
   },
   "outputs": [
    {
     "data": {
      "text/plain": [
       "(12, 25, 7)"
      ]
     },
     "execution_count": 17,
     "metadata": {},
     "output_type": "execute_result"
    }
   ],
   "source": [
    "t"
   ]
  },
  {
   "cell_type": "code",
   "execution_count": 18,
   "id": "227675fd-5237-4465-b489-4d9a3b5ea479",
   "metadata": {
    "tags": []
   },
   "outputs": [],
   "source": [
    "s, i, f, (t0, t1, t2) = L"
   ]
  },
  {
   "cell_type": "code",
   "execution_count": 19,
   "id": "d390a66a-c6c6-449a-aae0-a0d2780ec83c",
   "metadata": {
    "tags": []
   },
   "outputs": [
    {
     "data": {
      "text/plain": [
       "'Udemy'"
      ]
     },
     "execution_count": 19,
     "metadata": {},
     "output_type": "execute_result"
    }
   ],
   "source": [
    "s"
   ]
  },
  {
   "cell_type": "code",
   "execution_count": 20,
   "id": "2eca1e47-6258-4c8c-8c53-2e8f2de027d7",
   "metadata": {
    "tags": []
   },
   "outputs": [
    {
     "data": {
      "text/plain": [
       "33"
      ]
     },
     "execution_count": 20,
     "metadata": {},
     "output_type": "execute_result"
    }
   ],
   "source": [
    "i"
   ]
  },
  {
   "cell_type": "code",
   "execution_count": 21,
   "id": "3e00db86-82bc-40be-9455-5a991aceb546",
   "metadata": {
    "tags": []
   },
   "outputs": [
    {
     "data": {
      "text/plain": [
       "12.9"
      ]
     },
     "execution_count": 21,
     "metadata": {},
     "output_type": "execute_result"
    }
   ],
   "source": [
    "f"
   ]
  },
  {
   "cell_type": "code",
   "execution_count": 22,
   "id": "0fcf8ddd-ac81-4116-806b-8dc987131a23",
   "metadata": {
    "tags": []
   },
   "outputs": [
    {
     "data": {
      "text/plain": [
       "12"
      ]
     },
     "execution_count": 22,
     "metadata": {},
     "output_type": "execute_result"
    }
   ],
   "source": [
    "t0"
   ]
  },
  {
   "cell_type": "code",
   "execution_count": 23,
   "id": "fa97ff1e-65cf-480b-b6dc-d41b30142872",
   "metadata": {
    "tags": []
   },
   "outputs": [
    {
     "data": {
      "text/plain": [
       "25"
      ]
     },
     "execution_count": 23,
     "metadata": {},
     "output_type": "execute_result"
    }
   ],
   "source": [
    "t1"
   ]
  },
  {
   "cell_type": "code",
   "execution_count": 24,
   "id": "1596b519-39c3-4656-a3ce-f4e31352b224",
   "metadata": {
    "tags": []
   },
   "outputs": [
    {
     "data": {
      "text/plain": [
       "7"
      ]
     },
     "execution_count": 24,
     "metadata": {},
     "output_type": "execute_result"
    }
   ],
   "source": [
    "t2"
   ]
  },
  {
   "cell_type": "code",
   "execution_count": 25,
   "id": "20beb986-231e-4e1c-bb5f-fe08201fb5d5",
   "metadata": {
    "tags": []
   },
   "outputs": [],
   "source": [
    "s = 'hello'"
   ]
  },
  {
   "cell_type": "code",
   "execution_count": 26,
   "id": "81f2e2e8-80f6-4235-b323-cf47580bfdb7",
   "metadata": {
    "tags": []
   },
   "outputs": [],
   "source": [
    "s1, s2, s3, s4, s5 = s"
   ]
  },
  {
   "cell_type": "code",
   "execution_count": 27,
   "id": "78a2a990-9978-4f74-8a7a-bbac2b5c197f",
   "metadata": {
    "tags": []
   },
   "outputs": [
    {
     "data": {
      "text/plain": [
       "'h'"
      ]
     },
     "execution_count": 27,
     "metadata": {},
     "output_type": "execute_result"
    }
   ],
   "source": [
    "s1"
   ]
  },
  {
   "cell_type": "code",
   "execution_count": 28,
   "id": "872546b5-3300-4b07-bfc8-ed8d0cda853f",
   "metadata": {
    "tags": []
   },
   "outputs": [
    {
     "data": {
      "text/plain": [
       "'e'"
      ]
     },
     "execution_count": 28,
     "metadata": {},
     "output_type": "execute_result"
    }
   ],
   "source": [
    "s2"
   ]
  },
  {
   "cell_type": "code",
   "execution_count": 29,
   "id": "364e1955-a408-4a38-8af3-5f90de3587cc",
   "metadata": {
    "tags": []
   },
   "outputs": [
    {
     "data": {
      "text/plain": [
       "'l'"
      ]
     },
     "execution_count": 29,
     "metadata": {},
     "output_type": "execute_result"
    }
   ],
   "source": [
    "s3"
   ]
  },
  {
   "cell_type": "code",
   "execution_count": 30,
   "id": "6debe44b-0183-46b8-aa36-1f3cda04466b",
   "metadata": {
    "tags": []
   },
   "outputs": [
    {
     "data": {
      "text/plain": [
       "'l'"
      ]
     },
     "execution_count": 30,
     "metadata": {},
     "output_type": "execute_result"
    }
   ],
   "source": [
    "s4"
   ]
  },
  {
   "cell_type": "code",
   "execution_count": 31,
   "id": "63d80af6-afdb-4835-ace6-21fdce3f9628",
   "metadata": {
    "tags": []
   },
   "outputs": [
    {
     "data": {
      "text/plain": [
       "'o'"
      ]
     },
     "execution_count": 31,
     "metadata": {},
     "output_type": "execute_result"
    }
   ],
   "source": [
    "s5"
   ]
  },
  {
   "cell_type": "code",
   "execution_count": 32,
   "id": "4ea82428-ca72-48ae-839b-ec9a6e3b3b00",
   "metadata": {
    "tags": []
   },
   "outputs": [
    {
     "data": {
      "text/plain": [
       "['Udemy', 33, 12.9, (12, 25, 7)]"
      ]
     },
     "execution_count": 32,
     "metadata": {},
     "output_type": "execute_result"
    }
   ],
   "source": [
    "L"
   ]
  },
  {
   "cell_type": "code",
   "execution_count": 33,
   "id": "45a603ec-8653-4db7-b033-30da8e875a37",
   "metadata": {
    "tags": []
   },
   "outputs": [],
   "source": [
    "s, _, _, t = L"
   ]
  },
  {
   "cell_type": "code",
   "execution_count": 34,
   "id": "4a76904d-f258-444b-a05b-6a4b3d1d2813",
   "metadata": {
    "tags": []
   },
   "outputs": [
    {
     "data": {
      "text/plain": [
       "'Udemy'"
      ]
     },
     "execution_count": 34,
     "metadata": {},
     "output_type": "execute_result"
    }
   ],
   "source": [
    "s"
   ]
  },
  {
   "cell_type": "code",
   "execution_count": 35,
   "id": "b2e086eb-d5f8-4158-a2b0-2fc200a30cda",
   "metadata": {
    "tags": []
   },
   "outputs": [
    {
     "data": {
      "text/plain": [
       "(12, 25, 7)"
      ]
     },
     "execution_count": 35,
     "metadata": {},
     "output_type": "execute_result"
    }
   ],
   "source": [
    "t"
   ]
  },
  {
   "cell_type": "markdown",
   "id": "d9f42002-d05c-455e-b82d-d386ce7df5f8",
   "metadata": {},
   "source": [
    "# Extracting elements from iterable with arbitrary length"
   ]
  },
  {
   "cell_type": "code",
   "execution_count": 36,
   "id": "846bd27b-dc49-4a56-80b5-10f59a5e2c46",
   "metadata": {
    "tags": []
   },
   "outputs": [],
   "source": [
    "G = [2, 4, 5, 3, 2, 1, 4, 3, 1, 2, 4, 5, 5, 2, 3, 1, 2, 4, 3, 5]"
   ]
  },
  {
   "cell_type": "code",
   "execution_count": 37,
   "id": "265c082e-8ae9-43b0-8a56-ec44c1f3a4d4",
   "metadata": {
    "tags": []
   },
   "outputs": [],
   "source": [
    "first, *middle, last = G"
   ]
  },
  {
   "cell_type": "code",
   "execution_count": 38,
   "id": "e4ddb1b4-b174-4cd4-8db2-5fbe0435bdb5",
   "metadata": {
    "tags": []
   },
   "outputs": [
    {
     "data": {
      "text/plain": [
       "2"
      ]
     },
     "execution_count": 38,
     "metadata": {},
     "output_type": "execute_result"
    }
   ],
   "source": [
    "first"
   ]
  },
  {
   "cell_type": "code",
   "execution_count": 39,
   "id": "7f087ac9-1c8e-4aa7-8ecb-911fa85d4356",
   "metadata": {
    "tags": []
   },
   "outputs": [
    {
     "data": {
      "text/plain": [
       "5"
      ]
     },
     "execution_count": 39,
     "metadata": {},
     "output_type": "execute_result"
    }
   ],
   "source": [
    "last"
   ]
  },
  {
   "cell_type": "code",
   "execution_count": 40,
   "id": "b488cdcd-bf3f-47b7-a68e-32f978de700e",
   "metadata": {
    "tags": []
   },
   "outputs": [
    {
     "data": {
      "text/plain": [
       "[4, 5, 3, 2, 1, 4, 3, 1, 2, 4, 5, 5, 2, 3, 1, 2, 4, 3]"
      ]
     },
     "execution_count": 40,
     "metadata": {},
     "output_type": "execute_result"
    }
   ],
   "source": [
    "middle"
   ]
  },
  {
   "cell_type": "code",
   "execution_count": 41,
   "id": "f18cbcd1-fc77-4d49-a267-51822fa1e33c",
   "metadata": {
    "tags": []
   },
   "outputs": [
    {
     "data": {
      "text/plain": [
       "18"
      ]
     },
     "execution_count": 41,
     "metadata": {},
     "output_type": "execute_result"
    }
   ],
   "source": [
    "len(middle)"
   ]
  },
  {
   "cell_type": "code",
   "execution_count": 43,
   "id": "1a819927-11af-4a7c-9762-ecdbd0cd58e7",
   "metadata": {
    "tags": []
   },
   "outputs": [],
   "source": [
    "def avg_mid(grades):\n",
    "    _, *middle, _ = grades\n",
    "    return sum(middle) / len(middle)"
   ]
  },
  {
   "cell_type": "code",
   "execution_count": 44,
   "id": "ea3c6b82-8443-4142-b059-3e5f13d47374",
   "metadata": {
    "tags": []
   },
   "outputs": [
    {
     "data": {
      "text/plain": [
       "3.0"
      ]
     },
     "execution_count": 44,
     "metadata": {},
     "output_type": "execute_result"
    }
   ],
   "source": [
    "avg_mid(G)"
   ]
  },
  {
   "cell_type": "code",
   "execution_count": null,
   "id": "80777302-aa20-4893-a97d-3a8a9004f4a7",
   "metadata": {},
   "outputs": [],
   "source": []
  }
 ],
 "metadata": {
  "kernelspec": {
   "display_name": "Python 3 (ipykernel)",
   "language": "python",
   "name": "python3"
  },
  "language_info": {
   "codemirror_mode": {
    "name": "ipython",
    "version": 3
   },
   "file_extension": ".py",
   "mimetype": "text/x-python",
   "name": "python",
   "nbconvert_exporter": "python",
   "pygments_lexer": "ipython3",
   "version": "3.11.3"
  }
 },
 "nbformat": 4,
 "nbformat_minor": 5
}
