{
 "cells": [
  {
   "cell_type": "markdown",
   "id": "3f5bf03a-263f-4914-be92-7377d79e48d8",
   "metadata": {},
   "source": [
    "# Aligning text strings"
   ]
  },
  {
   "cell_type": "code",
   "execution_count": 1,
   "id": "34d9af38-e910-426c-9dae-f2f114c4fb6c",
   "metadata": {
    "tags": []
   },
   "outputs": [],
   "source": [
    "t = 'Ghazal Lalooha'"
   ]
  },
  {
   "cell_type": "code",
   "execution_count": 2,
   "id": "6d407b7b-fbfb-4a80-a6d5-194145ac2e93",
   "metadata": {
    "tags": []
   },
   "outputs": [
    {
     "data": {
      "text/plain": [
       "'Ghazal Lalooha'"
      ]
     },
     "execution_count": 2,
     "metadata": {},
     "output_type": "execute_result"
    }
   ],
   "source": [
    "t.ljust(10)"
   ]
  },
  {
   "cell_type": "code",
   "execution_count": 3,
   "id": "8991da94-cbf4-4c68-9e08-d980ff45da2d",
   "metadata": {
    "tags": []
   },
   "outputs": [
    {
     "data": {
      "text/plain": [
       "'Ghazal Lalooha      '"
      ]
     },
     "execution_count": 3,
     "metadata": {},
     "output_type": "execute_result"
    }
   ],
   "source": [
    "t.ljust(20)"
   ]
  },
  {
   "cell_type": "code",
   "execution_count": 4,
   "id": "991054cb-99a0-466f-b643-05e1c1df11f6",
   "metadata": {
    "tags": []
   },
   "outputs": [
    {
     "data": {
      "text/plain": [
       "14"
      ]
     },
     "execution_count": 4,
     "metadata": {},
     "output_type": "execute_result"
    }
   ],
   "source": [
    "len(t)"
   ]
  },
  {
   "cell_type": "code",
   "execution_count": 5,
   "id": "7e27abae-79b9-41ff-8423-a80b9649995b",
   "metadata": {
    "tags": []
   },
   "outputs": [
    {
     "data": {
      "text/plain": [
       "'      Ghazal Lalooha'"
      ]
     },
     "execution_count": 5,
     "metadata": {},
     "output_type": "execute_result"
    }
   ],
   "source": [
    "t.rjust(20)"
   ]
  },
  {
   "cell_type": "code",
   "execution_count": 6,
   "id": "ad0bcb19-0bde-4c58-b179-52aeb1fe45a6",
   "metadata": {
    "tags": []
   },
   "outputs": [
    {
     "data": {
      "text/plain": [
       "'   Ghazal Lalooha   '"
      ]
     },
     "execution_count": 6,
     "metadata": {},
     "output_type": "execute_result"
    }
   ],
   "source": [
    "t.center(20)"
   ]
  },
  {
   "cell_type": "code",
   "execution_count": 7,
   "id": "e972c04e-5349-4121-ba1d-e3ea706b84e6",
   "metadata": {
    "tags": []
   },
   "outputs": [
    {
     "data": {
      "text/plain": [
       "'                                 Ghazal Lalooha                                 '"
      ]
     },
     "execution_count": 7,
     "metadata": {},
     "output_type": "execute_result"
    }
   ],
   "source": [
    "t.center(80)"
   ]
  },
  {
   "cell_type": "code",
   "execution_count": 8,
   "id": "2241393b-f317-407c-bef7-7c301c7374ce",
   "metadata": {
    "tags": []
   },
   "outputs": [
    {
     "data": {
      "text/plain": [
       "'******Ghazal Lalooha'"
      ]
     },
     "execution_count": 8,
     "metadata": {},
     "output_type": "execute_result"
    }
   ],
   "source": [
    "t.rjust(20, '*')"
   ]
  },
  {
   "cell_type": "code",
   "execution_count": 9,
   "id": "2303bcca-d085-400a-aa4a-4db5f84b8154",
   "metadata": {
    "tags": []
   },
   "outputs": [
    {
     "data": {
      "text/plain": [
       "'@@@@@@@@Ghazal Lalooha@@@@@@@@'"
      ]
     },
     "execution_count": 9,
     "metadata": {},
     "output_type": "execute_result"
    }
   ],
   "source": [
    "t.center(30, '@')"
   ]
  },
  {
   "cell_type": "code",
   "execution_count": 10,
   "id": "a3d5aad8-d7df-4aaf-9416-967ec631cfbd",
   "metadata": {
    "tags": []
   },
   "outputs": [
    {
     "data": {
      "text/plain": [
       "'Ghazal Lalooha           '"
      ]
     },
     "execution_count": 10,
     "metadata": {},
     "output_type": "execute_result"
    }
   ],
   "source": [
    "format(t, '<25')"
   ]
  },
  {
   "cell_type": "code",
   "execution_count": 11,
   "id": "16152dac-a2b5-43f1-b9e8-dc6513f1db68",
   "metadata": {
    "tags": []
   },
   "outputs": [
    {
     "data": {
      "text/plain": [
       "'           Ghazal Lalooha'"
      ]
     },
     "execution_count": 11,
     "metadata": {},
     "output_type": "execute_result"
    }
   ],
   "source": [
    "format(t, '>25')"
   ]
  },
  {
   "cell_type": "code",
   "execution_count": 12,
   "id": "7b813825-00fd-4518-88da-f881cee9114f",
   "metadata": {
    "tags": []
   },
   "outputs": [
    {
     "data": {
      "text/plain": [
       "'     Ghazal Lalooha      '"
      ]
     },
     "execution_count": 12,
     "metadata": {},
     "output_type": "execute_result"
    }
   ],
   "source": [
    "format(t, '^25')"
   ]
  },
  {
   "cell_type": "code",
   "execution_count": 13,
   "id": "ec6daccb-7814-4488-bca1-be6e04976023",
   "metadata": {
    "tags": []
   },
   "outputs": [
    {
     "data": {
      "text/plain": [
       "'88888Ghazal Lalooha888888'"
      ]
     },
     "execution_count": 13,
     "metadata": {},
     "output_type": "execute_result"
    }
   ],
   "source": [
    "format(t, '8^25')"
   ]
  },
  {
   "cell_type": "code",
   "execution_count": 14,
   "id": "2a7a9095-b496-49e2-8e83-c66e6068900e",
   "metadata": {
    "tags": []
   },
   "outputs": [
    {
     "data": {
      "text/plain": [
       "'88888Ghazal Lalooha888888'"
      ]
     },
     "execution_count": 14,
     "metadata": {},
     "output_type": "execute_result"
    }
   ],
   "source": [
    "format(t, '8^25s')"
   ]
  },
  {
   "cell_type": "code",
   "execution_count": 15,
   "id": "574385ad-abce-40cc-9f30-5e74e2db386b",
   "metadata": {
    "tags": []
   },
   "outputs": [
    {
     "data": {
      "text/plain": [
       "'hello hi'"
      ]
     },
     "execution_count": 15,
     "metadata": {},
     "output_type": "execute_result"
    }
   ],
   "source": [
    "'{} {}'.format('hello', 'hi')"
   ]
  },
  {
   "cell_type": "code",
   "execution_count": 16,
   "id": "c4b105a0-bad9-4d85-b315-e99a0f4126a6",
   "metadata": {
    "tags": []
   },
   "outputs": [
    {
     "data": {
      "text/plain": [
       "'     hello         hi'"
      ]
     },
     "execution_count": 16,
     "metadata": {},
     "output_type": "execute_result"
    }
   ],
   "source": [
    "'{:>10s} {:>10s}'.format('hello', 'hi')"
   ]
  },
  {
   "cell_type": "code",
   "execution_count": 19,
   "id": "cf25a457-726d-4423-968a-a4caeaf5f8d3",
   "metadata": {
    "tags": []
   },
   "outputs": [
    {
     "data": {
      "text/plain": [
       "'            hello                            hi              '"
      ]
     },
     "execution_count": 19,
     "metadata": {},
     "output_type": "execute_result"
    }
   ],
   "source": [
    "'{:^30s} {:^30s}'.format('hello', 'hi')"
   ]
  },
  {
   "cell_type": "code",
   "execution_count": 20,
   "id": "1552324e-1cc7-45e7-8e55-106e2c8502dc",
   "metadata": {
    "tags": []
   },
   "outputs": [
    {
     "data": {
      "text/plain": [
       "'        Ghazal Lalooha                       hi              '"
      ]
     },
     "execution_count": 20,
     "metadata": {},
     "output_type": "execute_result"
    }
   ],
   "source": [
    "'{:^30s} {:^30s}'.format(t, 'hi')"
   ]
  },
  {
   "cell_type": "code",
   "execution_count": 22,
   "id": "61f0c6aa-43c0-4c16-90dc-2a9ff72698e9",
   "metadata": {
    "tags": []
   },
   "outputs": [],
   "source": [
    "x = 141.123486"
   ]
  },
  {
   "cell_type": "code",
   "execution_count": 23,
   "id": "b8f03202-8ba3-48a8-a572-38cdd7c2e39f",
   "metadata": {
    "tags": []
   },
   "outputs": [
    {
     "data": {
      "text/plain": [
       "'     141.123486'"
      ]
     },
     "execution_count": 23,
     "metadata": {},
     "output_type": "execute_result"
    }
   ],
   "source": [
    "format(x, '>15')"
   ]
  },
  {
   "cell_type": "code",
   "execution_count": 24,
   "id": "c36e8fef-1e87-44e6-a4a5-56c712e23cb7",
   "metadata": {
    "tags": []
   },
   "outputs": [
    {
     "data": {
      "text/plain": [
       "'    141.123    '"
      ]
     },
     "execution_count": 24,
     "metadata": {},
     "output_type": "execute_result"
    }
   ],
   "source": [
    "format(x, '^15.3f')"
   ]
  },
  {
   "cell_type": "code",
   "execution_count": 25,
   "id": "ca12f9f7-0200-4b50-bd37-a805abd9039f",
   "metadata": {
    "tags": []
   },
   "outputs": [
    {
     "data": {
      "text/plain": [
       "'Ghazal Lalooha'"
      ]
     },
     "execution_count": 25,
     "metadata": {},
     "output_type": "execute_result"
    }
   ],
   "source": [
    "'%s' %t"
   ]
  },
  {
   "cell_type": "code",
   "execution_count": 26,
   "id": "a65f69c7-fb14-4093-94b0-224f4b395710",
   "metadata": {
    "tags": []
   },
   "outputs": [
    {
     "data": {
      "text/plain": [
       "'      Ghazal Lalooha'"
      ]
     },
     "execution_count": 26,
     "metadata": {},
     "output_type": "execute_result"
    }
   ],
   "source": [
    "'%20s' %t"
   ]
  },
  {
   "cell_type": "code",
   "execution_count": 27,
   "id": "7260046d-bc9f-47b9-bdb9-58d67575a960",
   "metadata": {
    "tags": []
   },
   "outputs": [
    {
     "data": {
      "text/plain": [
       "'Ghazal Lalooha      '"
      ]
     },
     "execution_count": 27,
     "metadata": {},
     "output_type": "execute_result"
    }
   ],
   "source": [
    "'%-20s' %t"
   ]
  },
  {
   "cell_type": "markdown",
   "id": "cb4da9d1-b2e9-472c-8e81-fe192550f5c5",
   "metadata": {},
   "source": [
    "# Combination and connection of strings"
   ]
  },
  {
   "cell_type": "code",
   "execution_count": 28,
   "id": "b2a0882d-aad9-4e7c-952b-a9c7ba216e75",
   "metadata": {
    "tags": []
   },
   "outputs": [],
   "source": [
    "ls = ['I', 'am', 'interested', 'in', 'python']"
   ]
  },
  {
   "cell_type": "code",
   "execution_count": 29,
   "id": "cd45c0fe-49ce-46f8-b1b2-ab96c1100e43",
   "metadata": {
    "tags": []
   },
   "outputs": [
    {
     "data": {
      "text/plain": [
       "'Iaminterestedinpython'"
      ]
     },
     "execution_count": 29,
     "metadata": {},
     "output_type": "execute_result"
    }
   ],
   "source": [
    "''.join(ls)"
   ]
  },
  {
   "cell_type": "code",
   "execution_count": 30,
   "id": "d0bf5b93-89ac-4aba-a57c-73496268abb7",
   "metadata": {
    "tags": []
   },
   "outputs": [
    {
     "data": {
      "text/plain": [
       "'I am interested in python'"
      ]
     },
     "execution_count": 30,
     "metadata": {},
     "output_type": "execute_result"
    }
   ],
   "source": [
    "' '.join(ls)"
   ]
  },
  {
   "cell_type": "code",
   "execution_count": 31,
   "id": "f62db363-d79e-47ee-a8be-de5c21410c55",
   "metadata": {
    "tags": []
   },
   "outputs": [
    {
     "data": {
      "text/plain": [
       "'I, am, interested, in, python'"
      ]
     },
     "execution_count": 31,
     "metadata": {},
     "output_type": "execute_result"
    }
   ],
   "source": [
    "', '.join(ls)"
   ]
  },
  {
   "cell_type": "code",
   "execution_count": 32,
   "id": "fb991618-f5ec-4724-9478-d039b9a9fdf7",
   "metadata": {
    "tags": []
   },
   "outputs": [],
   "source": [
    "a = [1, 2, 3, 4, 5]"
   ]
  },
  {
   "cell_type": "code",
   "execution_count": 33,
   "id": "48fc8d8c-80ba-425f-b802-7ca3d6cdb570",
   "metadata": {
    "tags": []
   },
   "outputs": [
    {
     "ename": "TypeError",
     "evalue": "sequence item 0: expected str instance, int found",
     "output_type": "error",
     "traceback": [
      "\u001b[1;31m---------------------------------------------------------------------------\u001b[0m",
      "\u001b[1;31mTypeError\u001b[0m                                 Traceback (most recent call last)",
      "Cell \u001b[1;32mIn[33], line 1\u001b[0m\n\u001b[1;32m----> 1\u001b[0m \u001b[38;5;124m'\u001b[39m\u001b[38;5;124m \u001b[39m\u001b[38;5;124m'\u001b[39m\u001b[38;5;241m.\u001b[39mjoin(a)\n",
      "\u001b[1;31mTypeError\u001b[0m: sequence item 0: expected str instance, int found"
     ]
    }
   ],
   "source": [
    "' '.join(a)"
   ]
  },
  {
   "cell_type": "code",
   "execution_count": 34,
   "id": "a2661d42-52cd-43b5-a16c-c333d72cafe3",
   "metadata": {
    "tags": []
   },
   "outputs": [],
   "source": [
    "a = ['1', '2', '3', '4', '5']"
   ]
  },
  {
   "cell_type": "code",
   "execution_count": 35,
   "id": "6ac1c7a4-ed78-4fa6-8a67-44ca68306b68",
   "metadata": {
    "tags": []
   },
   "outputs": [
    {
     "data": {
      "text/plain": [
       "'1 2 3 4 5'"
      ]
     },
     "execution_count": 35,
     "metadata": {},
     "output_type": "execute_result"
    }
   ],
   "source": [
    "' '.join(a)"
   ]
  },
  {
   "cell_type": "code",
   "execution_count": 36,
   "id": "f29dd0af-a41d-411e-9f0b-62e5ee6ae862",
   "metadata": {
    "tags": []
   },
   "outputs": [],
   "source": [
    "a = 'I love'"
   ]
  },
  {
   "cell_type": "code",
   "execution_count": 37,
   "id": "f6cba289-df2c-4c45-9391-16d88e07ae7c",
   "metadata": {
    "tags": []
   },
   "outputs": [],
   "source": [
    "b = 'python programming.'"
   ]
  },
  {
   "cell_type": "code",
   "execution_count": 38,
   "id": "655e271b-d104-4521-94c8-4445045efb9c",
   "metadata": {
    "tags": []
   },
   "outputs": [
    {
     "data": {
      "text/plain": [
       "'I lovepython programming.'"
      ]
     },
     "execution_count": 38,
     "metadata": {},
     "output_type": "execute_result"
    }
   ],
   "source": [
    "a + b"
   ]
  },
  {
   "cell_type": "code",
   "execution_count": 39,
   "id": "1d9c5616-a95a-42f5-97f5-d6f808e91687",
   "metadata": {
    "tags": []
   },
   "outputs": [
    {
     "data": {
      "text/plain": [
       "'I love python programming.'"
      ]
     },
     "execution_count": 39,
     "metadata": {},
     "output_type": "execute_result"
    }
   ],
   "source": [
    "a + ' ' + b"
   ]
  },
  {
   "cell_type": "raw",
   "id": "beb4fa50-2085-4887-9f44-d8528a9ed7a2",
   "metadata": {},
   "source": []
  },
  {
   "cell_type": "code",
   "execution_count": 40,
   "id": "af2e9684-d4bc-47b4-a922-95d66f2946cc",
   "metadata": {
    "tags": []
   },
   "outputs": [
    {
     "name": "stdout",
     "output_type": "stream",
     "text": [
      "I lovepython programming.\n"
     ]
    }
   ],
   "source": [
    "print('{}{}'.format(a,b))"
   ]
  },
  {
   "cell_type": "code",
   "execution_count": 41,
   "id": "25b74366-0f02-453b-892f-a4e330f0a8f8",
   "metadata": {
    "tags": []
   },
   "outputs": [
    {
     "name": "stdout",
     "output_type": "stream",
     "text": [
      "I love python programming.\n"
     ]
    }
   ],
   "source": [
    "print(a + ' ' + b)"
   ]
  },
  {
   "cell_type": "code",
   "execution_count": 42,
   "id": "3ecefb24-e7fd-44fd-aada-4d19e7424c99",
   "metadata": {
    "tags": []
   },
   "outputs": [],
   "source": [
    "a = 'I love''python programming.'"
   ]
  },
  {
   "cell_type": "code",
   "execution_count": 43,
   "id": "d7eeddcf-6dc2-45ed-9883-58bc1fc5a02d",
   "metadata": {
    "tags": []
   },
   "outputs": [
    {
     "data": {
      "text/plain": [
       "'I lovepython programming.'"
      ]
     },
     "execution_count": 43,
     "metadata": {},
     "output_type": "execute_result"
    }
   ],
   "source": [
    "a"
   ]
  },
  {
   "cell_type": "code",
   "execution_count": 41,
   "id": "e2ac8871-b4ab-4810-8bb2-d13cbbf446ee",
   "metadata": {
    "tags": []
   },
   "outputs": [
    {
     "data": {
      "text/plain": [
       "'helloworld'"
      ]
     },
     "execution_count": 41,
     "metadata": {},
     "output_type": "execute_result"
    }
   ],
   "source": [
    "'hello''world'"
   ]
  },
  {
   "cell_type": "code",
   "execution_count": 44,
   "id": "ba520455-d093-49a1-bedf-8777af0209af",
   "metadata": {
    "tags": []
   },
   "outputs": [
    {
     "data": {
      "text/plain": [
       "'I lovepython programming.'"
      ]
     },
     "execution_count": 44,
     "metadata": {},
     "output_type": "execute_result"
    }
   ],
   "source": [
    "a"
   ]
  },
  {
   "cell_type": "code",
   "execution_count": 45,
   "id": "9bb12c31-4b6b-495d-9893-3fc0e465db83",
   "metadata": {
    "tags": []
   },
   "outputs": [],
   "source": [
    "s = ''"
   ]
  },
  {
   "cell_type": "code",
   "execution_count": 46,
   "id": "fe475f06-6bfc-4737-83df-f4f4307fe14a",
   "metadata": {
    "tags": []
   },
   "outputs": [],
   "source": [
    "for i in a:\n",
    "    a += i"
   ]
  },
  {
   "cell_type": "code",
   "execution_count": 47,
   "id": "07167202-d4cc-46cf-83f1-f861bd8f9a2a",
   "metadata": {
    "tags": []
   },
   "outputs": [
    {
     "data": {
      "text/plain": [
       "'I lovepython programming.I lovepython programming.'"
      ]
     },
     "execution_count": 47,
     "metadata": {},
     "output_type": "execute_result"
    }
   ],
   "source": [
    "a"
   ]
  },
  {
   "cell_type": "code",
   "execution_count": 48,
   "id": "cc7b9c7d-4df8-4196-8756-a891158adf2b",
   "metadata": {
    "tags": []
   },
   "outputs": [
    {
     "data": {
      "text/plain": [
       "''"
      ]
     },
     "execution_count": 48,
     "metadata": {},
     "output_type": "execute_result"
    }
   ],
   "source": [
    "s"
   ]
  },
  {
   "cell_type": "code",
   "execution_count": 49,
   "id": "f4583b8e-6547-483e-92c6-a2c23bce9e29",
   "metadata": {
    "tags": []
   },
   "outputs": [],
   "source": [
    "l = [1, 25, 369, 'Udemy']"
   ]
  },
  {
   "cell_type": "code",
   "execution_count": 50,
   "id": "8ac6c0b0-6b67-4682-bff7-f9f9597fe7a1",
   "metadata": {
    "tags": []
   },
   "outputs": [
    {
     "data": {
      "text/plain": [
       "'1,25,369,Udemy'"
      ]
     },
     "execution_count": 50,
     "metadata": {},
     "output_type": "execute_result"
    }
   ],
   "source": [
    "','.join(str(i) for i in l)"
   ]
  },
  {
   "cell_type": "code",
   "execution_count": 51,
   "id": "9f6927c2-8901-4f3a-9e43-e5adb21d51c2",
   "metadata": {
    "tags": []
   },
   "outputs": [],
   "source": [
    "a = 'python'"
   ]
  },
  {
   "cell_type": "code",
   "execution_count": 52,
   "id": "75f01d17-9b46-4243-8097-31cd05e9862e",
   "metadata": {
    "tags": []
   },
   "outputs": [],
   "source": [
    "b = 'programming'"
   ]
  },
  {
   "cell_type": "code",
   "execution_count": 53,
   "id": "2bd1848a-944b-4d7d-a3db-8a954962f83b",
   "metadata": {
    "tags": []
   },
   "outputs": [],
   "source": [
    "c = 'Udemy'"
   ]
  },
  {
   "cell_type": "code",
   "execution_count": 54,
   "id": "24faebe6-4f70-4150-95d5-59a0a8475d52",
   "metadata": {
    "tags": []
   },
   "outputs": [
    {
     "name": "stdout",
     "output_type": "stream",
     "text": [
      "python,programming,Udemy\n"
     ]
    }
   ],
   "source": [
    "print(a + ',' + b + ',' + c)"
   ]
  },
  {
   "cell_type": "code",
   "execution_count": 55,
   "id": "0ce850db-dbea-4d6f-8f85-b1f5f92fd364",
   "metadata": {
    "tags": []
   },
   "outputs": [
    {
     "name": "stdout",
     "output_type": "stream",
     "text": [
      "python,programming,Udemy\n"
     ]
    }
   ],
   "source": [
    "print(','.join([a, b, c]))"
   ]
  },
  {
   "cell_type": "code",
   "execution_count": 56,
   "id": "3dd9abe2-d766-4ec7-902f-57a360c820de",
   "metadata": {
    "tags": []
   },
   "outputs": [
    {
     "name": "stdout",
     "output_type": "stream",
     "text": [
      "python,programming,Udemy\n"
     ]
    }
   ],
   "source": [
    "print(a, b, c, sep = ',')"
   ]
  },
  {
   "cell_type": "code",
   "execution_count": 57,
   "id": "9264b1d5-abc4-4354-bcd1-d74154d33c02",
   "metadata": {
    "tags": []
   },
   "outputs": [
    {
     "name": "stdout",
     "output_type": "stream",
     "text": [
      "python:programming:Udemy\n"
     ]
    }
   ],
   "source": [
    "print(a, b, c, sep = ':')"
   ]
  },
  {
   "cell_type": "code",
   "execution_count": 58,
   "id": "2b06f4b4-217d-42c0-957e-213eea6f4223",
   "metadata": {
    "tags": []
   },
   "outputs": [
    {
     "name": "stdout",
     "output_type": "stream",
     "text": [
      "python*programming*Udemy\n"
     ]
    }
   ],
   "source": [
    "print(a, b, c, sep = '*')"
   ]
  },
  {
   "cell_type": "code",
   "execution_count": 65,
   "id": "be328deb-c54b-4357-9407-90e602c416e8",
   "metadata": {
    "tags": []
   },
   "outputs": [],
   "source": [
    "#with open (filenmae, 'w') as f:\n",
    "#   f.write()\n"
   ]
  },
  {
   "cell_type": "code",
   "execution_count": 67,
   "id": "b521da38-3e6c-4532-9b00-a88d52599599",
   "metadata": {
    "tags": []
   },
   "outputs": [],
   "source": [
    "#f.write(part1 + part2)\n",
    "\n",
    "\n",
    "#---------\n",
    "#f.write(part1)\n",
    "#f.write(part2)"
   ]
  },
  {
   "cell_type": "code",
   "execution_count": 59,
   "id": "a806a9dc-ec07-4468-9400-1de2995f2898",
   "metadata": {
    "tags": []
   },
   "outputs": [],
   "source": [
    "def gen_st():\n",
    "    yield 'I'\n",
    "    yield 'love'\n",
    "    yield 'python'\n",
    "    yield 'programming'\n",
    "    "
   ]
  },
  {
   "cell_type": "code",
   "execution_count": 60,
   "id": "a808d616-d33a-486f-87c1-3c067ffa122d",
   "metadata": {
    "tags": []
   },
   "outputs": [
    {
     "data": {
      "text/plain": [
       "'Ilovepythonprogramming'"
      ]
     },
     "execution_count": 60,
     "metadata": {},
     "output_type": "execute_result"
    }
   ],
   "source": [
    "''.join(gen_st())"
   ]
  },
  {
   "cell_type": "code",
   "execution_count": 59,
   "id": "997264dc-3108-4ab3-968e-d5a0813a1db6",
   "metadata": {
    "tags": []
   },
   "outputs": [],
   "source": [
    "#for st in gen_St():\n",
    "#   f.write(st)"
   ]
  },
  {
   "cell_type": "markdown",
   "id": "b5abedbb-7314-473e-8fa2-f3b15fe91341",
   "metadata": {},
   "source": [
    "# Entering variables into strings"
   ]
  },
  {
   "cell_type": "code",
   "execution_count": 61,
   "id": "f32f654a-156b-4d6d-b9b3-166a14305388",
   "metadata": {
    "tags": []
   },
   "outputs": [],
   "source": [
    "s = '{name} is {num} years old.'"
   ]
  },
  {
   "cell_type": "code",
   "execution_count": 62,
   "id": "a6f1191f-193b-4fd1-9147-84f27fc330f7",
   "metadata": {
    "tags": []
   },
   "outputs": [
    {
     "data": {
      "text/plain": [
       "'Ghazal is 31 years old.'"
      ]
     },
     "execution_count": 62,
     "metadata": {},
     "output_type": "execute_result"
    }
   ],
   "source": [
    "s.format(name = 'Ghazal', num = 31)"
   ]
  },
  {
   "cell_type": "code",
   "execution_count": 63,
   "id": "c120473b-baed-42e3-9edf-2406540ed040",
   "metadata": {
    "tags": []
   },
   "outputs": [],
   "source": [
    "name = 'Ghazal'\n",
    "num = 31"
   ]
  },
  {
   "cell_type": "code",
   "execution_count": 64,
   "id": "aaf6f6ac-bcf9-4bed-b57b-dac9da5acd8e",
   "metadata": {
    "tags": []
   },
   "outputs": [
    {
     "data": {
      "text/plain": [
       "'Ghazal is 31 years old.'"
      ]
     },
     "execution_count": 64,
     "metadata": {},
     "output_type": "execute_result"
    }
   ],
   "source": [
    "s.format_map(vars())"
   ]
  },
  {
   "cell_type": "code",
   "execution_count": 65,
   "id": "ad99594f-062d-4fc0-bc8e-470981cf479a",
   "metadata": {
    "tags": []
   },
   "outputs": [],
   "source": [
    "class Info:\n",
    "    def __init__(self, name, num):\n",
    "        self.name = name\n",
    "        self.num = num"
   ]
  },
  {
   "cell_type": "code",
   "execution_count": 66,
   "id": "91038b0f-9b85-4f40-99c6-b3c9d7b96fb5",
   "metadata": {
    "tags": []
   },
   "outputs": [],
   "source": [
    "a = Info('Ghazal', 31)"
   ]
  },
  {
   "cell_type": "code",
   "execution_count": 67,
   "id": "a1dd2a04-7497-4ac5-b9f6-9f04964943a6",
   "metadata": {
    "tags": []
   },
   "outputs": [
    {
     "data": {
      "text/plain": [
       "'Ghazal is 31 years old.'"
      ]
     },
     "execution_count": 67,
     "metadata": {},
     "output_type": "execute_result"
    }
   ],
   "source": [
    "s.format_map(vars(a))"
   ]
  },
  {
   "cell_type": "code",
   "execution_count": 68,
   "id": "e16177f4-e5e6-4884-be7f-942fd1206f50",
   "metadata": {
    "tags": []
   },
   "outputs": [
    {
     "ename": "KeyError",
     "evalue": "'num'",
     "output_type": "error",
     "traceback": [
      "\u001b[1;31m---------------------------------------------------------------------------\u001b[0m",
      "\u001b[1;31mKeyError\u001b[0m                                  Traceback (most recent call last)",
      "Cell \u001b[1;32mIn[68], line 1\u001b[0m\n\u001b[1;32m----> 1\u001b[0m s\u001b[38;5;241m.\u001b[39mformat(name \u001b[38;5;241m=\u001b[39m \u001b[38;5;124m'\u001b[39m\u001b[38;5;124mGhazal\u001b[39m\u001b[38;5;124m'\u001b[39m)\n",
      "\u001b[1;31mKeyError\u001b[0m: 'num'"
     ]
    }
   ],
   "source": [
    "s.format(name = 'Ghazal')"
   ]
  },
  {
   "cell_type": "code",
   "execution_count": 69,
   "id": "0358ccc0-24ff-4ef4-9c56-8546a1942637",
   "metadata": {
    "tags": []
   },
   "outputs": [],
   "source": [
    "class miss_dict(dict):\n",
    "    def __missing__(self, key):\n",
    "        return '{' + key + '}'"
   ]
  },
  {
   "cell_type": "code",
   "execution_count": 70,
   "id": "ec954cff-68c5-4dfe-9d66-49f377f29597",
   "metadata": {
    "tags": []
   },
   "outputs": [],
   "source": [
    "del num"
   ]
  },
  {
   "cell_type": "code",
   "execution_count": 71,
   "id": "a0280d81-c5b4-4386-b54f-185b94cdf4a0",
   "metadata": {
    "tags": []
   },
   "outputs": [
    {
     "data": {
      "text/plain": [
       "'Ghazal is {num} years old.'"
      ]
     },
     "execution_count": 71,
     "metadata": {},
     "output_type": "execute_result"
    }
   ],
   "source": [
    "s.format_map(miss_dict(vars()))"
   ]
  },
  {
   "cell_type": "code",
   "execution_count": 72,
   "id": "9ed1c8f3-b824-4518-b411-9a4f2925dc02",
   "metadata": {
    "tags": []
   },
   "outputs": [],
   "source": [
    "import sys"
   ]
  },
  {
   "cell_type": "code",
   "execution_count": 73,
   "id": "3d8a6374-c323-4bf8-a86a-6c1f4f059b87",
   "metadata": {
    "tags": []
   },
   "outputs": [],
   "source": [
    "def sub(text):\n",
    "    return text.format_map(miss_dict(sys._getframe(1).f_locals))"
   ]
  },
  {
   "cell_type": "code",
   "execution_count": null,
   "id": "0465ff8e-e262-4fdb-a98e-882dd8394ece",
   "metadata": {},
   "outputs": [],
   "source": [
    "def a():\n",
    "    print(.....)\n",
    "    b()\n",
    "    a()\n",
    "    \n",
    "def b():\n",
    "    ....\n",
    "    \n",
    "def c():\n",
    "    a()\n",
    "    \n",
    "    \n",
    "a()\n",
    "\n",
    "--------------------------\n",
    "main() \n",
    "a()"
   ]
  },
  {
   "cell_type": "code",
   "execution_count": 74,
   "id": "f7c4f222-00d2-45c6-bfc9-edc2c2e70bbf",
   "metadata": {
    "tags": []
   },
   "outputs": [
    {
     "name": "stdout",
     "output_type": "stream",
     "text": [
      "Hello Ghazal\n"
     ]
    }
   ],
   "source": [
    "print(sub('Hello {name}'))"
   ]
  },
  {
   "cell_type": "code",
   "execution_count": 75,
   "id": "2f7a0e70-e2f3-4fbb-9336-2873edae528f",
   "metadata": {
    "tags": []
   },
   "outputs": [
    {
     "data": {
      "text/plain": [
       "'Ghazal'"
      ]
     },
     "execution_count": 75,
     "metadata": {},
     "output_type": "execute_result"
    }
   ],
   "source": [
    "name"
   ]
  },
  {
   "cell_type": "code",
   "execution_count": 76,
   "id": "87c11558-cfef-4717-8fb4-748532869393",
   "metadata": {
    "tags": []
   },
   "outputs": [],
   "source": [
    "del name"
   ]
  },
  {
   "cell_type": "code",
   "execution_count": 77,
   "id": "e45dd7e9-2bed-40a2-858f-6dbf56b744c8",
   "metadata": {
    "tags": []
   },
   "outputs": [
    {
     "name": "stdout",
     "output_type": "stream",
     "text": [
      "Hello {name}\n"
     ]
    }
   ],
   "source": [
    "print(sub('Hello {name}'))"
   ]
  },
  {
   "cell_type": "code",
   "execution_count": 79,
   "id": "9bfa485c-c771-4160-bd84-053dcb3ae925",
   "metadata": {
    "tags": []
   },
   "outputs": [],
   "source": [
    "name = 'John'"
   ]
  },
  {
   "cell_type": "code",
   "execution_count": 80,
   "id": "6c8cec7d-b36f-481e-b814-7c166ac7a6ad",
   "metadata": {
    "tags": []
   },
   "outputs": [
    {
     "name": "stdout",
     "output_type": "stream",
     "text": [
      "Hello John\n"
     ]
    }
   ],
   "source": [
    "print(sub('Hello {name}'))"
   ]
  },
  {
   "cell_type": "code",
   "execution_count": 81,
   "id": "d0c643a2-47ed-403e-a62b-9b7eb1dc6a34",
   "metadata": {
    "tags": []
   },
   "outputs": [],
   "source": [
    "a = 10"
   ]
  },
  {
   "cell_type": "code",
   "execution_count": 82,
   "id": "baecc5ee-78fc-4638-b238-1e3ddc588a6b",
   "metadata": {
    "tags": []
   },
   "outputs": [],
   "source": [
    "b = 20"
   ]
  },
  {
   "cell_type": "code",
   "execution_count": 83,
   "id": "1c06f07c-c4e9-49ce-bdaa-7bdd0bbbe554",
   "metadata": {
    "tags": []
   },
   "outputs": [],
   "source": [
    "c = 5"
   ]
  },
  {
   "cell_type": "code",
   "execution_count": 84,
   "id": "2dd4be87-cfe0-4f9c-8913-75082bbed4a0",
   "metadata": {
    "tags": []
   },
   "outputs": [],
   "source": [
    "d = a * b + c"
   ]
  },
  {
   "cell_type": "code",
   "execution_count": 85,
   "id": "9f4e4556-e7e7-46ca-b3b7-5e682de0a0b9",
   "metadata": {
    "tags": []
   },
   "outputs": [
    {
     "name": "stdout",
     "output_type": "stream",
     "text": [
      "result of 10 * 20 + 5 = 205\n"
     ]
    }
   ],
   "source": [
    "print(sub('result of {a} * {b} + {c} = {d}'))"
   ]
  },
  {
   "cell_type": "code",
   "execution_count": 86,
   "id": "9743396f-9464-4a8d-bddc-368dcbe01b37",
   "metadata": {
    "tags": []
   },
   "outputs": [
    {
     "name": "stdout",
     "output_type": "stream",
     "text": [
      "My best programming language is {pl_name}\n"
     ]
    }
   ],
   "source": [
    "print(sub('My best programming language is {pl_name}'))"
   ]
  },
  {
   "cell_type": "code",
   "execution_count": 87,
   "id": "de2805c5-96c7-41ac-bbc8-66bb59faa23b",
   "metadata": {
    "tags": []
   },
   "outputs": [],
   "source": [
    "pl_name = 'python'"
   ]
  },
  {
   "cell_type": "code",
   "execution_count": 88,
   "id": "1ca0d2bc-d60d-4e24-8b03-fdd5a8ba3ad3",
   "metadata": {
    "tags": []
   },
   "outputs": [
    {
     "name": "stdout",
     "output_type": "stream",
     "text": [
      "My best programming language is python\n"
     ]
    }
   ],
   "source": [
    "print(sub('My best programming language is {pl_name}'))"
   ]
  },
  {
   "cell_type": "code",
   "execution_count": 105,
   "id": "a0859c5e-45e9-481a-bc0f-2a72e033e67a",
   "metadata": {
    "tags": []
   },
   "outputs": [],
   "source": [
    "del pl_name"
   ]
  },
  {
   "cell_type": "code",
   "execution_count": 89,
   "id": "5e04506d-3c19-4dae-95bb-2cb6f59f9d11",
   "metadata": {
    "tags": []
   },
   "outputs": [
    {
     "data": {
      "text/plain": [
       "'John'"
      ]
     },
     "execution_count": 89,
     "metadata": {},
     "output_type": "execute_result"
    }
   ],
   "source": [
    "name"
   ]
  },
  {
   "cell_type": "code",
   "execution_count": 90,
   "id": "50d2489f-46ec-4b28-a2a9-1504dd194e64",
   "metadata": {
    "tags": []
   },
   "outputs": [],
   "source": [
    "num = 40"
   ]
  },
  {
   "cell_type": "code",
   "execution_count": 91,
   "id": "995caa98-9678-4e1b-bfbe-51ff1ba9c525",
   "metadata": {
    "tags": []
   },
   "outputs": [],
   "source": [
    "import string"
   ]
  },
  {
   "cell_type": "code",
   "execution_count": 92,
   "id": "e57d0dbe-6637-44ef-ba8f-6f91b3feb62f",
   "metadata": {
    "tags": []
   },
   "outputs": [],
   "source": [
    "s = string.Template('$name is $num years old.')"
   ]
  },
  {
   "cell_type": "code",
   "execution_count": 93,
   "id": "a277f784-4920-470e-85fa-0aa8d4df52aa",
   "metadata": {
    "tags": []
   },
   "outputs": [
    {
     "data": {
      "text/plain": [
       "'John is 40 years old.'"
      ]
     },
     "execution_count": 93,
     "metadata": {},
     "output_type": "execute_result"
    }
   ],
   "source": [
    "s.substitute(vars())"
   ]
  },
  {
   "cell_type": "code",
   "execution_count": 94,
   "id": "aee55e7a-98de-4b92-a030-95bb133ea0b3",
   "metadata": {
    "tags": []
   },
   "outputs": [
    {
     "data": {
      "text/plain": [
       "{'__name__': '__main__',\n",
       " '__doc__': 'Automatically created module for IPython interactive environment',\n",
       " '__package__': None,\n",
       " '__loader__': None,\n",
       " '__spec__': None,\n",
       " '__builtin__': <module 'builtins' (built-in)>,\n",
       " '__builtins__': <module 'builtins' (built-in)>,\n",
       " '_ih': ['',\n",
       "  \"t = 'Ghazal Lalooha'\",\n",
       "  't.ljust(10)',\n",
       "  't.ljust(20)',\n",
       "  'len(t)',\n",
       "  't.rjust(20)',\n",
       "  't.center(20)',\n",
       "  't.center(80)',\n",
       "  \"t.rjust(20, '*')\",\n",
       "  \"t.center(30, '@')\",\n",
       "  \"format(t, '<25')\",\n",
       "  \"format(t, '>25')\",\n",
       "  \"format(t, '^25')\",\n",
       "  \"format(t, '8^25')\",\n",
       "  \"format(t, '8^25s')\",\n",
       "  \"'{} {}'.format('hello', 'hi')\",\n",
       "  \"'{:>10s} {:>10s}'.format('hello', 'hi')\",\n",
       "  \"'{:^30s} {:^30s}'.format('hello', 'hi')\",\n",
       "  \"'{:^30s} {:^30s}'.format(t, 'hi')\",\n",
       "  \"'{:^30s} {:^30s}'.format('hello', 'hi')\",\n",
       "  \"'{:^30s} {:^30s}'.format(t, 'hi')\",\n",
       "  \"format(x, '>15')\",\n",
       "  'x = 141.123486',\n",
       "  \"format(x, '>15')\",\n",
       "  \"format(x, '^15.3f')\",\n",
       "  \"'%s' %t\",\n",
       "  \"'%20s' %t\",\n",
       "  \"'%-20s' %t\",\n",
       "  \"ls = ['I', 'am', 'interested', 'in', 'python']\",\n",
       "  \"''.join(ls)\",\n",
       "  \"' '.join(ls)\",\n",
       "  \"', '.join(ls)\",\n",
       "  'a = [1, 2, 3, 4, 5]',\n",
       "  \"' '.join(a)\",\n",
       "  \"a = ['1', '2', '3', '4', '5']\",\n",
       "  \"' '.join(a)\",\n",
       "  \"a = 'I love'\",\n",
       "  \"b = 'python programming.'\",\n",
       "  'a + b',\n",
       "  \"a + ' ' + b\",\n",
       "  \"print('{}{}'.format(a,b))\",\n",
       "  \"print(a + ' ' + b)\",\n",
       "  \"a = 'I love''python programming.'\",\n",
       "  'a',\n",
       "  'a',\n",
       "  \"s = ''\",\n",
       "  'for i in a:\\n    a += i',\n",
       "  'a',\n",
       "  's',\n",
       "  \"l = [1, 25, 369, 'Udemy']\",\n",
       "  \"','.join(str(i) for i in l)\",\n",
       "  \"a = 'python'\",\n",
       "  \"b = 'programming'\",\n",
       "  \"c = 'Udemy'\",\n",
       "  \"print(a + ',' + b + ',' + c)\",\n",
       "  \"print(','.join([a, b, c]))\",\n",
       "  \"print(a, b, c, sep = ',')\",\n",
       "  \"print(a, b, c, sep = ':')\",\n",
       "  \"print(a, b, c, sep = '*')\",\n",
       "  \"def gen_st():\\n    yield 'I'\\n    yield 'love'\\n    yield 'python'\\n    yield 'programming'\\n    \",\n",
       "  \"''.join(gen_st())\",\n",
       "  \"s = '{name} is {num} years old.'\",\n",
       "  \"s.format(name = 'Ghazal', num = 31)\",\n",
       "  \"name = 'Ghazal'\\nnum = 31\",\n",
       "  's.format_map(vars())',\n",
       "  'class Info:\\n    def __init__(self, name, num):\\n        self.name = name\\n        self.num = num',\n",
       "  \"a = Info('Ghazal', 31)\",\n",
       "  's.format_map(vars(a))',\n",
       "  \"s.format(name = 'Ghazal')\",\n",
       "  \"class miss_dict(dict):\\n    def __missing__(self, key):\\n        return '{' + key + '}'\",\n",
       "  'del num',\n",
       "  's.format_map(miss_dict(vars()))',\n",
       "  'import sys',\n",
       "  'def sub(text):\\n    return text.format_map(miss_dict(sys._getframe(1).f_locals))',\n",
       "  \"print(sub('Hello {name}'))\",\n",
       "  'name',\n",
       "  'del name',\n",
       "  \"print(sub('Hello {name}'))\",\n",
       "  \"print(sub('Hello {name}'))\",\n",
       "  \"name = 'John'\",\n",
       "  \"print(sub('Hello {name}'))\",\n",
       "  'a = 10',\n",
       "  'b = 20',\n",
       "  'c = 5',\n",
       "  'd = a * b + c',\n",
       "  \"print(sub('result of {a} * {b} + {c} = {d}'))\",\n",
       "  \"print(sub('My best programming language is {pl_name}'))\",\n",
       "  \"pl_name = 'python'\",\n",
       "  \"print(sub('My best programming language is {pl_name}'))\",\n",
       "  'name',\n",
       "  'num = 40',\n",
       "  'import string',\n",
       "  \"s = string.Template('$name is $num years old.')\",\n",
       "  's.substitute(vars())',\n",
       "  'vars()'],\n",
       " '_oh': {2: 'Ghazal Lalooha',\n",
       "  3: 'Ghazal Lalooha      ',\n",
       "  4: 14,\n",
       "  5: '      Ghazal Lalooha',\n",
       "  6: '   Ghazal Lalooha   ',\n",
       "  7: '                                 Ghazal Lalooha                                 ',\n",
       "  8: '******Ghazal Lalooha',\n",
       "  9: '@@@@@@@@Ghazal Lalooha@@@@@@@@',\n",
       "  10: 'Ghazal Lalooha           ',\n",
       "  11: '           Ghazal Lalooha',\n",
       "  12: '     Ghazal Lalooha      ',\n",
       "  13: '88888Ghazal Lalooha888888',\n",
       "  14: '88888Ghazal Lalooha888888',\n",
       "  15: 'hello hi',\n",
       "  16: '     hello         hi',\n",
       "  17: '            hello                            hi              ',\n",
       "  18: '        Ghazal Lalooha                       hi              ',\n",
       "  19: '            hello                            hi              ',\n",
       "  20: '        Ghazal Lalooha                       hi              ',\n",
       "  23: '     141.123486',\n",
       "  24: '    141.123    ',\n",
       "  25: 'Ghazal Lalooha',\n",
       "  26: '      Ghazal Lalooha',\n",
       "  27: 'Ghazal Lalooha      ',\n",
       "  29: 'Iaminterestedinpython',\n",
       "  30: 'I am interested in python',\n",
       "  31: 'I, am, interested, in, python',\n",
       "  35: '1 2 3 4 5',\n",
       "  38: 'I lovepython programming.',\n",
       "  39: 'I love python programming.',\n",
       "  43: 'I lovepython programming.',\n",
       "  44: 'I lovepython programming.',\n",
       "  47: 'I lovepython programming.I lovepython programming.',\n",
       "  48: '',\n",
       "  50: '1,25,369,Udemy',\n",
       "  60: 'Ilovepythonprogramming',\n",
       "  62: 'Ghazal is 31 years old.',\n",
       "  64: 'Ghazal is 31 years old.',\n",
       "  67: 'Ghazal is 31 years old.',\n",
       "  71: 'Ghazal is {num} years old.',\n",
       "  75: 'Ghazal',\n",
       "  89: 'John',\n",
       "  93: 'John is 40 years old.'},\n",
       " '_dh': [WindowsPath('C:/Users/pq')],\n",
       " 'In': ['',\n",
       "  \"t = 'Ghazal Lalooha'\",\n",
       "  't.ljust(10)',\n",
       "  't.ljust(20)',\n",
       "  'len(t)',\n",
       "  't.rjust(20)',\n",
       "  't.center(20)',\n",
       "  't.center(80)',\n",
       "  \"t.rjust(20, '*')\",\n",
       "  \"t.center(30, '@')\",\n",
       "  \"format(t, '<25')\",\n",
       "  \"format(t, '>25')\",\n",
       "  \"format(t, '^25')\",\n",
       "  \"format(t, '8^25')\",\n",
       "  \"format(t, '8^25s')\",\n",
       "  \"'{} {}'.format('hello', 'hi')\",\n",
       "  \"'{:>10s} {:>10s}'.format('hello', 'hi')\",\n",
       "  \"'{:^30s} {:^30s}'.format('hello', 'hi')\",\n",
       "  \"'{:^30s} {:^30s}'.format(t, 'hi')\",\n",
       "  \"'{:^30s} {:^30s}'.format('hello', 'hi')\",\n",
       "  \"'{:^30s} {:^30s}'.format(t, 'hi')\",\n",
       "  \"format(x, '>15')\",\n",
       "  'x = 141.123486',\n",
       "  \"format(x, '>15')\",\n",
       "  \"format(x, '^15.3f')\",\n",
       "  \"'%s' %t\",\n",
       "  \"'%20s' %t\",\n",
       "  \"'%-20s' %t\",\n",
       "  \"ls = ['I', 'am', 'interested', 'in', 'python']\",\n",
       "  \"''.join(ls)\",\n",
       "  \"' '.join(ls)\",\n",
       "  \"', '.join(ls)\",\n",
       "  'a = [1, 2, 3, 4, 5]',\n",
       "  \"' '.join(a)\",\n",
       "  \"a = ['1', '2', '3', '4', '5']\",\n",
       "  \"' '.join(a)\",\n",
       "  \"a = 'I love'\",\n",
       "  \"b = 'python programming.'\",\n",
       "  'a + b',\n",
       "  \"a + ' ' + b\",\n",
       "  \"print('{}{}'.format(a,b))\",\n",
       "  \"print(a + ' ' + b)\",\n",
       "  \"a = 'I love''python programming.'\",\n",
       "  'a',\n",
       "  'a',\n",
       "  \"s = ''\",\n",
       "  'for i in a:\\n    a += i',\n",
       "  'a',\n",
       "  's',\n",
       "  \"l = [1, 25, 369, 'Udemy']\",\n",
       "  \"','.join(str(i) for i in l)\",\n",
       "  \"a = 'python'\",\n",
       "  \"b = 'programming'\",\n",
       "  \"c = 'Udemy'\",\n",
       "  \"print(a + ',' + b + ',' + c)\",\n",
       "  \"print(','.join([a, b, c]))\",\n",
       "  \"print(a, b, c, sep = ',')\",\n",
       "  \"print(a, b, c, sep = ':')\",\n",
       "  \"print(a, b, c, sep = '*')\",\n",
       "  \"def gen_st():\\n    yield 'I'\\n    yield 'love'\\n    yield 'python'\\n    yield 'programming'\\n    \",\n",
       "  \"''.join(gen_st())\",\n",
       "  \"s = '{name} is {num} years old.'\",\n",
       "  \"s.format(name = 'Ghazal', num = 31)\",\n",
       "  \"name = 'Ghazal'\\nnum = 31\",\n",
       "  's.format_map(vars())',\n",
       "  'class Info:\\n    def __init__(self, name, num):\\n        self.name = name\\n        self.num = num',\n",
       "  \"a = Info('Ghazal', 31)\",\n",
       "  's.format_map(vars(a))',\n",
       "  \"s.format(name = 'Ghazal')\",\n",
       "  \"class miss_dict(dict):\\n    def __missing__(self, key):\\n        return '{' + key + '}'\",\n",
       "  'del num',\n",
       "  's.format_map(miss_dict(vars()))',\n",
       "  'import sys',\n",
       "  'def sub(text):\\n    return text.format_map(miss_dict(sys._getframe(1).f_locals))',\n",
       "  \"print(sub('Hello {name}'))\",\n",
       "  'name',\n",
       "  'del name',\n",
       "  \"print(sub('Hello {name}'))\",\n",
       "  \"print(sub('Hello {name}'))\",\n",
       "  \"name = 'John'\",\n",
       "  \"print(sub('Hello {name}'))\",\n",
       "  'a = 10',\n",
       "  'b = 20',\n",
       "  'c = 5',\n",
       "  'd = a * b + c',\n",
       "  \"print(sub('result of {a} * {b} + {c} = {d}'))\",\n",
       "  \"print(sub('My best programming language is {pl_name}'))\",\n",
       "  \"pl_name = 'python'\",\n",
       "  \"print(sub('My best programming language is {pl_name}'))\",\n",
       "  'name',\n",
       "  'num = 40',\n",
       "  'import string',\n",
       "  \"s = string.Template('$name is $num years old.')\",\n",
       "  's.substitute(vars())',\n",
       "  'vars()'],\n",
       " 'Out': {2: 'Ghazal Lalooha',\n",
       "  3: 'Ghazal Lalooha      ',\n",
       "  4: 14,\n",
       "  5: '      Ghazal Lalooha',\n",
       "  6: '   Ghazal Lalooha   ',\n",
       "  7: '                                 Ghazal Lalooha                                 ',\n",
       "  8: '******Ghazal Lalooha',\n",
       "  9: '@@@@@@@@Ghazal Lalooha@@@@@@@@',\n",
       "  10: 'Ghazal Lalooha           ',\n",
       "  11: '           Ghazal Lalooha',\n",
       "  12: '     Ghazal Lalooha      ',\n",
       "  13: '88888Ghazal Lalooha888888',\n",
       "  14: '88888Ghazal Lalooha888888',\n",
       "  15: 'hello hi',\n",
       "  16: '     hello         hi',\n",
       "  17: '            hello                            hi              ',\n",
       "  18: '        Ghazal Lalooha                       hi              ',\n",
       "  19: '            hello                            hi              ',\n",
       "  20: '        Ghazal Lalooha                       hi              ',\n",
       "  23: '     141.123486',\n",
       "  24: '    141.123    ',\n",
       "  25: 'Ghazal Lalooha',\n",
       "  26: '      Ghazal Lalooha',\n",
       "  27: 'Ghazal Lalooha      ',\n",
       "  29: 'Iaminterestedinpython',\n",
       "  30: 'I am interested in python',\n",
       "  31: 'I, am, interested, in, python',\n",
       "  35: '1 2 3 4 5',\n",
       "  38: 'I lovepython programming.',\n",
       "  39: 'I love python programming.',\n",
       "  43: 'I lovepython programming.',\n",
       "  44: 'I lovepython programming.',\n",
       "  47: 'I lovepython programming.I lovepython programming.',\n",
       "  48: '',\n",
       "  50: '1,25,369,Udemy',\n",
       "  60: 'Ilovepythonprogramming',\n",
       "  62: 'Ghazal is 31 years old.',\n",
       "  64: 'Ghazal is 31 years old.',\n",
       "  67: 'Ghazal is 31 years old.',\n",
       "  71: 'Ghazal is {num} years old.',\n",
       "  75: 'Ghazal',\n",
       "  89: 'John',\n",
       "  93: 'John is 40 years old.'},\n",
       " 'get_ipython': <bound method InteractiveShell.get_ipython of <ipykernel.zmqshell.ZMQInteractiveShell object at 0x000000F194C2DF10>>,\n",
       " 'exit': <IPython.core.autocall.ZMQExitAutocall at 0xf194c3a990>,\n",
       " 'quit': <IPython.core.autocall.ZMQExitAutocall at 0xf194c3a990>,\n",
       " 'open': <function io.open(file, mode='r', buffering=-1, encoding=None, errors=None, newline=None, closefd=True, opener=None)>,\n",
       " '_': 'John is 40 years old.',\n",
       " '__': 'John',\n",
       " '___': 'Ghazal',\n",
       " '_i': 's.substitute(vars())',\n",
       " '_ii': \"s = string.Template('$name is $num years old.')\",\n",
       " '_iii': 'import string',\n",
       " '_i1': \"t = 'Ghazal Lalooha'\",\n",
       " 't': 'Ghazal Lalooha',\n",
       " '_i2': 't.ljust(10)',\n",
       " '_2': 'Ghazal Lalooha',\n",
       " '_i3': 't.ljust(20)',\n",
       " '_3': 'Ghazal Lalooha      ',\n",
       " '_i4': 'len(t)',\n",
       " '_4': 14,\n",
       " '_i5': 't.rjust(20)',\n",
       " '_5': '      Ghazal Lalooha',\n",
       " '_i6': 't.center(20)',\n",
       " '_6': '   Ghazal Lalooha   ',\n",
       " '_i7': 't.center(80)',\n",
       " '_7': '                                 Ghazal Lalooha                                 ',\n",
       " '_i8': \"t.rjust(20, '*')\",\n",
       " '_8': '******Ghazal Lalooha',\n",
       " '_i9': \"t.center(30, '@')\",\n",
       " '_9': '@@@@@@@@Ghazal Lalooha@@@@@@@@',\n",
       " '_i10': \"format(t, '<25')\",\n",
       " '_10': 'Ghazal Lalooha           ',\n",
       " '_i11': \"format(t, '>25')\",\n",
       " '_11': '           Ghazal Lalooha',\n",
       " '_i12': \"format(t, '^25')\",\n",
       " '_12': '     Ghazal Lalooha      ',\n",
       " '_i13': \"format(t, '8^25')\",\n",
       " '_13': '88888Ghazal Lalooha888888',\n",
       " '_i14': \"format(t, '8^25s')\",\n",
       " '_14': '88888Ghazal Lalooha888888',\n",
       " '_i15': \"'{} {}'.format('hello', 'hi')\",\n",
       " '_15': 'hello hi',\n",
       " '_i16': \"'{:>10s} {:>10s}'.format('hello', 'hi')\",\n",
       " '_16': '     hello         hi',\n",
       " '_i17': \"'{:^30s} {:^30s}'.format('hello', 'hi')\",\n",
       " '_17': '            hello                            hi              ',\n",
       " '_i18': \"'{:^30s} {:^30s}'.format(t, 'hi')\",\n",
       " '_18': '        Ghazal Lalooha                       hi              ',\n",
       " '_i19': \"'{:^30s} {:^30s}'.format('hello', 'hi')\",\n",
       " '_19': '            hello                            hi              ',\n",
       " '_i20': \"'{:^30s} {:^30s}'.format(t, 'hi')\",\n",
       " '_20': '        Ghazal Lalooha                       hi              ',\n",
       " '_i21': \"format(x, '>15')\",\n",
       " '_i22': 'x = 141.123486',\n",
       " 'x': 141.123486,\n",
       " '_i23': \"format(x, '>15')\",\n",
       " '_23': '     141.123486',\n",
       " '_i24': \"format(x, '^15.3f')\",\n",
       " '_24': '    141.123    ',\n",
       " '_i25': \"'%s' %t\",\n",
       " '_25': 'Ghazal Lalooha',\n",
       " '_i26': \"'%20s' %t\",\n",
       " '_26': '      Ghazal Lalooha',\n",
       " '_i27': \"'%-20s' %t\",\n",
       " '_27': 'Ghazal Lalooha      ',\n",
       " '_i28': \"ls = ['I', 'am', 'interested', 'in', 'python']\",\n",
       " 'ls': ['I', 'am', 'interested', 'in', 'python'],\n",
       " '_i29': \"''.join(ls)\",\n",
       " '_29': 'Iaminterestedinpython',\n",
       " '_i30': \"' '.join(ls)\",\n",
       " '_30': 'I am interested in python',\n",
       " '_i31': \"', '.join(ls)\",\n",
       " '_31': 'I, am, interested, in, python',\n",
       " '_i32': 'a = [1, 2, 3, 4, 5]',\n",
       " 'a': 10,\n",
       " '_i33': \"' '.join(a)\",\n",
       " '_i34': \"a = ['1', '2', '3', '4', '5']\",\n",
       " '_i35': \"' '.join(a)\",\n",
       " '_35': '1 2 3 4 5',\n",
       " '_i36': \"a = 'I love'\",\n",
       " '_i37': \"b = 'python programming.'\",\n",
       " 'b': 20,\n",
       " '_i38': 'a + b',\n",
       " '_38': 'I lovepython programming.',\n",
       " '_i39': \"a + ' ' + b\",\n",
       " '_39': 'I love python programming.',\n",
       " '_i40': \"print('{}{}'.format(a,b))\",\n",
       " '_i41': \"print(a + ' ' + b)\",\n",
       " '_i42': \"a = 'I love''python programming.'\",\n",
       " '_i43': 'a',\n",
       " '_43': 'I lovepython programming.',\n",
       " '_i44': 'a',\n",
       " '_44': 'I lovepython programming.',\n",
       " '_i45': \"s = ''\",\n",
       " 's': <string.Template at 0xf197446490>,\n",
       " '_i46': 'for i in a:\\n    a += i',\n",
       " 'i': '.',\n",
       " '_i47': 'a',\n",
       " '_47': 'I lovepython programming.I lovepython programming.',\n",
       " '_i48': 's',\n",
       " '_48': '',\n",
       " '_i49': \"l = [1, 25, 369, 'Udemy']\",\n",
       " 'l': [1, 25, 369, 'Udemy'],\n",
       " '_i50': \"','.join(str(i) for i in l)\",\n",
       " '_50': '1,25,369,Udemy',\n",
       " '_i51': \"a = 'python'\",\n",
       " '_i52': \"b = 'programming'\",\n",
       " '_i53': \"c = 'Udemy'\",\n",
       " 'c': 5,\n",
       " '_i54': \"print(a + ',' + b + ',' + c)\",\n",
       " '_i55': \"print(','.join([a, b, c]))\",\n",
       " '_i56': \"print(a, b, c, sep = ',')\",\n",
       " '_i57': \"print(a, b, c, sep = ':')\",\n",
       " '_i58': \"print(a, b, c, sep = '*')\",\n",
       " '_i59': \"def gen_st():\\n    yield 'I'\\n    yield 'love'\\n    yield 'python'\\n    yield 'programming'\\n    \",\n",
       " 'gen_st': <function __main__.gen_st()>,\n",
       " '_i60': \"''.join(gen_st())\",\n",
       " '_60': 'Ilovepythonprogramming',\n",
       " '_i61': \"s = '{name} is {num} years old.'\",\n",
       " '_i62': \"s.format(name = 'Ghazal', num = 31)\",\n",
       " '_62': 'Ghazal is 31 years old.',\n",
       " '_i63': \"name = 'Ghazal'\\nnum = 31\",\n",
       " '_i64': 's.format_map(vars())',\n",
       " '_64': 'Ghazal is 31 years old.',\n",
       " '_i65': 'class Info:\\n    def __init__(self, name, num):\\n        self.name = name\\n        self.num = num',\n",
       " 'Info': __main__.Info,\n",
       " '_i66': \"a = Info('Ghazal', 31)\",\n",
       " '_i67': 's.format_map(vars(a))',\n",
       " '_67': 'Ghazal is 31 years old.',\n",
       " '_i68': \"s.format(name = 'Ghazal')\",\n",
       " '_i69': \"class miss_dict(dict):\\n    def __missing__(self, key):\\n        return '{' + key + '}'\",\n",
       " 'miss_dict': __main__.miss_dict,\n",
       " '_i70': 'del num',\n",
       " '_i71': 's.format_map(miss_dict(vars()))',\n",
       " '_71': 'Ghazal is {num} years old.',\n",
       " '_i72': 'import sys',\n",
       " 'sys': <module 'sys' (built-in)>,\n",
       " '_i73': 'def sub(text):\\n    return text.format_map(miss_dict(sys._getframe(1).f_locals))',\n",
       " 'sub': <function __main__.sub(text)>,\n",
       " '_i74': \"print(sub('Hello {name}'))\",\n",
       " '_i75': 'name',\n",
       " '_75': 'Ghazal',\n",
       " '_i76': 'del name',\n",
       " '_i77': \"print(sub('Hello {name}'))\",\n",
       " '_i78': \"print(sub('Hello {name}'))\",\n",
       " '_i79': \"name = 'John'\",\n",
       " 'name': 'John',\n",
       " '_i80': \"print(sub('Hello {name}'))\",\n",
       " '_i81': 'a = 10',\n",
       " '_i82': 'b = 20',\n",
       " '_i83': 'c = 5',\n",
       " '_i84': 'd = a * b + c',\n",
       " 'd': 205,\n",
       " '_i85': \"print(sub('result of {a} * {b} + {c} = {d}'))\",\n",
       " '_i86': \"print(sub('My best programming language is {pl_name}'))\",\n",
       " '_i87': \"pl_name = 'python'\",\n",
       " 'pl_name': 'python',\n",
       " '_i88': \"print(sub('My best programming language is {pl_name}'))\",\n",
       " '_i89': 'name',\n",
       " '_89': 'John',\n",
       " '_i90': 'num = 40',\n",
       " 'num': 40,\n",
       " '_i91': 'import string',\n",
       " 'string': <module 'string' from 'D:\\\\ghazal\\\\anaconda installation\\\\Lib\\\\string.py'>,\n",
       " '_i92': \"s = string.Template('$name is $num years old.')\",\n",
       " '_i93': 's.substitute(vars())',\n",
       " '_93': 'John is 40 years old.',\n",
       " '_i94': 'vars()'}"
      ]
     },
     "execution_count": 94,
     "metadata": {},
     "output_type": "execute_result"
    }
   ],
   "source": [
    "vars()"
   ]
  },
  {
   "cell_type": "markdown",
   "id": "6dda44ae-2940-44d1-bad6-7a70a88cc5d1",
   "metadata": {},
   "source": [
    "# Change the format of the text to the specified number of columns."
   ]
  },
  {
   "cell_type": "code",
   "execution_count": 95,
   "id": "bc214416-51f8-4d3d-a7fe-d6147fd62ecb",
   "metadata": {
    "tags": []
   },
   "outputs": [],
   "source": [
    "s = 'Retrieve a given field value. The key argument will be either an integer or a string.\\\n",
    "If it is an integer, it represents the index of the positional argument in args; if\\\n",
    "it is a string, then it represents\\\n",
    "a named argument in kwargsThe args parameter is set to the list of positional arguments to\\\n",
    "vformat(), and the kwargs \\\n",
    "parameter is set to the dictionary of keyword arguments.For compound field \\\n",
    "names, these functions are only called for the\\\n",
    "first component of the field name; subsequent components are handled through normal attribute and indexing operations.\\\n",
    "So for example, the field expression ‘0.name’ would cause get_value() to be called with a key argument of 0.\\\n",
    "The name attribute will be looked up after get_value() returns by \\\n",
    "calling the built-in getattr() function.If the index or keyword refers to an item\\\n",
    "that does not exist, then an IndexError or KeyError should be raised.'"
   ]
  },
  {
   "cell_type": "code",
   "execution_count": 96,
   "id": "b401010f-41e6-4711-b303-08f235520c48",
   "metadata": {
    "tags": []
   },
   "outputs": [],
   "source": [
    "import textwrap"
   ]
  },
  {
   "cell_type": "code",
   "execution_count": 97,
   "id": "05dae04b-67b0-4009-8410-074d038ac97d",
   "metadata": {
    "tags": []
   },
   "outputs": [
    {
     "name": "stdout",
     "output_type": "stream",
     "text": [
      "Retrieve a given field value. The key argument will be\n",
      "either an integer or a string.If it is an integer, it\n",
      "represents the index of the positional argument in args;\n",
      "ifit is a string, then it representsa named argument in\n",
      "kwargsThe args parameter is set to the list of positional\n",
      "arguments tovformat(), and the kwargs parameter is set to\n",
      "the dictionary of keyword arguments.For compound field\n",
      "names, these functions are only called for thefirst\n",
      "component of the field name; subsequent components are\n",
      "handled through normal attribute and indexing operations.So\n",
      "for example, the field expression ‘0.name’ would cause\n",
      "get_value() to be called with a key argument of 0.The name\n",
      "attribute will be looked up after get_value() returns by\n",
      "calling the built-in getattr() function.If the index or\n",
      "keyword refers to an itemthat does not exist, then an\n",
      "IndexError or KeyError should be raised.\n"
     ]
    }
   ],
   "source": [
    "print(textwrap.fill(s, 60))"
   ]
  },
  {
   "cell_type": "code",
   "execution_count": 98,
   "id": "64bdd5eb-5219-4ccb-9e98-da6e27b2309a",
   "metadata": {
    "tags": []
   },
   "outputs": [
    {
     "name": "stdout",
     "output_type": "stream",
     "text": [
      "      Retrieve a given field value. The key argument will be either an\n",
      "integer or a string.If it is an integer, it represents the index of\n",
      "the positional argument in args; ifit is a string, then it representsa\n",
      "named argument in kwargsThe args parameter is set to the list of\n",
      "positional arguments tovformat(), and the kwargs parameter is set to\n",
      "the dictionary of keyword arguments.For compound field names, these\n",
      "functions are only called for thefirst component of the field name;\n",
      "subsequent components are handled through normal attribute and\n",
      "indexing operations.So for example, the field expression ‘0.name’\n",
      "would cause get_value() to be called with a key argument of 0.The name\n",
      "attribute will be looked up after get_value() returns by calling the\n",
      "built-in getattr() function.If the index or keyword refers to an\n",
      "itemthat does not exist, then an IndexError or KeyError should be\n",
      "raised.\n"
     ]
    }
   ],
   "source": [
    "print(textwrap.fill(s, 70, initial_indent = '      '))"
   ]
  },
  {
   "cell_type": "code",
   "execution_count": 99,
   "id": "901b8c69-bb76-443c-bcb9-be81a22bd88b",
   "metadata": {
    "tags": []
   },
   "outputs": [
    {
     "name": "stdout",
     "output_type": "stream",
     "text": [
      "Retrieve a given field value. The key argument will be either an\n",
      "      integer or a string.If it is an integer, it represents the index\n",
      "      of the positional argument in args; ifit is a string, then it\n",
      "      representsa named argument in kwargsThe args parameter is set to\n",
      "      the list of positional arguments tovformat(), and the kwargs\n",
      "      parameter is set to the dictionary of keyword arguments.For\n",
      "      compound field names, these functions are only called for\n",
      "      thefirst component of the field name; subsequent components are\n",
      "      handled through normal attribute and indexing operations.So for\n",
      "      example, the field expression ‘0.name’ would cause get_value()\n",
      "      to be called with a key argument of 0.The name attribute will be\n",
      "      looked up after get_value() returns by calling the built-in\n",
      "      getattr() function.If the index or keyword refers to an itemthat\n",
      "      does not exist, then an IndexError or KeyError should be raised.\n"
     ]
    }
   ],
   "source": [
    "print(textwrap.fill(s, 70, subsequent_indent = '      '))"
   ]
  },
  {
   "cell_type": "code",
   "execution_count": null,
   "id": "0a1a0847-8623-4d0a-8e22-d833b496e942",
   "metadata": {},
   "outputs": [],
   "source": []
  }
 ],
 "metadata": {
  "kernelspec": {
   "display_name": "Python 3 (ipykernel)",
   "language": "python",
   "name": "python3"
  },
  "language_info": {
   "codemirror_mode": {
    "name": "ipython",
    "version": 3
   },
   "file_extension": ".py",
   "mimetype": "text/x-python",
   "name": "python",
   "nbconvert_exporter": "python",
   "pygments_lexer": "ipython3",
   "version": "3.11.3"
  }
 },
 "nbformat": 4,
 "nbformat_minor": 5
}
