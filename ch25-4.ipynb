{
 "cells": [
  {
   "cell_type": "markdown",
   "id": "52a1c553-3148-48a8-95c2-4dd6b02f5336",
   "metadata": {},
   "source": [
    "# Calculations with a dictionary"
   ]
  },
  {
   "cell_type": "code",
   "execution_count": 1,
   "id": "29431ad0-3f4e-4d34-9dd8-8cac353a4421",
   "metadata": {},
   "outputs": [],
   "source": [
    "d = {\n",
    "    'SRD':41.2,\n",
    "    'HFV':47.7,\n",
    "    'ABU':120.0,\n",
    "    'QBC':150.2\n",
    "}"
   ]
  },
  {
   "cell_type": "code",
   "execution_count": 2,
   "id": "fe5f982e-19f7-4c94-9b2d-af03095bd11d",
   "metadata": {
    "tags": []
   },
   "outputs": [
    {
     "data": {
      "text/plain": [
       "'ABU'"
      ]
     },
     "execution_count": 2,
     "metadata": {},
     "output_type": "execute_result"
    }
   ],
   "source": [
    "min(d)"
   ]
  },
  {
   "cell_type": "code",
   "execution_count": 3,
   "id": "3153765a-1e1f-47b6-b183-ba8d5349c018",
   "metadata": {
    "tags": []
   },
   "outputs": [
    {
     "data": {
      "text/plain": [
       "'SRD'"
      ]
     },
     "execution_count": 3,
     "metadata": {},
     "output_type": "execute_result"
    }
   ],
   "source": [
    "max(d)"
   ]
  },
  {
   "cell_type": "code",
   "execution_count": 4,
   "id": "d3ce8ffd-92bb-425c-aad2-fff6d55886e1",
   "metadata": {
    "tags": []
   },
   "outputs": [
    {
     "data": {
      "text/plain": [
       "41.2"
      ]
     },
     "execution_count": 4,
     "metadata": {},
     "output_type": "execute_result"
    }
   ],
   "source": [
    "min(d.values())"
   ]
  },
  {
   "cell_type": "code",
   "execution_count": 5,
   "id": "1460029b-b871-4cc7-8985-df766ed32f82",
   "metadata": {
    "tags": []
   },
   "outputs": [
    {
     "data": {
      "text/plain": [
       "150.2"
      ]
     },
     "execution_count": 5,
     "metadata": {},
     "output_type": "execute_result"
    }
   ],
   "source": [
    "max(d.values())"
   ]
  },
  {
   "cell_type": "code",
   "execution_count": 6,
   "id": "05e236c5-47ee-4325-95e2-a990b0879d55",
   "metadata": {
    "tags": []
   },
   "outputs": [],
   "source": [
    "a = (10, 2, 3)"
   ]
  },
  {
   "cell_type": "code",
   "execution_count": 7,
   "id": "c44e8118-cfd6-496e-8152-ca1b2913daab",
   "metadata": {
    "tags": []
   },
   "outputs": [],
   "source": [
    "b = ('x', 'y', 'z')"
   ]
  },
  {
   "cell_type": "code",
   "execution_count": 8,
   "id": "cd5b992f-aa0c-44b2-9206-87c9c92c1fed",
   "metadata": {
    "tags": []
   },
   "outputs": [
    {
     "data": {
      "text/plain": [
       "[(10, 'x'), (2, 'y'), (3, 'z')]"
      ]
     },
     "execution_count": 8,
     "metadata": {},
     "output_type": "execute_result"
    }
   ],
   "source": [
    "list(zip(a,b))"
   ]
  },
  {
   "cell_type": "code",
   "execution_count": 9,
   "id": "357abd73-adf4-4e38-9c83-2474ad348970",
   "metadata": {
    "tags": []
   },
   "outputs": [
    {
     "data": {
      "text/plain": [
       "[('x', 10), ('y', 2), ('z', 3)]"
      ]
     },
     "execution_count": 9,
     "metadata": {},
     "output_type": "execute_result"
    }
   ],
   "source": [
    "list(zip(b,a))"
   ]
  },
  {
   "cell_type": "code",
   "execution_count": 10,
   "id": "75edc622-ff74-4040-a929-15a319fa4094",
   "metadata": {
    "tags": []
   },
   "outputs": [
    {
     "data": {
      "text/plain": [
       "{'SRD': 41.2, 'HFV': 47.7, 'ABU': 120.0, 'QBC': 150.2}"
      ]
     },
     "execution_count": 10,
     "metadata": {},
     "output_type": "execute_result"
    }
   ],
   "source": [
    "d"
   ]
  },
  {
   "cell_type": "code",
   "execution_count": 12,
   "id": "cac3637e-06ab-48aa-8815-656000acea85",
   "metadata": {
    "tags": []
   },
   "outputs": [
    {
     "data": {
      "text/plain": [
       "(41.2, 'SRD')"
      ]
     },
     "execution_count": 12,
     "metadata": {},
     "output_type": "execute_result"
    }
   ],
   "source": [
    "min(zip(d.values(), d.keys()))"
   ]
  },
  {
   "cell_type": "code",
   "execution_count": 13,
   "id": "60c24108-c815-4982-8cfb-67422b78a454",
   "metadata": {
    "tags": []
   },
   "outputs": [
    {
     "data": {
      "text/plain": [
       "[(41.2, 'SRD'), (47.7, 'HFV'), (120.0, 'ABU'), (150.2, 'QBC')]"
      ]
     },
     "execution_count": 13,
     "metadata": {},
     "output_type": "execute_result"
    }
   ],
   "source": [
    "sorted(zip(d.values(), d.keys()))"
   ]
  },
  {
   "cell_type": "code",
   "execution_count": 14,
   "id": "a2a25ef9-2c98-4b82-97a4-185a3bd6e3db",
   "metadata": {
    "tags": []
   },
   "outputs": [],
   "source": [
    "d = {\n",
    "    'SRD':41.2,\n",
    "    'HFV':47.7,\n",
    "    'ABU':120.0,\n",
    "    'QBC':150.2,\n",
    "    'OLP': 120.2\n",
    "}"
   ]
  },
  {
   "cell_type": "code",
   "execution_count": 15,
   "id": "3cf5e68c-4396-43b7-818f-da863038db5a",
   "metadata": {
    "tags": []
   },
   "outputs": [
    {
     "data": {
      "text/plain": [
       "{'SRD': 41.2, 'HFV': 47.7, 'ABU': 120.0, 'QBC': 150.2, 'OLP': 120.2}"
      ]
     },
     "execution_count": 15,
     "metadata": {},
     "output_type": "execute_result"
    }
   ],
   "source": [
    "d"
   ]
  },
  {
   "cell_type": "code",
   "execution_count": 16,
   "id": "ae313d8a-383b-470a-b50d-91ac1da6e87b",
   "metadata": {
    "tags": []
   },
   "outputs": [
    {
     "data": {
      "text/plain": [
       "[(41.2, 'SRD'), (47.7, 'HFV'), (120.0, 'ABU'), (120.2, 'OLP'), (150.2, 'QBC')]"
      ]
     },
     "execution_count": 16,
     "metadata": {},
     "output_type": "execute_result"
    }
   ],
   "source": [
    "sorted(zip(d.values(), d.keys()))"
   ]
  },
  {
   "cell_type": "code",
   "execution_count": 17,
   "id": "1203825a-5537-410f-9e39-3fefbf323912",
   "metadata": {
    "tags": []
   },
   "outputs": [],
   "source": [
    "d2 = zip(d.values(), d.keys())"
   ]
  },
  {
   "cell_type": "code",
   "execution_count": 18,
   "id": "b4443e31-7846-4c99-8aed-251ad9bc58fd",
   "metadata": {
    "tags": []
   },
   "outputs": [
    {
     "name": "stdout",
     "output_type": "stream",
     "text": [
      "(41.2, 'SRD')\n"
     ]
    }
   ],
   "source": [
    "print(min(d2))"
   ]
  },
  {
   "cell_type": "code",
   "execution_count": 19,
   "id": "b9caf72d-e229-4261-a2cd-7d8e230c3e50",
   "metadata": {
    "tags": []
   },
   "outputs": [
    {
     "ename": "ValueError",
     "evalue": "max() arg is an empty sequence",
     "output_type": "error",
     "traceback": [
      "\u001b[1;31m---------------------------------------------------------------------------\u001b[0m",
      "\u001b[1;31mValueError\u001b[0m                                Traceback (most recent call last)",
      "Cell \u001b[1;32mIn[19], line 1\u001b[0m\n\u001b[1;32m----> 1\u001b[0m \u001b[38;5;28mprint\u001b[39m(\u001b[38;5;28mmax\u001b[39m(d2))\n",
      "\u001b[1;31mValueError\u001b[0m: max() arg is an empty sequence"
     ]
    }
   ],
   "source": [
    "print(max(d2))"
   ]
  },
  {
   "cell_type": "code",
   "execution_count": 20,
   "id": "7bede88c-facf-410f-a24d-026fd9088215",
   "metadata": {
    "tags": []
   },
   "outputs": [
    {
     "name": "stdout",
     "output_type": "stream",
     "text": [
      "(41.2, 'SRD')\n"
     ]
    }
   ],
   "source": [
    "print(min(zip(d.values(), d.keys())))"
   ]
  },
  {
   "cell_type": "code",
   "execution_count": 21,
   "id": "ad42ae67-c75a-49f6-b793-114b013c4a6a",
   "metadata": {
    "tags": []
   },
   "outputs": [
    {
     "name": "stdout",
     "output_type": "stream",
     "text": [
      "(150.2, 'QBC')\n"
     ]
    }
   ],
   "source": [
    "print(max(zip(d.values(), d.keys())))"
   ]
  },
  {
   "cell_type": "markdown",
   "id": "9ec4ad84-dfa7-4391-a834-78781f2ecfa7",
   "metadata": {},
   "source": [
    "# Finding commonalities in two dictionaries"
   ]
  },
  {
   "cell_type": "code",
   "execution_count": 22,
   "id": "6dfd2d24-d006-4b23-92c8-550f64a8ce74",
   "metadata": {
    "tags": []
   },
   "outputs": [],
   "source": [
    "d1 = {\n",
    "    'a':10, \n",
    "    'b':20,\n",
    "    'c':30\n",
    "}"
   ]
  },
  {
   "cell_type": "code",
   "execution_count": 24,
   "id": "4916170e-5f12-4846-bb85-910bddb6f69f",
   "metadata": {
    "tags": []
   },
   "outputs": [],
   "source": [
    "d2 = {\n",
    "    'a':10, \n",
    "    'b':25,\n",
    "    'd':40\n",
    "}"
   ]
  },
  {
   "cell_type": "code",
   "execution_count": 25,
   "id": "b5554c70-6ef8-4678-9b75-21cbdb16f052",
   "metadata": {
    "tags": []
   },
   "outputs": [
    {
     "data": {
      "text/plain": [
       "{'a', 'b'}"
      ]
     },
     "execution_count": 25,
     "metadata": {},
     "output_type": "execute_result"
    }
   ],
   "source": [
    "d1.keys() & d2.keys()"
   ]
  },
  {
   "cell_type": "code",
   "execution_count": 26,
   "id": "7b66a93f-58c8-4dd0-accd-34121f5c9b66",
   "metadata": {
    "tags": []
   },
   "outputs": [
    {
     "data": {
      "text/plain": [
       "{'c'}"
      ]
     },
     "execution_count": 26,
     "metadata": {},
     "output_type": "execute_result"
    }
   ],
   "source": [
    "d1.keys() - d2.keys()"
   ]
  },
  {
   "cell_type": "code",
   "execution_count": 27,
   "id": "31fb18fa-fbe9-4d11-bf4b-628d126a2c5a",
   "metadata": {
    "tags": []
   },
   "outputs": [
    {
     "data": {
      "text/plain": [
       "{'d'}"
      ]
     },
     "execution_count": 27,
     "metadata": {},
     "output_type": "execute_result"
    }
   ],
   "source": [
    "d2.keys() - d1.keys()"
   ]
  },
  {
   "cell_type": "code",
   "execution_count": 28,
   "id": "1b7d8998-7ba1-4d06-a174-db8cc95fff54",
   "metadata": {
    "tags": []
   },
   "outputs": [
    {
     "data": {
      "text/plain": [
       "{('b', 20), ('c', 30)}"
      ]
     },
     "execution_count": 28,
     "metadata": {},
     "output_type": "execute_result"
    }
   ],
   "source": [
    "d1.items() - d2.items()"
   ]
  },
  {
   "cell_type": "code",
   "execution_count": 29,
   "id": "5204a532-1cb8-4d11-a152-23cf3ee2d343",
   "metadata": {
    "tags": []
   },
   "outputs": [
    {
     "data": {
      "text/plain": [
       "{('a', 10)}"
      ]
     },
     "execution_count": 29,
     "metadata": {},
     "output_type": "execute_result"
    }
   ],
   "source": [
    "d1.items() & d2.items()"
   ]
  },
  {
   "cell_type": "code",
   "execution_count": 30,
   "id": "3883625b-71a5-41ec-9863-cf89a52c3228",
   "metadata": {
    "tags": []
   },
   "outputs": [],
   "source": [
    "d3 = {key: d1.keys for key in d1.keys() - {'a', 'q'}}"
   ]
  },
  {
   "cell_type": "code",
   "execution_count": 31,
   "id": "aea1a693-e4b8-42bf-89e8-7bac5e4ed133",
   "metadata": {
    "tags": []
   },
   "outputs": [
    {
     "data": {
      "text/plain": [
       "{'c': <function dict.keys>, 'b': <function dict.keys>}"
      ]
     },
     "execution_count": 31,
     "metadata": {},
     "output_type": "execute_result"
    }
   ],
   "source": [
    "d3"
   ]
  },
  {
   "cell_type": "markdown",
   "id": "7c9900e6-bdda-4802-9836-22ed287d6b89",
   "metadata": {},
   "source": [
    "# Removing duplicates from a sequence while keeping the order"
   ]
  },
  {
   "cell_type": "code",
   "execution_count": 32,
   "id": "d7bac408-276c-451c-9fa6-345034360c08",
   "metadata": {
    "tags": []
   },
   "outputs": [],
   "source": [
    "l = [1, 5, 12, -13, 27, 89, 145, 89, -13, 1, 5]"
   ]
  },
  {
   "cell_type": "code",
   "execution_count": 33,
   "id": "87958a6e-0f76-40a5-9cdf-3c2785823364",
   "metadata": {
    "tags": []
   },
   "outputs": [
    {
     "data": {
      "text/plain": [
       "{-13, 1, 5, 12, 27, 89, 145}"
      ]
     },
     "execution_count": 33,
     "metadata": {},
     "output_type": "execute_result"
    }
   ],
   "source": [
    "set(l)"
   ]
  },
  {
   "cell_type": "code",
   "execution_count": 38,
   "id": "709d0d73-f855-4396-87ef-20007fc500ba",
   "metadata": {
    "tags": []
   },
   "outputs": [],
   "source": [
    "def eli_dup(items):\n",
    "    seen_items = set()\n",
    "    for item in items:\n",
    "        if item not in seen_items:\n",
    "            yield item\n",
    "            seen_items.add(item)"
   ]
  },
  {
   "cell_type": "code",
   "execution_count": 39,
   "id": "0c4cdac3-899f-47a2-a7ef-238e12c7e8ff",
   "metadata": {
    "tags": []
   },
   "outputs": [
    {
     "data": {
      "text/plain": [
       "<generator object eli_dup at 0x0000008D6D894D60>"
      ]
     },
     "execution_count": 39,
     "metadata": {},
     "output_type": "execute_result"
    }
   ],
   "source": [
    "eli_dup(l)"
   ]
  },
  {
   "cell_type": "code",
   "execution_count": 40,
   "id": "ee930735-15ea-4731-9353-013dae454bb7",
   "metadata": {
    "tags": []
   },
   "outputs": [
    {
     "data": {
      "text/plain": [
       "[1, 5, 12, -13, 27, 89, 145]"
      ]
     },
     "execution_count": 40,
     "metadata": {},
     "output_type": "execute_result"
    }
   ],
   "source": [
    "list(eli_dup(l))"
   ]
  },
  {
   "cell_type": "code",
   "execution_count": 41,
   "id": "bddd30e2-7567-4af8-9f4b-9c3e2b2af4be",
   "metadata": {
    "tags": []
   },
   "outputs": [],
   "source": [
    "d = [{'a':1, 'b':2}, {'a':10, 'b':2},{'a':1, 'b':2},{'a':20, 'b':40}]"
   ]
  },
  {
   "cell_type": "code",
   "execution_count": 42,
   "id": "e59042a6-a739-4a5c-b2b6-c9fde09c087c",
   "metadata": {
    "tags": []
   },
   "outputs": [
    {
     "ename": "TypeError",
     "evalue": "unhashable type: 'dict'",
     "output_type": "error",
     "traceback": [
      "\u001b[1;31m---------------------------------------------------------------------------\u001b[0m",
      "\u001b[1;31mTypeError\u001b[0m                                 Traceback (most recent call last)",
      "Cell \u001b[1;32mIn[42], line 1\u001b[0m\n\u001b[1;32m----> 1\u001b[0m \u001b[38;5;28mlist\u001b[39m(eli_dup(d))\n",
      "Cell \u001b[1;32mIn[38], line 4\u001b[0m, in \u001b[0;36meli_dup\u001b[1;34m(items)\u001b[0m\n\u001b[0;32m      2\u001b[0m seen_items \u001b[38;5;241m=\u001b[39m \u001b[38;5;28mset\u001b[39m()\n\u001b[0;32m      3\u001b[0m \u001b[38;5;28;01mfor\u001b[39;00m item \u001b[38;5;129;01min\u001b[39;00m items:\n\u001b[1;32m----> 4\u001b[0m     \u001b[38;5;28;01mif\u001b[39;00m item \u001b[38;5;129;01mnot\u001b[39;00m \u001b[38;5;129;01min\u001b[39;00m seen_items:\n\u001b[0;32m      5\u001b[0m         \u001b[38;5;28;01myield\u001b[39;00m item\n\u001b[0;32m      6\u001b[0m         seen_items\u001b[38;5;241m.\u001b[39madd(item)\n",
      "\u001b[1;31mTypeError\u001b[0m: unhashable type: 'dict'"
     ]
    }
   ],
   "source": [
    "list(eli_dup(d))"
   ]
  },
  {
   "cell_type": "code",
   "execution_count": 45,
   "id": "b97fa9ea-745d-4364-b918-2cb7d7397d7f",
   "metadata": {
    "tags": []
   },
   "outputs": [],
   "source": [
    "def eli_dup(items, key = None):\n",
    "    seen_items = set()\n",
    "    for item in items:\n",
    "        val = item if key is None else key(item)\n",
    "        if val not in seen_items:\n",
    "            yield item\n",
    "            seen_items.add(val)"
   ]
  },
  {
   "cell_type": "code",
   "execution_count": 46,
   "id": "af27b75a-11fd-4b21-a0b4-3cf572e6379c",
   "metadata": {
    "tags": []
   },
   "outputs": [
    {
     "data": {
      "text/plain": [
       "[{'a': 1, 'b': 2}, {'a': 10, 'b': 2}, {'a': 20, 'b': 40}]"
      ]
     },
     "execution_count": 46,
     "metadata": {},
     "output_type": "execute_result"
    }
   ],
   "source": [
    "list(eli_dup(d, key = lambda n: n['a']))"
   ]
  },
  {
   "cell_type": "code",
   "execution_count": 47,
   "id": "a11192c8-7363-44c8-b42b-261803fb482c",
   "metadata": {
    "tags": []
   },
   "outputs": [
    {
     "data": {
      "text/plain": [
       "[{'a': 1, 'b': 2}, {'a': 10, 'b': 2}, {'a': 1, 'b': 2}, {'a': 20, 'b': 40}]"
      ]
     },
     "execution_count": 47,
     "metadata": {},
     "output_type": "execute_result"
    }
   ],
   "source": [
    "d"
   ]
  },
  {
   "cell_type": "code",
   "execution_count": 49,
   "id": "bbfcfc1d-1575-48e9-94fc-0b1534494c46",
   "metadata": {
    "tags": []
   },
   "outputs": [],
   "source": [
    "d.append({'a':20, 'b':80})"
   ]
  },
  {
   "cell_type": "code",
   "execution_count": 50,
   "id": "b7979e58-9e69-4e07-b274-e5efdb28e22b",
   "metadata": {
    "tags": []
   },
   "outputs": [
    {
     "data": {
      "text/plain": [
       "[{'a': 1, 'b': 2},\n",
       " {'a': 10, 'b': 2},\n",
       " {'a': 1, 'b': 2},\n",
       " {'a': 20, 'b': 40},\n",
       " {'a': 20, 'b': 80}]"
      ]
     },
     "execution_count": 50,
     "metadata": {},
     "output_type": "execute_result"
    }
   ],
   "source": [
    "d"
   ]
  },
  {
   "cell_type": "code",
   "execution_count": 51,
   "id": "bd085492-4c1b-4dc5-9e0a-af90e48747ad",
   "metadata": {
    "tags": []
   },
   "outputs": [
    {
     "data": {
      "text/plain": [
       "[{'a': 1, 'b': 2}, {'a': 10, 'b': 2}, {'a': 20, 'b': 40}]"
      ]
     },
     "execution_count": 51,
     "metadata": {},
     "output_type": "execute_result"
    }
   ],
   "source": [
    "list(eli_dup(d, key = lambda n: n['a']))"
   ]
  },
  {
   "cell_type": "code",
   "execution_count": 53,
   "id": "d3cc3d07-1738-4c0c-9f72-4723a01d0a5f",
   "metadata": {
    "tags": []
   },
   "outputs": [
    {
     "data": {
      "text/plain": [
       "[{'a': 1, 'b': 2}, {'a': 10, 'b': 2}, {'a': 20, 'b': 40}, {'a': 20, 'b': 80}]"
      ]
     },
     "execution_count": 53,
     "metadata": {},
     "output_type": "execute_result"
    }
   ],
   "source": [
    "list(eli_dup(d, key = lambda n:( n['a'], n['b'])))"
   ]
  },
  {
   "cell_type": "code",
   "execution_count": 54,
   "id": "94fc5a87-9fda-40d6-a887-ed56e1b5f5b4",
   "metadata": {
    "tags": []
   },
   "outputs": [
    {
     "name": "stdout",
     "output_type": "stream",
     "text": [
      "oa;nm.c;anv .k;/\n",
      "\n",
      "oavjm; o;/l \n",
      "\n",
      " O,AP;L,.C;'.'\n",
      "\n",
      " TSSEXCRTVYBUVGYUBH\n",
      "\n",
      "AWSEDRFTGYHUJIKOL\n",
      "\n",
      "POLKJNHBGVHJ\n",
      "\n",
      ",MNBVFGTYHJMMNJK\n",
      "\n",
      "oa;nO,AP;L,.C;'.'\n",
      "\n",
      "m.c;anv\n",
      "\n",
      ",MNBVFGTYHJMMNJK\n"
     ]
    }
   ],
   "source": [
    "with open('D:\\\\ghazal\\\\python\\\\advance\\\\ch25-4\\\\text2.txt', 'r') as f:\n",
    "    for line in eli_dup(f):\n",
    "        print(line)"
   ]
  },
  {
   "cell_type": "markdown",
   "id": "381a5244-9e81-4c32-8fec-9f80c30ad035",
   "metadata": {},
   "source": [
    "# naming of a slice"
   ]
  },
  {
   "cell_type": "code",
   "execution_count": 55,
   "id": "00b5a743-7326-4474-bd0d-a137b67c62b5",
   "metadata": {
    "tags": []
   },
   "outputs": [],
   "source": [
    "r = '..........123...................458'"
   ]
  },
  {
   "cell_type": "code",
   "execution_count": 65,
   "id": "b5888ae6-69ed-4dad-a2cf-756712d3daff",
   "metadata": {
    "tags": []
   },
   "outputs": [],
   "source": [
    "v_p = (r[10: 13] , r[32: 35])"
   ]
  },
  {
   "cell_type": "code",
   "execution_count": 66,
   "id": "a02de108-4c85-444f-b5a6-acc165184faa",
   "metadata": {
    "tags": []
   },
   "outputs": [
    {
     "data": {
      "text/plain": [
       "('123', '458')"
      ]
     },
     "execution_count": 66,
     "metadata": {},
     "output_type": "execute_result"
    }
   ],
   "source": [
    "v_p"
   ]
  },
  {
   "cell_type": "code",
   "execution_count": 67,
   "id": "dfa96c11-c451-4535-b2c9-8183b0ad23a3",
   "metadata": {
    "tags": []
   },
   "outputs": [],
   "source": [
    "volt = slice(10, 13)\n",
    "pwr = slice(32, 35)\n"
   ]
  },
  {
   "cell_type": "code",
   "execution_count": 68,
   "id": "9a6906d3-fb23-4a25-820e-e99101c70f74",
   "metadata": {
    "tags": []
   },
   "outputs": [
    {
     "data": {
      "text/plain": [
       "slice(10, 13, None)"
      ]
     },
     "execution_count": 68,
     "metadata": {},
     "output_type": "execute_result"
    }
   ],
   "source": [
    "volt"
   ]
  },
  {
   "cell_type": "code",
   "execution_count": 69,
   "id": "5c1c6e96-f9df-46d4-86c5-af6f5a41912a",
   "metadata": {
    "tags": []
   },
   "outputs": [
    {
     "data": {
      "text/plain": [
       "slice(32, 35, None)"
      ]
     },
     "execution_count": 69,
     "metadata": {},
     "output_type": "execute_result"
    }
   ],
   "source": [
    "pwr"
   ]
  },
  {
   "cell_type": "code",
   "execution_count": 70,
   "id": "e2d287f8-fc5a-4060-98f7-3a0a77c403ab",
   "metadata": {
    "tags": []
   },
   "outputs": [],
   "source": [
    "v_p = (r[volt], r[pwr])"
   ]
  },
  {
   "cell_type": "code",
   "execution_count": 71,
   "id": "dd1cf2f9-cb0f-4461-bf76-1c1b53bae8e1",
   "metadata": {
    "tags": []
   },
   "outputs": [
    {
     "data": {
      "text/plain": [
       "('123', '458')"
      ]
     },
     "execution_count": 71,
     "metadata": {},
     "output_type": "execute_result"
    }
   ],
   "source": [
    "v_p"
   ]
  },
  {
   "cell_type": "code",
   "execution_count": 72,
   "id": "93ba6380-0bc5-41f0-90d7-73d8d673686f",
   "metadata": {
    "tags": []
   },
   "outputs": [],
   "source": [
    "l = [0, 10, 20, 30, 40, 50, 60]"
   ]
  },
  {
   "cell_type": "code",
   "execution_count": 73,
   "id": "edbc7c21-39c3-49ca-a569-648fe5e7738b",
   "metadata": {
    "tags": []
   },
   "outputs": [],
   "source": [
    "a = slice(3,5)"
   ]
  },
  {
   "cell_type": "code",
   "execution_count": 74,
   "id": "4aa2d28a-712c-43e5-9c5f-69814c751a39",
   "metadata": {
    "tags": []
   },
   "outputs": [
    {
     "data": {
      "text/plain": [
       "[30, 40]"
      ]
     },
     "execution_count": 74,
     "metadata": {},
     "output_type": "execute_result"
    }
   ],
   "source": [
    "l[a]"
   ]
  },
  {
   "cell_type": "code",
   "execution_count": 75,
   "id": "ee4003ea-b3e9-4ba9-9918-d0f0e88813bd",
   "metadata": {
    "tags": []
   },
   "outputs": [
    {
     "data": {
      "text/plain": [
       "[30, 40]"
      ]
     },
     "execution_count": 75,
     "metadata": {},
     "output_type": "execute_result"
    }
   ],
   "source": [
    "l[3:5]"
   ]
  },
  {
   "cell_type": "code",
   "execution_count": 76,
   "id": "79b8a640-148a-404c-97b4-baff1e835abf",
   "metadata": {
    "tags": []
   },
   "outputs": [],
   "source": [
    "l[a] = [300, 400]"
   ]
  },
  {
   "cell_type": "code",
   "execution_count": 77,
   "id": "471604ad-abd1-4de0-9695-068be05f37f1",
   "metadata": {
    "tags": []
   },
   "outputs": [
    {
     "data": {
      "text/plain": [
       "[0, 10, 20, 300, 400, 50, 60]"
      ]
     },
     "execution_count": 77,
     "metadata": {},
     "output_type": "execute_result"
    }
   ],
   "source": [
    "l"
   ]
  },
  {
   "cell_type": "code",
   "execution_count": 78,
   "id": "4b12e642-4fe8-4701-a4e0-0fd5d7480b7c",
   "metadata": {
    "tags": []
   },
   "outputs": [],
   "source": [
    "del l[a]"
   ]
  },
  {
   "cell_type": "code",
   "execution_count": 79,
   "id": "237b8fa9-6ebb-447b-8d2f-b65ae1b8a10f",
   "metadata": {
    "tags": []
   },
   "outputs": [
    {
     "data": {
      "text/plain": [
       "[0, 10, 20, 50, 60]"
      ]
     },
     "execution_count": 79,
     "metadata": {},
     "output_type": "execute_result"
    }
   ],
   "source": [
    "l"
   ]
  },
  {
   "cell_type": "code",
   "execution_count": 80,
   "id": "02bc7035-6789-4fdf-a1fe-84f6231f9825",
   "metadata": {
    "tags": []
   },
   "outputs": [],
   "source": [
    "a = slice(1, 10, 2)"
   ]
  },
  {
   "cell_type": "code",
   "execution_count": 81,
   "id": "ec654cc8-bbf3-4d6c-819d-3cedbb7fc205",
   "metadata": {
    "tags": []
   },
   "outputs": [
    {
     "data": {
      "text/plain": [
       "1"
      ]
     },
     "execution_count": 81,
     "metadata": {},
     "output_type": "execute_result"
    }
   ],
   "source": [
    "a.start"
   ]
  },
  {
   "cell_type": "code",
   "execution_count": 82,
   "id": "22057bcd-79d4-490e-8273-6cf87dbb08c8",
   "metadata": {
    "tags": []
   },
   "outputs": [
    {
     "data": {
      "text/plain": [
       "10"
      ]
     },
     "execution_count": 82,
     "metadata": {},
     "output_type": "execute_result"
    }
   ],
   "source": [
    "a.stop"
   ]
  },
  {
   "cell_type": "code",
   "execution_count": 83,
   "id": "b513f920-b14b-4598-9883-cba116086569",
   "metadata": {
    "tags": []
   },
   "outputs": [
    {
     "data": {
      "text/plain": [
       "2"
      ]
     },
     "execution_count": 83,
     "metadata": {},
     "output_type": "execute_result"
    }
   ],
   "source": [
    "a.step"
   ]
  },
  {
   "cell_type": "code",
   "execution_count": null,
   "id": "8668fcee-a20d-4589-ac49-5f476f75dd20",
   "metadata": {},
   "outputs": [],
   "source": []
  }
 ],
 "metadata": {
  "kernelspec": {
   "display_name": "Python 3 (ipykernel)",
   "language": "python",
   "name": "python3"
  },
  "language_info": {
   "codemirror_mode": {
    "name": "ipython",
    "version": 3
   },
   "file_extension": ".py",
   "mimetype": "text/x-python",
   "name": "python",
   "nbconvert_exporter": "python",
   "pygments_lexer": "ipython3",
   "version": "3.11.3"
  }
 },
 "nbformat": 4,
 "nbformat_minor": 5
}
