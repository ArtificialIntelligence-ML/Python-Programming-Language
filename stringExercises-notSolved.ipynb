{
 "cells": [
  {
   "cell_type": "markdown",
   "id": "ccc4141e-f989-4e2c-9222-7f8cc7e9d15c",
   "metadata": {},
   "source": [
    "# Separate the following string using comma, semicolon, colon, and white space separators."
   ]
  },
  {
   "cell_type": "code",
   "execution_count": 19,
   "id": "5ac6cfec-0cf3-4a14-82b7-255a500d18f0",
   "metadata": {
    "tags": []
   },
   "outputs": [],
   "source": [
    "s = 'abcd; egfg 1234,ytre: 8796 vret, mopp'"
   ]
  },
  {
   "cell_type": "code",
   "execution_count": 22,
   "id": "5bafecc5-8d71-407e-a241-8c6ce9dacd67",
   "metadata": {
    "tags": []
   },
   "outputs": [
    {
     "data": {
      "text/plain": [
       "['abcd',\n",
       " ';',\n",
       " 'egfg',\n",
       " ' ',\n",
       " '1234',\n",
       " ',',\n",
       " 'ytre',\n",
       " ':',\n",
       " '8796',\n",
       " ' ',\n",
       " 'vret',\n",
       " ',',\n",
       " 'mopp']"
      ]
     },
     "execution_count": 22,
     "metadata": {},
     "output_type": "execute_result"
    }
   ],
   "source": []
  },
  {
   "cell_type": "code",
   "execution_count": 23,
   "id": "dab598c4-75bf-4ad3-bf8f-6626e1c71288",
   "metadata": {
    "tags": []
   },
   "outputs": [
    {
     "data": {
      "text/plain": [
       "['abcd', 'egfg', '1234', 'ytre', '8796', 'vret', 'mopp']"
      ]
     },
     "execution_count": 23,
     "metadata": {},
     "output_type": "execute_result"
    }
   ],
   "source": []
  },
  {
   "cell_type": "code",
   "execution_count": 24,
   "id": "d99e19b8-8b9f-4b22-ac13-2068ab5d7add",
   "metadata": {
    "tags": []
   },
   "outputs": [
    {
     "data": {
      "text/plain": [
       "[';', ' ', ',', ':', ' ', ',']"
      ]
     },
     "execution_count": 24,
     "metadata": {},
     "output_type": "execute_result"
    }
   ],
   "source": []
  },
  {
   "cell_type": "markdown",
   "id": "161de689-02c2-47f9-b28c-97ed9dbcef95",
   "metadata": {},
   "source": [
    "# Reproduce the string with the same delimiters."
   ]
  },
  {
   "cell_type": "code",
   "execution_count": 26,
   "id": "d71497aa-bba8-453a-84ec-c33e7df4a042",
   "metadata": {
    "tags": []
   },
   "outputs": [
    {
     "data": {
      "text/plain": [
       "'abcd;egfg 1234,ytre:8796 vret,'"
      ]
     },
     "execution_count": 26,
     "metadata": {},
     "output_type": "execute_result"
    }
   ],
   "source": []
  },
  {
   "cell_type": "markdown",
   "id": "0712c71b-b281-41aa-8b8f-aa434587cba6",
   "metadata": {},
   "source": [
    "# In a desired folder in your system, return the files with the requested extensions if present."
   ]
  },
  {
   "cell_type": "code",
   "execution_count": 28,
   "id": "2b3c44d8-02c2-4251-8a89-733126954e7b",
   "metadata": {
    "tags": []
   },
   "outputs": [
    {
     "data": {
      "text/plain": [
       "['.anaconda',\n",
       " '.arduinoIDE',\n",
       " '.cache',\n",
       " '.conda',\n",
       " '.condarc',\n",
       " '.continuum',\n",
       " '.idlerc',\n",
       " '.ipynb_checkpoints',\n",
       " '.ipython',\n",
       " '.jupyter',\n",
       " '.keras',\n",
       " '.matplotlib',\n",
       " '.RData',\n",
       " '.Rhistory',\n",
       " '.spyder-py3',\n",
       " '.wyliodrinstudio',\n",
       " '01a_DEMO_Reading_Data.ipynb',\n",
       " '01b_LAB_Reading_Data.ipynb',\n",
       " '01e_DEMO_Hypothesis_Testing.ipynb',\n",
       " '02a_LAB_Transforming_Target.ipynb',\n",
       " '02b_LAB_Regression_Train_Test_Split.ipynb',\n",
       " '02c_DEMO_Cross_Validation.ipynb',\n",
       " '02d_DEMO_Regularization.ipynb',\n",
       " '02e_LAB_Regularization.ipynb',\n",
       " '03b_LAB_KNN.ipynb',\n",
       " '03c_DEMO_SVM.ipynb',\n",
       " '03d_LAB_Decision_Trees.ipynb',\n",
       " '03e_DEMO_Bagging.ipynb',\n",
       " '03f_LAB_Boosting_and_Stacking.ipynb',\n",
       " '04a_LAB_KMeansClustering.ipynb',\n",
       " '04b_DEMO_Distance_Dimensionality.ipynb',\n",
       " '04c_LAB_Clustering_Methods.ipynb',\n",
       " '04d_DEMO_Dimensionality_Reduction.ipynb',\n",
       " '04e_DEMO_nmf.ipynb',\n",
       " '4.3_Plotly_Basics.ipynb',\n",
       " '5) Classification_Tree_SVM.ipynb',\n",
       " '5Y1nHm5xSouNZx5ucaqLZg_c93a585749804b1e87603f707f04bd3f_01b_LAB_Reading_Data.zip',\n",
       " '5_Peer_Graded_Assignment_Questions.ipynb',\n",
       " 'Activity_ Arrays and vectors with NumPy.ipynb',\n",
       " 'Activity_ Conditional statements.ipynb',\n",
       " 'Activity_ Course 5 Automatidata project lab.ipynb',\n",
       " 'Activity_ Dataframes with pandas.ipynb',\n",
       " 'Activity_ Dictionaries & sets.ipynb',\n",
       " 'Activity_ For loops.ipynb',\n",
       " 'Activity_ Functions.ipynb',\n",
       " 'Activity_ Lists & tuples.ipynb',\n",
       " 'Activity_ Strings.ipynb',\n",
       " 'Activity_ Use Python syntax.ipynb',\n",
       " 'Activity_ While loops.ipynb',\n",
       " 'Activity_Address missing data.ipynb',\n",
       " 'Activity_Course 2 Automatidata project lab.ipynb',\n",
       " 'Activity_Course 3 Automatidata project lab.ipynb',\n",
       " 'Activity_Discover what is in your dataset.ipynb',\n",
       " 'Activity_Explore descriptive statistics.ipynb',\n",
       " 'Activity_Explore probability distributions.ipynb',\n",
       " 'Activity_Explore sampling.ipynb',\n",
       " 'Activity_Perform logistic regression.ipynb',\n",
       " 'Activity_Structure your data.ipynb',\n",
       " 'Activity_Validate and clean your data.ipynb',\n",
       " 'Ada_Boost.ipynb',\n",
       " 'Annotated follow-along guide_ Construct a logistic regression model with Python.ipynb',\n",
       " 'Annotated follow-along guide_ Data structures in Python.ipynb',\n",
       " 'Annotated follow-along guide_ Dealing with missing data in Python.ipynb',\n",
       " 'Annotated follow-along guide_ EDA structuring with Python.ipynb',\n",
       " 'Annotated follow-along guide_ Explore one-way versus two-way ANOVA tests with Python.ipynb',\n",
       " 'Annotated follow-along guide_ Functions and conditional statements.ipynb',\n",
       " 'Annotated follow-along guide_ Hello, Python!.ipynb',\n",
       " 'Annotated follow-along guide_ Loops and strings.ipynb',\n",
       " 'Annotated follow-along guide_ Sampling with Python.ipynb',\n",
       " 'Annotated follow-along guide_Compute descriptive statistics with Python.ipynb',\n",
       " 'Annotated follow-along guide_Date string manipulations with Python.ipynb',\n",
       " 'Annotated follow-along guide_EDA using basic data functions with Python.ipynb',\n",
       " 'AppData',\n",
       " 'Application Data',\n",
       " 'Bagging.ipynb',\n",
       " 'boston_housing_clean.pickle',\n",
       " 'boston_housing_clean.pickle2',\n",
       " 'ch.ipynb30-9-strings&texts',\n",
       " 'ch22-1.ipynb',\n",
       " 'ch23-2.ipynb',\n",
       " 'ch24-3.ipynb',\n",
       " 'ch25-4.ipynb',\n",
       " 'ch26-5.ipynb',\n",
       " 'ch27-6.ipynb',\n",
       " 'ch28-7.ipynb',\n",
       " 'ch29-8-not-solved.ipynb',\n",
       " 'ch30-9-strings&texts.ipynb',\n",
       " 'ch31-10.ipynb',\n",
       " 'ch32-11.ipynb',\n",
       " 'ch33-12.ipynb',\n",
       " 'ch34-13.ipynb',\n",
       " 'ch35-14.ipynb',\n",
       " 'classification_tree_svm.ipynb',\n",
       " 'Contacts',\n",
       " 'Cookies',\n",
       " 'Cross_Validation.ipynb',\n",
       " 'DA0101EN-4-Review-Model-Development.ipynb',\n",
       " 'DA0101EN-5-Review-Model-Evaluation-and-Refinement.ipynb',\n",
       " 'Data_Cleaning_Lab.ipynb',\n",
       " 'DBSCAN.ipynb',\n",
       " 'Desktop',\n",
       " 'DistanceMetrics.ipynb',\n",
       " 'Documents',\n",
       " 'done_ Course 5 Automatidata project lab.ipynb',\n",
       " 'Downloads',\n",
       " 'drugtree.png',\n",
       " 'DV0101EN-Exercise-Area-Plots-Histograms-and-Bar-Charts.ipynb',\n",
       " 'DV0101EN-Exercise-Area-Plots-Histograms-and-Bar-Charts.jupyterlite.ipynb',\n",
       " 'DV0101EN-Exercise-Generating-Maps-in-Python.jupyterlite.ipynb',\n",
       " 'DV0101EN-Exercise-Introduction-to-Matplotlib-and-Line-Plots.jupyterlite.ipynb',\n",
       " 'DV0101EN-Exercise-Pie-Charts-Box-Plots-Scatter-Plots-and-Bubble-Plots.jupyterlite.ipynb',\n",
       " 'elniño.txt',\n",
       " 'ex1.xlsx',\n",
       " 'Exemplar_ Arrays and vectors with NumPy.ipynb',\n",
       " 'Exemplar_ Use Python Syntax.ipynb',\n",
       " 'Favorites',\n",
       " 'Final Assignment Webscraping (1).ipynb',\n",
       " 'Final Assignment Webscraping.ipynb',\n",
       " 'Final Assignment.ipynb',\n",
       " 'Final_Assignment Library.ipynb',\n",
       " 'GMM_v2.ipynb',\n",
       " 'Gradient_Boosting.ipynb',\n",
       " 'House_Sales_in_King_Count_USA.ipynb',\n",
       " 'House_Sales_in_King_Count_USA.jupyterlite.ipynb',\n",
       " 'HypothesisTesting_Lab.ipynb',\n",
       " 'Jedi',\n",
       " 'jupyter-labs-eda-dataviz.ipynb',\n",
       " 'jupyter-labs-spacex-data-collection-api(1) (1).ipynb',\n",
       " 'jupyter-labs-spacex-data-collection-api(1).ipynb',\n",
       " 'jupyter-labs-spacex-data-collection-api.ipynb',\n",
       " 'jupyter-labs-webscraping.ipynb',\n",
       " 'KernelPCA.ipynb',\n",
       " 'KMeansClustering.ipynb',\n",
       " 'labs-jupyter-spacex-Data wrangling.ipynb',\n",
       " 'lab_jupyter_decisiontree.ipynb',\n",
       " 'lab_jupyter_knn.ipynb',\n",
       " 'lab_jupyter_launch_site_location.ipynb',\n",
       " 'lab_jupyter_model-explanations.ipynb',\n",
       " 'lab_jupyter_svm.ipynb',\n",
       " 'lettersearch2.py',\n",
       " 'linear regression.ipynb',\n",
       " 'Links',\n",
       " 'Local Settings',\n",
       " 'Matrix_Review.ipynb',\n",
       " 'Mean_Shift_Clustering_v2.ipynb',\n",
       " 'ML0101EN-Clas-Decision-Trees-drug.ipynb',\n",
       " 'ML0101EN-Clas-K-Nearest-neighbors-CustCat.ipynb',\n",
       " 'ML0101EN-Clas-Logistic-Reg-churn.ipynb',\n",
       " 'ML0101EN-Clas-SVM-cancer.ipynb',\n",
       " 'ML0101EN-Clus-K-Means-Customer-Seg.ipynb',\n",
       " 'ML0101EN-Reg-Mulitple-Linear-Regression-Co2.ipynb',\n",
       " 'ML0101EN-Reg-Simple-Linear-Regression-Co2.ipynb',\n",
       " 'Multi-class_Classification.ipynb',\n",
       " 'Multi-Dimensional_Scaling.ipynb',\n",
       " 'Music',\n",
       " 'My Documents',\n",
       " 'NetHood',\n",
       " 'New folder',\n",
       " 'new_sample.xml',\n",
       " 'NN_with_Sklearn.ipynb',\n",
       " 'Non-Negative_Matrix_Factorization.ipynb',\n",
       " 'NTUSER.DAT',\n",
       " 'ntuser.dat.LOG1',\n",
       " 'ntuser.dat.LOG2',\n",
       " 'NTUSER.DAT{bbed3e3b-0b41-11e3-8249-d6927d06400b}.TM.blf',\n",
       " 'NTUSER.DAT{bbed3e3b-0b41-11e3-8249-d6927d06400b}.TMContainer00000000000000000001.regtrans-ms',\n",
       " 'NTUSER.DAT{bbed3e3b-0b41-11e3-8249-d6927d06400b}.TMContainer00000000000000000002.regtrans-ms',\n",
       " 'ntuser.ini',\n",
       " 'Pad_Stride_Pool_Act.ipynb',\n",
       " 'pandas_course.ipynb',\n",
       " 'password.json',\n",
       " 'PCA.ipynb',\n",
       " 'person.json',\n",
       " 'Pictures',\n",
       " 'Polynomial_Regression.ipynb',\n",
       " 'pre-trained-RNNs.ipynb',\n",
       " 'PrintHood',\n",
       " 'PY0101EN-5.4_WorkingWithDifferentFileTypes.ipynb',\n",
       " 'Ramdom_forest.ipynb',\n",
       " 'Recent',\n",
       " 'regression_tree.ipynb',\n",
       " 'Regression_Trees.ipynb',\n",
       " 'Regularization_Techniques.ipynb',\n",
       " 'sample.json',\n",
       " 'sample.xlsx',\n",
       " 'Saved Games',\n",
       " 'scikit_learn_data',\n",
       " 'Searches',\n",
       " 'SendTo',\n",
       " 'spacex_launch_geo (1).csv',\n",
       " 'spacex_launch_geo (2).csv',\n",
       " 'spacex_launch_geo (3).csv',\n",
       " 'spacex_launch_geo.csv',\n",
       " 'SpaceX_Machine Learning Prediction_Part_5 (1).ipynb',\n",
       " 'SpaceX_Machine Learning Prediction_Part_5.ipynb',\n",
       " 'Stackin__For_Classification_with_Python.ipynb',\n",
       " 'Start Menu',\n",
       " 'stringExercises.ipynb',\n",
       " 'SVD.ipynb',\n",
       " 'Templates',\n",
       " 'tfidf-lab.jupyterlite.ipynb',\n",
       " 'tree.png',\n",
       " 'Untitled Folder',\n",
       " 'Untitled Folder 1',\n",
       " 'Untitled Folder 2',\n",
       " 'Untitled Folder 3',\n",
       " 'Untitled.ipynb',\n",
       " 'Untitled1.ipynb',\n",
       " 'Untitled10.ipynb',\n",
       " 'Untitled11.ipynb',\n",
       " 'Untitled12.ipynb',\n",
       " 'Untitled13.ipynb',\n",
       " 'Untitled14.ipynb',\n",
       " 'Untitled15.ipynb',\n",
       " 'Untitled16.ipynb',\n",
       " 'Untitled17.ipynb',\n",
       " 'Untitled18.ipynb',\n",
       " 'Untitled19.ipynb',\n",
       " 'Untitled2.ipynb',\n",
       " 'Untitled20.ipynb',\n",
       " 'Untitled21.ipynb',\n",
       " 'Untitled22.ipynb',\n",
       " 'Untitled23.ipynb',\n",
       " 'Untitled24.ipynb',\n",
       " 'Untitled25.ipynb',\n",
       " 'Untitled26.ipynb',\n",
       " 'Untitled27.ipynb',\n",
       " 'Untitled28.ipynb',\n",
       " 'Untitled29.ipynb',\n",
       " 'Untitled3.ipynb',\n",
       " 'untitled3.py',\n",
       " 'Untitled30.ipynb',\n",
       " 'Untitled31.ipynb',\n",
       " 'Untitled32.ipynb',\n",
       " 'Untitled33.ipynb',\n",
       " 'Untitled34.ipynb',\n",
       " 'Untitled35.ipynb',\n",
       " 'Untitled4.ipynb',\n",
       " 'Untitled5.ipynb',\n",
       " 'Untitled6.ipynb',\n",
       " 'Untitled7.ipynb',\n",
       " 'Untitled8.ipynb',\n",
       " 'Untitled9.ipynb',\n",
       " 'Videos',\n",
       " 'WebScraping_Review_Lab (1).ipynb',\n",
       " 'WebScraping_Review_Lab.ipynb',\n",
       " 'wine_tree.png',\n",
       " 'WyliodrinSTUDIO']"
      ]
     },
     "execution_count": 28,
     "metadata": {},
     "output_type": "execute_result"
    }
   ],
   "source": []
  },
  {
   "cell_type": "code",
   "execution_count": 31,
   "id": "ea8d3a7e-f193-4091-86b2-0d49240f0055",
   "metadata": {
    "tags": []
   },
   "outputs": [
    {
     "data": {
      "text/plain": [
       "['elniño.txt']"
      ]
     },
     "execution_count": 31,
     "metadata": {},
     "output_type": "execute_result"
    }
   ],
   "source": []
  },
  {
   "cell_type": "code",
   "execution_count": 32,
   "id": "a8c1db53-8dbb-42cd-b30a-6cf14cfd077f",
   "metadata": {
    "tags": []
   },
   "outputs": [
    {
     "data": {
      "text/plain": [
       "True"
      ]
     },
     "execution_count": 32,
     "metadata": {},
     "output_type": "execute_result"
    }
   ],
   "source": []
  },
  {
   "cell_type": "markdown",
   "id": "811e2c32-77fd-4e2c-8ada-3d73dbbbd6b7",
   "metadata": {},
   "source": [
    "# From the following data, generate the desired outputs."
   ]
  },
  {
   "cell_type": "code",
   "execution_count": 2,
   "id": "4f7da18e-7961-450b-ad40-b8550cffc7c0",
   "metadata": {
    "tags": []
   },
   "outputs": [],
   "source": [
    "#fnmatchcase"
   ]
  },
  {
   "cell_type": "code",
   "execution_count": 34,
   "id": "be7b5b7b-bd09-40fc-9e41-ad01a167b25f",
   "metadata": {
    "tags": []
   },
   "outputs": [],
   "source": [
    "data = [\n",
    "    '-id 1214 -pl python',\n",
    "    '-id 1218 -pl R',    \n",
    "    '-id 1014 -pl R',\n",
    "    '-id 1110 -pl python',\n",
    "    '-id 1220 -pl python',\n",
    "    '-id 1020 -pl java'\n",
    "]"
   ]
  },
  {
   "cell_type": "code",
   "execution_count": 35,
   "id": "f43cef87-5e9b-40ce-87ec-2a9826f9e1cf",
   "metadata": {
    "tags": []
   },
   "outputs": [
    {
     "data": {
      "text/plain": [
       "['-id 1214 -pl python', '-id 1110 -pl python', '-id 1220 -pl python']"
      ]
     },
     "execution_count": 35,
     "metadata": {},
     "output_type": "execute_result"
    }
   ],
   "source": []
  },
  {
   "cell_type": "markdown",
   "id": "70bb5dfa-1074-4c3d-a33b-a469c94be2f3",
   "metadata": {},
   "source": [
    "# For the following string, write the appropriate regular expression to produce the desired output."
   ]
  },
  {
   "cell_type": "code",
   "execution_count": 135,
   "id": "0d2e4fb5-3acc-4ab1-b5ab-01f417dbb0ae",
   "metadata": {
    "tags": []
   },
   "outputs": [],
   "source": [
    "s = 'PyW 4/28/2019 and JaW 7/12/2018 and RW 9/25/2017 and PyW 12/4/2017'"
   ]
  },
  {
   "cell_type": "code",
   "execution_count": 137,
   "id": "a634b962-69dd-4431-a233-2bb684af7d74",
   "metadata": {
    "tags": []
   },
   "outputs": [
    {
     "data": {
      "text/plain": [
       "['PyW 4/28/2019', 'PyW 12/4/2017']"
      ]
     },
     "execution_count": 137,
     "metadata": {},
     "output_type": "execute_result"
    }
   ],
   "source": []
  },
  {
   "cell_type": "markdown",
   "id": "3e32f84d-2d56-4a78-8df1-031aa8eaa07c",
   "metadata": {},
   "source": [
    "# In the above string, extract all the dates and change their format as below."
   ]
  },
  {
   "cell_type": "code",
   "execution_count": 46,
   "id": "2293afd6-9d93-4880-8d1b-eb05d02d041b",
   "metadata": {
    "tags": []
   },
   "outputs": [
    {
     "name": "stdout",
     "output_type": "stream",
     "text": [
      "2019-4-28\n",
      "2018-7-12\n",
      "2017-9-25\n",
      "2017-12-4\n"
     ]
    }
   ],
   "source": []
  },
  {
   "cell_type": "code",
   "execution_count": 4,
   "id": "433cb9e5-8bd6-4347-859c-d6ab5ab6d8cd",
   "metadata": {
    "tags": []
   },
   "outputs": [],
   "source": [
    "#finditer"
   ]
  },
  {
   "cell_type": "code",
   "execution_count": 47,
   "id": "1ff4481c-4c36-4fd6-9aeb-2f63cb284984",
   "metadata": {
    "tags": []
   },
   "outputs": [
    {
     "name": "stdout",
     "output_type": "stream",
     "text": [
      "('4', '28', '2019')\n",
      "('7', '12', '2018')\n",
      "('9', '25', '2017')\n",
      "('12', '4', '2017')\n"
     ]
    }
   ],
   "source": []
  },
  {
   "cell_type": "code",
   "execution_count": 5,
   "id": "c32de372-6119-4765-a890-8dc5226c6672",
   "metadata": {
    "tags": []
   },
   "outputs": [],
   "source": [
    "#from calendar import month_abbr"
   ]
  },
  {
   "cell_type": "code",
   "execution_count": 50,
   "id": "599ab859-3311-4d0c-a717-60fc42fe4c6f",
   "metadata": {
    "tags": []
   },
   "outputs": [
    {
     "data": {
      "text/plain": [
       "'PyW 28 Apr 2019 and JaW 12 Jul 2018 and RW 25 Sep 2017 and PyW 4 Dec 2017'"
      ]
     },
     "execution_count": 50,
     "metadata": {},
     "output_type": "execute_result"
    }
   ],
   "source": []
  },
  {
   "cell_type": "markdown",
   "id": "3258fbb3-deea-4f16-98d9-aff1a2a979da",
   "metadata": {},
   "source": [
    "# In the following string, find the required expression and make the required substitutions."
   ]
  },
  {
   "cell_type": "code",
   "execution_count": 6,
   "id": "8f7148be-143f-4ca8-b001-7947472c2f69",
   "metadata": {
    "tags": []
   },
   "outputs": [],
   "source": [
    "#findall, sub"
   ]
  },
  {
   "cell_type": "code",
   "execution_count": 51,
   "id": "277938d2-cf12-4eb1-870a-3203c002ae03",
   "metadata": {
    "tags": []
   },
   "outputs": [],
   "source": [
    "s = 'Python, R, c, c++, c, Python, python, python, Python, R'"
   ]
  },
  {
   "cell_type": "code",
   "execution_count": 52,
   "id": "4c26c80e-bd83-4c6a-80c0-e5e24d896dac",
   "metadata": {
    "tags": []
   },
   "outputs": [
    {
     "data": {
      "text/plain": [
       "['python', 'python']"
      ]
     },
     "execution_count": 52,
     "metadata": {},
     "output_type": "execute_result"
    }
   ],
   "source": []
  },
  {
   "cell_type": "code",
   "execution_count": 53,
   "id": "36287404-78e5-4a21-8984-2509cce8a02f",
   "metadata": {
    "tags": []
   },
   "outputs": [
    {
     "data": {
      "text/plain": [
       "['Python', 'Python', 'python', 'python', 'Python']"
      ]
     },
     "execution_count": 53,
     "metadata": {},
     "output_type": "execute_result"
    }
   ],
   "source": []
  },
  {
   "cell_type": "code",
   "execution_count": 54,
   "id": "ffebcece-7a25-466a-b38e-5dd0c402f6a7",
   "metadata": {
    "tags": []
   },
   "outputs": [
    {
     "data": {
      "text/plain": [
       "'Python, R, c, c++, c, Python, java, java, Python, R'"
      ]
     },
     "execution_count": 54,
     "metadata": {},
     "output_type": "execute_result"
    }
   ],
   "source": []
  },
  {
   "cell_type": "code",
   "execution_count": 55,
   "id": "d0dcb3eb-ce24-4627-b95b-99988ae2084c",
   "metadata": {
    "tags": []
   },
   "outputs": [
    {
     "data": {
      "text/plain": [
       "'java, R, c, c++, c, java, java, java, java, R'"
      ]
     },
     "execution_count": 55,
     "metadata": {},
     "output_type": "execute_result"
    }
   ],
   "source": []
  },
  {
   "cell_type": "code",
   "execution_count": 56,
   "id": "3592fcc6-f040-4e9b-82ef-f02956257f1a",
   "metadata": {
    "tags": []
   },
   "outputs": [],
   "source": [
    "#Inner function"
   ]
  },
  {
   "cell_type": "code",
   "execution_count": 62,
   "id": "98d70a0e-3c8e-489d-b04d-05ff88c3883b",
   "metadata": {
    "tags": []
   },
   "outputs": [
    {
     "data": {
      "text/plain": [
       "'Java, R, c, c++, c, Java, java, java, Java, R'"
      ]
     },
     "execution_count": 62,
     "metadata": {},
     "output_type": "execute_result"
    }
   ],
   "source": []
  },
  {
   "cell_type": "markdown",
   "id": "faf07302-6fd2-43d5-a6bd-12d7e544aef6",
   "metadata": {},
   "source": [
    "# Write a regular expression to find the longest and shortest sequences between two *."
   ]
  },
  {
   "cell_type": "code",
   "execution_count": 63,
   "id": "7aeb6bad-ae9f-4cf9-b041-a57229448b03",
   "metadata": {
    "tags": []
   },
   "outputs": [],
   "source": [
    "s = 'I love *python* and *R* programming.'"
   ]
  },
  {
   "cell_type": "code",
   "execution_count": 65,
   "id": "628733d2-8c49-4ffe-95ea-2f12e59294af",
   "metadata": {
    "tags": []
   },
   "outputs": [
    {
     "data": {
      "text/plain": [
       "['python* and *R']"
      ]
     },
     "execution_count": 65,
     "metadata": {},
     "output_type": "execute_result"
    }
   ],
   "source": []
  },
  {
   "cell_type": "code",
   "execution_count": 67,
   "id": "c51f28d8-f60d-4bf9-9447-ad565cf0d6d9",
   "metadata": {
    "tags": []
   },
   "outputs": [
    {
     "data": {
      "text/plain": [
       "['python', 'R']"
      ]
     },
     "execution_count": 67,
     "metadata": {},
     "output_type": "execute_result"
    }
   ],
   "source": []
  },
  {
   "cell_type": "markdown",
   "id": "b5f4d485-9a27-4800-a1b2-5311bc8301b9",
   "metadata": {},
   "source": [
    "# Generate the phrase \"udemy\" using the appropriate unicode."
   ]
  },
  {
   "cell_type": "code",
   "execution_count": 69,
   "id": "37299c0d-5f4d-4e0e-a81a-e3bb414ae75b",
   "metadata": {
    "tags": []
   },
   "outputs": [
    {
     "data": {
      "text/plain": [
       "'udemy'"
      ]
     },
     "execution_count": 69,
     "metadata": {},
     "output_type": "execute_result"
    }
   ],
   "source": []
  },
  {
   "cell_type": "markdown",
   "id": "e3f83c0b-9f41-406a-9742-4fd9329ce688",
   "metadata": {},
   "source": [
    "# Make the following expressions in two different ways and compare them. Then normalize and compare again."
   ]
  },
  {
   "cell_type": "code",
   "execution_count": 70,
   "id": "28f7b166-9d44-447c-ad88-86ae42026133",
   "metadata": {
    "tags": []
   },
   "outputs": [
    {
     "data": {
      "text/plain": [
       "'straßbůrg'"
      ]
     },
     "execution_count": 70,
     "metadata": {},
     "output_type": "execute_result"
    }
   ],
   "source": []
  },
  {
   "cell_type": "code",
   "execution_count": 71,
   "id": "27e0891c-cb13-4031-9953-1ed421dc8a43",
   "metadata": {
    "tags": []
   },
   "outputs": [
    {
     "data": {
      "text/plain": [
       "'straßbůrg'"
      ]
     },
     "execution_count": 71,
     "metadata": {},
     "output_type": "execute_result"
    }
   ],
   "source": []
  },
  {
   "cell_type": "code",
   "execution_count": 72,
   "id": "225830a5-3cb8-4590-822e-f261e706be7a",
   "metadata": {
    "tags": []
   },
   "outputs": [
    {
     "data": {
      "text/plain": [
       "False"
      ]
     },
     "execution_count": 72,
     "metadata": {},
     "output_type": "execute_result"
    }
   ],
   "source": [
    "s1 == s2"
   ]
  },
  {
   "cell_type": "code",
   "execution_count": 76,
   "id": "38e13694-4418-4700-99f3-edc5591fde64",
   "metadata": {
    "tags": []
   },
   "outputs": [
    {
     "data": {
      "text/plain": [
       "True"
      ]
     },
     "execution_count": 76,
     "metadata": {},
     "output_type": "execute_result"
    }
   ],
   "source": [
    "s1n == s2n"
   ]
  },
  {
   "cell_type": "code",
   "execution_count": 77,
   "id": "ff282c17-4e99-4ba8-9c63-6cca12466d7b",
   "metadata": {
    "jp-MarkdownHeadingCollapsed": true,
    "tags": []
   },
   "outputs": [
    {
     "data": {
      "text/plain": [
       "'straßbůrg'"
      ]
     },
     "execution_count": 77,
     "metadata": {},
     "output_type": "execute_result"
    }
   ],
   "source": []
  },
  {
   "cell_type": "code",
   "execution_count": null,
   "id": "aebd139d-9e57-43ab-b88b-d3b160747d01",
   "metadata": {},
   "outputs": [],
   "source": []
  },
  {
   "cell_type": "code",
   "execution_count": 78,
   "id": "17e41b23-c991-4779-a336-890733d77904",
   "metadata": {
    "tags": []
   },
   "outputs": [
    {
     "data": {
      "text/plain": [
       "'straßbůrg'"
      ]
     },
     "execution_count": 78,
     "metadata": {},
     "output_type": "execute_result"
    }
   ],
   "source": []
  },
  {
   "cell_type": "code",
   "execution_count": 79,
   "id": "0be0cbc6-6366-461e-9325-14edf19ab50e",
   "metadata": {
    "tags": []
   },
   "outputs": [
    {
     "data": {
      "text/plain": [
       "\"'stra\\\\xdfbu\\\\u030arg'\""
      ]
     },
     "execution_count": 79,
     "metadata": {},
     "output_type": "execute_result"
    }
   ],
   "source": []
  },
  {
   "cell_type": "markdown",
   "id": "cd2221b9-a1e6-4d70-b405-11c687ceb2e7",
   "metadata": {},
   "source": [
    "# Remove the sounds on the letters."
   ]
  },
  {
   "cell_type": "code",
   "execution_count": 81,
   "id": "c58b094d-2f93-43b7-a92e-75f887c3dd32",
   "metadata": {
    "tags": []
   },
   "outputs": [
    {
     "data": {
      "text/plain": [
       "'straßburg'"
      ]
     },
     "execution_count": 81,
     "metadata": {},
     "output_type": "execute_result"
    }
   ],
   "source": []
  },
  {
   "cell_type": "markdown",
   "id": "6fcda0f3-a91c-42df-b945-e1dd73a29e04",
   "metadata": {},
   "source": [
    "# Create a map to convert Persian numbers or Unicode characters representing numbers in general."
   ]
  },
  {
   "cell_type": "code",
   "execution_count": 9,
   "id": "90463623-1e2b-4f18-ae5c-3c25235b02b0",
   "metadata": {
    "tags": []
   },
   "outputs": [],
   "source": [
    "#unicodedata.digit()\n",
    "#unicodedata.category() -> 'Nd'"
   ]
  },
  {
   "cell_type": "code",
   "execution_count": 95,
   "id": "12bdd060-b1ef-4caf-ac01-4ee296da9633",
   "metadata": {
    "tags": []
   },
   "outputs": [
    {
     "data": {
      "text/plain": [
       "'۱۲۳'"
      ]
     },
     "execution_count": 95,
     "metadata": {},
     "output_type": "execute_result"
    }
   ],
   "source": []
  },
  {
   "cell_type": "code",
   "execution_count": 109,
   "id": "03d632be-4dd3-4f0b-a0dc-0b2e123f2e2c",
   "metadata": {
    "tags": []
   },
   "outputs": [
    {
     "data": {
      "text/plain": [
       "'123'"
      ]
     },
     "execution_count": 109,
     "metadata": {},
     "output_type": "execute_result"
    }
   ],
   "source": []
  },
  {
   "cell_type": "markdown",
   "id": "4bd9814a-4e31-4e30-bc6d-5f9b33d448b1",
   "metadata": {},
   "source": [
    "# Put the requested variables in the order shown in the string below."
   ]
  },
  {
   "cell_type": "code",
   "execution_count": 111,
   "id": "155a192e-5999-4c0a-8bec-c1edc5ad17f1",
   "metadata": {
    "tags": []
   },
   "outputs": [],
   "source": [
    "s = 'We are using {dev_env_name} for {prog_lan_name}'"
   ]
  },
  {
   "cell_type": "code",
   "execution_count": 113,
   "id": "da3d8d4e-4c8f-473d-8355-6aa54551f633",
   "metadata": {
    "tags": []
   },
   "outputs": [
    {
     "data": {
      "text/plain": [
       "'We are using Jupyter Lab for Python'"
      ]
     },
     "execution_count": 113,
     "metadata": {},
     "output_type": "execute_result"
    }
   ],
   "source": []
  },
  {
   "cell_type": "markdown",
   "id": "b2b36036-20f9-49b0-aeef-5feeb717a85c",
   "metadata": {},
   "source": [
    "# Tokenizing and filtering white spaces"
   ]
  },
  {
   "cell_type": "code",
   "execution_count": 114,
   "id": "7ad31900-ea24-45ba-a24d-6521318173d2",
   "metadata": {
    "tags": []
   },
   "outputs": [],
   "source": [
    "s = 'price_5 = 12 * a + 25 * 9 / 8'"
   ]
  },
  {
   "cell_type": "code",
   "execution_count": 124,
   "id": "1836c039-953f-4cc8-9364-8a211057b6fb",
   "metadata": {
    "tags": []
   },
   "outputs": [
    {
     "name": "stdout",
     "output_type": "stream",
     "text": [
      "token(type='NAME', val='price_5')\n",
      "token(type='EQ', val='=')\n",
      "token(type='NUM', val='12')\n",
      "token(type='TIMES', val='*')\n",
      "token(type='NAME', val='a')\n",
      "token(type='PLUS', val='+')\n",
      "token(type='NUM', val='25')\n",
      "token(type='TIMES', val='*')\n",
      "token(type='NUM', val='9')\n",
      "token(type='DIV', val='/')\n",
      "token(type='NUM', val='8')\n"
     ]
    }
   ],
   "source": []
  },
  {
   "cell_type": "markdown",
   "id": "1669edb5-faf2-410c-a18f-a7e4f809c382",
   "metadata": {},
   "source": [
    "# Perform the appropriate operations on the byte strings to produce the outputs shown."
   ]
  },
  {
   "cell_type": "code",
   "execution_count": 125,
   "id": "28423095-d938-4c56-a2b2-c955574f957a",
   "metadata": {
    "tags": []
   },
   "outputs": [
    {
     "data": {
      "text/plain": [
       "'Python in Udemy'"
      ]
     },
     "execution_count": 125,
     "metadata": {},
     "output_type": "execute_result"
    }
   ],
   "source": []
  },
  {
   "cell_type": "code",
   "execution_count": 126,
   "id": "2254d19b-5f5d-4d1c-ab87-569f2bce44e4",
   "metadata": {
    "tags": []
   },
   "outputs": [
    {
     "data": {
      "text/plain": [
       "b'Python in Udemy'"
      ]
     },
     "execution_count": 126,
     "metadata": {},
     "output_type": "execute_result"
    }
   ],
   "source": []
  },
  {
   "cell_type": "code",
   "execution_count": 127,
   "id": "51753286-aecb-459a-94bf-04af74f3b362",
   "metadata": {
    "tags": []
   },
   "outputs": [
    {
     "data": {
      "text/plain": [
       "b'Python'"
      ]
     },
     "execution_count": 127,
     "metadata": {},
     "output_type": "execute_result"
    }
   ],
   "source": []
  },
  {
   "cell_type": "code",
   "execution_count": 128,
   "id": "fd12d945-3189-4459-bf11-d25847c6e96b",
   "metadata": {
    "tags": []
   },
   "outputs": [
    {
     "data": {
      "text/plain": [
       "b'Udemy'"
      ]
     },
     "execution_count": 128,
     "metadata": {},
     "output_type": "execute_result"
    }
   ],
   "source": []
  },
  {
   "cell_type": "code",
   "execution_count": 129,
   "id": "0e096798-2ef2-4fff-82f2-7dd68d7cde74",
   "metadata": {
    "tags": []
   },
   "outputs": [
    {
     "data": {
      "text/plain": [
       "[b'Python', b'in', b'Udemy']"
      ]
     },
     "execution_count": 129,
     "metadata": {},
     "output_type": "execute_result"
    }
   ],
   "source": []
  },
  {
   "cell_type": "code",
   "execution_count": 131,
   "id": "6fdcf472-fc23-4652-885e-57c00621f5b9",
   "metadata": {
    "tags": []
   },
   "outputs": [],
   "source": []
  },
  {
   "cell_type": "code",
   "execution_count": 12,
   "id": "9666977e-4481-4452-b25f-a336063aa090",
   "metadata": {
    "tags": []
   },
   "outputs": [],
   "source": [
    "#We are using {dev_env_name} for {prog_lan_name} {version}"
   ]
  },
  {
   "cell_type": "code",
   "execution_count": 132,
   "id": "432485dd-85e7-4c1b-a899-f0e10c822929",
   "metadata": {
    "tags": []
   },
   "outputs": [
    {
     "data": {
      "text/plain": [
       "'We are using Jupyter Lab for Python 3.12.0'"
      ]
     },
     "execution_count": 132,
     "metadata": {},
     "output_type": "execute_result"
    }
   ],
   "source": []
  },
  {
   "cell_type": "code",
   "execution_count": 133,
   "id": "d06b72a5-9fd6-4fe8-8e01-ae8c63e26eb9",
   "metadata": {
    "tags": []
   },
   "outputs": [
    {
     "data": {
      "text/plain": [
       "b'We are using Jupyter Lab for Python 3.12.0'"
      ]
     },
     "execution_count": 133,
     "metadata": {},
     "output_type": "execute_result"
    }
   ],
   "source": []
  }
 ],
 "metadata": {
  "kernelspec": {
   "display_name": "Python 3 (ipykernel)",
   "language": "python",
   "name": "python3"
  },
  "language_info": {
   "codemirror_mode": {
    "name": "ipython",
    "version": 3
   },
   "file_extension": ".py",
   "mimetype": "text/x-python",
   "name": "python",
   "nbconvert_exporter": "python",
   "pygments_lexer": "ipython3",
   "version": "3.11.3"
  }
 },
 "nbformat": 4,
 "nbformat_minor": 5
}
