{
 "cells": [
  {
   "cell_type": "markdown",
   "id": "ccc4141e-f989-4e2c-9222-7f8cc7e9d15c",
   "metadata": {},
   "source": [
    "# Separate the following string using comma, semicolon, colon, and white space separators."
   ]
  },
  {
   "cell_type": "code",
   "execution_count": 1,
   "id": "5ac6cfec-0cf3-4a14-82b7-255a500d18f0",
   "metadata": {
    "tags": []
   },
   "outputs": [],
   "source": [
    "s = 'abcd; egfg 1234,ytre: 8796 vret, mopp'"
   ]
  },
  {
   "cell_type": "code",
   "execution_count": 2,
   "id": "e7f99750-31ed-4646-8ba7-650c1db26ad1",
   "metadata": {
    "tags": []
   },
   "outputs": [],
   "source": [
    "import re"
   ]
  },
  {
   "cell_type": "code",
   "execution_count": 3,
   "id": "d77c3321-1d60-4abd-a6d3-25dda6dcda13",
   "metadata": {
    "tags": []
   },
   "outputs": [],
   "source": [
    "fields = re.split(r'(;|,|:|\\s)\\s*', s)"
   ]
  },
  {
   "cell_type": "code",
   "execution_count": 4,
   "id": "5bafecc5-8d71-407e-a241-8c6ce9dacd67",
   "metadata": {
    "tags": []
   },
   "outputs": [
    {
     "data": {
      "text/plain": [
       "['abcd',\n",
       " ';',\n",
       " 'egfg',\n",
       " ' ',\n",
       " '1234',\n",
       " ',',\n",
       " 'ytre',\n",
       " ':',\n",
       " '8796',\n",
       " ' ',\n",
       " 'vret',\n",
       " ',',\n",
       " 'mopp']"
      ]
     },
     "execution_count": 4,
     "metadata": {},
     "output_type": "execute_result"
    }
   ],
   "source": [
    "fields"
   ]
  },
  {
   "cell_type": "code",
   "execution_count": 5,
   "id": "dab598c4-75bf-4ad3-bf8f-6626e1c71288",
   "metadata": {
    "tags": []
   },
   "outputs": [
    {
     "data": {
      "text/plain": [
       "['abcd', 'egfg', '1234', 'ytre', '8796', 'vret', 'mopp']"
      ]
     },
     "execution_count": 5,
     "metadata": {},
     "output_type": "execute_result"
    }
   ],
   "source": [
    "val = fields[::2]; val"
   ]
  },
  {
   "cell_type": "code",
   "execution_count": 6,
   "id": "d99e19b8-8b9f-4b22-ac13-2068ab5d7add",
   "metadata": {
    "tags": []
   },
   "outputs": [
    {
     "data": {
      "text/plain": [
       "[';', ' ', ',', ':', ' ', ',']"
      ]
     },
     "execution_count": 6,
     "metadata": {},
     "output_type": "execute_result"
    }
   ],
   "source": [
    "deli = fields[1::2]; deli"
   ]
  },
  {
   "cell_type": "code",
   "execution_count": 7,
   "id": "6ef27e1b-b580-4592-8056-05b6a61ecee9",
   "metadata": {
    "tags": []
   },
   "outputs": [
    {
     "data": {
      "text/plain": [
       "'abcd;egfg 1234,ytre:8796 vret,'"
      ]
     },
     "execution_count": 7,
     "metadata": {},
     "output_type": "execute_result"
    }
   ],
   "source": [
    "''.join( v + d for v,d in zip(val, deli))"
   ]
  },
  {
   "cell_type": "markdown",
   "id": "161de689-02c2-47f9-b28c-97ed9dbcef95",
   "metadata": {},
   "source": [
    "# Reproduce the string with the same delimiters."
   ]
  },
  {
   "cell_type": "code",
   "execution_count": 8,
   "id": "d71497aa-bba8-453a-84ec-c33e7df4a042",
   "metadata": {
    "tags": []
   },
   "outputs": [
    {
     "data": {
      "text/plain": [
       "'abcd;egfg 1234,ytre:8796 vret,'"
      ]
     },
     "execution_count": 8,
     "metadata": {},
     "output_type": "execute_result"
    }
   ],
   "source": [
    "''.join( v + d for v,d in zip(val, deli))"
   ]
  },
  {
   "cell_type": "markdown",
   "id": "0712c71b-b281-41aa-8b8f-aa434587cba6",
   "metadata": {},
   "source": [
    "# In a desired folder in your system, return the files with the requested extensions if present."
   ]
  },
  {
   "cell_type": "code",
   "execution_count": 9,
   "id": "6ace93dc-94f1-49df-8fa9-d589b2b8f6b3",
   "metadata": {
    "tags": []
   },
   "outputs": [],
   "source": [
    "import os"
   ]
  },
  {
   "cell_type": "code",
   "execution_count": 10,
   "id": "2b3c44d8-02c2-4251-8a89-733126954e7b",
   "metadata": {
    "tags": []
   },
   "outputs": [
    {
     "data": {
      "text/plain": [
       "['.anaconda',\n",
       " '.arduinoIDE',\n",
       " '.cache',\n",
       " '.conda',\n",
       " '.condarc',\n",
       " '.continuum',\n",
       " '.idlerc',\n",
       " '.ipynb_checkpoints',\n",
       " '.ipython',\n",
       " '.jupyter',\n",
       " '.keras',\n",
       " '.matplotlib',\n",
       " '.RData',\n",
       " '.Rhistory',\n",
       " '.spyder-py3',\n",
       " '.wyliodrinstudio',\n",
       " '01a_DEMO_Reading_Data.ipynb',\n",
       " '01b_LAB_Reading_Data.ipynb',\n",
       " '01e_DEMO_Hypothesis_Testing.ipynb',\n",
       " '02a_LAB_Transforming_Target.ipynb',\n",
       " '02b_LAB_Regression_Train_Test_Split.ipynb',\n",
       " '02c_DEMO_Cross_Validation.ipynb',\n",
       " '02d_DEMO_Regularization.ipynb',\n",
       " '02e_LAB_Regularization.ipynb',\n",
       " '03b_LAB_KNN.ipynb',\n",
       " '03c_DEMO_SVM.ipynb',\n",
       " '03d_LAB_Decision_Trees.ipynb',\n",
       " '03e_DEMO_Bagging.ipynb',\n",
       " '03f_LAB_Boosting_and_Stacking.ipynb',\n",
       " '04a_LAB_KMeansClustering.ipynb',\n",
       " '04b_DEMO_Distance_Dimensionality.ipynb',\n",
       " '04c_LAB_Clustering_Methods.ipynb',\n",
       " '04d_DEMO_Dimensionality_Reduction.ipynb',\n",
       " '04e_DEMO_nmf.ipynb',\n",
       " '4.3_Plotly_Basics.ipynb',\n",
       " '5) Classification_Tree_SVM.ipynb',\n",
       " '5Y1nHm5xSouNZx5ucaqLZg_c93a585749804b1e87603f707f04bd3f_01b_LAB_Reading_Data.zip',\n",
       " '5_Peer_Graded_Assignment_Questions.ipynb',\n",
       " 'Activity_ Arrays and vectors with NumPy.ipynb',\n",
       " 'Activity_ Conditional statements.ipynb',\n",
       " 'Activity_ Course 5 Automatidata project lab.ipynb',\n",
       " 'Activity_ Dataframes with pandas.ipynb',\n",
       " 'Activity_ Dictionaries & sets.ipynb',\n",
       " 'Activity_ For loops.ipynb',\n",
       " 'Activity_ Functions.ipynb',\n",
       " 'Activity_ Lists & tuples.ipynb',\n",
       " 'Activity_ Strings.ipynb',\n",
       " 'Activity_ Use Python syntax.ipynb',\n",
       " 'Activity_ While loops.ipynb',\n",
       " 'Activity_Address missing data.ipynb',\n",
       " 'Activity_Course 2 Automatidata project lab.ipynb',\n",
       " 'Activity_Course 3 Automatidata project lab.ipynb',\n",
       " 'Activity_Discover what is in your dataset.ipynb',\n",
       " 'Activity_Explore descriptive statistics.ipynb',\n",
       " 'Activity_Explore probability distributions.ipynb',\n",
       " 'Activity_Explore sampling.ipynb',\n",
       " 'Activity_Perform logistic regression.ipynb',\n",
       " 'Activity_Structure your data.ipynb',\n",
       " 'Activity_Validate and clean your data.ipynb',\n",
       " 'Ada_Boost.ipynb',\n",
       " 'Annotated follow-along guide_ Construct a logistic regression model with Python.ipynb',\n",
       " 'Annotated follow-along guide_ Data structures in Python.ipynb',\n",
       " 'Annotated follow-along guide_ Dealing with missing data in Python.ipynb',\n",
       " 'Annotated follow-along guide_ EDA structuring with Python.ipynb',\n",
       " 'Annotated follow-along guide_ Explore one-way versus two-way ANOVA tests with Python.ipynb',\n",
       " 'Annotated follow-along guide_ Functions and conditional statements.ipynb',\n",
       " 'Annotated follow-along guide_ Hello, Python!.ipynb',\n",
       " 'Annotated follow-along guide_ Loops and strings.ipynb',\n",
       " 'Annotated follow-along guide_ Sampling with Python.ipynb',\n",
       " 'Annotated follow-along guide_Compute descriptive statistics with Python.ipynb',\n",
       " 'Annotated follow-along guide_Date string manipulations with Python.ipynb',\n",
       " 'Annotated follow-along guide_EDA using basic data functions with Python.ipynb',\n",
       " 'AppData',\n",
       " 'Application Data',\n",
       " 'Bagging.ipynb',\n",
       " 'boston_housing_clean.pickle',\n",
       " 'boston_housing_clean.pickle2',\n",
       " 'ch.ipynb30-9-strings&texts',\n",
       " 'ch22-1.ipynb',\n",
       " 'ch23-2.ipynb',\n",
       " 'ch24-3.ipynb',\n",
       " 'ch25-4.ipynb',\n",
       " 'ch26-5.ipynb',\n",
       " 'ch27-6.ipynb',\n",
       " 'ch28-7.ipynb',\n",
       " 'ch29-8-not-solved.ipynb',\n",
       " 'ch30-9-strings&texts.ipynb',\n",
       " 'ch31-10.ipynb',\n",
       " 'ch32-11.ipynb',\n",
       " 'ch33-12.ipynb',\n",
       " 'ch34-13.ipynb',\n",
       " 'ch35-14.ipynb',\n",
       " 'classification_tree_svm.ipynb',\n",
       " 'Contacts',\n",
       " 'Cookies',\n",
       " 'Cross_Validation.ipynb',\n",
       " 'DA0101EN-4-Review-Model-Development.ipynb',\n",
       " 'DA0101EN-5-Review-Model-Evaluation-and-Refinement.ipynb',\n",
       " 'Data_Cleaning_Lab.ipynb',\n",
       " 'DBSCAN.ipynb',\n",
       " 'Desktop',\n",
       " 'DistanceMetrics.ipynb',\n",
       " 'Documents',\n",
       " 'done_ Course 5 Automatidata project lab.ipynb',\n",
       " 'Downloads',\n",
       " 'drugtree.png',\n",
       " 'DV0101EN-Exercise-Area-Plots-Histograms-and-Bar-Charts.ipynb',\n",
       " 'DV0101EN-Exercise-Area-Plots-Histograms-and-Bar-Charts.jupyterlite.ipynb',\n",
       " 'DV0101EN-Exercise-Generating-Maps-in-Python.jupyterlite.ipynb',\n",
       " 'DV0101EN-Exercise-Introduction-to-Matplotlib-and-Line-Plots.jupyterlite.ipynb',\n",
       " 'DV0101EN-Exercise-Pie-Charts-Box-Plots-Scatter-Plots-and-Bubble-Plots.jupyterlite.ipynb',\n",
       " 'elniño.txt',\n",
       " 'ex1.xlsx',\n",
       " 'Exemplar_ Arrays and vectors with NumPy.ipynb',\n",
       " 'Exemplar_ Use Python Syntax.ipynb',\n",
       " 'Favorites',\n",
       " 'Final Assignment Webscraping (1).ipynb',\n",
       " 'Final Assignment Webscraping.ipynb',\n",
       " 'Final Assignment.ipynb',\n",
       " 'Final_Assignment Library.ipynb',\n",
       " 'GMM_v2.ipynb',\n",
       " 'Gradient_Boosting.ipynb',\n",
       " 'House_Sales_in_King_Count_USA.ipynb',\n",
       " 'House_Sales_in_King_Count_USA.jupyterlite.ipynb',\n",
       " 'HypothesisTesting_Lab.ipynb',\n",
       " 'Jedi',\n",
       " 'jupyter-labs-eda-dataviz.ipynb',\n",
       " 'jupyter-labs-spacex-data-collection-api(1) (1).ipynb',\n",
       " 'jupyter-labs-spacex-data-collection-api(1).ipynb',\n",
       " 'jupyter-labs-spacex-data-collection-api.ipynb',\n",
       " 'jupyter-labs-webscraping.ipynb',\n",
       " 'KernelPCA.ipynb',\n",
       " 'KMeansClustering.ipynb',\n",
       " 'labs-jupyter-spacex-Data wrangling.ipynb',\n",
       " 'lab_jupyter_decisiontree.ipynb',\n",
       " 'lab_jupyter_knn.ipynb',\n",
       " 'lab_jupyter_launch_site_location.ipynb',\n",
       " 'lab_jupyter_model-explanations.ipynb',\n",
       " 'lab_jupyter_svm.ipynb',\n",
       " 'lettersearch2.py',\n",
       " 'linear regression.ipynb',\n",
       " 'Links',\n",
       " 'Local Settings',\n",
       " 'Matrix_Review.ipynb',\n",
       " 'Mean_Shift_Clustering_v2.ipynb',\n",
       " 'ML0101EN-Clas-Decision-Trees-drug.ipynb',\n",
       " 'ML0101EN-Clas-K-Nearest-neighbors-CustCat.ipynb',\n",
       " 'ML0101EN-Clas-Logistic-Reg-churn.ipynb',\n",
       " 'ML0101EN-Clas-SVM-cancer.ipynb',\n",
       " 'ML0101EN-Clus-K-Means-Customer-Seg.ipynb',\n",
       " 'ML0101EN-Reg-Mulitple-Linear-Regression-Co2.ipynb',\n",
       " 'ML0101EN-Reg-Simple-Linear-Regression-Co2.ipynb',\n",
       " 'Multi-class_Classification.ipynb',\n",
       " 'Multi-Dimensional_Scaling.ipynb',\n",
       " 'Music',\n",
       " 'My Documents',\n",
       " 'NetHood',\n",
       " 'New folder',\n",
       " 'new_sample.xml',\n",
       " 'NN_with_Sklearn.ipynb',\n",
       " 'Non-Negative_Matrix_Factorization.ipynb',\n",
       " 'NTUSER.DAT',\n",
       " 'ntuser.dat.LOG1',\n",
       " 'ntuser.dat.LOG2',\n",
       " 'NTUSER.DAT{bbed3e3b-0b41-11e3-8249-d6927d06400b}.TM.blf',\n",
       " 'NTUSER.DAT{bbed3e3b-0b41-11e3-8249-d6927d06400b}.TMContainer00000000000000000001.regtrans-ms',\n",
       " 'NTUSER.DAT{bbed3e3b-0b41-11e3-8249-d6927d06400b}.TMContainer00000000000000000002.regtrans-ms',\n",
       " 'ntuser.ini',\n",
       " 'Pad_Stride_Pool_Act.ipynb',\n",
       " 'pandas_course.ipynb',\n",
       " 'password.json',\n",
       " 'PCA.ipynb',\n",
       " 'person.json',\n",
       " 'Pictures',\n",
       " 'Polynomial_Regression.ipynb',\n",
       " 'pre-trained-RNNs.ipynb',\n",
       " 'PrintHood',\n",
       " 'PY0101EN-5.4_WorkingWithDifferentFileTypes.ipynb',\n",
       " 'Ramdom_forest.ipynb',\n",
       " 'Recent',\n",
       " 'regression_tree.ipynb',\n",
       " 'Regression_Trees.ipynb',\n",
       " 'Regularization_Techniques.ipynb',\n",
       " 'sample.json',\n",
       " 'sample.xlsx',\n",
       " 'Saved Games',\n",
       " 'scikit_learn_data',\n",
       " 'Searches',\n",
       " 'SendTo',\n",
       " 'spacex_launch_geo (1).csv',\n",
       " 'spacex_launch_geo (2).csv',\n",
       " 'spacex_launch_geo (3).csv',\n",
       " 'spacex_launch_geo.csv',\n",
       " 'SpaceX_Machine Learning Prediction_Part_5 (1).ipynb',\n",
       " 'SpaceX_Machine Learning Prediction_Part_5.ipynb',\n",
       " 'Stackin__For_Classification_with_Python.ipynb',\n",
       " 'Start Menu',\n",
       " 'stringExercises-solved.ipynb',\n",
       " 'stringExercises.ipynb',\n",
       " 'SVD.ipynb',\n",
       " 'Templates',\n",
       " 'tfidf-lab.jupyterlite.ipynb',\n",
       " 'tree.png',\n",
       " 'Untitled Folder',\n",
       " 'Untitled Folder 1',\n",
       " 'Untitled Folder 2',\n",
       " 'Untitled Folder 3',\n",
       " 'Untitled.ipynb',\n",
       " 'Untitled1.ipynb',\n",
       " 'Untitled10.ipynb',\n",
       " 'Untitled11.ipynb',\n",
       " 'Untitled12.ipynb',\n",
       " 'Untitled13.ipynb',\n",
       " 'Untitled14.ipynb',\n",
       " 'Untitled15.ipynb',\n",
       " 'Untitled16.ipynb',\n",
       " 'Untitled17.ipynb',\n",
       " 'Untitled18.ipynb',\n",
       " 'Untitled19.ipynb',\n",
       " 'Untitled2.ipynb',\n",
       " 'Untitled20.ipynb',\n",
       " 'Untitled21.ipynb',\n",
       " 'Untitled22.ipynb',\n",
       " 'Untitled23.ipynb',\n",
       " 'Untitled24.ipynb',\n",
       " 'Untitled25.ipynb',\n",
       " 'Untitled26.ipynb',\n",
       " 'Untitled27.ipynb',\n",
       " 'Untitled28.ipynb',\n",
       " 'Untitled29.ipynb',\n",
       " 'Untitled3.ipynb',\n",
       " 'untitled3.py',\n",
       " 'Untitled30.ipynb',\n",
       " 'Untitled31.ipynb',\n",
       " 'Untitled32.ipynb',\n",
       " 'Untitled33.ipynb',\n",
       " 'Untitled34.ipynb',\n",
       " 'Untitled35.ipynb',\n",
       " 'Untitled36.ipynb',\n",
       " 'Untitled37.ipynb',\n",
       " 'Untitled4.ipynb',\n",
       " 'Untitled5.ipynb',\n",
       " 'Untitled6.ipynb',\n",
       " 'Untitled7.ipynb',\n",
       " 'Untitled8.ipynb',\n",
       " 'Untitled9.ipynb',\n",
       " 'Videos',\n",
       " 'WebScraping_Review_Lab (1).ipynb',\n",
       " 'WebScraping_Review_Lab.ipynb',\n",
       " 'wine_tree.png',\n",
       " 'WyliodrinSTUDIO']"
      ]
     },
     "execution_count": 10,
     "metadata": {},
     "output_type": "execute_result"
    }
   ],
   "source": [
    "filenames = os.listdir('.'); filenames"
   ]
  },
  {
   "cell_type": "code",
   "execution_count": 11,
   "id": "ea8d3a7e-f193-4091-86b2-0d49240f0055",
   "metadata": {
    "tags": []
   },
   "outputs": [
    {
     "data": {
      "text/plain": [
       "['elniño.txt']"
      ]
     },
     "execution_count": 11,
     "metadata": {},
     "output_type": "execute_result"
    }
   ],
   "source": [
    "[name for name in filenames if name.endswith('.txt')]"
   ]
  },
  {
   "cell_type": "code",
   "execution_count": 12,
   "id": "a8c1db53-8dbb-42cd-b30a-6cf14cfd077f",
   "metadata": {
    "tags": []
   },
   "outputs": [
    {
     "data": {
      "text/plain": [
       "True"
      ]
     },
     "execution_count": 12,
     "metadata": {},
     "output_type": "execute_result"
    }
   ],
   "source": [
    "any(name.endswith('.ipynb') for name in filenames)"
   ]
  },
  {
   "cell_type": "markdown",
   "id": "811e2c32-77fd-4e2c-8ada-3d73dbbbd6b7",
   "metadata": {},
   "source": [
    "# From the following data, generate the desired outputs."
   ]
  },
  {
   "cell_type": "code",
   "execution_count": 13,
   "id": "4f7da18e-7961-450b-ad40-b8550cffc7c0",
   "metadata": {
    "tags": []
   },
   "outputs": [],
   "source": [
    "#fnmatchcase"
   ]
  },
  {
   "cell_type": "code",
   "execution_count": 14,
   "id": "10a8f3bf-f7e6-4f7b-8d9f-c7a621eed610",
   "metadata": {
    "tags": []
   },
   "outputs": [],
   "source": [
    "from fnmatch import fnmatchcase"
   ]
  },
  {
   "cell_type": "code",
   "execution_count": 15,
   "id": "be7b5b7b-bd09-40fc-9e41-ad01a167b25f",
   "metadata": {
    "tags": []
   },
   "outputs": [],
   "source": [
    "data = [\n",
    "    '-id 1214 -pl python',\n",
    "    '-id 1218 -pl R',    \n",
    "    '-id 1014 -pl R',\n",
    "    '-id 1110 -pl python',\n",
    "    '-id 1220 -pl python',\n",
    "    '-id 1020 -pl java'\n",
    "]"
   ]
  },
  {
   "cell_type": "code",
   "execution_count": 16,
   "id": "f43cef87-5e9b-40ce-87ec-2a9826f9e1cf",
   "metadata": {
    "tags": []
   },
   "outputs": [
    {
     "data": {
      "text/plain": [
       "['-id 1214 -pl python', '-id 1110 -pl python', '-id 1220 -pl python']"
      ]
     },
     "execution_count": 16,
     "metadata": {},
     "output_type": "execute_result"
    }
   ],
   "source": [
    "[d for d in data if fnmatchcase(d, '* python')]"
   ]
  },
  {
   "cell_type": "markdown",
   "id": "70bb5dfa-1074-4c3d-a33b-a469c94be2f3",
   "metadata": {},
   "source": [
    "# For the following string, write the appropriate regular expression to produce the desired output."
   ]
  },
  {
   "cell_type": "code",
   "execution_count": 17,
   "id": "0d2e4fb5-3acc-4ab1-b5ab-01f417dbb0ae",
   "metadata": {
    "tags": []
   },
   "outputs": [],
   "source": [
    "s = 'PyW 4/28/2019 and JaW 7/12/2018 and RW 9/25/2017 and PyW 12/4/2017'"
   ]
  },
  {
   "cell_type": "code",
   "execution_count": 18,
   "id": "6e7f446d-6749-40d8-9fd1-ba13dfbf2262",
   "metadata": {
    "tags": []
   },
   "outputs": [],
   "source": [
    "pat = re.compile(r'PyW\\s\\d+/\\d+/\\d+')"
   ]
  },
  {
   "cell_type": "code",
   "execution_count": 19,
   "id": "94fd3ac2-49df-4f05-a7fd-d724992ed5c3",
   "metadata": {
    "tags": []
   },
   "outputs": [
    {
     "data": {
      "text/plain": [
       "['PyW 4/28/2019', 'PyW 12/4/2017']"
      ]
     },
     "execution_count": 19,
     "metadata": {},
     "output_type": "execute_result"
    }
   ],
   "source": [
    "pat.findall(s)"
   ]
  },
  {
   "cell_type": "markdown",
   "id": "3e32f84d-2d56-4a78-8df1-031aa8eaa07c",
   "metadata": {},
   "source": [
    "# In the above string, extract all the dates and change their format as below."
   ]
  },
  {
   "cell_type": "code",
   "execution_count": 20,
   "id": "b08e5801-6668-44bd-8115-f8ecf1e9bab3",
   "metadata": {
    "tags": []
   },
   "outputs": [],
   "source": [
    "d_pat = re.compile(r'(\\d+)/(\\d+)/(\\d+)')"
   ]
  },
  {
   "cell_type": "code",
   "execution_count": 21,
   "id": "2293afd6-9d93-4880-8d1b-eb05d02d041b",
   "metadata": {
    "tags": []
   },
   "outputs": [
    {
     "name": "stdout",
     "output_type": "stream",
     "text": [
      "2019-4-28\n",
      "2018-7-12\n",
      "2017-9-25\n",
      "2017-12-4\n"
     ]
    }
   ],
   "source": [
    "for m, d, y in d_pat.findall(s):\n",
    "    print('{}-{}-{}'.format(y, m, d))"
   ]
  },
  {
   "cell_type": "code",
   "execution_count": 22,
   "id": "433cb9e5-8bd6-4347-859c-d6ab5ab6d8cd",
   "metadata": {
    "tags": []
   },
   "outputs": [],
   "source": [
    "#finditer"
   ]
  },
  {
   "cell_type": "code",
   "execution_count": 23,
   "id": "1ff4481c-4c36-4fd6-9aeb-2f63cb284984",
   "metadata": {
    "tags": []
   },
   "outputs": [
    {
     "name": "stdout",
     "output_type": "stream",
     "text": [
      "('4', '28', '2019')\n",
      "('7', '12', '2018')\n",
      "('9', '25', '2017')\n",
      "('12', '4', '2017')\n"
     ]
    }
   ],
   "source": [
    "for m in d_pat.finditer(s):\n",
    "    print(m.groups())"
   ]
  },
  {
   "cell_type": "code",
   "execution_count": 24,
   "id": "c32de372-6119-4765-a890-8dc5226c6672",
   "metadata": {
    "tags": []
   },
   "outputs": [],
   "source": [
    "#from calendar import month_abbr"
   ]
  },
  {
   "cell_type": "code",
   "execution_count": 25,
   "id": "2abf41cd-b3b5-40b3-919e-62898ce65f64",
   "metadata": {
    "tags": []
   },
   "outputs": [],
   "source": [
    "from calendar import month_abbr"
   ]
  },
  {
   "cell_type": "code",
   "execution_count": 26,
   "id": "1c662faf-ba3d-4d2e-b17d-7d472b2db335",
   "metadata": {
    "tags": []
   },
   "outputs": [],
   "source": [
    "def change_d(m):\n",
    "    month_name = month_abbr[int(m.group(1))]\n",
    "    return '{} {} {}'.format(m.group(2), month_name, m.group(3))"
   ]
  },
  {
   "cell_type": "code",
   "execution_count": 27,
   "id": "599ab859-3311-4d0c-a717-60fc42fe4c6f",
   "metadata": {
    "tags": []
   },
   "outputs": [
    {
     "data": {
      "text/plain": [
       "'PyW 28 Apr 2019 and JaW 12 Jul 2018 and RW 25 Sep 2017 and PyW 4 Dec 2017'"
      ]
     },
     "execution_count": 27,
     "metadata": {},
     "output_type": "execute_result"
    }
   ],
   "source": [
    "d_pat.sub(change_d, s)"
   ]
  },
  {
   "cell_type": "markdown",
   "id": "3258fbb3-deea-4f16-98d9-aff1a2a979da",
   "metadata": {},
   "source": [
    "# In the following string, find the required expression and make the required substitutions."
   ]
  },
  {
   "cell_type": "code",
   "execution_count": 28,
   "id": "8f7148be-143f-4ca8-b001-7947472c2f69",
   "metadata": {
    "tags": []
   },
   "outputs": [],
   "source": [
    "#findall, sub"
   ]
  },
  {
   "cell_type": "code",
   "execution_count": 29,
   "id": "277938d2-cf12-4eb1-870a-3203c002ae03",
   "metadata": {
    "tags": []
   },
   "outputs": [],
   "source": [
    "s = 'Python, R, c, c++, c, Python, python, python, Python, R'"
   ]
  },
  {
   "cell_type": "code",
   "execution_count": 30,
   "id": "4c26c80e-bd83-4c6a-80c0-e5e24d896dac",
   "metadata": {
    "tags": []
   },
   "outputs": [
    {
     "data": {
      "text/plain": [
       "['python', 'python']"
      ]
     },
     "execution_count": 30,
     "metadata": {},
     "output_type": "execute_result"
    }
   ],
   "source": [
    "re.findall('python', s)"
   ]
  },
  {
   "cell_type": "code",
   "execution_count": 31,
   "id": "36287404-78e5-4a21-8984-2509cce8a02f",
   "metadata": {
    "tags": []
   },
   "outputs": [
    {
     "data": {
      "text/plain": [
       "['Python', 'Python', 'python', 'python', 'Python']"
      ]
     },
     "execution_count": 31,
     "metadata": {},
     "output_type": "execute_result"
    }
   ],
   "source": [
    "re.findall('python', s, flags = re.IGNORECASE)"
   ]
  },
  {
   "cell_type": "code",
   "execution_count": 32,
   "id": "ffebcece-7a25-466a-b38e-5dd0c402f6a7",
   "metadata": {
    "tags": []
   },
   "outputs": [
    {
     "data": {
      "text/plain": [
       "'Python, R, c, c++, c, Python, java, java, Python, R'"
      ]
     },
     "execution_count": 32,
     "metadata": {},
     "output_type": "execute_result"
    }
   ],
   "source": [
    "re.sub('python', 'java', s)"
   ]
  },
  {
   "cell_type": "code",
   "execution_count": 33,
   "id": "d0dcb3eb-ce24-4627-b95b-99988ae2084c",
   "metadata": {
    "tags": []
   },
   "outputs": [
    {
     "data": {
      "text/plain": [
       "'java, R, c, c++, c, java, java, java, java, R'"
      ]
     },
     "execution_count": 33,
     "metadata": {},
     "output_type": "execute_result"
    }
   ],
   "source": [
    "re.sub('python', 'java', s, flags = re.IGNORECASE)"
   ]
  },
  {
   "cell_type": "code",
   "execution_count": 34,
   "id": "3592fcc6-f040-4e9b-82ef-f02956257f1a",
   "metadata": {
    "tags": []
   },
   "outputs": [],
   "source": [
    "#Inner function"
   ]
  },
  {
   "cell_type": "code",
   "execution_count": 35,
   "id": "d0fb8b15-00c1-4755-af7a-09b2c6316020",
   "metadata": {
    "tags": []
   },
   "outputs": [],
   "source": [
    "def power_number(number):\n",
    "    def power_n(power):\n",
    "        return number ** power\n",
    "    return power_n"
   ]
  },
  {
   "cell_type": "code",
   "execution_count": 36,
   "id": "c7096456-71f5-4b9a-8c6d-c62804042735",
   "metadata": {
    "tags": []
   },
   "outputs": [],
   "source": [
    "p_two = power_number(2)"
   ]
  },
  {
   "cell_type": "code",
   "execution_count": 37,
   "id": "8bc2e53e-aeeb-44c8-9243-044418809292",
   "metadata": {
    "tags": []
   },
   "outputs": [
    {
     "data": {
      "text/plain": [
       "<function __main__.power_number.<locals>.power_n(power)>"
      ]
     },
     "execution_count": 37,
     "metadata": {},
     "output_type": "execute_result"
    }
   ],
   "source": [
    "p_two"
   ]
  },
  {
   "cell_type": "code",
   "execution_count": 38,
   "id": "6962485c-003f-419b-a5d8-74083d9a9661",
   "metadata": {
    "tags": []
   },
   "outputs": [
    {
     "name": "stdout",
     "output_type": "stream",
     "text": [
      "4\n"
     ]
    }
   ],
   "source": [
    "print(p_two(2))"
   ]
  },
  {
   "cell_type": "code",
   "execution_count": 39,
   "id": "f5e49396-6c13-4e65-9a1a-520303541a04",
   "metadata": {
    "tags": []
   },
   "outputs": [],
   "source": [
    "def sub_case(word):\n",
    "    def replace(a):\n",
    "        text = a.group()\n",
    "        if text.isupper():\n",
    "            return word.upper()\n",
    "        elif text.islower():\n",
    "            return word.lower()\n",
    "        elif text[0].isupper():\n",
    "            return word.capitalize()\n",
    "        else:\n",
    "            return word\n",
    "    return replace"
   ]
  },
  {
   "cell_type": "code",
   "execution_count": 40,
   "id": "98d70a0e-3c8e-489d-b04d-05ff88c3883b",
   "metadata": {
    "tags": []
   },
   "outputs": [
    {
     "data": {
      "text/plain": [
       "'Java, R, c, c++, c, Java, java, java, Java, R'"
      ]
     },
     "execution_count": 40,
     "metadata": {},
     "output_type": "execute_result"
    }
   ],
   "source": [
    "re.sub('python', sub_case('java'), s, flags = re.IGNORECASE)"
   ]
  },
  {
   "cell_type": "markdown",
   "id": "faf07302-6fd2-43d5-a6bd-12d7e544aef6",
   "metadata": {},
   "source": [
    "# Write a regular expression to find the longest and shortest sequences between two *."
   ]
  },
  {
   "cell_type": "code",
   "execution_count": 41,
   "id": "7aeb6bad-ae9f-4cf9-b041-a57229448b03",
   "metadata": {
    "tags": []
   },
   "outputs": [],
   "source": [
    "s = 'I love *python* and *R* programming.'"
   ]
  },
  {
   "cell_type": "code",
   "execution_count": 42,
   "id": "04026429-fa18-461e-be49-d6e0ced21807",
   "metadata": {
    "tags": []
   },
   "outputs": [],
   "source": [
    "s_pat = re.compile(r'\\*(.*)\\*')"
   ]
  },
  {
   "cell_type": "code",
   "execution_count": 43,
   "id": "628733d2-8c49-4ffe-95ea-2f12e59294af",
   "metadata": {
    "tags": []
   },
   "outputs": [
    {
     "data": {
      "text/plain": [
       "['python* and *R']"
      ]
     },
     "execution_count": 43,
     "metadata": {},
     "output_type": "execute_result"
    }
   ],
   "source": [
    "s_pat.findall(s)"
   ]
  },
  {
   "cell_type": "code",
   "execution_count": 44,
   "id": "2f80b988-c5fb-4b24-b91a-dff01ec617f9",
   "metadata": {
    "tags": []
   },
   "outputs": [],
   "source": [
    "s_pat2 = re.compile(r'\\*(.*?)\\*')"
   ]
  },
  {
   "cell_type": "code",
   "execution_count": 45,
   "id": "c51f28d8-f60d-4bf9-9447-ad565cf0d6d9",
   "metadata": {
    "tags": []
   },
   "outputs": [
    {
     "data": {
      "text/plain": [
       "['python', 'R']"
      ]
     },
     "execution_count": 45,
     "metadata": {},
     "output_type": "execute_result"
    }
   ],
   "source": [
    "s_pat2.findall(s)"
   ]
  },
  {
   "cell_type": "markdown",
   "id": "b5f4d485-9a27-4800-a1b2-5311bc8301b9",
   "metadata": {},
   "source": [
    "# Generate the phrase \"udemy\" using the appropriate unicode."
   ]
  },
  {
   "cell_type": "code",
   "execution_count": 46,
   "id": "37299c0d-5f4d-4e0e-a81a-e3bb414ae75b",
   "metadata": {
    "tags": []
   },
   "outputs": [
    {
     "data": {
      "text/plain": [
       "'udemy'"
      ]
     },
     "execution_count": 46,
     "metadata": {},
     "output_type": "execute_result"
    }
   ],
   "source": [
    "'\\u0075\\u0064\\u0065\\u006d\\u0079'"
   ]
  },
  {
   "cell_type": "markdown",
   "id": "e3f83c0b-9f41-406a-9742-4fd9329ce688",
   "metadata": {},
   "source": [
    "# Make the following expressions in two different ways and compare them. Then normalize and compare again."
   ]
  },
  {
   "cell_type": "code",
   "execution_count": 47,
   "id": "28f7b166-9d44-447c-ad88-86ae42026133",
   "metadata": {
    "tags": []
   },
   "outputs": [
    {
     "data": {
      "text/plain": [
       "'straßbůrg'"
      ]
     },
     "execution_count": 47,
     "metadata": {},
     "output_type": "execute_result"
    }
   ],
   "source": [
    "s1 = 'stra\\u00dfb\\u016frg'; s1"
   ]
  },
  {
   "cell_type": "code",
   "execution_count": 48,
   "id": "27e0891c-cb13-4031-9953-1ed421dc8a43",
   "metadata": {
    "tags": []
   },
   "outputs": [
    {
     "data": {
      "text/plain": [
       "'straßbůrg'"
      ]
     },
     "execution_count": 48,
     "metadata": {},
     "output_type": "execute_result"
    }
   ],
   "source": [
    "s2 = 'stra\\u00dfbu\\u030arg'; s2"
   ]
  },
  {
   "cell_type": "code",
   "execution_count": 49,
   "id": "225830a5-3cb8-4590-822e-f261e706be7a",
   "metadata": {
    "tags": []
   },
   "outputs": [
    {
     "data": {
      "text/plain": [
       "False"
      ]
     },
     "execution_count": 49,
     "metadata": {},
     "output_type": "execute_result"
    }
   ],
   "source": [
    "s1 == s2"
   ]
  },
  {
   "cell_type": "code",
   "execution_count": 50,
   "id": "fbb42ab8-89b7-4481-88fe-c4659388f967",
   "metadata": {
    "tags": []
   },
   "outputs": [],
   "source": [
    "import unicodedata"
   ]
  },
  {
   "cell_type": "code",
   "execution_count": 51,
   "id": "41d0429a-9a34-4d76-b50f-4b4f9171eb84",
   "metadata": {
    "tags": []
   },
   "outputs": [],
   "source": [
    "s1n = unicodedata.normalize('NFD', s1)"
   ]
  },
  {
   "cell_type": "code",
   "execution_count": 52,
   "id": "c15366b1-8741-436e-8ed5-0eab49a51b7c",
   "metadata": {
    "tags": []
   },
   "outputs": [],
   "source": [
    "s2n = unicodedata.normalize('NFD', s2)"
   ]
  },
  {
   "cell_type": "code",
   "execution_count": 53,
   "id": "38e13694-4418-4700-99f3-edc5591fde64",
   "metadata": {
    "tags": []
   },
   "outputs": [
    {
     "data": {
      "text/plain": [
       "True"
      ]
     },
     "execution_count": 53,
     "metadata": {},
     "output_type": "execute_result"
    }
   ],
   "source": [
    "s1n == s2n"
   ]
  },
  {
   "cell_type": "code",
   "execution_count": 54,
   "id": "ff282c17-4e99-4ba8-9c63-6cca12466d7b",
   "metadata": {
    "jp-MarkdownHeadingCollapsed": true,
    "tags": []
   },
   "outputs": [
    {
     "data": {
      "text/plain": [
       "'straßbůrg'"
      ]
     },
     "execution_count": 54,
     "metadata": {},
     "output_type": "execute_result"
    }
   ],
   "source": [
    "s1n"
   ]
  },
  {
   "cell_type": "code",
   "execution_count": null,
   "id": "aebd139d-9e57-43ab-b88b-d3b160747d01",
   "metadata": {},
   "outputs": [],
   "source": []
  },
  {
   "cell_type": "code",
   "execution_count": 55,
   "id": "17e41b23-c991-4779-a336-890733d77904",
   "metadata": {
    "tags": []
   },
   "outputs": [
    {
     "data": {
      "text/plain": [
       "'straßbůrg'"
      ]
     },
     "execution_count": 55,
     "metadata": {},
     "output_type": "execute_result"
    }
   ],
   "source": [
    "s2n"
   ]
  },
  {
   "cell_type": "code",
   "execution_count": 56,
   "id": "0be0cbc6-6366-461e-9325-14edf19ab50e",
   "metadata": {
    "tags": []
   },
   "outputs": [
    {
     "data": {
      "text/plain": [
       "\"'stra\\\\xdfbu\\\\u030arg'\""
      ]
     },
     "execution_count": 56,
     "metadata": {},
     "output_type": "execute_result"
    }
   ],
   "source": [
    "ascii(s1n)"
   ]
  },
  {
   "cell_type": "markdown",
   "id": "cd2221b9-a1e6-4d70-b405-11c687ceb2e7",
   "metadata": {},
   "source": [
    "# Remove the sounds on the letters."
   ]
  },
  {
   "cell_type": "code",
   "execution_count": 57,
   "id": "9715276f-3129-44ef-82a0-60839de2f52f",
   "metadata": {
    "tags": []
   },
   "outputs": [
    {
     "data": {
      "text/plain": [
       "'̊'"
      ]
     },
     "execution_count": 57,
     "metadata": {},
     "output_type": "execute_result"
    }
   ],
   "source": [
    "''.join(c for c in s1n if unicodedata.combining(c))"
   ]
  },
  {
   "cell_type": "code",
   "execution_count": 58,
   "id": "c58b094d-2f93-43b7-a92e-75f887c3dd32",
   "metadata": {
    "tags": []
   },
   "outputs": [
    {
     "data": {
      "text/plain": [
       "'straßburg'"
      ]
     },
     "execution_count": 58,
     "metadata": {},
     "output_type": "execute_result"
    }
   ],
   "source": [
    "''.join(c for c in s1n if not unicodedata.combining(c))"
   ]
  },
  {
   "cell_type": "markdown",
   "id": "6fcda0f3-a91c-42df-b945-e1dd73a29e04",
   "metadata": {},
   "source": [
    "# Create a map to convert Persian numbers or Unicode characters representing numbers in general."
   ]
  },
  {
   "cell_type": "code",
   "execution_count": 59,
   "id": "90463623-1e2b-4f18-ae5c-3c25235b02b0",
   "metadata": {
    "tags": []
   },
   "outputs": [],
   "source": [
    "#unicodedata.digit()\n",
    "#unicodedata.category() -> 'Nd'"
   ]
  },
  {
   "cell_type": "code",
   "execution_count": 60,
   "id": "23e501cd-0bd8-4e3a-9b58-727f7ed18cc7",
   "metadata": {
    "tags": []
   },
   "outputs": [
    {
     "ename": "TypeError",
     "evalue": "digit() argument 1 must be a unicode character, not int",
     "output_type": "error",
     "traceback": [
      "\u001b[1;31m---------------------------------------------------------------------------\u001b[0m",
      "\u001b[1;31mTypeError\u001b[0m                                 Traceback (most recent call last)",
      "Cell \u001b[1;32mIn[60], line 1\u001b[0m\n\u001b[1;32m----> 1\u001b[0m unicodedata\u001b[38;5;241m.\u001b[39mdigit(\u001b[38;5;241m5\u001b[39m)\n",
      "\u001b[1;31mTypeError\u001b[0m: digit() argument 1 must be a unicode character, not int"
     ]
    }
   ],
   "source": [
    "unicodedata.digit(5)"
   ]
  },
  {
   "cell_type": "code",
   "execution_count": 61,
   "id": "4544cef9-1071-4153-bc5b-4f16dbb281cf",
   "metadata": {
    "tags": []
   },
   "outputs": [
    {
     "data": {
      "text/plain": [
       "5"
      ]
     },
     "execution_count": 61,
     "metadata": {},
     "output_type": "execute_result"
    }
   ],
   "source": [
    "unicodedata.digit('5')"
   ]
  },
  {
   "cell_type": "code",
   "execution_count": 62,
   "id": "698a68c7-ba00-4e1f-a7f7-b8cbba7a8beb",
   "metadata": {
    "tags": []
   },
   "outputs": [
    {
     "data": {
      "text/plain": [
       "0"
      ]
     },
     "execution_count": 62,
     "metadata": {},
     "output_type": "execute_result"
    }
   ],
   "source": [
    "unicodedata.digit('0')"
   ]
  },
  {
   "cell_type": "code",
   "execution_count": 63,
   "id": "3f7f00c3-f867-41fc-b335-e69e1b2931ae",
   "metadata": {
    "tags": []
   },
   "outputs": [
    {
     "data": {
      "text/plain": [
       "1"
      ]
     },
     "execution_count": 63,
     "metadata": {},
     "output_type": "execute_result"
    }
   ],
   "source": [
    "unicodedata.digit('1')"
   ]
  },
  {
   "cell_type": "code",
   "execution_count": 64,
   "id": "244c7160-a2bf-4b99-a9b3-4a0d7485bd22",
   "metadata": {
    "tags": []
   },
   "outputs": [
    {
     "data": {
      "text/plain": [
       "2"
      ]
     },
     "execution_count": 64,
     "metadata": {},
     "output_type": "execute_result"
    }
   ],
   "source": [
    "unicodedata.digit('2')"
   ]
  },
  {
   "cell_type": "code",
   "execution_count": 65,
   "id": "d82ecf0e-2301-4312-a3f0-c1e12e1d1c44",
   "metadata": {
    "tags": []
   },
   "outputs": [
    {
     "data": {
      "text/plain": [
       "3"
      ]
     },
     "execution_count": 65,
     "metadata": {},
     "output_type": "execute_result"
    }
   ],
   "source": [
    "unicodedata.digit('3')"
   ]
  },
  {
   "cell_type": "code",
   "execution_count": 66,
   "id": "40e20a48-58b7-44b3-817a-6ac593583a4b",
   "metadata": {
    "tags": []
   },
   "outputs": [
    {
     "data": {
      "text/plain": [
       "4"
      ]
     },
     "execution_count": 66,
     "metadata": {},
     "output_type": "execute_result"
    }
   ],
   "source": [
    "unicodedata.digit('4')"
   ]
  },
  {
   "cell_type": "code",
   "execution_count": 67,
   "id": "6b5bb789-5729-4b3e-98a7-8232d41cb386",
   "metadata": {
    "tags": []
   },
   "outputs": [
    {
     "data": {
      "text/plain": [
       "6"
      ]
     },
     "execution_count": 67,
     "metadata": {},
     "output_type": "execute_result"
    }
   ],
   "source": [
    "unicodedata.digit('6')"
   ]
  },
  {
   "cell_type": "code",
   "execution_count": 68,
   "id": "11570d5b-ce8c-457e-8488-ab382998408b",
   "metadata": {
    "tags": []
   },
   "outputs": [
    {
     "data": {
      "text/plain": [
       "7"
      ]
     },
     "execution_count": 68,
     "metadata": {},
     "output_type": "execute_result"
    }
   ],
   "source": [
    "unicodedata.digit('7')"
   ]
  },
  {
   "cell_type": "code",
   "execution_count": 69,
   "id": "c706760b-7d62-447f-a0f8-537ab4b3310f",
   "metadata": {
    "tags": []
   },
   "outputs": [
    {
     "data": {
      "text/plain": [
       "8"
      ]
     },
     "execution_count": 69,
     "metadata": {},
     "output_type": "execute_result"
    }
   ],
   "source": [
    "unicodedata.digit('8')"
   ]
  },
  {
   "cell_type": "code",
   "execution_count": 70,
   "id": "c58274c9-b41f-41bf-9016-170e12be240e",
   "metadata": {
    "tags": []
   },
   "outputs": [
    {
     "data": {
      "text/plain": [
       "9"
      ]
     },
     "execution_count": 70,
     "metadata": {},
     "output_type": "execute_result"
    }
   ],
   "source": [
    "unicodedata.digit('9')"
   ]
  },
  {
   "cell_type": "code",
   "execution_count": 71,
   "id": "6e0d0946-66d8-473c-af42-fa44056f162a",
   "metadata": {
    "tags": []
   },
   "outputs": [],
   "source": [
    "x = '\\u06f1\\u06f2\\u06f3'"
   ]
  },
  {
   "cell_type": "code",
   "execution_count": 72,
   "id": "12bdd060-b1ef-4caf-ac01-4ee296da9633",
   "metadata": {
    "tags": []
   },
   "outputs": [
    {
     "data": {
      "text/plain": [
       "'۱۲۳'"
      ]
     },
     "execution_count": 72,
     "metadata": {},
     "output_type": "execute_result"
    }
   ],
   "source": [
    "x"
   ]
  },
  {
   "cell_type": "code",
   "execution_count": 73,
   "id": "f21ddaf0-b3a7-4a40-950f-6ce5ade24e29",
   "metadata": {
    "tags": []
   },
   "outputs": [
    {
     "data": {
      "text/plain": [
       "1"
      ]
     },
     "execution_count": 73,
     "metadata": {},
     "output_type": "execute_result"
    }
   ],
   "source": [
    "unicodedata.digit('\\u06f1')"
   ]
  },
  {
   "cell_type": "code",
   "execution_count": 74,
   "id": "08a63699-7102-49b2-87ad-4da62e775fe0",
   "metadata": {
    "tags": []
   },
   "outputs": [
    {
     "data": {
      "text/plain": [
       "2"
      ]
     },
     "execution_count": 74,
     "metadata": {},
     "output_type": "execute_result"
    }
   ],
   "source": [
    "unicodedata.digit('\\u06f2')"
   ]
  },
  {
   "cell_type": "code",
   "execution_count": 75,
   "id": "73dc40bd-7cf9-4c18-9ab6-2cf9b19b54f6",
   "metadata": {
    "tags": []
   },
   "outputs": [
    {
     "data": {
      "text/plain": [
       "3"
      ]
     },
     "execution_count": 75,
     "metadata": {},
     "output_type": "execute_result"
    }
   ],
   "source": [
    "unicodedata.digit('\\u06f3')"
   ]
  },
  {
   "cell_type": "code",
   "execution_count": 76,
   "id": "c7d3b2e1-c9c7-4ebe-a68d-b978876ecdaa",
   "metadata": {
    "tags": []
   },
   "outputs": [
    {
     "data": {
      "text/plain": [
       "'Nd'"
      ]
     },
     "execution_count": 76,
     "metadata": {},
     "output_type": "execute_result"
    }
   ],
   "source": [
    "unicodedata.category('\\u06f2')"
   ]
  },
  {
   "cell_type": "code",
   "execution_count": 77,
   "id": "45096278-2e92-46a9-8bd0-92515803282f",
   "metadata": {
    "tags": []
   },
   "outputs": [
    {
     "data": {
      "text/plain": [
       "'Lo'"
      ]
     },
     "execution_count": 77,
     "metadata": {},
     "output_type": "execute_result"
    }
   ],
   "source": [
    "unicodedata.category('\\ufe95')"
   ]
  },
  {
   "cell_type": "code",
   "execution_count": 78,
   "id": "89f21c9d-6f84-4d0f-ae52-6cd9e471483e",
   "metadata": {
    "tags": []
   },
   "outputs": [
    {
     "data": {
      "text/plain": [
       "'Nd'"
      ]
     },
     "execution_count": 78,
     "metadata": {},
     "output_type": "execute_result"
    }
   ],
   "source": [
    "unicodedata.category('4')"
   ]
  },
  {
   "cell_type": "code",
   "execution_count": 79,
   "id": "e0dfad12-0bf6-46f6-8fa2-cd3f239c7111",
   "metadata": {
    "tags": []
   },
   "outputs": [
    {
     "data": {
      "text/plain": [
       "'Nd'"
      ]
     },
     "execution_count": 79,
     "metadata": {},
     "output_type": "execute_result"
    }
   ],
   "source": [
    "unicodedata.category('9')"
   ]
  },
  {
   "cell_type": "code",
   "execution_count": 80,
   "id": "298b18c1-f30f-41e0-98db-c8f31e5cbe40",
   "metadata": {},
   "outputs": [
    {
     "ename": "NameError",
     "evalue": "name 'c' is not defined",
     "output_type": "error",
     "traceback": [
      "\u001b[1;31m---------------------------------------------------------------------------\u001b[0m",
      "\u001b[1;31mNameError\u001b[0m                                 Traceback (most recent call last)",
      "Cell \u001b[1;32mIn[80], line 1\u001b[0m\n\u001b[1;32m----> 1\u001b[0m d_map \u001b[38;5;241m=\u001b[39m { c: unicodedata\u001b[38;5;241m.\u001b[39mdigit(\u001b[38;5;28mchr\u001b[39m(c))}\n",
      "\u001b[1;31mNameError\u001b[0m: name 'c' is not defined"
     ]
    }
   ],
   "source": [
    "d_map = { c: unicodedata.digit(chr(c))}"
   ]
  },
  {
   "cell_type": "code",
   "execution_count": 81,
   "id": "f461cacd-d5d9-4fd6-83b6-b402f13305ff",
   "metadata": {
    "tags": []
   },
   "outputs": [
    {
     "ename": "ValueError",
     "evalue": "not a digit",
     "output_type": "error",
     "traceback": [
      "\u001b[1;31m---------------------------------------------------------------------------\u001b[0m",
      "\u001b[1;31mValueError\u001b[0m                                Traceback (most recent call last)",
      "Cell \u001b[1;32mIn[81], line 1\u001b[0m\n\u001b[1;32m----> 1\u001b[0m unicodedata\u001b[38;5;241m.\u001b[39mdigit(\u001b[38;5;28mchr\u001b[39m(\u001b[38;5;241m0\u001b[39m))\n",
      "\u001b[1;31mValueError\u001b[0m: not a digit"
     ]
    }
   ],
   "source": [
    "unicodedata.digit(chr(0))"
   ]
  },
  {
   "cell_type": "code",
   "execution_count": 82,
   "id": "6b20f951-0911-4e50-896e-a6b35f755238",
   "metadata": {
    "tags": []
   },
   "outputs": [
    {
     "data": {
      "text/plain": [
       "48"
      ]
     },
     "execution_count": 82,
     "metadata": {},
     "output_type": "execute_result"
    }
   ],
   "source": [
    "ord('0')"
   ]
  },
  {
   "cell_type": "code",
   "execution_count": 83,
   "id": "2eefc643-06ab-4902-8ceb-2a42db019e65",
   "metadata": {
    "tags": []
   },
   "outputs": [],
   "source": [
    "import sys"
   ]
  },
  {
   "cell_type": "code",
   "execution_count": 84,
   "id": "646bdd3a-c5f0-4843-b6c4-888ff389e8c0",
   "metadata": {
    "tags": []
   },
   "outputs": [],
   "source": [
    "d_map = {c : ord('0') + unicodedata.digit(chr(c)) \n",
    "         for c in range(sys.maxunicode) \n",
    "         if unicodedata.category(chr(c)) == 'Nd'\n",
    "        }"
   ]
  },
  {
   "cell_type": "code",
   "execution_count": 85,
   "id": "03d632be-4dd3-4f0b-a0dc-0b2e123f2e2c",
   "metadata": {
    "tags": []
   },
   "outputs": [
    {
     "data": {
      "text/plain": [
       "'123'"
      ]
     },
     "execution_count": 85,
     "metadata": {},
     "output_type": "execute_result"
    }
   ],
   "source": [
    "x.translate(d_map)"
   ]
  },
  {
   "cell_type": "markdown",
   "id": "4bd9814a-4e31-4e30-bc6d-5f9b33d448b1",
   "metadata": {},
   "source": [
    "# Put the requested variables in the order shown in the string below."
   ]
  },
  {
   "cell_type": "code",
   "execution_count": 86,
   "id": "155a192e-5999-4c0a-8bec-c1edc5ad17f1",
   "metadata": {
    "tags": []
   },
   "outputs": [],
   "source": [
    "s = 'We are using {dev_env_name} for {prog_lan_name}'"
   ]
  },
  {
   "cell_type": "code",
   "execution_count": 87,
   "id": "72f6e300-8c69-4195-b8e5-6c40f0a73cf9",
   "metadata": {
    "tags": []
   },
   "outputs": [],
   "source": [
    "dev_env_name = 'Jupyter Lab'\n",
    "prog_lan_name = 'Python'"
   ]
  },
  {
   "cell_type": "code",
   "execution_count": 88,
   "id": "da3d8d4e-4c8f-473d-8355-6aa54551f633",
   "metadata": {
    "tags": []
   },
   "outputs": [
    {
     "data": {
      "text/plain": [
       "'We are using Jupyter Lab for Python'"
      ]
     },
     "execution_count": 88,
     "metadata": {},
     "output_type": "execute_result"
    }
   ],
   "source": [
    "s.format_map(vars())"
   ]
  },
  {
   "cell_type": "markdown",
   "id": "b2b36036-20f9-49b0-aeef-5feeb717a85c",
   "metadata": {},
   "source": [
    "# Tokenizing and filtering white spaces"
   ]
  },
  {
   "cell_type": "code",
   "execution_count": 89,
   "id": "7ad31900-ea24-45ba-a24d-6521318173d2",
   "metadata": {
    "tags": []
   },
   "outputs": [],
   "source": [
    "s = 'price_5 = 12 * a + 25 * 9 / 8'"
   ]
  },
  {
   "cell_type": "code",
   "execution_count": 90,
   "id": "ad560f9e-4d02-4f4a-af1d-ea33e0d8aa86",
   "metadata": {
    "tags": []
   },
   "outputs": [],
   "source": [
    "NAME = r'(?P<NAME>[a-zA-Z_][a-zA-Z_0-9]*)'\n",
    "NUM = r'(?P<NUM>\\d+)'\n",
    "TIMES = r'(?P<TIMES>\\*)'\n",
    "EQ = r'(?P<EQ>=)'\n",
    "PLUS = r'(?P<PLUS>\\+)'\n",
    "DIV = r'(?P<DIV>/)'\n",
    "WS = r'(?P<WS>\\s+)'\n"
   ]
  },
  {
   "cell_type": "code",
   "execution_count": 91,
   "id": "d6eb6c56-2103-438e-be41-3eafc084595b",
   "metadata": {
    "tags": []
   },
   "outputs": [],
   "source": [
    "pat = re.compile('|'.join([NAME, NUM, TIMES, EQ, PLUS, DIV, WS]))"
   ]
  },
  {
   "cell_type": "code",
   "execution_count": 92,
   "id": "b9d2d6ba-8340-43eb-a539-62625c365031",
   "metadata": {
    "tags": []
   },
   "outputs": [],
   "source": [
    "from collections import namedtuple"
   ]
  },
  {
   "cell_type": "code",
   "execution_count": 93,
   "id": "310920b7-06d0-4493-b0c2-101f6b8d75ce",
   "metadata": {
    "tags": []
   },
   "outputs": [],
   "source": [
    "token = namedtuple('token', ['type', 'val'])"
   ]
  },
  {
   "cell_type": "code",
   "execution_count": 94,
   "id": "977243f5-6ce0-43ab-bd1c-183168f2d4f1",
   "metadata": {
    "tags": []
   },
   "outputs": [],
   "source": [
    "def gen_tokens(pattern, text):\n",
    "    scanner = pattern.scanner(text)\n",
    "    for s in iter(scanner.match, None):\n",
    "        yield token(s.lastgroup, s.group())"
   ]
  },
  {
   "cell_type": "code",
   "execution_count": 95,
   "id": "fb2e69a8-0129-46f8-954b-95d0ace55139",
   "metadata": {
    "tags": []
   },
   "outputs": [
    {
     "name": "stdout",
     "output_type": "stream",
     "text": [
      "token(type='NAME', val='a')\n",
      "token(type='WS', val=' ')\n",
      "token(type='EQ', val='=')\n",
      "token(type='WS', val=' ')\n",
      "token(type='NUM', val='140')\n"
     ]
    }
   ],
   "source": [
    "for t in gen_tokens(pat, 'a = 140'):\n",
    "    print(t)"
   ]
  },
  {
   "cell_type": "code",
   "execution_count": 96,
   "id": "0d68e970-4998-4fa1-bf1d-43c309694dc0",
   "metadata": {
    "tags": []
   },
   "outputs": [],
   "source": [
    "tokens = (t for t in gen_tokens(pat, s)\n",
    "          if t.type != 'WS')"
   ]
  },
  {
   "cell_type": "code",
   "execution_count": 97,
   "id": "1836c039-953f-4cc8-9364-8a211057b6fb",
   "metadata": {
    "tags": []
   },
   "outputs": [
    {
     "name": "stdout",
     "output_type": "stream",
     "text": [
      "token(type='NAME', val='price_5')\n",
      "token(type='EQ', val='=')\n",
      "token(type='NUM', val='12')\n",
      "token(type='TIMES', val='*')\n",
      "token(type='NAME', val='a')\n",
      "token(type='PLUS', val='+')\n",
      "token(type='NUM', val='25')\n",
      "token(type='TIMES', val='*')\n",
      "token(type='NUM', val='9')\n",
      "token(type='DIV', val='/')\n",
      "token(type='NUM', val='8')\n"
     ]
    }
   ],
   "source": [
    "for t in tokens:\n",
    "    print(t)"
   ]
  },
  {
   "cell_type": "markdown",
   "id": "1669edb5-faf2-410c-a18f-a7e4f809c382",
   "metadata": {},
   "source": [
    "# Perform the appropriate operations on the byte strings to produce the outputs shown."
   ]
  },
  {
   "cell_type": "code",
   "execution_count": 98,
   "id": "28423095-d938-4c56-a2b2-c955574f957a",
   "metadata": {
    "tags": []
   },
   "outputs": [
    {
     "data": {
      "text/plain": [
       "'Python in Udemy'"
      ]
     },
     "execution_count": 98,
     "metadata": {},
     "output_type": "execute_result"
    }
   ],
   "source": [
    "s = 'Python in Udemy'; s"
   ]
  },
  {
   "cell_type": "code",
   "execution_count": 99,
   "id": "2254d19b-5f5d-4d1c-ab87-569f2bce44e4",
   "metadata": {
    "tags": []
   },
   "outputs": [
    {
     "data": {
      "text/plain": [
       "b'Python in Udemy'"
      ]
     },
     "execution_count": 99,
     "metadata": {},
     "output_type": "execute_result"
    }
   ],
   "source": [
    "b = b'Python in Udemy'; b"
   ]
  },
  {
   "cell_type": "code",
   "execution_count": 100,
   "id": "51753286-aecb-459a-94bf-04af74f3b362",
   "metadata": {
    "tags": []
   },
   "outputs": [
    {
     "data": {
      "text/plain": [
       "b'Python'"
      ]
     },
     "execution_count": 100,
     "metadata": {},
     "output_type": "execute_result"
    }
   ],
   "source": [
    "b[:6]"
   ]
  },
  {
   "cell_type": "code",
   "execution_count": 101,
   "id": "fd12d945-3189-4459-bf11-d25847c6e96b",
   "metadata": {
    "tags": []
   },
   "outputs": [
    {
     "data": {
      "text/plain": [
       "b'Udemy'"
      ]
     },
     "execution_count": 101,
     "metadata": {},
     "output_type": "execute_result"
    }
   ],
   "source": [
    "b[10:15]"
   ]
  },
  {
   "cell_type": "code",
   "execution_count": 102,
   "id": "0e096798-2ef2-4fff-82f2-7dd68d7cde74",
   "metadata": {
    "tags": []
   },
   "outputs": [
    {
     "data": {
      "text/plain": [
       "[b'Python', b'in', b'Udemy']"
      ]
     },
     "execution_count": 102,
     "metadata": {},
     "output_type": "execute_result"
    }
   ],
   "source": [
    "b.split()"
   ]
  },
  {
   "cell_type": "code",
   "execution_count": 103,
   "id": "6fdcf472-fc23-4652-885e-57c00621f5b9",
   "metadata": {
    "tags": []
   },
   "outputs": [],
   "source": [
    "version = '3.12.0'"
   ]
  },
  {
   "cell_type": "code",
   "execution_count": 104,
   "id": "9666977e-4481-4452-b25f-a336063aa090",
   "metadata": {
    "tags": []
   },
   "outputs": [],
   "source": [
    "#We are using {dev_env_name} for {prog_lan_name} {version}"
   ]
  },
  {
   "cell_type": "code",
   "execution_count": 105,
   "id": "432485dd-85e7-4c1b-a899-f0e10c822929",
   "metadata": {
    "tags": []
   },
   "outputs": [
    {
     "data": {
      "text/plain": [
       "'We are using Jupyter Lab for Python 3.12.0'"
      ]
     },
     "execution_count": 105,
     "metadata": {},
     "output_type": "execute_result"
    }
   ],
   "source": [
    "'We are using {dev_env_name} for {prog_lan_name} {version}'.format_map(vars())"
   ]
  },
  {
   "cell_type": "code",
   "execution_count": 106,
   "id": "d06b72a5-9fd6-4fe8-8e01-ae8c63e26eb9",
   "metadata": {
    "tags": []
   },
   "outputs": [
    {
     "data": {
      "text/plain": [
       "b'We are using Jupyter Lab for Python 3.12.0'"
      ]
     },
     "execution_count": 106,
     "metadata": {},
     "output_type": "execute_result"
    }
   ],
   "source": [
    "'We are using {dev_env_name} for {prog_lan_name} {version}'.format_map(vars()).encode('ascii')"
   ]
  }
 ],
 "metadata": {
  "kernelspec": {
   "display_name": "Python 3 (ipykernel)",
   "language": "python",
   "name": "python3"
  },
  "language_info": {
   "codemirror_mode": {
    "name": "ipython",
    "version": 3
   },
   "file_extension": ".py",
   "mimetype": "text/x-python",
   "name": "python",
   "nbconvert_exporter": "python",
   "pygments_lexer": "ipython3",
   "version": "3.11.3"
  }
 },
 "nbformat": 4,
 "nbformat_minor": 5
}
