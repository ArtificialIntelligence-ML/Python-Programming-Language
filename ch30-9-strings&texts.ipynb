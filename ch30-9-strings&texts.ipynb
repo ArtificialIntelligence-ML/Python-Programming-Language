{
 "cells": [
  {
   "cell_type": "markdown",
   "id": "d086d9ee-0975-4fc9-8e4f-4e19460fdb9e",
   "metadata": {},
   "source": [
    "#                        string and text"
   ]
  },
  {
   "cell_type": "markdown",
   "id": "d63e3bf4-3617-40dd-8a2c-1404f8c20b01",
   "metadata": {},
   "source": [
    "# Split strings from arbitrary and different positions"
   ]
  },
  {
   "cell_type": "code",
   "execution_count": 1,
   "id": "10534350-0aba-4112-9e2c-b4c55649f3e1",
   "metadata": {
    "tags": []
   },
   "outputs": [],
   "source": [
    "a = 'ab,c,de'"
   ]
  },
  {
   "cell_type": "code",
   "execution_count": 3,
   "id": "9c0fe14f-80ae-4a9d-9ab2-1f1863b500d2",
   "metadata": {
    "tags": []
   },
   "outputs": [
    {
     "data": {
      "text/plain": [
       "['ab', 'c', 'de']"
      ]
     },
     "execution_count": 3,
     "metadata": {},
     "output_type": "execute_result"
    }
   ],
   "source": [
    "a.split(',')"
   ]
  },
  {
   "cell_type": "code",
   "execution_count": 4,
   "id": "db727f1e-91e3-4d6b-bcf1-03ab7b13b5fb",
   "metadata": {
    "tags": []
   },
   "outputs": [],
   "source": [
    "a = 'ab;c,de'"
   ]
  },
  {
   "cell_type": "code",
   "execution_count": 5,
   "id": "3949001e-62a4-434a-a251-c7fce2d87635",
   "metadata": {
    "tags": []
   },
   "outputs": [
    {
     "ename": "TypeError",
     "evalue": "'str' object cannot be interpreted as an integer",
     "output_type": "error",
     "traceback": [
      "\u001b[1;31m---------------------------------------------------------------------------\u001b[0m",
      "\u001b[1;31mTypeError\u001b[0m                                 Traceback (most recent call last)",
      "Cell \u001b[1;32mIn[5], line 1\u001b[0m\n\u001b[1;32m----> 1\u001b[0m a\u001b[38;5;241m.\u001b[39msplit(\u001b[38;5;124m'\u001b[39m\u001b[38;5;124m,\u001b[39m\u001b[38;5;124m'\u001b[39m, \u001b[38;5;124m'\u001b[39m\u001b[38;5;124m;\u001b[39m\u001b[38;5;124m'\u001b[39m)\n",
      "\u001b[1;31mTypeError\u001b[0m: 'str' object cannot be interpreted as an integer"
     ]
    }
   ],
   "source": [
    "a.split(',', ';')"
   ]
  },
  {
   "cell_type": "code",
   "execution_count": 6,
   "id": "8f1f54df-bff7-46ad-87df-a7f14e0a52ca",
   "metadata": {
    "tags": []
   },
   "outputs": [],
   "source": [
    "import re"
   ]
  },
  {
   "cell_type": "code",
   "execution_count": 7,
   "id": "2ab55af9-19ef-403c-893e-d5e2e86f8593",
   "metadata": {
    "tags": []
   },
   "outputs": [],
   "source": [
    "t = 'abcd;fgh pol,flp      ert:vcb     qwe'"
   ]
  },
  {
   "cell_type": "code",
   "execution_count": 8,
   "id": "f5ea486c-ee76-45a6-947b-894bbb691b33",
   "metadata": {
    "tags": []
   },
   "outputs": [
    {
     "data": {
      "text/plain": [
       "['abcd',\n",
       " 'fgh',\n",
       " 'pol',\n",
       " 'flp',\n",
       " '',\n",
       " '',\n",
       " '',\n",
       " '',\n",
       " '',\n",
       " 'ert',\n",
       " 'vcb',\n",
       " '',\n",
       " '',\n",
       " '',\n",
       " '',\n",
       " 'qwe']"
      ]
     },
     "execution_count": 8,
     "metadata": {},
     "output_type": "execute_result"
    }
   ],
   "source": [
    "re.split(r'[;,:\\s]', t)"
   ]
  },
  {
   "cell_type": "code",
   "execution_count": 9,
   "id": "d117d39f-7f0d-47ea-9067-2b2387bcd210",
   "metadata": {
    "tags": []
   },
   "outputs": [
    {
     "data": {
      "text/plain": [
       "['abcd', 'fgh', 'pol', 'flp', 'ert', 'vcb', 'qwe']"
      ]
     },
     "execution_count": 9,
     "metadata": {},
     "output_type": "execute_result"
    }
   ],
   "source": [
    "re.split(r'[;,:\\s]\\s*', t)"
   ]
  },
  {
   "cell_type": "code",
   "execution_count": 10,
   "id": "40fa8cdf-a0dc-423a-9e0e-20f44853efca",
   "metadata": {
    "tags": []
   },
   "outputs": [],
   "source": [
    "f = re.split(r'(;|,|:|\\s)\\s*', t)"
   ]
  },
  {
   "cell_type": "code",
   "execution_count": 11,
   "id": "3ce329d1-8f0a-4f7a-a93e-5203b783103d",
   "metadata": {
    "tags": []
   },
   "outputs": [
    {
     "data": {
      "text/plain": [
       "['abcd',\n",
       " ';',\n",
       " 'fgh',\n",
       " ' ',\n",
       " 'pol',\n",
       " ',',\n",
       " 'flp',\n",
       " ' ',\n",
       " 'ert',\n",
       " ':',\n",
       " 'vcb',\n",
       " ' ',\n",
       " 'qwe']"
      ]
     },
     "execution_count": 11,
     "metadata": {},
     "output_type": "execute_result"
    }
   ],
   "source": [
    "f"
   ]
  },
  {
   "cell_type": "code",
   "execution_count": 12,
   "id": "30c9c0cc-38ad-4d87-8aca-231a21dbe78d",
   "metadata": {
    "tags": []
   },
   "outputs": [
    {
     "data": {
      "text/plain": [
       "['abcd', 'fgh', 'pol', 'flp', 'ert', 'vcb', 'qwe']"
      ]
     },
     "execution_count": 12,
     "metadata": {},
     "output_type": "execute_result"
    }
   ],
   "source": [
    "f[::2]"
   ]
  },
  {
   "cell_type": "code",
   "execution_count": 13,
   "id": "34e556e8-e33c-412d-bbd3-9027e9358f52",
   "metadata": {
    "tags": []
   },
   "outputs": [
    {
     "data": {
      "text/plain": [
       "[';', ' ', ',', ' ', ':', ' ']"
      ]
     },
     "execution_count": 13,
     "metadata": {},
     "output_type": "execute_result"
    }
   ],
   "source": [
    "f[1::2]"
   ]
  },
  {
   "cell_type": "code",
   "execution_count": 16,
   "id": "8044b3cd-7c36-461f-bfc0-5efef4992b5a",
   "metadata": {
    "tags": []
   },
   "outputs": [],
   "source": [
    "f2 = re.split(r'(?:;|,|:|\\s)\\s*', t)"
   ]
  },
  {
   "cell_type": "code",
   "execution_count": 17,
   "id": "2cce4bee-2472-4715-b299-cb4bb979a81e",
   "metadata": {
    "tags": []
   },
   "outputs": [
    {
     "data": {
      "text/plain": [
       "['abcd', 'fgh', 'pol', 'flp', 'ert', 'vcb', 'qwe']"
      ]
     },
     "execution_count": 17,
     "metadata": {},
     "output_type": "execute_result"
    }
   ],
   "source": [
    "f2"
   ]
  },
  {
   "cell_type": "markdown",
   "id": "9afb6504-4e76-48c6-9f0b-0271bfa36170",
   "metadata": {},
   "source": [
    "# matching text at the beginning or end of a string"
   ]
  },
  {
   "cell_type": "code",
   "execution_count": 18,
   "id": "37ca6141-470d-448b-935a-96490af7553c",
   "metadata": {
    "tags": []
   },
   "outputs": [],
   "source": [
    "#str.startswith(), ste.endswith()"
   ]
  },
  {
   "cell_type": "code",
   "execution_count": 19,
   "id": "b375fa62-89a9-47a9-abaf-e7be2fca514d",
   "metadata": {
    "tags": []
   },
   "outputs": [],
   "source": [
    "filename = 'data.csv'"
   ]
  },
  {
   "cell_type": "code",
   "execution_count": 20,
   "id": "519cd485-3b69-43f0-8587-2259ce77791e",
   "metadata": {
    "tags": []
   },
   "outputs": [
    {
     "data": {
      "text/plain": [
       "True"
      ]
     },
     "execution_count": 20,
     "metadata": {},
     "output_type": "execute_result"
    }
   ],
   "source": [
    "filename.endswith('.csv')"
   ]
  },
  {
   "cell_type": "code",
   "execution_count": 21,
   "id": "ed21d1c1-3dc0-4ea8-9109-ff690586e425",
   "metadata": {
    "tags": []
   },
   "outputs": [
    {
     "data": {
      "text/plain": [
       "False"
      ]
     },
     "execution_count": 21,
     "metadata": {},
     "output_type": "execute_result"
    }
   ],
   "source": [
    "filename.endswith('.txt')"
   ]
  },
  {
   "cell_type": "code",
   "execution_count": 22,
   "id": "c5256b65-9e13-4b11-9b55-3d9a7aa36a5d",
   "metadata": {
    "tags": []
   },
   "outputs": [
    {
     "data": {
      "text/plain": [
       "True"
      ]
     },
     "execution_count": 22,
     "metadata": {},
     "output_type": "execute_result"
    }
   ],
   "source": [
    "filename.startswith('data')"
   ]
  },
  {
   "cell_type": "code",
   "execution_count": 23,
   "id": "d244854a-1667-4c36-a54b-eea3a783b20b",
   "metadata": {
    "tags": []
   },
   "outputs": [
    {
     "data": {
      "text/plain": [
       "False"
      ]
     },
     "execution_count": 23,
     "metadata": {},
     "output_type": "execute_result"
    }
   ],
   "source": [
    "filename.startswith('data5')"
   ]
  },
  {
   "cell_type": "code",
   "execution_count": 24,
   "id": "c90ec55a-7254-499a-ab4a-092435c166f1",
   "metadata": {
    "tags": []
   },
   "outputs": [],
   "source": [
    "url = 'https://www.udemy.com'"
   ]
  },
  {
   "cell_type": "code",
   "execution_count": 25,
   "id": "63c68def-f61e-4ec1-b92f-4c1301f9c97c",
   "metadata": {
    "tags": []
   },
   "outputs": [
    {
     "data": {
      "text/plain": [
       "False"
      ]
     },
     "execution_count": 25,
     "metadata": {},
     "output_type": "execute_result"
    }
   ],
   "source": [
    "url.startswith('http:')"
   ]
  },
  {
   "cell_type": "code",
   "execution_count": 26,
   "id": "3c3b85ee-c6f0-4370-8b04-5bd949fb2ce1",
   "metadata": {
    "tags": []
   },
   "outputs": [
    {
     "data": {
      "text/plain": [
       "True"
      ]
     },
     "execution_count": 26,
     "metadata": {},
     "output_type": "execute_result"
    }
   ],
   "source": [
    "url.startswith('https:')"
   ]
  },
  {
   "cell_type": "code",
   "execution_count": 27,
   "id": "cfbfb115-b4a5-428d-a145-d0921b640c74",
   "metadata": {
    "tags": []
   },
   "outputs": [
    {
     "data": {
      "text/plain": [
       "False"
      ]
     },
     "execution_count": 27,
     "metadata": {},
     "output_type": "execute_result"
    }
   ],
   "source": [
    "url.endswith('.org')"
   ]
  },
  {
   "cell_type": "code",
   "execution_count": 28,
   "id": "7dd63435-3c6f-4464-843f-966cf917ce52",
   "metadata": {
    "tags": []
   },
   "outputs": [
    {
     "data": {
      "text/plain": [
       "True"
      ]
     },
     "execution_count": 28,
     "metadata": {},
     "output_type": "execute_result"
    }
   ],
   "source": [
    "url.endswith('.com')"
   ]
  },
  {
   "cell_type": "code",
   "execution_count": 29,
   "id": "28b8d70e-6cf1-4765-b29c-7e5af6847867",
   "metadata": {
    "tags": []
   },
   "outputs": [],
   "source": [
    "filenames = ['data1.csv', 'data2.csv', 'data.xlsx', 'data4.txt', 'pr00.py', 'file5.mat', \n",
    "             'pr06.c']"
   ]
  },
  {
   "cell_type": "code",
   "execution_count": 33,
   "id": "322c6086-0aa8-4017-87b6-425d5d2c0a53",
   "metadata": {
    "tags": []
   },
   "outputs": [],
   "source": [
    "extension = ('.mat', '.py')"
   ]
  },
  {
   "cell_type": "code",
   "execution_count": 36,
   "id": "e6c2510c-9c52-4ada-bada-143151a0fd57",
   "metadata": {
    "tags": []
   },
   "outputs": [
    {
     "data": {
      "text/plain": [
       "['pr00.py', 'file5.mat']"
      ]
     },
     "execution_count": 36,
     "metadata": {},
     "output_type": "execute_result"
    }
   ],
   "source": [
    "[name for name in filenames if name.endswith(extension)]"
   ]
  },
  {
   "cell_type": "code",
   "execution_count": 37,
   "id": "33092b28-c2f6-4d95-975d-63f557f0d68e",
   "metadata": {
    "tags": []
   },
   "outputs": [
    {
     "data": {
      "text/plain": [
       "True"
      ]
     },
     "execution_count": 37,
     "metadata": {},
     "output_type": "execute_result"
    }
   ],
   "source": [
    "any(name.endswith('.xlsx') for name in filenames)"
   ]
  },
  {
   "cell_type": "code",
   "execution_count": 38,
   "id": "750fd12d-a8aa-4776-bb62-13bf2ff9f0c6",
   "metadata": {
    "tags": []
   },
   "outputs": [],
   "source": [
    "urls = ['http:', 'https:']"
   ]
  },
  {
   "cell_type": "code",
   "execution_count": 39,
   "id": "c322d5e8-19e2-4d6f-85b3-b07f9bf7f1be",
   "metadata": {
    "tags": []
   },
   "outputs": [],
   "source": [
    "u = 'https://www.udemy.com'"
   ]
  },
  {
   "cell_type": "code",
   "execution_count": 41,
   "id": "d8177508-3d86-406e-84d5-4a0bcb438f5c",
   "metadata": {
    "tags": []
   },
   "outputs": [
    {
     "data": {
      "text/plain": [
       "True"
      ]
     },
     "execution_count": 41,
     "metadata": {},
     "output_type": "execute_result"
    }
   ],
   "source": [
    "u.startswith(tuple(urls))"
   ]
  },
  {
   "cell_type": "code",
   "execution_count": 42,
   "id": "a98242a1-8205-4b99-aa10-dda9c517c69d",
   "metadata": {
    "tags": []
   },
   "outputs": [],
   "source": [
    "f = 'data8.txt'"
   ]
  },
  {
   "cell_type": "code",
   "execution_count": 43,
   "id": "68831dba-070e-4002-8c46-85c02ea9ea46",
   "metadata": {
    "tags": []
   },
   "outputs": [
    {
     "data": {
      "text/plain": [
       "True"
      ]
     },
     "execution_count": 43,
     "metadata": {},
     "output_type": "execute_result"
    }
   ],
   "source": [
    "f[-4:] == '.txt'"
   ]
  },
  {
   "cell_type": "code",
   "execution_count": 44,
   "id": "61979381-0649-47a8-b6a4-83e54f9f7c21",
   "metadata": {
    "tags": []
   },
   "outputs": [
    {
     "data": {
      "text/plain": [
       "True"
      ]
     },
     "execution_count": 44,
     "metadata": {},
     "output_type": "execute_result"
    }
   ],
   "source": [
    "u[:6] == 'https:' or u[:5] == 'http:' or u[:4] == 'ftp:'"
   ]
  },
  {
   "cell_type": "code",
   "execution_count": 45,
   "id": "dd8a12c4-454f-4458-895a-aea980a68a54",
   "metadata": {
    "tags": []
   },
   "outputs": [],
   "source": [
    "import re"
   ]
  },
  {
   "cell_type": "code",
   "execution_count": 46,
   "id": "28d837cc-4bb3-4bc1-86e4-8e6c8743ebb7",
   "metadata": {
    "tags": []
   },
   "outputs": [
    {
     "data": {
      "text/plain": [
       "<re.Match object; span=(0, 6), match='https:'>"
      ]
     },
     "execution_count": 46,
     "metadata": {},
     "output_type": "execute_result"
    }
   ],
   "source": [
    "re.match('https:|http:|ftp:', u)"
   ]
  },
  {
   "cell_type": "code",
   "execution_count": null,
   "id": "c1bb309f-3338-4bf0-8e44-147451469eb1",
   "metadata": {},
   "outputs": [],
   "source": []
  }
 ],
 "metadata": {
  "kernelspec": {
   "display_name": "Python 3 (ipykernel)",
   "language": "python",
   "name": "python3"
  },
  "language_info": {
   "codemirror_mode": {
    "name": "ipython",
    "version": 3
   },
   "file_extension": ".py",
   "mimetype": "text/x-python",
   "name": "python",
   "nbconvert_exporter": "python",
   "pygments_lexer": "ipython3",
   "version": "3.11.3"
  }
 },
 "nbformat": 4,
 "nbformat_minor": 5
}
