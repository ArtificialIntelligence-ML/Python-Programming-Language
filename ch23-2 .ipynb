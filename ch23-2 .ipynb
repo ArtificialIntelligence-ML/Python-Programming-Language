{
 "cells": [
  {
   "cell_type": "markdown",
   "id": "f0bba04f-497f-4a60-bd60-3641d8a3ba67",
   "metadata": {},
   "source": [
    "# Extracting elements from iterable with arbitrary length"
   ]
  },
  {
   "cell_type": "code",
   "execution_count": 1,
   "id": "027f5ba7-236c-4844-96d9-2be03e4d2731",
   "metadata": {},
   "outputs": [],
   "source": [
    "PL = ('Ghazal', '30', 'Python', 'Java', 'C++')"
   ]
  },
  {
   "cell_type": "code",
   "execution_count": 2,
   "id": "3ae16d3f-4960-420a-bedc-601bae02328e",
   "metadata": {
    "tags": []
   },
   "outputs": [],
   "source": [
    "name, age, *prog_lang = PL"
   ]
  },
  {
   "cell_type": "code",
   "execution_count": 3,
   "id": "71bd5175-6e1e-4f17-99e2-114bec5abc25",
   "metadata": {
    "tags": []
   },
   "outputs": [
    {
     "data": {
      "text/plain": [
       "'Ghazal'"
      ]
     },
     "execution_count": 3,
     "metadata": {},
     "output_type": "execute_result"
    }
   ],
   "source": [
    "name"
   ]
  },
  {
   "cell_type": "code",
   "execution_count": 4,
   "id": "0a345a6c-23d4-4439-a0d0-5bedd158a095",
   "metadata": {
    "tags": []
   },
   "outputs": [
    {
     "data": {
      "text/plain": [
       "'30'"
      ]
     },
     "execution_count": 4,
     "metadata": {},
     "output_type": "execute_result"
    }
   ],
   "source": [
    "age"
   ]
  },
  {
   "cell_type": "code",
   "execution_count": 5,
   "id": "73ea1954-0344-4351-a06b-0cdfb568923f",
   "metadata": {
    "tags": []
   },
   "outputs": [
    {
     "data": {
      "text/plain": [
       "['Python', 'Java', 'C++']"
      ]
     },
     "execution_count": 5,
     "metadata": {},
     "output_type": "execute_result"
    }
   ],
   "source": [
    "prog_lang"
   ]
  },
  {
   "cell_type": "code",
   "execution_count": 6,
   "id": "05ccf25a-35a4-4c73-84f1-1723d034ac2e",
   "metadata": {
    "tags": []
   },
   "outputs": [],
   "source": [
    "d = [1.2, 2.5, 1.7, 0.8, 0.9, 1.1, 1.7, 1.4, 1.3, 2, 2.1, 1.4]"
   ]
  },
  {
   "cell_type": "code",
   "execution_count": 7,
   "id": "08d1d73e-c935-4d2e-8697-98688c6f0fde",
   "metadata": {
    "tags": []
   },
   "outputs": [],
   "source": [
    "*previous, now = d"
   ]
  },
  {
   "cell_type": "code",
   "execution_count": 8,
   "id": "fa40eb01-05a4-4d05-9abf-83c143084f1b",
   "metadata": {
    "tags": []
   },
   "outputs": [
    {
     "data": {
      "text/plain": [
       "1.4"
      ]
     },
     "execution_count": 8,
     "metadata": {},
     "output_type": "execute_result"
    }
   ],
   "source": [
    "now"
   ]
  },
  {
   "cell_type": "code",
   "execution_count": 9,
   "id": "d560c5c0-6612-45b2-bacc-6da709228bbf",
   "metadata": {
    "tags": []
   },
   "outputs": [
    {
     "data": {
      "text/plain": [
       "[1.2, 2.5, 1.7, 0.8, 0.9, 1.1, 1.7, 1.4, 1.3, 2, 2.1]"
      ]
     },
     "execution_count": 9,
     "metadata": {},
     "output_type": "execute_result"
    }
   ],
   "source": [
    "previous"
   ]
  },
  {
   "cell_type": "code",
   "execution_count": 10,
   "id": "0be3b459-d1ee-4e43-977b-43b35940f76b",
   "metadata": {
    "tags": []
   },
   "outputs": [
    {
     "data": {
      "text/plain": [
       "1.5181818181818185"
      ]
     },
     "execution_count": 10,
     "metadata": {},
     "output_type": "execute_result"
    }
   ],
   "source": [
    "sum(previous) / len(previous)"
   ]
  },
  {
   "cell_type": "code",
   "execution_count": 11,
   "id": "7670fec0-ee17-47b3-9336-4514ec97d1b0",
   "metadata": {
    "tags": []
   },
   "outputs": [
    {
     "ename": "SyntaxError",
     "evalue": "starred assignment target must be in a list or tuple (3525829368.py, line 1)",
     "output_type": "error",
     "traceback": [
      "\u001b[1;36m  Cell \u001b[1;32mIn[11], line 1\u001b[1;36m\u001b[0m\n\u001b[1;33m    *previous_ones = d\u001b[0m\n\u001b[1;37m    ^\u001b[0m\n\u001b[1;31mSyntaxError\u001b[0m\u001b[1;31m:\u001b[0m starred assignment target must be in a list or tuple\n"
     ]
    }
   ],
   "source": [
    "*previous_ones = d"
   ]
  },
  {
   "cell_type": "code",
   "execution_count": 12,
   "id": "df4264db-3412-46eb-b427-de4841dc865e",
   "metadata": {
    "tags": []
   },
   "outputs": [],
   "source": [
    "*previous_ones, a, b = d"
   ]
  },
  {
   "cell_type": "code",
   "execution_count": 13,
   "id": "bbd2e81f-b780-4264-912e-58f0fdc73a78",
   "metadata": {
    "tags": []
   },
   "outputs": [
    {
     "data": {
      "text/plain": [
       "2.1"
      ]
     },
     "execution_count": 13,
     "metadata": {},
     "output_type": "execute_result"
    }
   ],
   "source": [
    "a"
   ]
  },
  {
   "cell_type": "code",
   "execution_count": 14,
   "id": "b1c8efba-d0c7-431a-902e-819d5a2d90f6",
   "metadata": {
    "tags": []
   },
   "outputs": [
    {
     "data": {
      "text/plain": [
       "1.4"
      ]
     },
     "execution_count": 14,
     "metadata": {},
     "output_type": "execute_result"
    }
   ],
   "source": [
    "b"
   ]
  },
  {
   "cell_type": "code",
   "execution_count": 15,
   "id": "43daf4a8-4b58-4764-9799-71e21305cdfa",
   "metadata": {
    "tags": []
   },
   "outputs": [],
   "source": [
    "r = [\n",
    "    ('a', 10, 40),\n",
    "    ('b', 25, 63, 71),\n",
    "    ('c', 'hello')\n",
    "]"
   ]
  },
  {
   "cell_type": "code",
   "execution_count": 16,
   "id": "ad5aceb3-bcdb-4162-8280-e82f130233bf",
   "metadata": {
    "tags": []
   },
   "outputs": [],
   "source": [
    "def pr_a(x,y):\n",
    "    print('a', x,y)"
   ]
  },
  {
   "cell_type": "code",
   "execution_count": 17,
   "id": "6d851145-a190-4dac-b80c-aff89233d4e5",
   "metadata": {
    "tags": []
   },
   "outputs": [],
   "source": [
    "def pr_b(x,y,z):\n",
    "    print('b', x,y,z)"
   ]
  },
  {
   "cell_type": "code",
   "execution_count": 18,
   "id": "767eacb4-c72c-4d89-90d8-f795a470ffb9",
   "metadata": {
    "tags": []
   },
   "outputs": [],
   "source": [
    "def pr_c(s):\n",
    "    print('c', s)"
   ]
  },
  {
   "cell_type": "code",
   "execution_count": 19,
   "id": "51e01092-b5b6-4de3-9e7d-9ea6213e5072",
   "metadata": {
    "tags": []
   },
   "outputs": [
    {
     "name": "stdout",
     "output_type": "stream",
     "text": [
      "a 10 40\n",
      "b 25 63 71\n",
      "c hello\n"
     ]
    }
   ],
   "source": [
    "for tag, *args in r:\n",
    "    if tag == 'a':\n",
    "        pr_a(*args)\n",
    "    elif tag == 'b':\n",
    "        pr_b(*args)\n",
    "    else:\n",
    "        pr_c(*args)"
   ]
  },
  {
   "cell_type": "code",
   "execution_count": 20,
   "id": "289726b7-fe4c-4307-b3eb-ca8508f13058",
   "metadata": {
    "tags": []
   },
   "outputs": [],
   "source": [
    "line = 'Ghazal:12.2:84.9:120000002556545:abcd@htb:45666554:python:30'"
   ]
  },
  {
   "cell_type": "code",
   "execution_count": 22,
   "id": "5b5b0714-fdb5-4a62-a1dc-078df07cf51e",
   "metadata": {
    "tags": []
   },
   "outputs": [],
   "source": [
    "name, *data, pr_lan, age = line.split(':')"
   ]
  },
  {
   "cell_type": "code",
   "execution_count": 23,
   "id": "be8c600b-c7fa-456e-80e6-9d9370d018af",
   "metadata": {
    "tags": []
   },
   "outputs": [
    {
     "data": {
      "text/plain": [
       "'Ghazal'"
      ]
     },
     "execution_count": 23,
     "metadata": {},
     "output_type": "execute_result"
    }
   ],
   "source": [
    "name"
   ]
  },
  {
   "cell_type": "code",
   "execution_count": 24,
   "id": "44e4b373-0288-4b4a-bccb-d102e6c92ab7",
   "metadata": {
    "tags": []
   },
   "outputs": [
    {
     "data": {
      "text/plain": [
       "['12.2', '84.9', '120000002556545', 'abcd@htb', '45666554']"
      ]
     },
     "execution_count": 24,
     "metadata": {},
     "output_type": "execute_result"
    }
   ],
   "source": [
    "data"
   ]
  },
  {
   "cell_type": "code",
   "execution_count": 26,
   "id": "739a6830-b54f-44c1-a184-91b59867821b",
   "metadata": {
    "tags": []
   },
   "outputs": [
    {
     "data": {
      "text/plain": [
       "'python'"
      ]
     },
     "execution_count": 26,
     "metadata": {},
     "output_type": "execute_result"
    }
   ],
   "source": [
    "pr_lan"
   ]
  },
  {
   "cell_type": "code",
   "execution_count": 27,
   "id": "950ccc2d-3b00-42c8-99ca-93f8aeb4426c",
   "metadata": {
    "tags": []
   },
   "outputs": [
    {
     "data": {
      "text/plain": [
       "'30'"
      ]
     },
     "execution_count": 27,
     "metadata": {},
     "output_type": "execute_result"
    }
   ],
   "source": [
    "age"
   ]
  },
  {
   "cell_type": "code",
   "execution_count": 28,
   "id": "696e1b81-4d8a-4b66-9cd5-0e312f84bcda",
   "metadata": {
    "tags": []
   },
   "outputs": [],
   "source": [
    "name, *_, pr_lan, age = line.split(':')"
   ]
  },
  {
   "cell_type": "code",
   "execution_count": 29,
   "id": "ee70f504-dc2a-4259-8bdc-bdc5728e2a6a",
   "metadata": {
    "tags": []
   },
   "outputs": [
    {
     "data": {
      "text/plain": [
       "'Ghazal'"
      ]
     },
     "execution_count": 29,
     "metadata": {},
     "output_type": "execute_result"
    }
   ],
   "source": [
    "name"
   ]
  },
  {
   "cell_type": "code",
   "execution_count": 30,
   "id": "4e5c7c0e-27b2-4f78-983c-28ee9dfea804",
   "metadata": {
    "tags": []
   },
   "outputs": [
    {
     "data": {
      "text/plain": [
       "'python'"
      ]
     },
     "execution_count": 30,
     "metadata": {},
     "output_type": "execute_result"
    }
   ],
   "source": [
    "pr_lan"
   ]
  },
  {
   "cell_type": "code",
   "execution_count": 31,
   "id": "b2adb684-dcf2-4f51-ac3c-a07330f05025",
   "metadata": {
    "tags": []
   },
   "outputs": [
    {
     "data": {
      "text/plain": [
       "'30'"
      ]
     },
     "execution_count": 31,
     "metadata": {},
     "output_type": "execute_result"
    }
   ],
   "source": [
    "age"
   ]
  },
  {
   "cell_type": "code",
   "execution_count": 32,
   "id": "197853bc-5e10-4198-85c0-1db8139ecf61",
   "metadata": {
    "tags": []
   },
   "outputs": [],
   "source": [
    "r = ('PyCon', 102, 200345, (10, 25, 2024))"
   ]
  },
  {
   "cell_type": "code",
   "execution_count": 33,
   "id": "68ae4610-99fc-4cc2-8a3c-0d846e29555d",
   "metadata": {
    "tags": []
   },
   "outputs": [],
   "source": [
    "name, *_, (*_, year) = r"
   ]
  },
  {
   "cell_type": "code",
   "execution_count": 34,
   "id": "02eeb76a-381c-40b3-bbd2-6fe16420ed44",
   "metadata": {
    "tags": []
   },
   "outputs": [
    {
     "data": {
      "text/plain": [
       "'PyCon'"
      ]
     },
     "execution_count": 34,
     "metadata": {},
     "output_type": "execute_result"
    }
   ],
   "source": [
    "name"
   ]
  },
  {
   "cell_type": "code",
   "execution_count": 35,
   "id": "41942e4a-ec18-4ab1-8730-f221177d7004",
   "metadata": {
    "tags": []
   },
   "outputs": [
    {
     "data": {
      "text/plain": [
       "2024"
      ]
     },
     "execution_count": 35,
     "metadata": {},
     "output_type": "execute_result"
    }
   ],
   "source": [
    "year"
   ]
  },
  {
   "cell_type": "code",
   "execution_count": 37,
   "id": "559308d2-b467-4bd6-9e92-55bc38ebf286",
   "metadata": {
    "tags": []
   },
   "outputs": [],
   "source": [
    "l = [1, 25, 4, 8, 99, 0, 12]"
   ]
  },
  {
   "cell_type": "code",
   "execution_count": 38,
   "id": "af62e66e-38b4-4b8a-9697-50876fefc16b",
   "metadata": {
    "tags": []
   },
   "outputs": [],
   "source": [
    "head, *tail = l"
   ]
  },
  {
   "cell_type": "code",
   "execution_count": 39,
   "id": "0ea95fbb-8fa5-44e3-8363-d27a2c95991b",
   "metadata": {
    "tags": []
   },
   "outputs": [
    {
     "data": {
      "text/plain": [
       "1"
      ]
     },
     "execution_count": 39,
     "metadata": {},
     "output_type": "execute_result"
    }
   ],
   "source": [
    "head"
   ]
  },
  {
   "cell_type": "code",
   "execution_count": 40,
   "id": "c72239d0-6e44-41e2-86b9-a3bad87145df",
   "metadata": {
    "tags": []
   },
   "outputs": [
    {
     "data": {
      "text/plain": [
       "[25, 4, 8, 99, 0, 12]"
      ]
     },
     "execution_count": 40,
     "metadata": {},
     "output_type": "execute_result"
    }
   ],
   "source": [
    "tail"
   ]
  },
  {
   "cell_type": "code",
   "execution_count": 41,
   "id": "f0aad57e-9bfa-4a1e-9040-6037407fadd1",
   "metadata": {
    "tags": []
   },
   "outputs": [],
   "source": [
    "def sum(l):\n",
    "    head, *tail = l\n",
    "    return head + sum(tail) if tail else head"
   ]
  },
  {
   "cell_type": "code",
   "execution_count": 42,
   "id": "ad8ff6e0-f51c-40dd-94a1-5e83b67bbc4f",
   "metadata": {
    "tags": []
   },
   "outputs": [
    {
     "data": {
      "text/plain": [
       "149"
      ]
     },
     "execution_count": 42,
     "metadata": {},
     "output_type": "execute_result"
    }
   ],
   "source": [
    "sum(l)"
   ]
  },
  {
   "cell_type": "markdown",
   "id": "9be9bb29-1013-4d48-b9c3-dc7d844a768a",
   "metadata": {},
   "source": [
    "# Keeping N last items"
   ]
  },
  {
   "cell_type": "code",
   "execution_count": 43,
   "id": "0fe7ecb6-cd9f-4605-a471-2083b2660ff4",
   "metadata": {
    "tags": []
   },
   "outputs": [],
   "source": [
    "import collections"
   ]
  },
  {
   "cell_type": "code",
   "execution_count": 44,
   "id": "400526bc-6943-47e5-95f9-1c23100ad6a0",
   "metadata": {
    "tags": []
   },
   "outputs": [],
   "source": [
    "de = collections.deque([2, 8, 32])"
   ]
  },
  {
   "cell_type": "code",
   "execution_count": 45,
   "id": "1818ea20-b7ee-40cd-945f-7038061f600d",
   "metadata": {
    "tags": []
   },
   "outputs": [
    {
     "data": {
      "text/plain": [
       "deque([2, 8, 32])"
      ]
     },
     "execution_count": 45,
     "metadata": {},
     "output_type": "execute_result"
    }
   ],
   "source": [
    "de"
   ]
  },
  {
   "cell_type": "code",
   "execution_count": 46,
   "id": "115ac732-0bd4-4948-aeea-96f15d755536",
   "metadata": {
    "tags": []
   },
   "outputs": [],
   "source": [
    "de.append(20)"
   ]
  },
  {
   "cell_type": "code",
   "execution_count": 47,
   "id": "2f818c5d-d774-444c-ad3d-6adcd859956d",
   "metadata": {
    "tags": []
   },
   "outputs": [
    {
     "data": {
      "text/plain": [
       "deque([2, 8, 32, 20])"
      ]
     },
     "execution_count": 47,
     "metadata": {},
     "output_type": "execute_result"
    }
   ],
   "source": [
    "de"
   ]
  },
  {
   "cell_type": "code",
   "execution_count": 48,
   "id": "eb3d3835-6289-4c2a-8d67-90ef384f6216",
   "metadata": {
    "tags": []
   },
   "outputs": [],
   "source": [
    "de.appendleft(20)"
   ]
  },
  {
   "cell_type": "code",
   "execution_count": 49,
   "id": "645bb8b5-965a-4aa6-a860-d24e9557d3bd",
   "metadata": {
    "tags": []
   },
   "outputs": [
    {
     "data": {
      "text/plain": [
       "deque([20, 2, 8, 32, 20])"
      ]
     },
     "execution_count": 49,
     "metadata": {},
     "output_type": "execute_result"
    }
   ],
   "source": [
    "de"
   ]
  },
  {
   "cell_type": "code",
   "execution_count": 50,
   "id": "438c8d8d-2410-491a-b276-2525bd17cbd5",
   "metadata": {
    "tags": []
   },
   "outputs": [
    {
     "data": {
      "text/plain": [
       "20"
      ]
     },
     "execution_count": 50,
     "metadata": {},
     "output_type": "execute_result"
    }
   ],
   "source": [
    "de.pop()"
   ]
  },
  {
   "cell_type": "code",
   "execution_count": 52,
   "id": "fd783567-9f3a-41b1-93de-066b5c089217",
   "metadata": {
    "tags": []
   },
   "outputs": [
    {
     "data": {
      "text/plain": [
       "20"
      ]
     },
     "execution_count": 52,
     "metadata": {},
     "output_type": "execute_result"
    }
   ],
   "source": [
    "de.popleft()"
   ]
  },
  {
   "cell_type": "code",
   "execution_count": 56,
   "id": "b8bcafb7-9759-4d9f-8b0f-434316d7720b",
   "metadata": {
    "tags": []
   },
   "outputs": [],
   "source": [
    "a = deque(maxlen = 5)"
   ]
  },
  {
   "cell_type": "code",
   "execution_count": 62,
   "id": "c45c036e-60d0-4c72-b975-ad301220cd7c",
   "metadata": {
    "tags": []
   },
   "outputs": [
    {
     "data": {
      "text/plain": [
       "deque([20, 5, 25, 41, 100], maxlen=5)"
      ]
     },
     "execution_count": 62,
     "metadata": {},
     "output_type": "execute_result"
    }
   ],
   "source": [
    "a.append(100); a"
   ]
  },
  {
   "cell_type": "code",
   "execution_count": 70,
   "id": "7753e790-b76d-49c9-b605-0987bc7b8227",
   "metadata": {
    "tags": []
   },
   "outputs": [
    {
     "name": "stdout",
     "output_type": "stream",
     "text": [
      "Python is a high-level, general-purpose programming language. \n",
      " ---------------\n",
      "Its design philosophy emphasizes code readability with the use of significant indentation.\n",
      " \n",
      " Python is dynamically typed and garbage-collected. \n",
      " ---------------\n",
      "It is often described as a \"batteries included\" language due to its comprehensive standard library.\n",
      " \n",
      " Guido van Rossum began working on Python in the late 1980s as a successor to the ABC programming language and first released it in 1991 as Python 0.9.0.\n",
      " ---------------\n",
      "\n",
      " Guido van Rossum began working on Python in the late 1980s as a successor to the ABC programming language and first released it in 1991 as Python 0.9.0.\n",
      " Python 2.0 was released in 2000. Python 3.0, released in 2008, was a major revision not completely backward-compatible with earlier versions. \n",
      " ---------------\n",
      "Guido van Rossum began working on Python in the late 1980s as a successor to the ABC programming language and first released it in 1991 as Python 0.9.0.\n",
      " Python 2.0 was released in 2000. Python 3.0, released in 2008, was a major revision not completely backward-compatible with earlier versions. \n",
      " Python 2.7.18, released in 2020, was the last release of Python 2.\n",
      " ---------------\n",
      "Python 2.7.18, released in 2020, was the last release of Python 2.\n",
      " \n",
      " Python consistently ranks as one of the most popular programming languages.\n",
      " ---------------\n",
      "History\n",
      " \n",
      " The designer of Python, Guido van Rossum, at OSCON 2006\n",
      " ---------------\n",
      "\n",
      " The designer of Python, Guido van Rossum, at OSCON 2006\n",
      " Main article: History of Python\n",
      " ---------------\n",
      "The designer of Python, Guido van Rossum, at OSCON 2006\n",
      " Main article: History of Python\n",
      " Python was conceived in the late 1980s[41] by Guido van Rossum at Centrum Wiskunde & Informatica (CWI) in the Netherlands as a successor to the ABC programming language, which was inspired by SETL,[42] capable of exception handling and interfacing with the Amoeba operating system.[11] Its implementation began in December 1989.[43] Van Rossum shouldered sole responsibility for the project, as the lead developer, until 12 July 2018, when he announced his \"permanent vacation\" from his responsibilities as Python's \"benevolent dictator for life\", a title the Python community bestowed upon him to reflect his long-term commitment as the project's chief decision-maker.[44] In January 2019, active Python core developers elected a five-member Steering Council to lead the project.[45][46]\n",
      " ---------------\n",
      "Python was conceived in the late 1980s[41] by Guido van Rossum at Centrum Wiskunde & Informatica (CWI) in the Netherlands as a successor to the ABC programming language, which was inspired by SETL,[42] capable of exception handling and interfacing with the Amoeba operating system.[11] Its implementation began in December 1989.[43] Van Rossum shouldered sole responsibility for the project, as the lead developer, until 12 July 2018, when he announced his \"permanent vacation\" from his responsibilities as Python's \"benevolent dictator for life\", a title the Python community bestowed upon him to reflect his long-term commitment as the project's chief decision-maker.[44] In January 2019, active Python core developers elected a five-member Steering Council to lead the project.[45][46]\n",
      " \n",
      " Python 2.0 was released on 16 October 2000, with many major new features such as list comprehensions, cycle-detecting garbage collection, reference counting, and Unicode support.[47] Python 3.0, released on 3 December 2008, with many of its major features backported to Python 2.6.x[48] and 2.7.x. Releases of Python 3 include the 2to3 utility, which automates the translation of Python 2 code to Python 3.[49]\n",
      " ---------------\n",
      "Python 2.0 was released on 16 October 2000, with many major new features such as list comprehensions, cycle-detecting garbage collection, reference counting, and Unicode support.[47] Python 3.0, released on 3 December 2008, with many of its major features backported to Python 2.6.x[48] and 2.7.x. Releases of Python 3 include the 2to3 utility, which automates the translation of Python 2 code to Python 3.[49]\n",
      " \n",
      " Python 2.7's end-of-life was initially set for 2015, then postponed to 2020 out of concern that a large body of existing code could not easily be forward-ported to Python 3.[50][51] No further security patches or other improvements will be released for it.[52][53] Currently only 3.8 and later are supported (2023 security issues were fixed in e.g. 3.7.17, the final 3.7.x release[54]).\n",
      " ---------------\n",
      "Python 2.7's end-of-life was initially set for 2015, then postponed to 2020 out of concern that a large body of existing code could not easily be forward-ported to Python 3.[50][51] No further security patches or other improvements will be released for it.[52][53] Currently only 3.8 and later are supported (2023 security issues were fixed in e.g. 3.7.17, the final 3.7.x release[54]).\n",
      " \n",
      " In 2021 (and again twice in 2022), security updates were expedited, since all Python versions were insecure (including 2.7[55]) because of security issues leading to possible remote code execution[56] and web-cache poisoning.[57] In 2022, Python 3.10.4 and 3.9.12 were expedited[58] and 3.8.13, because of many security issues.[59] When Python 3.9.13 was released in May 2022, it was announced that the 3.9 series (joining the older series 3.8 and 3.7) would only receive security fixes in the future.[60] On 7 September 2022, four new releases were made due to a potential denial-of-service attack: 3.10.7, 3.9.14, 3.8.14, and 3.7.14.[61][62]\n",
      " ---------------\n",
      "In 2021 (and again twice in 2022), security updates were expedited, since all Python versions were insecure (including 2.7[55]) because of security issues leading to possible remote code execution[56] and web-cache poisoning.[57] In 2022, Python 3.10.4 and 3.9.12 were expedited[58] and 3.8.13, because of many security issues.[59] When Python 3.9.13 was released in May 2022, it was announced that the 3.9 series (joining the older series 3.8 and 3.7) would only receive security fixes in the future.[60] On 7 September 2022, four new releases were made due to a potential denial-of-service attack: 3.10.7, 3.9.14, 3.8.14, and 3.7.14.[61][62]\n",
      " \n",
      " As of October 2023, Python 3.12 is the stable release, and 3.12 and 3.11 are the only versions with active (as opposed to just security) support. Notable changes in 3.11 from 3.10 include increased program execution speed and improved error reporting.[63] ---------------\n"
     ]
    }
   ],
   "source": [
    "with open('D:\\\\ghazal\\\\python\\\\advance\\\\ch23-2\\\\text1.txt') as f:\n",
    "    for line, pr_lines in search(f, 'Python', 2):\n",
    "        for pline in pr_lines:\n",
    "            print(pline, end = ' ')\n",
    "        print (line, end = ' ')\n",
    "        print ('-'*15)"
   ]
  },
  {
   "cell_type": "code",
   "execution_count": 71,
   "id": "9d5ae50f-845b-416e-8605-1442c3bf7f79",
   "metadata": {
    "tags": []
   },
   "outputs": [
    {
     "data": {
      "text/plain": [
       "deque(['\\n',\n",
       "       'As of October 2023, Python 3.12 is the stable release, and 3.12 and 3.11 are the only versions with active (as opposed to just security) support. Notable changes in 3.11 from 3.10 include increased program execution speed and improved error reporting.[63]'],\n",
       "      maxlen=2)"
      ]
     },
     "execution_count": 71,
     "metadata": {},
     "output_type": "execute_result"
    }
   ],
   "source": [
    "pr_lines"
   ]
  },
  {
   "cell_type": "code",
   "execution_count": 72,
   "id": "f264929d-f4de-4626-97c6-9e0e7e771757",
   "metadata": {
    "tags": []
   },
   "outputs": [
    {
     "data": {
      "text/plain": [
       "2"
      ]
     },
     "execution_count": 72,
     "metadata": {},
     "output_type": "execute_result"
    }
   ],
   "source": [
    "len(pr_lines)"
   ]
  },
  {
   "cell_type": "code",
   "execution_count": null,
   "id": "844fa4d3-ecf2-4cd1-9464-c1bd9b628ed4",
   "metadata": {},
   "outputs": [],
   "source": []
  },
  {
   "cell_type": "code",
   "execution_count": null,
   "id": "65b88ee7-7671-4b48-a421-2b9c83c80a27",
   "metadata": {},
   "outputs": [],
   "source": []
  },
  {
   "cell_type": "code",
   "execution_count": null,
   "id": "e00a376c-c174-4705-83a8-aafb4889563a",
   "metadata": {},
   "outputs": [],
   "source": []
  },
  {
   "cell_type": "code",
   "execution_count": 53,
   "id": "24126a26-75bf-42bb-ab33-9234d8e3775b",
   "metadata": {
    "tags": []
   },
   "outputs": [],
   "source": [
    "from collections import deque"
   ]
  },
  {
   "cell_type": "code",
   "execution_count": 55,
   "id": "5319ec31-a841-4e77-b5ca-c127b484689c",
   "metadata": {
    "tags": []
   },
   "outputs": [],
   "source": [
    "def search(lines, pattern, hist = 8):\n",
    "    pr_lines = deque(maxlen = hist)\n",
    "    for line in lines:\n",
    "        if pattern in line:\n",
    "            yield line, pr_lines\n",
    "        pr_lines.append(line)"
   ]
  },
  {
   "cell_type": "code",
   "execution_count": null,
   "id": "351df5ea-c744-4524-9bb8-ecf5e058e0c9",
   "metadata": {},
   "outputs": [],
   "source": []
  }
 ],
 "metadata": {
  "kernelspec": {
   "display_name": "Python 3 (ipykernel)",
   "language": "python",
   "name": "python3"
  },
  "language_info": {
   "codemirror_mode": {
    "name": "ipython",
    "version": 3
   },
   "file_extension": ".py",
   "mimetype": "text/x-python",
   "name": "python",
   "nbconvert_exporter": "python",
   "pygments_lexer": "ipython3",
   "version": "3.11.3"
  }
 },
 "nbformat": 4,
 "nbformat_minor": 5
}
