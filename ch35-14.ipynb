{
 "cells": [
  {
   "cell_type": "markdown",
   "id": "83b792b7-d2a8-446e-9333-486b6cebc51d",
   "metadata": {},
   "source": [
    "# Working with HTML and XML in text"
   ]
  },
  {
   "cell_type": "code",
   "execution_count": 1,
   "id": "b18461a0-c99d-4e4c-814e-15bf71d38a24",
   "metadata": {
    "tags": []
   },
   "outputs": [],
   "source": [
    "s = 'This is my doc \"<tag>text</tag>\".'"
   ]
  },
  {
   "cell_type": "code",
   "execution_count": 2,
   "id": "986ac10d-356e-41c9-8961-f831ad74177c",
   "metadata": {
    "tags": []
   },
   "outputs": [
    {
     "name": "stdout",
     "output_type": "stream",
     "text": [
      "This is my doc \"<tag>text</tag>\".\n"
     ]
    }
   ],
   "source": [
    "print(s)"
   ]
  },
  {
   "cell_type": "code",
   "execution_count": 3,
   "id": "f477be01-ba78-4959-8805-05e6ee1c462e",
   "metadata": {
    "tags": []
   },
   "outputs": [],
   "source": [
    "import html"
   ]
  },
  {
   "cell_type": "code",
   "execution_count": 4,
   "id": "86ebf2cf-3c84-433e-8fbb-4c376fc8920b",
   "metadata": {
    "tags": []
   },
   "outputs": [
    {
     "name": "stdout",
     "output_type": "stream",
     "text": [
      "This is my doc &quot;&lt;tag&gt;text&lt;/tag&gt;&quot;.\n"
     ]
    }
   ],
   "source": [
    "print(html.escape(s))"
   ]
  },
  {
   "cell_type": "code",
   "execution_count": 5,
   "id": "9b5f76d0-741b-48f5-a2a3-1cb5d056500a",
   "metadata": {
    "tags": []
   },
   "outputs": [
    {
     "name": "stdout",
     "output_type": "stream",
     "text": [
      "This is my doc \"&lt;tag&gt;text&lt;/tag&gt;\".\n"
     ]
    }
   ],
   "source": [
    "print(html.escape(s, quote = False))"
   ]
  },
  {
   "cell_type": "code",
   "execution_count": 6,
   "id": "8ac04481-973d-4bb8-9cf7-aa49be885ff3",
   "metadata": {
    "tags": []
   },
   "outputs": [
    {
     "data": {
      "text/plain": [
       "'ñ'"
      ]
     },
     "execution_count": 6,
     "metadata": {},
     "output_type": "execute_result"
    }
   ],
   "source": [
    "'\\u00f1'"
   ]
  },
  {
   "cell_type": "code",
   "execution_count": 7,
   "id": "4e1f17b7-6065-4dc2-abdb-d72f8ba7c889",
   "metadata": {
    "tags": []
   },
   "outputs": [],
   "source": [
    "s = 'El niño'"
   ]
  },
  {
   "cell_type": "code",
   "execution_count": 8,
   "id": "c27ece23-4ead-4c90-a2e4-55dd4a19c9fe",
   "metadata": {
    "tags": []
   },
   "outputs": [
    {
     "data": {
      "text/plain": [
       "b'El nio'"
      ]
     },
     "execution_count": 8,
     "metadata": {},
     "output_type": "execute_result"
    }
   ],
   "source": [
    "s.encode('ascii', 'ignore')"
   ]
  },
  {
   "cell_type": "code",
   "execution_count": 9,
   "id": "dcc00966-fd29-48e1-b52d-73a55781a490",
   "metadata": {
    "tags": []
   },
   "outputs": [
    {
     "data": {
      "text/plain": [
       "\"'El ni\\\\xf1o'\""
      ]
     },
     "execution_count": 9,
     "metadata": {},
     "output_type": "execute_result"
    }
   ],
   "source": [
    "ascii(s)"
   ]
  },
  {
   "cell_type": "code",
   "execution_count": 10,
   "id": "1230ab99-1aee-490f-8bb8-6f2ce9122c2f",
   "metadata": {
    "tags": []
   },
   "outputs": [
    {
     "data": {
      "text/plain": [
       "b'El ni&#241;o'"
      ]
     },
     "execution_count": 10,
     "metadata": {},
     "output_type": "execute_result"
    }
   ],
   "source": [
    "s.encode('ascii', errors = 'xmlcharrefreplace')"
   ]
  },
  {
   "cell_type": "code",
   "execution_count": 11,
   "id": "720dbc2a-312f-45ca-a5d0-bd5aec627819",
   "metadata": {
    "tags": []
   },
   "outputs": [],
   "source": [
    "# s = 'El \"niño\"'"
   ]
  },
  {
   "cell_type": "code",
   "execution_count": 12,
   "id": "97d43266-5dae-4153-bcb9-dea6f3e92974",
   "metadata": {
    "tags": []
   },
   "outputs": [],
   "source": [
    "s = 'El &quot;ni&#241;o&quot.'"
   ]
  },
  {
   "cell_type": "code",
   "execution_count": 13,
   "id": "631f7f52-401c-4b46-8b99-fa509a13fb30",
   "metadata": {
    "tags": []
   },
   "outputs": [
    {
     "data": {
      "text/plain": [
       "'El &quot;ni&#241;o&quot.'"
      ]
     },
     "execution_count": 13,
     "metadata": {},
     "output_type": "execute_result"
    }
   ],
   "source": [
    "s"
   ]
  },
  {
   "cell_type": "code",
   "execution_count": 14,
   "id": "7bc946a1-360b-4293-8186-48d5fa9d7bc7",
   "metadata": {
    "tags": []
   },
   "outputs": [
    {
     "data": {
      "text/plain": [
       "'El \"niño\".'"
      ]
     },
     "execution_count": 14,
     "metadata": {},
     "output_type": "execute_result"
    }
   ],
   "source": [
    "html.unescape(s)"
   ]
  },
  {
   "cell_type": "code",
   "execution_count": 15,
   "id": "94d5c4da-b904-41cb-9dce-9263987c3c37",
   "metadata": {
    "tags": []
   },
   "outputs": [],
   "source": [
    "t = 'the python prompt &gt;&gt;&gt;'"
   ]
  },
  {
   "cell_type": "code",
   "execution_count": 16,
   "id": "65724615-0337-4a63-ade6-8124a3174dc1",
   "metadata": {
    "tags": []
   },
   "outputs": [],
   "source": [
    "from xml.sax.saxutils import unescape"
   ]
  },
  {
   "cell_type": "code",
   "execution_count": 17,
   "id": "40410025-b952-4f53-a593-77429783030d",
   "metadata": {
    "tags": []
   },
   "outputs": [
    {
     "data": {
      "text/plain": [
       "'the python prompt >>>'"
      ]
     },
     "execution_count": 17,
     "metadata": {},
     "output_type": "execute_result"
    }
   ],
   "source": [
    "unescape(t)"
   ]
  },
  {
   "cell_type": "markdown",
   "id": "8e9a5917-6a21-4c47-a2da-2d4249a4058a",
   "metadata": {},
   "source": [
    "# Tokenizing Text"
   ]
  },
  {
   "cell_type": "code",
   "execution_count": 18,
   "id": "9b5213a7-5b3e-432e-87c9-9a6dfc2e8891",
   "metadata": {
    "tags": []
   },
   "outputs": [],
   "source": [
    "s = 'a = 140 * 25 + 36'"
   ]
  },
  {
   "cell_type": "code",
   "execution_count": 19,
   "id": "63279f2c-9bb9-441d-ab8f-4853ba7bc78a",
   "metadata": {
    "tags": []
   },
   "outputs": [],
   "source": [
    "tokens = [('NAME', 'a'), ('EQ', '='), ('NUM', '140'), ('TIMES', '*'), ('NUM', '25'),\n",
    "          ('PLUS', '+'), ('NUM', '36')]"
   ]
  },
  {
   "cell_type": "code",
   "execution_count": 20,
   "id": "fd84024f-50d1-497e-9d30-050f3d9d7de6",
   "metadata": {
    "tags": []
   },
   "outputs": [],
   "source": [
    "# ?P<TOKENNAME>"
   ]
  },
  {
   "cell_type": "code",
   "execution_count": 21,
   "id": "e252d764-1ef1-4578-9b28-ba42bc5db57b",
   "metadata": {
    "tags": []
   },
   "outputs": [],
   "source": [
    "import re"
   ]
  },
  {
   "cell_type": "code",
   "execution_count": 37,
   "id": "a5f716f9-e7de-4bce-ad6d-9996fc4f0cd6",
   "metadata": {
    "tags": []
   },
   "outputs": [],
   "source": [
    "NAME = r'(?P<NAME>[a-zA-Z_][a-zA-Z_0-9]*)'"
   ]
  },
  {
   "cell_type": "code",
   "execution_count": 38,
   "id": "b751f6bb-c5bd-4497-929d-83513e492afd",
   "metadata": {
    "tags": []
   },
   "outputs": [],
   "source": [
    "NUM = r'(?P<NUM>\\d+)'\n",
    "TIMES = r'(?P<TIMES>\\*)'\n",
    "EQ = r'(?P<EQ>=)'\n",
    "PLUS = r'(?P<PLUS>\\+)'\n",
    "WS = r'(?P<WS>\\s+)'\n"
   ]
  },
  {
   "cell_type": "code",
   "execution_count": 39,
   "id": "2fce99da-bbef-4939-a1cd-293893a63ac4",
   "metadata": {
    "tags": []
   },
   "outputs": [],
   "source": [
    "pat = re.compile('|'.join([NAME, NUM, TIMES, EQ, PLUS, WS]))"
   ]
  },
  {
   "cell_type": "code",
   "execution_count": 40,
   "id": "9ada5788-c62c-45a7-9b8b-97e69940042d",
   "metadata": {
    "tags": []
   },
   "outputs": [
    {
     "data": {
      "text/plain": [
       "re.compile(r'(?P<NAME>[a-zA-Z_][a-zA-Z_0-9]*)|(?P<NUM>\\d+)|(?P<TIMES>\\*)|(?P<EQ>=)|(?P<PLUS>\\+)|(?P<WS>\\s+)',\n",
       "           re.UNICODE)"
      ]
     },
     "execution_count": 40,
     "metadata": {},
     "output_type": "execute_result"
    }
   ],
   "source": [
    "pat"
   ]
  },
  {
   "cell_type": "code",
   "execution_count": 41,
   "id": "f2ab5102-95b5-433e-b8fe-5fbd8bdb96d6",
   "metadata": {
    "tags": []
   },
   "outputs": [],
   "source": [
    "scanner = pat.scanner('a = 140')"
   ]
  },
  {
   "cell_type": "code",
   "execution_count": 42,
   "id": "2e754948-5f8b-484f-a6ab-f69a3c7f5504",
   "metadata": {
    "tags": []
   },
   "outputs": [
    {
     "data": {
      "text/plain": [
       "<re.Match object; span=(0, 1), match='a'>"
      ]
     },
     "execution_count": 42,
     "metadata": {},
     "output_type": "execute_result"
    }
   ],
   "source": [
    "scanner.match()"
   ]
  },
  {
   "cell_type": "code",
   "execution_count": 43,
   "id": "d3141671-a152-46e2-8212-5e10c9c28462",
   "metadata": {
    "tags": []
   },
   "outputs": [
    {
     "data": {
      "text/plain": [
       "('NAME', 'a')"
      ]
     },
     "execution_count": 43,
     "metadata": {},
     "output_type": "execute_result"
    }
   ],
   "source": [
    "_.lastgroup, _.group()"
   ]
  },
  {
   "cell_type": "code",
   "execution_count": 44,
   "id": "4b84b9a9-601d-4cd4-a9ef-2a7a5649268f",
   "metadata": {
    "tags": []
   },
   "outputs": [
    {
     "data": {
      "text/plain": [
       "<re.Match object; span=(1, 2), match=' '>"
      ]
     },
     "execution_count": 44,
     "metadata": {},
     "output_type": "execute_result"
    }
   ],
   "source": [
    "scanner.match()"
   ]
  },
  {
   "cell_type": "code",
   "execution_count": 45,
   "id": "ac3e0a61-2f11-4bc0-aaa6-e87fa3608808",
   "metadata": {
    "tags": []
   },
   "outputs": [
    {
     "data": {
      "text/plain": [
       "('WS', ' ')"
      ]
     },
     "execution_count": 45,
     "metadata": {},
     "output_type": "execute_result"
    }
   ],
   "source": [
    "_.lastgroup, _.group()"
   ]
  },
  {
   "cell_type": "code",
   "execution_count": 46,
   "id": "2a5c2cc9-1224-4c53-8e58-bd47e71897d1",
   "metadata": {
    "tags": []
   },
   "outputs": [
    {
     "data": {
      "text/plain": [
       "<re.Match object; span=(2, 3), match='='>"
      ]
     },
     "execution_count": 46,
     "metadata": {},
     "output_type": "execute_result"
    }
   ],
   "source": [
    "scanner.match()"
   ]
  },
  {
   "cell_type": "code",
   "execution_count": 47,
   "id": "e8fcc400-d0bc-424b-8f7c-801a1f9b8409",
   "metadata": {
    "tags": []
   },
   "outputs": [
    {
     "data": {
      "text/plain": [
       "('EQ', '=')"
      ]
     },
     "execution_count": 47,
     "metadata": {},
     "output_type": "execute_result"
    }
   ],
   "source": [
    "_.lastgroup, _.group()"
   ]
  },
  {
   "cell_type": "code",
   "execution_count": 48,
   "id": "e0d011d8-9e2f-4d97-b25c-ad5f35804641",
   "metadata": {
    "tags": []
   },
   "outputs": [
    {
     "data": {
      "text/plain": [
       "<re.Match object; span=(3, 4), match=' '>"
      ]
     },
     "execution_count": 48,
     "metadata": {},
     "output_type": "execute_result"
    }
   ],
   "source": [
    "scanner.match()"
   ]
  },
  {
   "cell_type": "code",
   "execution_count": 49,
   "id": "c9007030-15fa-4e91-980d-805b3b1cda9c",
   "metadata": {
    "tags": []
   },
   "outputs": [
    {
     "data": {
      "text/plain": [
       "('WS', ' ')"
      ]
     },
     "execution_count": 49,
     "metadata": {},
     "output_type": "execute_result"
    }
   ],
   "source": [
    "_.lastgroup, _.group()"
   ]
  },
  {
   "cell_type": "code",
   "execution_count": 50,
   "id": "8ab95e1c-1e49-4b25-ad8d-7bce343a7dd2",
   "metadata": {
    "tags": []
   },
   "outputs": [
    {
     "data": {
      "text/plain": [
       "<re.Match object; span=(4, 7), match='140'>"
      ]
     },
     "execution_count": 50,
     "metadata": {},
     "output_type": "execute_result"
    }
   ],
   "source": [
    "scanner.match()"
   ]
  },
  {
   "cell_type": "code",
   "execution_count": 51,
   "id": "a2f59135-5617-41fa-993e-4b183f3be290",
   "metadata": {
    "tags": []
   },
   "outputs": [
    {
     "data": {
      "text/plain": [
       "('NUM', '140')"
      ]
     },
     "execution_count": 51,
     "metadata": {},
     "output_type": "execute_result"
    }
   ],
   "source": [
    "_.lastgroup, _.group()"
   ]
  },
  {
   "cell_type": "code",
   "execution_count": 52,
   "id": "0f14a44f-918b-456e-ac6c-b11dbe81a810",
   "metadata": {
    "tags": []
   },
   "outputs": [],
   "source": [
    "scanner.match()"
   ]
  },
  {
   "cell_type": "code",
   "execution_count": 53,
   "id": "8a436545-d845-4451-9f66-a305f131c9cd",
   "metadata": {
    "tags": []
   },
   "outputs": [
    {
     "ename": "AttributeError",
     "evalue": "'tuple' object has no attribute 'lastgroup'",
     "output_type": "error",
     "traceback": [
      "\u001b[1;31m---------------------------------------------------------------------------\u001b[0m",
      "\u001b[1;31mAttributeError\u001b[0m                            Traceback (most recent call last)",
      "Cell \u001b[1;32mIn[53], line 1\u001b[0m\n\u001b[1;32m----> 1\u001b[0m _\u001b[38;5;241m.\u001b[39mlastgroup, _\u001b[38;5;241m.\u001b[39mgroup()\n",
      "\u001b[1;31mAttributeError\u001b[0m: 'tuple' object has no attribute 'lastgroup'"
     ]
    }
   ],
   "source": [
    "_.lastgroup, _.group()"
   ]
  },
  {
   "cell_type": "code",
   "execution_count": 54,
   "id": "a29d7c8b-fe26-4968-b511-4c257660d91c",
   "metadata": {
    "tags": []
   },
   "outputs": [],
   "source": [
    "from collections import namedtuple"
   ]
  },
  {
   "cell_type": "code",
   "execution_count": 55,
   "id": "dc302304-2a7f-4cd6-8c25-fc36d00de3ff",
   "metadata": {
    "tags": []
   },
   "outputs": [],
   "source": [
    "token = namedtuple('token', ['type', 'val'])"
   ]
  },
  {
   "cell_type": "code",
   "execution_count": 56,
   "id": "63bcb46f-2639-47a5-886c-6c37200d1c11",
   "metadata": {
    "tags": []
   },
   "outputs": [],
   "source": [
    "def gen_tokens(pattern, text):\n",
    "    scanner = pattern.scanner(text)\n",
    "    for s in iter(scanner.match, None):\n",
    "        yield token(s.lastgroup, s.group())"
   ]
  },
  {
   "cell_type": "code",
   "execution_count": 57,
   "id": "7665386b-e645-4fc5-b1ac-1ae9065c55a7",
   "metadata": {
    "tags": []
   },
   "outputs": [
    {
     "name": "stdout",
     "output_type": "stream",
     "text": [
      "token(type='NAME', val='a')\n",
      "token(type='WS', val=' ')\n",
      "token(type='EQ', val='=')\n",
      "token(type='WS', val=' ')\n",
      "token(type='NUM', val='140')\n"
     ]
    }
   ],
   "source": [
    "for t in gen_tokens(pat, 'a = 140'):\n",
    "    print(t)"
   ]
  },
  {
   "cell_type": "code",
   "execution_count": 58,
   "id": "d29e2450-674b-49ad-bbb6-81d41c8be6b8",
   "metadata": {
    "tags": []
   },
   "outputs": [
    {
     "name": "stdout",
     "output_type": "stream",
     "text": [
      "token(type='NAME', val='a')\n",
      "token(type='WS', val=' ')\n",
      "token(type='EQ', val='=')\n",
      "token(type='WS', val=' ')\n",
      "token(type='NUM', val='140')\n",
      "token(type='WS', val=' ')\n",
      "token(type='TIMES', val='*')\n",
      "token(type='WS', val=' ')\n",
      "token(type='NUM', val='1000')\n",
      "token(type='WS', val=' ')\n",
      "token(type='PLUS', val='+')\n",
      "token(type='WS', val=' ')\n",
      "token(type='NUM', val='9')\n"
     ]
    }
   ],
   "source": [
    "for t in gen_tokens(pat, 'a = 140 * 1000 + 9'):\n",
    "    print(t)"
   ]
  },
  {
   "cell_type": "code",
   "execution_count": 59,
   "id": "1577c5c6-0be7-49e7-a1a2-25a87615bf01",
   "metadata": {
    "tags": []
   },
   "outputs": [],
   "source": [
    "LT = r'(?P<LT><)'\n",
    "LE = r'(?P<LE><=)'\n",
    "EQ = r'(?P<EQ>=)'\n"
   ]
  },
  {
   "cell_type": "code",
   "execution_count": 62,
   "id": "576aaf86-9796-4660-9ffb-c9dbf87f0843",
   "metadata": {
    "tags": []
   },
   "outputs": [],
   "source": [
    "pat2 = re.compile('|'.join([LE, LT, EQ])) #correct"
   ]
  },
  {
   "cell_type": "code",
   "execution_count": 61,
   "id": "ccca3ca9-4ebe-4c86-808a-e06eabdefd81",
   "metadata": {
    "tags": []
   },
   "outputs": [],
   "source": [
    "pat2 = re.compile('|'.join([ LT, LE, EQ]))"
   ]
  },
  {
   "cell_type": "code",
   "execution_count": 63,
   "id": "e0d482da-f375-474c-8038-875988883813",
   "metadata": {
    "tags": []
   },
   "outputs": [],
   "source": [
    "#ply, pyparsing"
   ]
  },
  {
   "cell_type": "markdown",
   "id": "6aca69c7-97e3-464d-a61a-87aeda4216c0",
   "metadata": {},
   "source": [
    "# Performing textual operations on Byte strings"
   ]
  },
  {
   "cell_type": "code",
   "execution_count": 64,
   "id": "96dae6e9-dfbb-41b7-9322-a2d33beb68b9",
   "metadata": {
    "tags": []
   },
   "outputs": [],
   "source": [
    "s = 'Ghazal Lalooha'"
   ]
  },
  {
   "cell_type": "code",
   "execution_count": 65,
   "id": "40d5e5d3-7d92-4bdd-b0a7-c1c0b9fd0798",
   "metadata": {
    "tags": []
   },
   "outputs": [
    {
     "data": {
      "text/plain": [
       "str"
      ]
     },
     "execution_count": 65,
     "metadata": {},
     "output_type": "execute_result"
    }
   ],
   "source": [
    "type(s)"
   ]
  },
  {
   "cell_type": "code",
   "execution_count": 66,
   "id": "26b48134-206b-43a8-870d-467c398484e0",
   "metadata": {
    "tags": []
   },
   "outputs": [],
   "source": [
    "b = b'Ghazal Lalooha'"
   ]
  },
  {
   "cell_type": "code",
   "execution_count": 67,
   "id": "e1237874-3957-4110-b4e4-d794868dcc55",
   "metadata": {
    "tags": []
   },
   "outputs": [
    {
     "data": {
      "text/plain": [
       "bytes"
      ]
     },
     "execution_count": 67,
     "metadata": {},
     "output_type": "execute_result"
    }
   ],
   "source": [
    "type(b)"
   ]
  },
  {
   "cell_type": "code",
   "execution_count": 68,
   "id": "3424128c-c902-4205-8f9d-ce4417c50131",
   "metadata": {
    "tags": []
   },
   "outputs": [
    {
     "data": {
      "text/plain": [
       "b'Gha'"
      ]
     },
     "execution_count": 68,
     "metadata": {},
     "output_type": "execute_result"
    }
   ],
   "source": [
    "b[0:3]"
   ]
  },
  {
   "cell_type": "code",
   "execution_count": 69,
   "id": "01e2beed-91bf-4277-b6e8-008c07ac7e30",
   "metadata": {
    "tags": []
   },
   "outputs": [
    {
     "data": {
      "text/plain": [
       "True"
      ]
     },
     "execution_count": 69,
     "metadata": {},
     "output_type": "execute_result"
    }
   ],
   "source": [
    "b.startswith(b'Gh')"
   ]
  },
  {
   "cell_type": "code",
   "execution_count": 70,
   "id": "ad84e822-b2a1-4079-9446-06206dc13b4b",
   "metadata": {
    "tags": []
   },
   "outputs": [
    {
     "data": {
      "text/plain": [
       "[b'Ghazal', b'Lalooha']"
      ]
     },
     "execution_count": 70,
     "metadata": {},
     "output_type": "execute_result"
    }
   ],
   "source": [
    "b.split()"
   ]
  },
  {
   "cell_type": "code",
   "execution_count": 71,
   "id": "276a8287-032b-446d-b348-f58e66a05d2b",
   "metadata": {
    "tags": []
   },
   "outputs": [
    {
     "data": {
      "text/plain": [
       "b'John Lalooha'"
      ]
     },
     "execution_count": 71,
     "metadata": {},
     "output_type": "execute_result"
    }
   ],
   "source": [
    "b.replace(b'Ghazal', b'John')"
   ]
  },
  {
   "cell_type": "code",
   "execution_count": 73,
   "id": "a3732e3f-600c-4cdd-93a8-4c92216f4f8c",
   "metadata": {
    "tags": []
   },
   "outputs": [],
   "source": [
    "ba = bytearray(b'Ghazal Lalooha')"
   ]
  },
  {
   "cell_type": "code",
   "execution_count": 74,
   "id": "9081a6ca-6e68-4210-96d1-fe66b9dbaf45",
   "metadata": {
    "tags": []
   },
   "outputs": [
    {
     "data": {
      "text/plain": [
       "bytearray"
      ]
     },
     "execution_count": 74,
     "metadata": {},
     "output_type": "execute_result"
    }
   ],
   "source": [
    "type(ba)"
   ]
  },
  {
   "cell_type": "code",
   "execution_count": 75,
   "id": "319dee80-a716-4306-9e87-9364cba6d8d0",
   "metadata": {
    "tags": []
   },
   "outputs": [
    {
     "data": {
      "text/plain": [
       "b'oh'"
      ]
     },
     "execution_count": 75,
     "metadata": {},
     "output_type": "execute_result"
    }
   ],
   "source": [
    "b[-3:-1]"
   ]
  },
  {
   "cell_type": "code",
   "execution_count": 76,
   "id": "bf28bac6-ca7b-491c-a0e1-2aeb364d25d3",
   "metadata": {
    "tags": []
   },
   "outputs": [
    {
     "data": {
      "text/plain": [
       "True"
      ]
     },
     "execution_count": 76,
     "metadata": {},
     "output_type": "execute_result"
    }
   ],
   "source": [
    "ba.endswith(b'ha')"
   ]
  },
  {
   "cell_type": "code",
   "execution_count": 77,
   "id": "d070603d-5a5c-4a55-98d7-ecea98011526",
   "metadata": {
    "tags": []
   },
   "outputs": [],
   "source": [
    "data = b'120: 450, 890'"
   ]
  },
  {
   "cell_type": "code",
   "execution_count": 78,
   "id": "d8f35f9e-438f-473e-9977-53e318f4de2b",
   "metadata": {
    "tags": []
   },
   "outputs": [],
   "source": [
    "import re"
   ]
  },
  {
   "cell_type": "code",
   "execution_count": 79,
   "id": "8a9e4f09-22a3-46ca-adeb-0b3e91c7e4b3",
   "metadata": {
    "tags": []
   },
   "outputs": [
    {
     "ename": "TypeError",
     "evalue": "cannot use a string pattern on a bytes-like object",
     "output_type": "error",
     "traceback": [
      "\u001b[1;31m---------------------------------------------------------------------------\u001b[0m",
      "\u001b[1;31mTypeError\u001b[0m                                 Traceback (most recent call last)",
      "Cell \u001b[1;32mIn[79], line 1\u001b[0m\n\u001b[1;32m----> 1\u001b[0m re\u001b[38;5;241m.\u001b[39msplit(\u001b[38;5;124m'\u001b[39m\u001b[38;5;124m[:,]\u001b[39m\u001b[38;5;124m'\u001b[39m, data)\n",
      "File \u001b[1;32mD:\\ghazal\\anaconda installation\\Lib\\re\\__init__.py:206\u001b[0m, in \u001b[0;36msplit\u001b[1;34m(pattern, string, maxsplit, flags)\u001b[0m\n\u001b[0;32m    198\u001b[0m \u001b[38;5;28;01mdef\u001b[39;00m \u001b[38;5;21msplit\u001b[39m(pattern, string, maxsplit\u001b[38;5;241m=\u001b[39m\u001b[38;5;241m0\u001b[39m, flags\u001b[38;5;241m=\u001b[39m\u001b[38;5;241m0\u001b[39m):\n\u001b[0;32m    199\u001b[0m \u001b[38;5;250m    \u001b[39m\u001b[38;5;124;03m\"\"\"Split the source string by the occurrences of the pattern,\u001b[39;00m\n\u001b[0;32m    200\u001b[0m \u001b[38;5;124;03m    returning a list containing the resulting substrings.  If\u001b[39;00m\n\u001b[0;32m    201\u001b[0m \u001b[38;5;124;03m    capturing parentheses are used in pattern, then the text of all\u001b[39;00m\n\u001b[1;32m   (...)\u001b[0m\n\u001b[0;32m    204\u001b[0m \u001b[38;5;124;03m    and the remainder of the string is returned as the final element\u001b[39;00m\n\u001b[0;32m    205\u001b[0m \u001b[38;5;124;03m    of the list.\"\"\"\u001b[39;00m\n\u001b[1;32m--> 206\u001b[0m     \u001b[38;5;28;01mreturn\u001b[39;00m _compile(pattern, flags)\u001b[38;5;241m.\u001b[39msplit(string, maxsplit)\n",
      "\u001b[1;31mTypeError\u001b[0m: cannot use a string pattern on a bytes-like object"
     ]
    }
   ],
   "source": [
    "re.split('[:,]', data)"
   ]
  },
  {
   "cell_type": "code",
   "execution_count": 80,
   "id": "1b9f008a-e60c-4c12-85cd-f14586889f2c",
   "metadata": {
    "tags": []
   },
   "outputs": [
    {
     "data": {
      "text/plain": [
       "[b'120', b' 450', b' 890']"
      ]
     },
     "execution_count": 80,
     "metadata": {},
     "output_type": "execute_result"
    }
   ],
   "source": [
    "re.split(b'[:,]', data)"
   ]
  },
  {
   "cell_type": "code",
   "execution_count": 81,
   "id": "b6067795-7bbc-4bf7-a13c-dec8921130b5",
   "metadata": {
    "tags": []
   },
   "outputs": [],
   "source": [
    "s = 'Hello Udemy'"
   ]
  },
  {
   "cell_type": "code",
   "execution_count": 82,
   "id": "275238f1-0653-4fc3-a62e-73064c57e228",
   "metadata": {
    "tags": []
   },
   "outputs": [
    {
     "data": {
      "text/plain": [
       "'H'"
      ]
     },
     "execution_count": 82,
     "metadata": {},
     "output_type": "execute_result"
    }
   ],
   "source": [
    "s[0]"
   ]
  },
  {
   "cell_type": "code",
   "execution_count": 83,
   "id": "e4777706-4102-4020-ac44-66822e35d683",
   "metadata": {
    "tags": []
   },
   "outputs": [
    {
     "data": {
      "text/plain": [
       "'l'"
      ]
     },
     "execution_count": 83,
     "metadata": {},
     "output_type": "execute_result"
    }
   ],
   "source": [
    "s[2]"
   ]
  },
  {
   "cell_type": "code",
   "execution_count": 84,
   "id": "9d415c71-4115-47f1-809a-fc0125da9317",
   "metadata": {
    "tags": []
   },
   "outputs": [],
   "source": [
    "b = b'Hello Udemy'"
   ]
  },
  {
   "cell_type": "code",
   "execution_count": 85,
   "id": "1f8bc853-136e-4c25-9fd4-14a3fdb21e4d",
   "metadata": {
    "tags": []
   },
   "outputs": [
    {
     "data": {
      "text/plain": [
       "72"
      ]
     },
     "execution_count": 85,
     "metadata": {},
     "output_type": "execute_result"
    }
   ],
   "source": [
    "b[0]"
   ]
  },
  {
   "cell_type": "code",
   "execution_count": 86,
   "id": "3877e4c1-751c-4e11-898d-8782339420e0",
   "metadata": {
    "tags": []
   },
   "outputs": [
    {
     "data": {
      "text/plain": [
       "72"
      ]
     },
     "execution_count": 86,
     "metadata": {},
     "output_type": "execute_result"
    }
   ],
   "source": [
    "ord('H')"
   ]
  },
  {
   "cell_type": "code",
   "execution_count": 87,
   "id": "7141840a-95e5-4023-9381-bb0687183fae",
   "metadata": {
    "tags": []
   },
   "outputs": [
    {
     "name": "stdout",
     "output_type": "stream",
     "text": [
      "b'Hello Udemy'\n"
     ]
    }
   ],
   "source": [
    "print(b)"
   ]
  },
  {
   "cell_type": "code",
   "execution_count": 88,
   "id": "f490cbdb-2631-4923-8c4c-10e4c4ff0c3f",
   "metadata": {
    "tags": []
   },
   "outputs": [
    {
     "name": "stdout",
     "output_type": "stream",
     "text": [
      "Hello Udemy\n"
     ]
    }
   ],
   "source": [
    "print(b.decode('ascii'))"
   ]
  },
  {
   "cell_type": "code",
   "execution_count": 89,
   "id": "fdbf25e9-71f8-40a6-9c9b-04e9663d4bfc",
   "metadata": {
    "tags": []
   },
   "outputs": [
    {
     "data": {
      "text/plain": [
       "str"
      ]
     },
     "execution_count": 89,
     "metadata": {},
     "output_type": "execute_result"
    }
   ],
   "source": [
    "type(b.decode('ascii'))"
   ]
  },
  {
   "cell_type": "code",
   "execution_count": 90,
   "id": "2406d7ab-e0f5-4535-a312-129133911dcb",
   "metadata": {
    "tags": []
   },
   "outputs": [],
   "source": [
    "s = 'Udemy'"
   ]
  },
  {
   "cell_type": "code",
   "execution_count": 91,
   "id": "b706a7b4-3cca-48bb-8bf0-062749816fbe",
   "metadata": {
    "tags": []
   },
   "outputs": [],
   "source": [
    "sb = s.encode('utf-8')"
   ]
  },
  {
   "cell_type": "code",
   "execution_count": 92,
   "id": "1114e094-5929-46f7-9725-db1bcfc36b90",
   "metadata": {
    "tags": []
   },
   "outputs": [
    {
     "data": {
      "text/plain": [
       "b'Udemy'"
      ]
     },
     "execution_count": 92,
     "metadata": {},
     "output_type": "execute_result"
    }
   ],
   "source": [
    "sb"
   ]
  },
  {
   "cell_type": "code",
   "execution_count": 93,
   "id": "b3ab73f4-d0d7-4b43-afa6-410288e746d5",
   "metadata": {
    "tags": []
   },
   "outputs": [
    {
     "data": {
      "text/plain": [
       "bytes"
      ]
     },
     "execution_count": 93,
     "metadata": {},
     "output_type": "execute_result"
    }
   ],
   "source": [
    "type(sb)"
   ]
  },
  {
   "cell_type": "code",
   "execution_count": 95,
   "id": "f3de3dbf-480a-4012-88ef-6236fa2f3d38",
   "metadata": {
    "tags": []
   },
   "outputs": [],
   "source": [
    "s = sb.decode('utf-8')"
   ]
  },
  {
   "cell_type": "code",
   "execution_count": 96,
   "id": "8f552f51-bc69-48ab-ac32-dd08eb35c158",
   "metadata": {
    "tags": []
   },
   "outputs": [
    {
     "data": {
      "text/plain": [
       "'Udemy'"
      ]
     },
     "execution_count": 96,
     "metadata": {},
     "output_type": "execute_result"
    }
   ],
   "source": [
    "s"
   ]
  },
  {
   "cell_type": "code",
   "execution_count": 97,
   "id": "1360ff24-1020-48e0-9308-c9b8cf073aac",
   "metadata": {
    "tags": []
   },
   "outputs": [
    {
     "data": {
      "text/plain": [
       "'          Udemy       1012     45.215'"
      ]
     },
     "execution_count": 97,
     "metadata": {},
     "output_type": "execute_result"
    }
   ],
   "source": [
    "'%15s %10d %10.3f' %('Udemy', 1012, 45.2147)"
   ]
  },
  {
   "cell_type": "code",
   "execution_count": 98,
   "id": "f276d50d-791f-4082-be66-dbbe949349bd",
   "metadata": {
    "tags": []
   },
   "outputs": [
    {
     "ename": "TypeError",
     "evalue": "%b requires a bytes-like object, or an object that implements __bytes__, not 'str'",
     "output_type": "error",
     "traceback": [
      "\u001b[1;31m---------------------------------------------------------------------------\u001b[0m",
      "\u001b[1;31mTypeError\u001b[0m                                 Traceback (most recent call last)",
      "Cell \u001b[1;32mIn[98], line 1\u001b[0m\n\u001b[1;32m----> 1\u001b[0m \u001b[38;5;124mb\u001b[39m\u001b[38;5;124m'\u001b[39m\u001b[38;5;132;01m%15s\u001b[39;00m\u001b[38;5;124m \u001b[39m\u001b[38;5;132;01m%10d\u001b[39;00m\u001b[38;5;124m \u001b[39m\u001b[38;5;132;01m%10.3f\u001b[39;00m\u001b[38;5;124m'\u001b[39m \u001b[38;5;241m%\u001b[39m(\u001b[38;5;124m'\u001b[39m\u001b[38;5;124mUdemy\u001b[39m\u001b[38;5;124m'\u001b[39m, \u001b[38;5;241m1012\u001b[39m, \u001b[38;5;241m45.2147\u001b[39m)\n",
      "\u001b[1;31mTypeError\u001b[0m: %b requires a bytes-like object, or an object that implements __bytes__, not 'str'"
     ]
    }
   ],
   "source": [
    "b'%15s %10d %10.3f' %('Udemy', 1012, 45.2147)"
   ]
  },
  {
   "cell_type": "code",
   "execution_count": 99,
   "id": "6ecff36f-b21f-4198-ba10-0a02c3a44b0d",
   "metadata": {
    "tags": []
   },
   "outputs": [
    {
     "data": {
      "text/plain": [
       "b'          Udemy       1012     45.215'"
      ]
     },
     "execution_count": 99,
     "metadata": {},
     "output_type": "execute_result"
    }
   ],
   "source": [
    "b'%15s %10d %10.3f' %(b'Udemy', 1012, 45.2147)"
   ]
  },
  {
   "cell_type": "code",
   "execution_count": 100,
   "id": "d00f01ed-d0e6-45d9-ad87-3885d4a9310d",
   "metadata": {
    "tags": []
   },
   "outputs": [
    {
     "ename": "AttributeError",
     "evalue": "'bytes' object has no attribute 'format'",
     "output_type": "error",
     "traceback": [
      "\u001b[1;31m---------------------------------------------------------------------------\u001b[0m",
      "\u001b[1;31mAttributeError\u001b[0m                            Traceback (most recent call last)",
      "Cell \u001b[1;32mIn[100], line 1\u001b[0m\n\u001b[1;32m----> 1\u001b[0m \u001b[38;5;124mb\u001b[39m\u001b[38;5;124m'\u001b[39m\u001b[38;5;132;01m{}\u001b[39;00m\u001b[38;5;124m \u001b[39m\u001b[38;5;132;01m{}\u001b[39;00m\u001b[38;5;124m \u001b[39m\u001b[38;5;132;01m{}\u001b[39;00m\u001b[38;5;124m'\u001b[39m\u001b[38;5;241m.\u001b[39mformat(\u001b[38;5;124mb\u001b[39m\u001b[38;5;124m'\u001b[39m\u001b[38;5;124mUdemy\u001b[39m\u001b[38;5;124m'\u001b[39m, \u001b[38;5;241m1012\u001b[39m, \u001b[38;5;241m45.2147\u001b[39m)\n",
      "\u001b[1;31mAttributeError\u001b[0m: 'bytes' object has no attribute 'format'"
     ]
    }
   ],
   "source": [
    "b'{} {} {}'.format(b'Udemy', 1012, 45.2147)"
   ]
  },
  {
   "cell_type": "code",
   "execution_count": 101,
   "id": "93fbea02-a330-468a-8c36-60893dd197fe",
   "metadata": {
    "tags": []
   },
   "outputs": [
    {
     "data": {
      "text/plain": [
       "b\"b'Udemy' 1012 45.2147\""
      ]
     },
     "execution_count": 101,
     "metadata": {},
     "output_type": "execute_result"
    }
   ],
   "source": [
    "'{} {} {}'.format(b'Udemy', 1012, 45.2147).encode('ascii')"
   ]
  },
  {
   "cell_type": "code",
   "execution_count": 102,
   "id": "17c0e95e-4b7f-47fb-8ef9-a28d9a07827e",
   "metadata": {
    "tags": []
   },
   "outputs": [],
   "source": [
    "with open('elni\\u00f1o.txt' , 'w') as f:\n",
    "    f.write('Udemy')"
   ]
  },
  {
   "cell_type": "code",
   "execution_count": 103,
   "id": "42d76d6f-eacd-4b6d-b2d1-f58543f5f23b",
   "metadata": {
    "tags": []
   },
   "outputs": [],
   "source": [
    "import os"
   ]
  },
  {
   "cell_type": "code",
   "execution_count": 104,
   "id": "71daf9d9-55aa-48ff-892b-22eed16933a5",
   "metadata": {
    "tags": []
   },
   "outputs": [
    {
     "data": {
      "text/plain": [
       "['.anaconda',\n",
       " '.arduinoIDE',\n",
       " '.cache',\n",
       " '.conda',\n",
       " '.condarc',\n",
       " '.continuum',\n",
       " '.idlerc',\n",
       " '.ipynb_checkpoints',\n",
       " '.ipython',\n",
       " '.jupyter',\n",
       " '.keras',\n",
       " '.matplotlib',\n",
       " '.RData',\n",
       " '.Rhistory',\n",
       " '.spyder-py3',\n",
       " '.wyliodrinstudio',\n",
       " '01a_DEMO_Reading_Data.ipynb',\n",
       " '01b_LAB_Reading_Data.ipynb',\n",
       " '01e_DEMO_Hypothesis_Testing.ipynb',\n",
       " '02a_LAB_Transforming_Target.ipynb',\n",
       " '02b_LAB_Regression_Train_Test_Split.ipynb',\n",
       " '02c_DEMO_Cross_Validation.ipynb',\n",
       " '02d_DEMO_Regularization.ipynb',\n",
       " '02e_LAB_Regularization.ipynb',\n",
       " '03b_LAB_KNN.ipynb',\n",
       " '03c_DEMO_SVM.ipynb',\n",
       " '03d_LAB_Decision_Trees.ipynb',\n",
       " '03e_DEMO_Bagging.ipynb',\n",
       " '03f_LAB_Boosting_and_Stacking.ipynb',\n",
       " '04a_LAB_KMeansClustering.ipynb',\n",
       " '04b_DEMO_Distance_Dimensionality.ipynb',\n",
       " '04c_LAB_Clustering_Methods.ipynb',\n",
       " '04d_DEMO_Dimensionality_Reduction.ipynb',\n",
       " '04e_DEMO_nmf.ipynb',\n",
       " '4.3_Plotly_Basics.ipynb',\n",
       " '5) Classification_Tree_SVM.ipynb',\n",
       " '5Y1nHm5xSouNZx5ucaqLZg_c93a585749804b1e87603f707f04bd3f_01b_LAB_Reading_Data.zip',\n",
       " '5_Peer_Graded_Assignment_Questions.ipynb',\n",
       " 'Activity_ Arrays and vectors with NumPy.ipynb',\n",
       " 'Activity_ Conditional statements.ipynb',\n",
       " 'Activity_ Course 5 Automatidata project lab.ipynb',\n",
       " 'Activity_ Dataframes with pandas.ipynb',\n",
       " 'Activity_ Dictionaries & sets.ipynb',\n",
       " 'Activity_ For loops.ipynb',\n",
       " 'Activity_ Functions.ipynb',\n",
       " 'Activity_ Lists & tuples.ipynb',\n",
       " 'Activity_ Strings.ipynb',\n",
       " 'Activity_ Use Python syntax.ipynb',\n",
       " 'Activity_ While loops.ipynb',\n",
       " 'Activity_Address missing data.ipynb',\n",
       " 'Activity_Course 2 Automatidata project lab.ipynb',\n",
       " 'Activity_Course 3 Automatidata project lab.ipynb',\n",
       " 'Activity_Discover what is in your dataset.ipynb',\n",
       " 'Activity_Explore descriptive statistics.ipynb',\n",
       " 'Activity_Explore probability distributions.ipynb',\n",
       " 'Activity_Explore sampling.ipynb',\n",
       " 'Activity_Perform logistic regression.ipynb',\n",
       " 'Activity_Structure your data.ipynb',\n",
       " 'Activity_Validate and clean your data.ipynb',\n",
       " 'Ada_Boost.ipynb',\n",
       " 'Annotated follow-along guide_ Construct a logistic regression model with Python.ipynb',\n",
       " 'Annotated follow-along guide_ Data structures in Python.ipynb',\n",
       " 'Annotated follow-along guide_ Dealing with missing data in Python.ipynb',\n",
       " 'Annotated follow-along guide_ EDA structuring with Python.ipynb',\n",
       " 'Annotated follow-along guide_ Explore one-way versus two-way ANOVA tests with Python.ipynb',\n",
       " 'Annotated follow-along guide_ Functions and conditional statements.ipynb',\n",
       " 'Annotated follow-along guide_ Hello, Python!.ipynb',\n",
       " 'Annotated follow-along guide_ Loops and strings.ipynb',\n",
       " 'Annotated follow-along guide_ Sampling with Python.ipynb',\n",
       " 'Annotated follow-along guide_Compute descriptive statistics with Python.ipynb',\n",
       " 'Annotated follow-along guide_Date string manipulations with Python.ipynb',\n",
       " 'Annotated follow-along guide_EDA using basic data functions with Python.ipynb',\n",
       " 'AppData',\n",
       " 'Application Data',\n",
       " 'Bagging.ipynb',\n",
       " 'boston_housing_clean.pickle',\n",
       " 'boston_housing_clean.pickle2',\n",
       " 'ch.ipynb30-9-strings&texts',\n",
       " 'ch22-1.ipynb',\n",
       " 'ch23-2.ipynb',\n",
       " 'ch24-3.ipynb',\n",
       " 'ch25-4.ipynb',\n",
       " 'ch26-5.ipynb',\n",
       " 'ch27-6.ipynb',\n",
       " 'ch28-7.ipynb',\n",
       " 'ch29-8-not-solved.ipynb',\n",
       " 'ch30-9-strings&texts.ipynb',\n",
       " 'ch31-10.ipynb',\n",
       " 'ch32-11.ipynb',\n",
       " 'ch33-12.ipynb',\n",
       " 'ch34-13.ipynb',\n",
       " 'ch35-14.ipynb',\n",
       " 'classification_tree_svm.ipynb',\n",
       " 'Contacts',\n",
       " 'Cookies',\n",
       " 'Cross_Validation.ipynb',\n",
       " 'DA0101EN-4-Review-Model-Development.ipynb',\n",
       " 'DA0101EN-5-Review-Model-Evaluation-and-Refinement.ipynb',\n",
       " 'Data_Cleaning_Lab.ipynb',\n",
       " 'DBSCAN.ipynb',\n",
       " 'Desktop',\n",
       " 'DistanceMetrics.ipynb',\n",
       " 'Documents',\n",
       " 'done_ Course 5 Automatidata project lab.ipynb',\n",
       " 'Downloads',\n",
       " 'drugtree.png',\n",
       " 'DV0101EN-Exercise-Area-Plots-Histograms-and-Bar-Charts.ipynb',\n",
       " 'DV0101EN-Exercise-Area-Plots-Histograms-and-Bar-Charts.jupyterlite.ipynb',\n",
       " 'DV0101EN-Exercise-Generating-Maps-in-Python.jupyterlite.ipynb',\n",
       " 'DV0101EN-Exercise-Introduction-to-Matplotlib-and-Line-Plots.jupyterlite.ipynb',\n",
       " 'DV0101EN-Exercise-Pie-Charts-Box-Plots-Scatter-Plots-and-Bubble-Plots.jupyterlite.ipynb',\n",
       " 'elniño.txt',\n",
       " 'ex1.xlsx',\n",
       " 'Exemplar_ Arrays and vectors with NumPy.ipynb',\n",
       " 'Exemplar_ Use Python Syntax.ipynb',\n",
       " 'Favorites',\n",
       " 'Final Assignment Webscraping (1).ipynb',\n",
       " 'Final Assignment Webscraping.ipynb',\n",
       " 'Final Assignment.ipynb',\n",
       " 'Final_Assignment Library.ipynb',\n",
       " 'GMM_v2.ipynb',\n",
       " 'Gradient_Boosting.ipynb',\n",
       " 'House_Sales_in_King_Count_USA.ipynb',\n",
       " 'House_Sales_in_King_Count_USA.jupyterlite.ipynb',\n",
       " 'HypothesisTesting_Lab.ipynb',\n",
       " 'Jedi',\n",
       " 'jupyter-labs-eda-dataviz.ipynb',\n",
       " 'jupyter-labs-spacex-data-collection-api(1) (1).ipynb',\n",
       " 'jupyter-labs-spacex-data-collection-api(1).ipynb',\n",
       " 'jupyter-labs-spacex-data-collection-api.ipynb',\n",
       " 'jupyter-labs-webscraping.ipynb',\n",
       " 'KernelPCA.ipynb',\n",
       " 'KMeansClustering.ipynb',\n",
       " 'labs-jupyter-spacex-Data wrangling.ipynb',\n",
       " 'lab_jupyter_decisiontree.ipynb',\n",
       " 'lab_jupyter_knn.ipynb',\n",
       " 'lab_jupyter_launch_site_location.ipynb',\n",
       " 'lab_jupyter_model-explanations.ipynb',\n",
       " 'lab_jupyter_svm.ipynb',\n",
       " 'lettersearch2.py',\n",
       " 'linear regression.ipynb',\n",
       " 'Links',\n",
       " 'Local Settings',\n",
       " 'Matrix_Review.ipynb',\n",
       " 'Mean_Shift_Clustering_v2.ipynb',\n",
       " 'ML0101EN-Clas-Decision-Trees-drug.ipynb',\n",
       " 'ML0101EN-Clas-K-Nearest-neighbors-CustCat.ipynb',\n",
       " 'ML0101EN-Clas-Logistic-Reg-churn.ipynb',\n",
       " 'ML0101EN-Clas-SVM-cancer.ipynb',\n",
       " 'ML0101EN-Clus-K-Means-Customer-Seg.ipynb',\n",
       " 'ML0101EN-Reg-Mulitple-Linear-Regression-Co2.ipynb',\n",
       " 'ML0101EN-Reg-Simple-Linear-Regression-Co2.ipynb',\n",
       " 'Multi-class_Classification.ipynb',\n",
       " 'Multi-Dimensional_Scaling.ipynb',\n",
       " 'Music',\n",
       " 'My Documents',\n",
       " 'NetHood',\n",
       " 'New folder',\n",
       " 'new_sample.xml',\n",
       " 'NN_with_Sklearn.ipynb',\n",
       " 'Non-Negative_Matrix_Factorization.ipynb',\n",
       " 'NTUSER.DAT',\n",
       " 'ntuser.dat.LOG1',\n",
       " 'ntuser.dat.LOG2',\n",
       " 'NTUSER.DAT{bbed3e3b-0b41-11e3-8249-d6927d06400b}.TM.blf',\n",
       " 'NTUSER.DAT{bbed3e3b-0b41-11e3-8249-d6927d06400b}.TMContainer00000000000000000001.regtrans-ms',\n",
       " 'NTUSER.DAT{bbed3e3b-0b41-11e3-8249-d6927d06400b}.TMContainer00000000000000000002.regtrans-ms',\n",
       " 'ntuser.ini',\n",
       " 'Pad_Stride_Pool_Act.ipynb',\n",
       " 'pandas_course.ipynb',\n",
       " 'password.json',\n",
       " 'PCA.ipynb',\n",
       " 'person.json',\n",
       " 'Pictures',\n",
       " 'Polynomial_Regression.ipynb',\n",
       " 'pre-trained-RNNs.ipynb',\n",
       " 'PrintHood',\n",
       " 'PY0101EN-5.4_WorkingWithDifferentFileTypes.ipynb',\n",
       " 'Ramdom_forest.ipynb',\n",
       " 'Recent',\n",
       " 'regression_tree.ipynb',\n",
       " 'Regression_Trees.ipynb',\n",
       " 'Regularization_Techniques.ipynb',\n",
       " 'sample.json',\n",
       " 'sample.xlsx',\n",
       " 'Saved Games',\n",
       " 'scikit_learn_data',\n",
       " 'Searches',\n",
       " 'SendTo',\n",
       " 'spacex_launch_geo (1).csv',\n",
       " 'spacex_launch_geo (2).csv',\n",
       " 'spacex_launch_geo (3).csv',\n",
       " 'spacex_launch_geo.csv',\n",
       " 'SpaceX_Machine Learning Prediction_Part_5 (1).ipynb',\n",
       " 'SpaceX_Machine Learning Prediction_Part_5.ipynb',\n",
       " 'Stackin__For_Classification_with_Python.ipynb',\n",
       " 'Start Menu',\n",
       " 'SVD.ipynb',\n",
       " 'Templates',\n",
       " 'tfidf-lab.jupyterlite.ipynb',\n",
       " 'tree.png',\n",
       " 'Untitled Folder',\n",
       " 'Untitled Folder 1',\n",
       " 'Untitled Folder 2',\n",
       " 'Untitled Folder 3',\n",
       " 'Untitled.ipynb',\n",
       " 'Untitled1.ipynb',\n",
       " 'Untitled10.ipynb',\n",
       " 'Untitled11.ipynb',\n",
       " 'Untitled12.ipynb',\n",
       " 'Untitled13.ipynb',\n",
       " 'Untitled14.ipynb',\n",
       " 'Untitled15.ipynb',\n",
       " 'Untitled16.ipynb',\n",
       " 'Untitled17.ipynb',\n",
       " 'Untitled18.ipynb',\n",
       " 'Untitled19.ipynb',\n",
       " 'Untitled2.ipynb',\n",
       " 'Untitled20.ipynb',\n",
       " 'Untitled21.ipynb',\n",
       " 'Untitled22.ipynb',\n",
       " 'Untitled23.ipynb',\n",
       " 'Untitled24.ipynb',\n",
       " 'Untitled25.ipynb',\n",
       " 'Untitled26.ipynb',\n",
       " 'Untitled27.ipynb',\n",
       " 'Untitled28.ipynb',\n",
       " 'Untitled29.ipynb',\n",
       " 'Untitled3.ipynb',\n",
       " 'untitled3.py',\n",
       " 'Untitled30.ipynb',\n",
       " 'Untitled31.ipynb',\n",
       " 'Untitled32.ipynb',\n",
       " 'Untitled33.ipynb',\n",
       " 'Untitled34.ipynb',\n",
       " 'Untitled4.ipynb',\n",
       " 'Untitled5.ipynb',\n",
       " 'Untitled6.ipynb',\n",
       " 'Untitled7.ipynb',\n",
       " 'Untitled8.ipynb',\n",
       " 'Untitled9.ipynb',\n",
       " 'Videos',\n",
       " 'WebScraping_Review_Lab (1).ipynb',\n",
       " 'WebScraping_Review_Lab.ipynb',\n",
       " 'wine_tree.png',\n",
       " 'WyliodrinSTUDIO']"
      ]
     },
     "execution_count": 104,
     "metadata": {},
     "output_type": "execute_result"
    }
   ],
   "source": [
    "os.listdir('.')"
   ]
  },
  {
   "cell_type": "code",
   "execution_count": 105,
   "id": "680da2c2-7ffe-49df-b540-b438ec65bc0f",
   "metadata": {
    "tags": []
   },
   "outputs": [
    {
     "data": {
      "text/plain": [
       "[b'.anaconda',\n",
       " b'.arduinoIDE',\n",
       " b'.cache',\n",
       " b'.conda',\n",
       " b'.condarc',\n",
       " b'.continuum',\n",
       " b'.idlerc',\n",
       " b'.ipynb_checkpoints',\n",
       " b'.ipython',\n",
       " b'.jupyter',\n",
       " b'.keras',\n",
       " b'.matplotlib',\n",
       " b'.RData',\n",
       " b'.Rhistory',\n",
       " b'.spyder-py3',\n",
       " b'.wyliodrinstudio',\n",
       " b'01a_DEMO_Reading_Data.ipynb',\n",
       " b'01b_LAB_Reading_Data.ipynb',\n",
       " b'01e_DEMO_Hypothesis_Testing.ipynb',\n",
       " b'02a_LAB_Transforming_Target.ipynb',\n",
       " b'02b_LAB_Regression_Train_Test_Split.ipynb',\n",
       " b'02c_DEMO_Cross_Validation.ipynb',\n",
       " b'02d_DEMO_Regularization.ipynb',\n",
       " b'02e_LAB_Regularization.ipynb',\n",
       " b'03b_LAB_KNN.ipynb',\n",
       " b'03c_DEMO_SVM.ipynb',\n",
       " b'03d_LAB_Decision_Trees.ipynb',\n",
       " b'03e_DEMO_Bagging.ipynb',\n",
       " b'03f_LAB_Boosting_and_Stacking.ipynb',\n",
       " b'04a_LAB_KMeansClustering.ipynb',\n",
       " b'04b_DEMO_Distance_Dimensionality.ipynb',\n",
       " b'04c_LAB_Clustering_Methods.ipynb',\n",
       " b'04d_DEMO_Dimensionality_Reduction.ipynb',\n",
       " b'04e_DEMO_nmf.ipynb',\n",
       " b'4.3_Plotly_Basics.ipynb',\n",
       " b'5) Classification_Tree_SVM.ipynb',\n",
       " b'5Y1nHm5xSouNZx5ucaqLZg_c93a585749804b1e87603f707f04bd3f_01b_LAB_Reading_Data.zip',\n",
       " b'5_Peer_Graded_Assignment_Questions.ipynb',\n",
       " b'Activity_ Arrays and vectors with NumPy.ipynb',\n",
       " b'Activity_ Conditional statements.ipynb',\n",
       " b'Activity_ Course 5 Automatidata project lab.ipynb',\n",
       " b'Activity_ Dataframes with pandas.ipynb',\n",
       " b'Activity_ Dictionaries & sets.ipynb',\n",
       " b'Activity_ For loops.ipynb',\n",
       " b'Activity_ Functions.ipynb',\n",
       " b'Activity_ Lists & tuples.ipynb',\n",
       " b'Activity_ Strings.ipynb',\n",
       " b'Activity_ Use Python syntax.ipynb',\n",
       " b'Activity_ While loops.ipynb',\n",
       " b'Activity_Address missing data.ipynb',\n",
       " b'Activity_Course 2 Automatidata project lab.ipynb',\n",
       " b'Activity_Course 3 Automatidata project lab.ipynb',\n",
       " b'Activity_Discover what is in your dataset.ipynb',\n",
       " b'Activity_Explore descriptive statistics.ipynb',\n",
       " b'Activity_Explore probability distributions.ipynb',\n",
       " b'Activity_Explore sampling.ipynb',\n",
       " b'Activity_Perform logistic regression.ipynb',\n",
       " b'Activity_Structure your data.ipynb',\n",
       " b'Activity_Validate and clean your data.ipynb',\n",
       " b'Ada_Boost.ipynb',\n",
       " b'Annotated follow-along guide_ Construct a logistic regression model with Python.ipynb',\n",
       " b'Annotated follow-along guide_ Data structures in Python.ipynb',\n",
       " b'Annotated follow-along guide_ Dealing with missing data in Python.ipynb',\n",
       " b'Annotated follow-along guide_ EDA structuring with Python.ipynb',\n",
       " b'Annotated follow-along guide_ Explore one-way versus two-way ANOVA tests with Python.ipynb',\n",
       " b'Annotated follow-along guide_ Functions and conditional statements.ipynb',\n",
       " b'Annotated follow-along guide_ Hello, Python!.ipynb',\n",
       " b'Annotated follow-along guide_ Loops and strings.ipynb',\n",
       " b'Annotated follow-along guide_ Sampling with Python.ipynb',\n",
       " b'Annotated follow-along guide_Compute descriptive statistics with Python.ipynb',\n",
       " b'Annotated follow-along guide_Date string manipulations with Python.ipynb',\n",
       " b'Annotated follow-along guide_EDA using basic data functions with Python.ipynb',\n",
       " b'AppData',\n",
       " b'Application Data',\n",
       " b'Bagging.ipynb',\n",
       " b'boston_housing_clean.pickle',\n",
       " b'boston_housing_clean.pickle2',\n",
       " b'ch.ipynb30-9-strings&texts',\n",
       " b'ch22-1.ipynb',\n",
       " b'ch23-2.ipynb',\n",
       " b'ch24-3.ipynb',\n",
       " b'ch25-4.ipynb',\n",
       " b'ch26-5.ipynb',\n",
       " b'ch27-6.ipynb',\n",
       " b'ch28-7.ipynb',\n",
       " b'ch29-8-not-solved.ipynb',\n",
       " b'ch30-9-strings&texts.ipynb',\n",
       " b'ch31-10.ipynb',\n",
       " b'ch32-11.ipynb',\n",
       " b'ch33-12.ipynb',\n",
       " b'ch34-13.ipynb',\n",
       " b'ch35-14.ipynb',\n",
       " b'classification_tree_svm.ipynb',\n",
       " b'Contacts',\n",
       " b'Cookies',\n",
       " b'Cross_Validation.ipynb',\n",
       " b'DA0101EN-4-Review-Model-Development.ipynb',\n",
       " b'DA0101EN-5-Review-Model-Evaluation-and-Refinement.ipynb',\n",
       " b'Data_Cleaning_Lab.ipynb',\n",
       " b'DBSCAN.ipynb',\n",
       " b'Desktop',\n",
       " b'DistanceMetrics.ipynb',\n",
       " b'Documents',\n",
       " b'done_ Course 5 Automatidata project lab.ipynb',\n",
       " b'Downloads',\n",
       " b'drugtree.png',\n",
       " b'DV0101EN-Exercise-Area-Plots-Histograms-and-Bar-Charts.ipynb',\n",
       " b'DV0101EN-Exercise-Area-Plots-Histograms-and-Bar-Charts.jupyterlite.ipynb',\n",
       " b'DV0101EN-Exercise-Generating-Maps-in-Python.jupyterlite.ipynb',\n",
       " b'DV0101EN-Exercise-Introduction-to-Matplotlib-and-Line-Plots.jupyterlite.ipynb',\n",
       " b'DV0101EN-Exercise-Pie-Charts-Box-Plots-Scatter-Plots-and-Bubble-Plots.jupyterlite.ipynb',\n",
       " b'elni\\xc3\\xb1o.txt',\n",
       " b'ex1.xlsx',\n",
       " b'Exemplar_ Arrays and vectors with NumPy.ipynb',\n",
       " b'Exemplar_ Use Python Syntax.ipynb',\n",
       " b'Favorites',\n",
       " b'Final Assignment Webscraping (1).ipynb',\n",
       " b'Final Assignment Webscraping.ipynb',\n",
       " b'Final Assignment.ipynb',\n",
       " b'Final_Assignment Library.ipynb',\n",
       " b'GMM_v2.ipynb',\n",
       " b'Gradient_Boosting.ipynb',\n",
       " b'House_Sales_in_King_Count_USA.ipynb',\n",
       " b'House_Sales_in_King_Count_USA.jupyterlite.ipynb',\n",
       " b'HypothesisTesting_Lab.ipynb',\n",
       " b'Jedi',\n",
       " b'jupyter-labs-eda-dataviz.ipynb',\n",
       " b'jupyter-labs-spacex-data-collection-api(1) (1).ipynb',\n",
       " b'jupyter-labs-spacex-data-collection-api(1).ipynb',\n",
       " b'jupyter-labs-spacex-data-collection-api.ipynb',\n",
       " b'jupyter-labs-webscraping.ipynb',\n",
       " b'KernelPCA.ipynb',\n",
       " b'KMeansClustering.ipynb',\n",
       " b'labs-jupyter-spacex-Data wrangling.ipynb',\n",
       " b'lab_jupyter_decisiontree.ipynb',\n",
       " b'lab_jupyter_knn.ipynb',\n",
       " b'lab_jupyter_launch_site_location.ipynb',\n",
       " b'lab_jupyter_model-explanations.ipynb',\n",
       " b'lab_jupyter_svm.ipynb',\n",
       " b'lettersearch2.py',\n",
       " b'linear regression.ipynb',\n",
       " b'Links',\n",
       " b'Local Settings',\n",
       " b'Matrix_Review.ipynb',\n",
       " b'Mean_Shift_Clustering_v2.ipynb',\n",
       " b'ML0101EN-Clas-Decision-Trees-drug.ipynb',\n",
       " b'ML0101EN-Clas-K-Nearest-neighbors-CustCat.ipynb',\n",
       " b'ML0101EN-Clas-Logistic-Reg-churn.ipynb',\n",
       " b'ML0101EN-Clas-SVM-cancer.ipynb',\n",
       " b'ML0101EN-Clus-K-Means-Customer-Seg.ipynb',\n",
       " b'ML0101EN-Reg-Mulitple-Linear-Regression-Co2.ipynb',\n",
       " b'ML0101EN-Reg-Simple-Linear-Regression-Co2.ipynb',\n",
       " b'Multi-class_Classification.ipynb',\n",
       " b'Multi-Dimensional_Scaling.ipynb',\n",
       " b'Music',\n",
       " b'My Documents',\n",
       " b'NetHood',\n",
       " b'New folder',\n",
       " b'new_sample.xml',\n",
       " b'NN_with_Sklearn.ipynb',\n",
       " b'Non-Negative_Matrix_Factorization.ipynb',\n",
       " b'NTUSER.DAT',\n",
       " b'ntuser.dat.LOG1',\n",
       " b'ntuser.dat.LOG2',\n",
       " b'NTUSER.DAT{bbed3e3b-0b41-11e3-8249-d6927d06400b}.TM.blf',\n",
       " b'NTUSER.DAT{bbed3e3b-0b41-11e3-8249-d6927d06400b}.TMContainer00000000000000000001.regtrans-ms',\n",
       " b'NTUSER.DAT{bbed3e3b-0b41-11e3-8249-d6927d06400b}.TMContainer00000000000000000002.regtrans-ms',\n",
       " b'ntuser.ini',\n",
       " b'Pad_Stride_Pool_Act.ipynb',\n",
       " b'pandas_course.ipynb',\n",
       " b'password.json',\n",
       " b'PCA.ipynb',\n",
       " b'person.json',\n",
       " b'Pictures',\n",
       " b'Polynomial_Regression.ipynb',\n",
       " b'pre-trained-RNNs.ipynb',\n",
       " b'PrintHood',\n",
       " b'PY0101EN-5.4_WorkingWithDifferentFileTypes.ipynb',\n",
       " b'Ramdom_forest.ipynb',\n",
       " b'Recent',\n",
       " b'regression_tree.ipynb',\n",
       " b'Regression_Trees.ipynb',\n",
       " b'Regularization_Techniques.ipynb',\n",
       " b'sample.json',\n",
       " b'sample.xlsx',\n",
       " b'Saved Games',\n",
       " b'scikit_learn_data',\n",
       " b'Searches',\n",
       " b'SendTo',\n",
       " b'spacex_launch_geo (1).csv',\n",
       " b'spacex_launch_geo (2).csv',\n",
       " b'spacex_launch_geo (3).csv',\n",
       " b'spacex_launch_geo.csv',\n",
       " b'SpaceX_Machine Learning Prediction_Part_5 (1).ipynb',\n",
       " b'SpaceX_Machine Learning Prediction_Part_5.ipynb',\n",
       " b'Stackin__For_Classification_with_Python.ipynb',\n",
       " b'Start Menu',\n",
       " b'SVD.ipynb',\n",
       " b'Templates',\n",
       " b'tfidf-lab.jupyterlite.ipynb',\n",
       " b'tree.png',\n",
       " b'Untitled Folder',\n",
       " b'Untitled Folder 1',\n",
       " b'Untitled Folder 2',\n",
       " b'Untitled Folder 3',\n",
       " b'Untitled.ipynb',\n",
       " b'Untitled1.ipynb',\n",
       " b'Untitled10.ipynb',\n",
       " b'Untitled11.ipynb',\n",
       " b'Untitled12.ipynb',\n",
       " b'Untitled13.ipynb',\n",
       " b'Untitled14.ipynb',\n",
       " b'Untitled15.ipynb',\n",
       " b'Untitled16.ipynb',\n",
       " b'Untitled17.ipynb',\n",
       " b'Untitled18.ipynb',\n",
       " b'Untitled19.ipynb',\n",
       " b'Untitled2.ipynb',\n",
       " b'Untitled20.ipynb',\n",
       " b'Untitled21.ipynb',\n",
       " b'Untitled22.ipynb',\n",
       " b'Untitled23.ipynb',\n",
       " b'Untitled24.ipynb',\n",
       " b'Untitled25.ipynb',\n",
       " b'Untitled26.ipynb',\n",
       " b'Untitled27.ipynb',\n",
       " b'Untitled28.ipynb',\n",
       " b'Untitled29.ipynb',\n",
       " b'Untitled3.ipynb',\n",
       " b'untitled3.py',\n",
       " b'Untitled30.ipynb',\n",
       " b'Untitled31.ipynb',\n",
       " b'Untitled32.ipynb',\n",
       " b'Untitled33.ipynb',\n",
       " b'Untitled34.ipynb',\n",
       " b'Untitled4.ipynb',\n",
       " b'Untitled5.ipynb',\n",
       " b'Untitled6.ipynb',\n",
       " b'Untitled7.ipynb',\n",
       " b'Untitled8.ipynb',\n",
       " b'Untitled9.ipynb',\n",
       " b'Videos',\n",
       " b'WebScraping_Review_Lab (1).ipynb',\n",
       " b'WebScraping_Review_Lab.ipynb',\n",
       " b'wine_tree.png',\n",
       " b'WyliodrinSTUDIO']"
      ]
     },
     "execution_count": 105,
     "metadata": {},
     "output_type": "execute_result"
    }
   ],
   "source": [
    "os.listdir(b'.')"
   ]
  },
  {
   "cell_type": "code",
   "execution_count": null,
   "id": "373e2ee9-7bdf-4e29-9b21-3fa875ef1a5c",
   "metadata": {},
   "outputs": [],
   "source": []
  }
 ],
 "metadata": {
  "kernelspec": {
   "display_name": "Python 3 (ipykernel)",
   "language": "python",
   "name": "python3"
  },
  "language_info": {
   "codemirror_mode": {
    "name": "ipython",
    "version": 3
   },
   "file_extension": ".py",
   "mimetype": "text/x-python",
   "name": "python",
   "nbconvert_exporter": "python",
   "pygments_lexer": "ipython3",
   "version": "3.11.3"
  }
 },
 "nbformat": 4,
 "nbformat_minor": 5
}
