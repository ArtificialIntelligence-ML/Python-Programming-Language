{
 "cells": [
  {
   "cell_type": "markdown",
   "id": "e1c1b1d4-341e-4de8-85e8-29d22a4a4538",
   "metadata": {},
   "source": [
    "# Given the following string, extract all the elements and produce the desired output by adding the appropriate elements."
   ]
  },
  {
   "cell_type": "code",
   "execution_count": 1,
   "id": "eee63f34-f035-4417-8241-ed06a9f8d022",
   "metadata": {
    "tags": []
   },
   "outputs": [],
   "source": [
    "S = 'udemy'"
   ]
  },
  {
   "cell_type": "code",
   "execution_count": 7,
   "id": "ee3e7e4d-dcfb-4e7c-95df-d7bf0d61fe72",
   "metadata": {
    "tags": []
   },
   "outputs": [
    {
     "data": {
      "text/plain": [
       "'dummy'"
      ]
     },
     "execution_count": 7,
     "metadata": {},
     "output_type": "execute_result"
    }
   ],
   "source": []
  },
  {
   "cell_type": "markdown",
   "id": "e4f50766-6478-472d-a0ee-072fe2590f9a",
   "metadata": {},
   "source": [
    "# For the list of numbers below, by removing the second elements from the beginning and the end, calculate the mean square of the remaining numbers."
   ]
  },
  {
   "cell_type": "code",
   "execution_count": 8,
   "id": "19843561-9efb-44b3-938f-ccbf9e2030ce",
   "metadata": {
    "tags": []
   },
   "outputs": [],
   "source": [
    "num = [1, 25, 34, 7, 81, 6, -8, 9, 12, 32, 14, 78, -55, 10, 17]"
   ]
  },
  {
   "cell_type": "code",
   "execution_count": 21,
   "id": "dace3b45-3ff7-4614-b472-a9b493d77fba",
   "metadata": {
    "tags": []
   },
   "outputs": [
    {
     "data": {
      "text/plain": [
       "17.53846153846154"
      ]
     },
     "execution_count": 21,
     "metadata": {},
     "output_type": "execute_result"
    }
   ],
   "source": []
  },
  {
   "cell_type": "markdown",
   "id": "d26ccb0f-c157-4f1e-8fa6-d238ebc2150e",
   "metadata": {},
   "source": [
    "# Produce the following outputs using deque."
   ]
  },
  {
   "cell_type": "code",
   "execution_count": 24,
   "id": "5b659f7b-b2dd-447b-8e28-de9e74df671c",
   "metadata": {
    "tags": []
   },
   "outputs": [
    {
     "data": {
      "text/plain": [
       "deque([0, 2, 8, 16, 40])"
      ]
     },
     "execution_count": 24,
     "metadata": {},
     "output_type": "execute_result"
    }
   ],
   "source": []
  },
  {
   "cell_type": "code",
   "execution_count": 25,
   "id": "11c2dfce-8dfc-4565-a4f8-0ac0402ece44",
   "metadata": {
    "tags": []
   },
   "outputs": [],
   "source": []
  },
  {
   "cell_type": "code",
   "execution_count": 26,
   "id": "67ac4229-727f-46ee-a711-2d4babe13c04",
   "metadata": {
    "tags": []
   },
   "outputs": [
    {
     "data": {
      "text/plain": [
       "deque([0, 2, 8, 16, 40, 80])"
      ]
     },
     "execution_count": 26,
     "metadata": {},
     "output_type": "execute_result"
    }
   ],
   "source": []
  },
  {
   "cell_type": "code",
   "execution_count": 27,
   "id": "7454cb61-13cd-4058-b914-6e4e3f88fec7",
   "metadata": {
    "tags": []
   },
   "outputs": [],
   "source": []
  },
  {
   "cell_type": "code",
   "execution_count": 28,
   "id": "34c0e857-ca72-4b8e-bd9a-2c11d3ba6092",
   "metadata": {
    "tags": []
   },
   "outputs": [
    {
     "data": {
      "text/plain": [
       "deque([80, 0, 2, 8, 16, 40, 80])"
      ]
     },
     "execution_count": 28,
     "metadata": {},
     "output_type": "execute_result"
    }
   ],
   "source": []
  },
  {
   "cell_type": "code",
   "execution_count": 30,
   "id": "a3d37e9e-2e65-41dc-af3b-3bd2c90cba88",
   "metadata": {
    "tags": []
   },
   "outputs": [
    {
     "data": {
      "text/plain": [
       "deque([0, 2, 8, 16, 40, 80])"
      ]
     },
     "execution_count": 30,
     "metadata": {},
     "output_type": "execute_result"
    }
   ],
   "source": []
  },
  {
   "cell_type": "markdown",
   "id": "3cefd1e8-0555-4f23-9f80-bd8d2fba8577",
   "metadata": {},
   "source": [
    "# Generate outputs using the heapq module."
   ]
  },
  {
   "cell_type": "code",
   "execution_count": 31,
   "id": "ab142a3a-9bdc-4494-9f21-b6786837065c",
   "metadata": {
    "tags": []
   },
   "outputs": [],
   "source": [
    "d = [\n",
    "    {'name': 'RED', 'NOW': 5000, 'price': 93.8, 'age': 101},\n",
    "    {'name': 'EWS', 'NOW': 2000, 'price': 100.8, 'age': 200},\n",
    "    {'name': 'TRE', 'NOW': 800, 'price': 50.7, 'age': 50},\n",
    "    {'name': 'PLE', 'NOW': 700, 'price': 50.3, 'age': 46},\n",
    "    {'name': 'PTE', 'NOW': 400, 'price': 30.8, 'age': 110},\n",
    "    {'name': 'SCV', 'NOW': 1200, 'price': 77.3, 'age': 9},\n",
    "    {'name': 'URT', 'NOW': 750, 'price': 110.3, 'age': 8},\n",
    "    {'name': 'STQ', 'NOW': 3000, 'price': 70.4, 'age': 12}\n",
    "]\n"
   ]
  },
  {
   "cell_type": "code",
   "execution_count": 33,
   "id": "dbcaf3a3-365e-49d0-b258-0b4d09e31f36",
   "metadata": {
    "tags": []
   },
   "outputs": [
    {
     "data": {
      "text/plain": [
       "[{'name': 'URT', 'NOW': 750, 'price': 110.3, 'age': 8},\n",
       " {'name': 'EWS', 'NOW': 2000, 'price': 100.8, 'age': 200},\n",
       " {'name': 'RED', 'NOW': 5000, 'price': 93.8, 'age': 101}]"
      ]
     },
     "execution_count": 33,
     "metadata": {},
     "output_type": "execute_result"
    }
   ],
   "source": []
  },
  {
   "cell_type": "code",
   "execution_count": 36,
   "id": "dbe9917a-b93c-4240-8759-3fc64bc00100",
   "metadata": {
    "tags": []
   },
   "outputs": [
    {
     "data": {
      "text/plain": [
       "[{'name': 'EWS', 'NOW': 2000, 'price': 100.8, 'age': 200},\n",
       " {'name': 'PLE', 'NOW': 700, 'price': 50.3, 'age': 46},\n",
       " {'name': 'PTE', 'NOW': 400, 'price': 30.8, 'age': 110}]"
      ]
     },
     "execution_count": 36,
     "metadata": {},
     "output_type": "execute_result"
    }
   ],
   "source": []
  },
  {
   "cell_type": "code",
   "execution_count": 37,
   "id": "9df073f1-c438-4206-96c0-0e1e340610ee",
   "metadata": {
    "tags": []
   },
   "outputs": [
    {
     "data": {
      "text/plain": [
       "[{'name': 'URT', 'NOW': 750, 'price': 110.3, 'age': 8},\n",
       " {'name': 'SCV', 'NOW': 1200, 'price': 77.3, 'age': 9},\n",
       " {'name': 'STQ', 'NOW': 3000, 'price': 70.4, 'age': 12}]"
      ]
     },
     "execution_count": 37,
     "metadata": {},
     "output_type": "execute_result"
    }
   ],
   "source": []
  },
  {
   "cell_type": "code",
   "execution_count": 38,
   "id": "39603881-aaee-4d7a-90a2-1d6c4be0a2c4",
   "metadata": {
    "tags": []
   },
   "outputs": [
    {
     "data": {
      "text/plain": [
       "[{'name': 'PTE', 'NOW': 400, 'price': 30.8, 'age': 110},\n",
       " {'name': 'PLE', 'NOW': 700, 'price': 50.3, 'age': 46},\n",
       " {'name': 'URT', 'NOW': 750, 'price': 110.3, 'age': 8}]"
      ]
     },
     "execution_count": 38,
     "metadata": {},
     "output_type": "execute_result"
    }
   ],
   "source": []
  },
  {
   "cell_type": "code",
   "execution_count": 42,
   "id": "b53a66ef-b6f2-45aa-85c1-36f7c26e04fe",
   "metadata": {
    "tags": []
   },
   "outputs": [
    {
     "data": {
      "text/plain": [
       "defaultdict(list,\n",
       "            {'X': [(1, 4, 7, 's')],\n",
       "             'S': [(45, 78.6, 'abcd')],\n",
       "             '5': [(4, '4', 4.4, '44.4')],\n",
       "             5: [(7, 8, '5', 5)]})"
      ]
     },
     "execution_count": 42,
     "metadata": {},
     "output_type": "execute_result"
    }
   ],
   "source": []
  },
  {
   "cell_type": "markdown",
   "id": "f67dd089-f6fe-4a76-a023-a3047f88603d",
   "metadata": {},
   "source": [
    "# Produce the following outputs by performing calculations on the dictionary."
   ]
  },
  {
   "cell_type": "code",
   "execution_count": 43,
   "id": "fbd8fd98-0501-492c-a8a4-117053a383a0",
   "metadata": {
    "tags": []
   },
   "outputs": [],
   "source": [
    "d = {\n",
    "    'SRD': 400,\n",
    "    'HFV': 125,\n",
    "    'ABV': 760,\n",
    "    'QBC': 800,\n",
    "    'AAP': 150\n",
    "}"
   ]
  },
  {
   "cell_type": "code",
   "execution_count": 44,
   "id": "ef779138-3aa2-40c7-812e-1175c0d5b2e1",
   "metadata": {
    "tags": []
   },
   "outputs": [
    {
     "data": {
      "text/plain": [
       "'AAP'"
      ]
     },
     "execution_count": 44,
     "metadata": {},
     "output_type": "execute_result"
    }
   ],
   "source": []
  },
  {
   "cell_type": "code",
   "execution_count": 45,
   "id": "81e31843-1696-433b-89b9-2616d565c2fc",
   "metadata": {
    "tags": []
   },
   "outputs": [
    {
     "data": {
      "text/plain": [
       "'SRD'"
      ]
     },
     "execution_count": 45,
     "metadata": {},
     "output_type": "execute_result"
    }
   ],
   "source": []
  },
  {
   "cell_type": "code",
   "execution_count": 46,
   "id": "458037f7-177b-4747-bcee-3a355c204e1f",
   "metadata": {
    "tags": []
   },
   "outputs": [
    {
     "data": {
      "text/plain": [
       "125"
      ]
     },
     "execution_count": 46,
     "metadata": {},
     "output_type": "execute_result"
    }
   ],
   "source": []
  },
  {
   "cell_type": "code",
   "execution_count": 47,
   "id": "f79f5319-834f-41e3-9de0-c004c5e49cdd",
   "metadata": {
    "tags": []
   },
   "outputs": [
    {
     "data": {
      "text/plain": [
       "(800, 'QBC')"
      ]
     },
     "execution_count": 47,
     "metadata": {},
     "output_type": "execute_result"
    }
   ],
   "source": []
  },
  {
   "cell_type": "code",
   "execution_count": 48,
   "id": "0acd0bf0-10c2-4279-bf95-55460dfd9bb9",
   "metadata": {
    "tags": []
   },
   "outputs": [
    {
     "data": {
      "text/plain": [
       "[(125, 'HFV'), (150, 'AAP'), (400, 'SRD'), (760, 'ABV'), (800, 'QBC')]"
      ]
     },
     "execution_count": 48,
     "metadata": {},
     "output_type": "execute_result"
    }
   ],
   "source": []
  },
  {
   "cell_type": "code",
   "execution_count": 49,
   "id": "ac5c26a7-9bcd-4a06-b143-2c26f9ab436a",
   "metadata": {
    "tags": []
   },
   "outputs": [
    {
     "data": {
      "text/plain": [
       "[('AAP', 150), ('ABV', 760), ('HFV', 125), ('QBC', 800), ('SRD', 400)]"
      ]
     },
     "execution_count": 49,
     "metadata": {},
     "output_type": "execute_result"
    }
   ],
   "source": []
  },
  {
   "cell_type": "markdown",
   "id": "26617b45-a9dc-472f-b5fb-3168710db4a9",
   "metadata": {},
   "source": [
    "# In the following dictionaries, generate outputs using the method of finding commonalities."
   ]
  },
  {
   "cell_type": "code",
   "execution_count": 51,
   "id": "ab224ca5-9010-40f6-8fcc-87f0f3314161",
   "metadata": {
    "tags": []
   },
   "outputs": [],
   "source": [
    "d1 = {\n",
    "    '1': 10,\n",
    "    '2': 20,\n",
    "    '3': 30,\n",
    "    '4': 40\n",
    "}\n",
    "d2 = {\n",
    "    '1': 10,\n",
    "    '2': 25,\n",
    "    '5': 50,\n",
    "    '6': 60\n",
    "}"
   ]
  },
  {
   "cell_type": "code",
   "execution_count": 52,
   "id": "b1a4e73e-9f26-4238-a0ee-53ac1e0d6e48",
   "metadata": {
    "tags": []
   },
   "outputs": [
    {
     "data": {
      "text/plain": [
       "{'1', '2'}"
      ]
     },
     "execution_count": 52,
     "metadata": {},
     "output_type": "execute_result"
    }
   ],
   "source": []
  },
  {
   "cell_type": "code",
   "execution_count": 54,
   "id": "4fca9f8c-e691-4676-9104-a8ad1a0c1bc3",
   "metadata": {
    "tags": []
   },
   "outputs": [
    {
     "data": {
      "text/plain": [
       "{'5', '6'}"
      ]
     },
     "execution_count": 54,
     "metadata": {},
     "output_type": "execute_result"
    }
   ],
   "source": []
  },
  {
   "cell_type": "code",
   "execution_count": 55,
   "id": "6a8ae14a-b68e-4d82-a7ab-149a45133cde",
   "metadata": {
    "tags": []
   },
   "outputs": [
    {
     "data": {
      "text/plain": [
       "{('2', 20), ('3', 30), ('4', 40)}"
      ]
     },
     "execution_count": 55,
     "metadata": {},
     "output_type": "execute_result"
    }
   ],
   "source": []
  },
  {
   "cell_type": "markdown",
   "id": "c7b23193-3ed4-4645-bb7c-69d00aaf3693",
   "metadata": {},
   "source": [
    "# Create a class called Car with the specified properties and generate the outputs."
   ]
  },
  {
   "cell_type": "code",
   "execution_count": 64,
   "id": "529a0452-23f6-44b4-aeb2-e75eecfcb834",
   "metadata": {
    "tags": []
   },
   "outputs": [
    {
     "data": {
      "text/plain": [
       "[Car(2000,100),\n",
       " Car(2018,420),\n",
       " Car(2020,1000),\n",
       " Car(2019,220),\n",
       " Car(2014,170),\n",
       " Car(1998,120),\n",
       " Car(2017,700)]"
      ]
     },
     "execution_count": 64,
     "metadata": {},
     "output_type": "execute_result"
    }
   ],
   "source": []
  },
  {
   "cell_type": "code",
   "execution_count": 65,
   "id": "bf83aad7-6c6f-45d1-a4b0-4a5d8dfde8a9",
   "metadata": {
    "tags": []
   },
   "outputs": [],
   "source": [
    "from operator import attrgetter"
   ]
  },
  {
   "cell_type": "code",
   "execution_count": 66,
   "id": "3d480816-33be-425e-95e5-3f7ce741ecee",
   "metadata": {
    "tags": []
   },
   "outputs": [
    {
     "data": {
      "text/plain": [
       "[Car(1998,120),\n",
       " Car(2000,100),\n",
       " Car(2014,170),\n",
       " Car(2017,700),\n",
       " Car(2018,420),\n",
       " Car(2019,220),\n",
       " Car(2020,1000)]"
      ]
     },
     "execution_count": 66,
     "metadata": {},
     "output_type": "execute_result"
    }
   ],
   "source": [
    "sorted(c, key = attrgetter('year'))"
   ]
  },
  {
   "cell_type": "code",
   "execution_count": 67,
   "id": "a8aaf497-2ede-41d5-b96a-985afd07cf11",
   "metadata": {
    "tags": []
   },
   "outputs": [
    {
     "data": {
      "text/plain": [
       "[Car(2000,100),\n",
       " Car(1998,120),\n",
       " Car(2014,170),\n",
       " Car(2019,220),\n",
       " Car(2018,420),\n",
       " Car(2017,700),\n",
       " Car(2020,1000)]"
      ]
     },
     "execution_count": 67,
     "metadata": {},
     "output_type": "execute_result"
    }
   ],
   "source": [
    "sorted(c, key = attrgetter('price'))"
   ]
  },
  {
   "cell_type": "code",
   "execution_count": 68,
   "id": "e687075a-bf9d-45a1-8466-2b497bd61489",
   "metadata": {
    "tags": []
   },
   "outputs": [
    {
     "data": {
      "text/plain": [
       "Car(2000,100)"
      ]
     },
     "execution_count": 68,
     "metadata": {},
     "output_type": "execute_result"
    }
   ],
   "source": [
    "min(c, key = attrgetter('price'))"
   ]
  },
  {
   "cell_type": "markdown",
   "id": "61f86244-bb24-4454-86c3-f3c52b495e26",
   "metadata": {},
   "source": [
    "# Using the following data, perform the necessary groupings and generate the required outputs."
   ]
  },
  {
   "cell_type": "code",
   "execution_count": 76,
   "id": "88d04d01-6ae2-48b1-922b-4df6b81f9997",
   "metadata": {
    "tags": []
   },
   "outputs": [],
   "source": [
    "car = [\n",
    "    {'co' : 'W', 'price': 100, 'year': 2000},\n",
    "    {'co' : 'B', 'price': 150, 'year': 2012},\n",
    "    {'co' : 'K', 'price': 160, 'year': 2020},\n",
    "    {'co' : 'W', 'price': 410, 'year': 2012},\n",
    "    {'co' : 'K', 'price': 280, 'year': 2000},\n",
    "    {'co' : 'B', 'price': 190, 'year': 2020},\n",
    "    {'co' : 'K', 'price': 340, 'year': 2012},\n",
    "    {'co' : 'K', 'price': 780, 'year': 2000}\n",
    "]\n",
    "    "
   ]
  },
  {
   "cell_type": "code",
   "execution_count": 73,
   "id": "ecd7d022-712c-41e0-9317-65d931006783",
   "metadata": {
    "tags": []
   },
   "outputs": [
    {
     "data": {
      "text/plain": [
       "[{'co': 'B', 'price': 150, 'year': 2012},\n",
       " {'co': 'B', 'price': 190, 'year': 2020},\n",
       " {'co': 'K', 'price': 160, 'year': 2020},\n",
       " {'co': 'K', 'price': 280, 'year': 2000},\n",
       " {'co': 'K', 'price': 340, 'year': 2012},\n",
       " {'co': 'K', 'price': 780, 'year': 2000},\n",
       " {'co': 'W', 'price': 100, 'year': 2000},\n",
       " {'co': 'W', 'price': 410, 'year': 2012}]"
      ]
     },
     "execution_count": 73,
     "metadata": {},
     "output_type": "execute_result"
    }
   ],
   "source": []
  },
  {
   "cell_type": "code",
   "execution_count": 74,
   "id": "4948b235-8eb5-47b0-a0e5-3fcad1aceed7",
   "metadata": {
    "tags": []
   },
   "outputs": [
    {
     "name": "stdout",
     "output_type": "stream",
     "text": [
      "B\n",
      "       {'co': 'B', 'price': 150, 'year': 2012}\n",
      "       {'co': 'B', 'price': 190, 'year': 2020}\n",
      "K\n",
      "       {'co': 'K', 'price': 160, 'year': 2020}\n",
      "       {'co': 'K', 'price': 280, 'year': 2000}\n",
      "       {'co': 'K', 'price': 340, 'year': 2012}\n",
      "       {'co': 'K', 'price': 780, 'year': 2000}\n",
      "W\n",
      "       {'co': 'W', 'price': 100, 'year': 2000}\n",
      "       {'co': 'W', 'price': 410, 'year': 2012}\n"
     ]
    }
   ],
   "source": []
  },
  {
   "cell_type": "code",
   "execution_count": 79,
   "id": "321f77f6-4614-4725-bd91-74e82c001d1b",
   "metadata": {
    "tags": []
   },
   "outputs": [
    {
     "data": {
      "text/plain": [
       "defaultdict(list,\n",
       "            {2000: [{'co': 'W', 'price': 100, 'year': 2000},\n",
       "              {'co': 'K', 'price': 280, 'year': 2000},\n",
       "              {'co': 'K', 'price': 780, 'year': 2000}],\n",
       "             2012: [{'co': 'B', 'price': 150, 'year': 2012},\n",
       "              {'co': 'W', 'price': 410, 'year': 2012},\n",
       "              {'co': 'K', 'price': 340, 'year': 2012}],\n",
       "             2020: [{'co': 'K', 'price': 160, 'year': 2020},\n",
       "              {'co': 'B', 'price': 190, 'year': 2020}]})"
      ]
     },
     "execution_count": 79,
     "metadata": {},
     "output_type": "execute_result"
    }
   ],
   "source": []
  },
  {
   "cell_type": "markdown",
   "id": "79812036-3aa1-4ac3-a1e2-251980484594",
   "metadata": {},
   "source": [
    "# Filter the following data in such a way that if the value of each element is negative, it will multiply it by two and if it is positive, it will show its negative."
   ]
  },
  {
   "cell_type": "code",
   "execution_count": 80,
   "id": "34da3f62-52d8-4200-a48f-1e7a4b9c254b",
   "metadata": {
    "tags": []
   },
   "outputs": [],
   "source": [
    "n = [1, 25, -781, 253, -99, -89, 77, 1234, 5412, 96, -45, -78, 78, -78, 125, 12]"
   ]
  },
  {
   "cell_type": "code",
   "execution_count": 81,
   "id": "fd8f8759-bc0c-44c0-bf54-56af7ae71da3",
   "metadata": {
    "tags": []
   },
   "outputs": [
    {
     "data": {
      "text/plain": [
       "[-1,\n",
       " -25,\n",
       " -1562,\n",
       " -253,\n",
       " -198,\n",
       " -178,\n",
       " -77,\n",
       " -1234,\n",
       " -5412,\n",
       " -96,\n",
       " -90,\n",
       " -156,\n",
       " -78,\n",
       " -156,\n",
       " -125,\n",
       " -12]"
      ]
     },
     "execution_count": 81,
     "metadata": {},
     "output_type": "execute_result"
    }
   ],
   "source": []
  },
  {
   "cell_type": "code",
   "execution_count": 82,
   "id": "52239cdc-af0f-4ff6-ad69-413f76eef037",
   "metadata": {
    "tags": []
   },
   "outputs": [
    {
     "data": {
      "text/plain": [
       "-9653"
      ]
     },
     "execution_count": 82,
     "metadata": {},
     "output_type": "execute_result"
    }
   ],
   "source": []
  },
  {
   "cell_type": "markdown",
   "id": "be6d618d-5227-4a48-b20f-eb13d79eeb86",
   "metadata": {},
   "source": [
    "# Extract the desired subsets from the following dictionary."
   ]
  },
  {
   "cell_type": "code",
   "execution_count": 83,
   "id": "9d626507-3a0e-4715-a235-7c0cee1a114b",
   "metadata": {
    "tags": []
   },
   "outputs": [],
   "source": [
    "d = {\n",
    "    'A': 120,\n",
    "    'B': 890,\n",
    "    'C': 14,\n",
    "    'D': 10,\n",
    "    'E': 78,\n",
    "    'F': 450\n",
    "}"
   ]
  },
  {
   "cell_type": "code",
   "execution_count": 84,
   "id": "081e56ed-1e97-4a5f-b3a8-6a6a6fdef632",
   "metadata": {
    "tags": []
   },
   "outputs": [
    {
     "data": {
      "text/plain": [
       "{'A': 120, 'B': 890, 'F': 450}"
      ]
     },
     "execution_count": 84,
     "metadata": {},
     "output_type": "execute_result"
    }
   ],
   "source": []
  },
  {
   "cell_type": "code",
   "execution_count": 85,
   "id": "57c9e304-1f12-4be5-a949-71de478f4b41",
   "metadata": {
    "tags": []
   },
   "outputs": [],
   "source": []
  },
  {
   "cell_type": "code",
   "execution_count": 86,
   "id": "1b2c7cf3-6f86-4e6f-a88a-0257c8c69143",
   "metadata": {
    "tags": []
   },
   "outputs": [
    {
     "data": {
      "text/plain": [
       "{'A': 120, 'D': 10, 'E': 78}"
      ]
     },
     "execution_count": 86,
     "metadata": {},
     "output_type": "execute_result"
    }
   ],
   "source": []
  },
  {
   "cell_type": "markdown",
   "id": "5e07466b-bb3b-425d-ac1c-4f43cd190e33",
   "metadata": {},
   "source": [
    "# Merge the following dictionaries and produce the desired outputs."
   ]
  },
  {
   "cell_type": "code",
   "execution_count": 87,
   "id": "2cd7b953-45b8-4eaa-a421-11e89163b26c",
   "metadata": {
    "tags": []
   },
   "outputs": [],
   "source": [
    "d1 = {'A': 100, 'D': 200}\n",
    "d2 = {'B': 400, 'D': 700}\n",
    "d3 = {'B': 500, 'C': 600}"
   ]
  },
  {
   "cell_type": "code",
   "execution_count": 88,
   "id": "a4f4e042-25ca-4c6f-9905-d1c799715cac",
   "metadata": {
    "tags": []
   },
   "outputs": [],
   "source": []
  },
  {
   "cell_type": "code",
   "execution_count": 90,
   "id": "85cb5c9a-33e5-4be4-bf45-2521a67635bd",
   "metadata": {
    "tags": []
   },
   "outputs": [
    {
     "data": {
      "text/plain": [
       "ChainMap({'A': 100, 'D': 200}, {'B': 400, 'D': 700}, {'B': 500, 'C': 600})"
      ]
     },
     "execution_count": 90,
     "metadata": {},
     "output_type": "execute_result"
    }
   ],
   "source": []
  },
  {
   "cell_type": "code",
   "execution_count": 91,
   "id": "eeebe5aa-c19b-4569-a0ac-bcd4f0b64af7",
   "metadata": {
    "tags": []
   },
   "outputs": [
    {
     "data": {
      "text/plain": [
       "400"
      ]
     },
     "execution_count": 91,
     "metadata": {},
     "output_type": "execute_result"
    }
   ],
   "source": []
  },
  {
   "cell_type": "code",
   "execution_count": 92,
   "id": "d3c3f371-3cec-49a7-b1aa-74ad82cadc7d",
   "metadata": {
    "tags": []
   },
   "outputs": [
    {
     "data": {
      "text/plain": [
       "600"
      ]
     },
     "execution_count": 92,
     "metadata": {},
     "output_type": "execute_result"
    }
   ],
   "source": []
  },
  {
   "cell_type": "code",
   "execution_count": 93,
   "id": "9f9318c5-2c40-4be0-b579-fbff610fe7de",
   "metadata": {
    "tags": []
   },
   "outputs": [
    {
     "data": {
      "text/plain": [
       "ChainMap({'A': 100, 'D': 200, 'H': 1000}, {'B': 400, 'D': 700}, {'B': 500, 'C': 600})"
      ]
     },
     "execution_count": 93,
     "metadata": {},
     "output_type": "execute_result"
    }
   ],
   "source": []
  },
  {
   "cell_type": "code",
   "execution_count": null,
   "id": "dfbe9fa0-016f-4399-83f9-8eed3deadb26",
   "metadata": {},
   "outputs": [],
   "source": []
  }
 ],
 "metadata": {
  "kernelspec": {
   "display_name": "Python 3 (ipykernel)",
   "language": "python",
   "name": "python3"
  },
  "language_info": {
   "codemirror_mode": {
    "name": "ipython",
    "version": 3
   },
   "file_extension": ".py",
   "mimetype": "text/x-python",
   "name": "python",
   "nbconvert_exporter": "python",
   "pygments_lexer": "ipython3",
   "version": "3.11.3"
  }
 },
 "nbformat": 4,
 "nbformat_minor": 5
}
