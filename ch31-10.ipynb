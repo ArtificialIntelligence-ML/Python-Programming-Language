{
 "cells": [
  {
   "cell_type": "markdown",
   "id": "ed0c8be8-7aff-4302-b9ea-2636e237e352",
   "metadata": {},
   "source": [
    "# Matching strings with Shell Wildcard pattern"
   ]
  },
  {
   "cell_type": "code",
   "execution_count": 1,
   "id": "f0caa3cb-fcaf-427c-87f3-b2901ee89eb5",
   "metadata": {
    "tags": []
   },
   "outputs": [],
   "source": [
    "from fnmatch import fnmatch, fnmatchcase"
   ]
  },
  {
   "cell_type": "code",
   "execution_count": 2,
   "id": "4401c242-cc3a-4e21-991b-a37570914e4a",
   "metadata": {
    "tags": []
   },
   "outputs": [
    {
     "data": {
      "text/plain": [
       "True"
      ]
     },
     "execution_count": 2,
     "metadata": {},
     "output_type": "execute_result"
    }
   ],
   "source": [
    "fnmatch('data1.txt', '*.txt')"
   ]
  },
  {
   "cell_type": "code",
   "execution_count": 3,
   "id": "b23b72d6-3fcf-45c9-9264-8a79eca39b55",
   "metadata": {
    "tags": []
   },
   "outputs": [
    {
     "data": {
      "text/plain": [
       "True"
      ]
     },
     "execution_count": 3,
     "metadata": {},
     "output_type": "execute_result"
    }
   ],
   "source": [
    "fnmatch('a_data.txt', '?_data.txt')"
   ]
  },
  {
   "cell_type": "code",
   "execution_count": 4,
   "id": "b3604cde-d997-49a8-ad14-16cee6d7ab04",
   "metadata": {
    "tags": []
   },
   "outputs": [
    {
     "data": {
      "text/plain": [
       "True"
      ]
     },
     "execution_count": 4,
     "metadata": {},
     "output_type": "execute_result"
    }
   ],
   "source": [
    "fnmatch('data121.csv', 'data[0-9]*')"
   ]
  },
  {
   "cell_type": "code",
   "execution_count": 5,
   "id": "31e8de31-9a25-430e-afaf-1d683450e580",
   "metadata": {
    "tags": []
   },
   "outputs": [
    {
     "data": {
      "text/plain": [
       "False"
      ]
     },
     "execution_count": 5,
     "metadata": {},
     "output_type": "execute_result"
    }
   ],
   "source": [
    "fnmatch('data.csv', 'data[0-9]*')"
   ]
  },
  {
   "cell_type": "code",
   "execution_count": 7,
   "id": "2571a248-9dcf-4a51-8bf4-a0a9df9cf58d",
   "metadata": {
    "tags": []
   },
   "outputs": [],
   "source": [
    "filenames = ['data54.csv', 'data47.txt', 'data87.csv', 'da.csv', 'pr00.py']"
   ]
  },
  {
   "cell_type": "code",
   "execution_count": 8,
   "id": "274fcf72-f25a-4482-bffc-121a6463b2b0",
   "metadata": {
    "tags": []
   },
   "outputs": [
    {
     "data": {
      "text/plain": [
       "['data54.csv', 'data47.txt', 'data87.csv']"
      ]
     },
     "execution_count": 8,
     "metadata": {},
     "output_type": "execute_result"
    }
   ],
   "source": [
    "[name for name in filenames if fnmatch(name, 'data[0-9]*')]"
   ]
  },
  {
   "cell_type": "code",
   "execution_count": 9,
   "id": "0a094420-c7f7-42c3-9d71-1416c6b0d4b7",
   "metadata": {
    "tags": []
   },
   "outputs": [
    {
     "data": {
      "text/plain": [
       "True"
      ]
     },
     "execution_count": 9,
     "metadata": {},
     "output_type": "execute_result"
    }
   ],
   "source": [
    "fnmatch('data.txt', '*.txt')"
   ]
  },
  {
   "cell_type": "code",
   "execution_count": 10,
   "id": "48ebef4d-13ed-493c-9cb8-542a2d551558",
   "metadata": {
    "tags": []
   },
   "outputs": [
    {
     "data": {
      "text/plain": [
       "True"
      ]
     },
     "execution_count": 10,
     "metadata": {},
     "output_type": "execute_result"
    }
   ],
   "source": [
    "fnmatch('data.txt', '*.TXT')"
   ]
  },
  {
   "cell_type": "code",
   "execution_count": 11,
   "id": "f72d9e71-8dc3-414b-b5dd-82ef7bfc39ef",
   "metadata": {
    "tags": []
   },
   "outputs": [
    {
     "data": {
      "text/plain": [
       "True"
      ]
     },
     "execution_count": 11,
     "metadata": {},
     "output_type": "execute_result"
    }
   ],
   "source": [
    "fnmatchcase('data.txt', '*.txt')"
   ]
  },
  {
   "cell_type": "code",
   "execution_count": 12,
   "id": "40b25c67-6693-45ba-9240-6f6d6ad35dfc",
   "metadata": {
    "tags": []
   },
   "outputs": [
    {
     "data": {
      "text/plain": [
       "False"
      ]
     },
     "execution_count": 12,
     "metadata": {},
     "output_type": "execute_result"
    }
   ],
   "source": [
    "fnmatchcase('data.txt', '*.TXT')"
   ]
  },
  {
   "cell_type": "code",
   "execution_count": 13,
   "id": "06de3fa0-f74b-4245-b5f8-67fea9a7b890",
   "metadata": {
    "tags": []
   },
   "outputs": [],
   "source": [
    "data = [\n",
    "    '541231 source A',\n",
    "    '145487 source B',\n",
    "    '541214 source B',\n",
    "    '141423 source A',\n",
    "    '549999 source B',\n",
    "]"
   ]
  },
  {
   "cell_type": "code",
   "execution_count": 16,
   "id": "2672a0c4-32e6-4bde-9a12-8a58ffccb3e4",
   "metadata": {
    "tags": []
   },
   "outputs": [
    {
     "data": {
      "text/plain": [
       "[True, False, True, False, True]"
      ]
     },
     "execution_count": 16,
     "metadata": {},
     "output_type": "execute_result"
    }
   ],
   "source": [
    "[fnmatchcase(d, '54*') for d in data ]"
   ]
  },
  {
   "cell_type": "code",
   "execution_count": 17,
   "id": "bb639346-4375-4d39-8f19-f7f6573c959f",
   "metadata": {
    "tags": []
   },
   "outputs": [
    {
     "data": {
      "text/plain": [
       "[True, False, False, True, False]"
      ]
     },
     "execution_count": 17,
     "metadata": {},
     "output_type": "execute_result"
    }
   ],
   "source": [
    "[fnmatchcase(d, '*A') for d in data ]"
   ]
  },
  {
   "cell_type": "markdown",
   "id": "33b0ee62-a541-4f03-a75d-ab3c34e58b38",
   "metadata": {},
   "source": [
    "# matching and searching for textual patterns"
   ]
  },
  {
   "cell_type": "code",
   "execution_count": 29,
   "id": "07792a46-5856-4ea1-adb1-e8e18d831616",
   "metadata": {
    "tags": []
   },
   "outputs": [],
   "source": [
    "text = 'python Python I am Ghazal Lalooha a Python instructor at Udemy Python Python.'"
   ]
  },
  {
   "cell_type": "code",
   "execution_count": 19,
   "id": "233a9fe3-0f02-4348-930b-ca79df6d7326",
   "metadata": {
    "tags": []
   },
   "outputs": [
    {
     "data": {
      "text/plain": [
       "False"
      ]
     },
     "execution_count": 19,
     "metadata": {},
     "output_type": "execute_result"
    }
   ],
   "source": [
    "text == 'I am Ghazal Lalooha'"
   ]
  },
  {
   "cell_type": "code",
   "execution_count": 20,
   "id": "f2ecbd5f-9938-4414-bd32-c8ee2a1e61e2",
   "metadata": {
    "tags": []
   },
   "outputs": [
    {
     "data": {
      "text/plain": [
       "True"
      ]
     },
     "execution_count": 20,
     "metadata": {},
     "output_type": "execute_result"
    }
   ],
   "source": [
    "text.startswith('I')"
   ]
  },
  {
   "cell_type": "code",
   "execution_count": 21,
   "id": "a4dd92ec-1e57-4163-9cc5-f0f9e2b9a84d",
   "metadata": {
    "tags": []
   },
   "outputs": [
    {
     "data": {
      "text/plain": [
       "True"
      ]
     },
     "execution_count": 21,
     "metadata": {},
     "output_type": "execute_result"
    }
   ],
   "source": [
    "text.endswith('.')"
   ]
  },
  {
   "cell_type": "code",
   "execution_count": 30,
   "id": "77c713df-b263-4a3f-90e3-e4930d1b05f9",
   "metadata": {
    "tags": []
   },
   "outputs": [
    {
     "data": {
      "text/plain": [
       "7"
      ]
     },
     "execution_count": 30,
     "metadata": {},
     "output_type": "execute_result"
    }
   ],
   "source": [
    "text.find('Python')"
   ]
  },
  {
   "cell_type": "code",
   "execution_count": 31,
   "id": "4c6e5ac6-b699-438d-ba97-91f0cba91e8b",
   "metadata": {
    "tags": []
   },
   "outputs": [],
   "source": [
    "t1 = '5/29/2024'"
   ]
  },
  {
   "cell_type": "code",
   "execution_count": 32,
   "id": "ed399eb0-a8fa-4547-9518-ef40f24ef2d5",
   "metadata": {
    "tags": []
   },
   "outputs": [],
   "source": [
    "t2 = 'May29, 2024'"
   ]
  },
  {
   "cell_type": "code",
   "execution_count": 33,
   "id": "43b1e509-65eb-448a-9d40-f872e0c985d3",
   "metadata": {
    "tags": []
   },
   "outputs": [],
   "source": [
    "import re"
   ]
  },
  {
   "cell_type": "code",
   "execution_count": 34,
   "id": "a0e433a4-5f98-42a0-a7cf-d0576cd74337",
   "metadata": {
    "tags": []
   },
   "outputs": [
    {
     "name": "stdout",
     "output_type": "stream",
     "text": [
      "yes\n"
     ]
    }
   ],
   "source": [
    "if re.match(r'\\d+/\\d+/\\d+', t1):\n",
    "    print('yes')\n",
    "else:\n",
    "    print('no')"
   ]
  },
  {
   "cell_type": "code",
   "execution_count": 35,
   "id": "362a284a-f2b0-4786-a0e6-a8be351b0c21",
   "metadata": {
    "tags": []
   },
   "outputs": [
    {
     "name": "stdout",
     "output_type": "stream",
     "text": [
      "no\n"
     ]
    }
   ],
   "source": [
    "if re.match(r'\\d+/\\d+/\\d+', t2):\n",
    "    print('yes')\n",
    "else:\n",
    "    print('no')"
   ]
  },
  {
   "cell_type": "code",
   "execution_count": 36,
   "id": "91507b16-09e4-4d29-b91d-7fd5c5dd7ee3",
   "metadata": {
    "tags": []
   },
   "outputs": [
    {
     "name": "stdout",
     "output_type": "stream",
     "text": [
      "yes\n"
     ]
    }
   ],
   "source": [
    "d_pat = re.compile(r'\\d+/\\d+/\\d+')\n",
    "if d_pat.match(t1):\n",
    "    print('yes')\n",
    "    \n",
    "else:\n",
    "    print('no')\n",
    "    "
   ]
  },
  {
   "cell_type": "code",
   "execution_count": 37,
   "id": "200530ed-502e-4966-9422-243ec4030a35",
   "metadata": {
    "tags": []
   },
   "outputs": [
    {
     "name": "stdout",
     "output_type": "stream",
     "text": [
      "no\n"
     ]
    }
   ],
   "source": [
    "if d_pat.match(t2):\n",
    "    print('yes')\n",
    "    \n",
    "else:\n",
    "    print('no')\n",
    "    "
   ]
  },
  {
   "cell_type": "code",
   "execution_count": 38,
   "id": "3157c264-28bd-44a7-a7b3-66429b115391",
   "metadata": {
    "tags": []
   },
   "outputs": [],
   "source": [
    "t3 = '4/13/2024 and 5/8/2014'"
   ]
  },
  {
   "cell_type": "code",
   "execution_count": 39,
   "id": "5f1d6d1a-2a84-4d01-ba10-4f9a5cc0a0ed",
   "metadata": {
    "tags": []
   },
   "outputs": [
    {
     "data": {
      "text/plain": [
       "<re.Match object; span=(0, 9), match='4/13/2024'>"
      ]
     },
     "execution_count": 39,
     "metadata": {},
     "output_type": "execute_result"
    }
   ],
   "source": [
    "d_pat.match(t3)"
   ]
  },
  {
   "cell_type": "code",
   "execution_count": 40,
   "id": "fb4c6379-c1f9-4a53-aeb0-ea7de96187cc",
   "metadata": {
    "tags": []
   },
   "outputs": [
    {
     "data": {
      "text/plain": [
       "['4/13/2024', '5/8/2014']"
      ]
     },
     "execution_count": 40,
     "metadata": {},
     "output_type": "execute_result"
    }
   ],
   "source": [
    "d_pat.findall(t3)"
   ]
  },
  {
   "cell_type": "code",
   "execution_count": 41,
   "id": "1c06ba8b-8a6d-4577-a88e-19b41fa462cc",
   "metadata": {
    "tags": []
   },
   "outputs": [],
   "source": [
    "d_pat = re.compile(r'(\\d+)/(\\d+)/(\\d+)')"
   ]
  },
  {
   "cell_type": "code",
   "execution_count": 42,
   "id": "1765de7b-8c24-440e-831f-5ef9345db928",
   "metadata": {
    "tags": []
   },
   "outputs": [],
   "source": [
    "d = d_pat.match(t3)"
   ]
  },
  {
   "cell_type": "code",
   "execution_count": 43,
   "id": "6f569314-6882-45b6-8fdf-9c0906b7efdc",
   "metadata": {
    "tags": []
   },
   "outputs": [
    {
     "data": {
      "text/plain": [
       "<re.Match object; span=(0, 9), match='4/13/2024'>"
      ]
     },
     "execution_count": 43,
     "metadata": {},
     "output_type": "execute_result"
    }
   ],
   "source": [
    "d"
   ]
  },
  {
   "cell_type": "code",
   "execution_count": 44,
   "id": "506e76ad-5fc6-4ff9-907d-40e1204a90b5",
   "metadata": {
    "tags": []
   },
   "outputs": [
    {
     "data": {
      "text/plain": [
       "'4/13/2024'"
      ]
     },
     "execution_count": 44,
     "metadata": {},
     "output_type": "execute_result"
    }
   ],
   "source": [
    "d.group(0)"
   ]
  },
  {
   "cell_type": "code",
   "execution_count": 45,
   "id": "28e2638e-eb27-4472-83eb-4c47f37234ad",
   "metadata": {
    "tags": []
   },
   "outputs": [
    {
     "data": {
      "text/plain": [
       "'4'"
      ]
     },
     "execution_count": 45,
     "metadata": {},
     "output_type": "execute_result"
    }
   ],
   "source": [
    "d.group(1)"
   ]
  },
  {
   "cell_type": "code",
   "execution_count": 46,
   "id": "8ba261f7-044d-4b8a-a796-e436416bd6c3",
   "metadata": {
    "tags": []
   },
   "outputs": [
    {
     "data": {
      "text/plain": [
       "'13'"
      ]
     },
     "execution_count": 46,
     "metadata": {},
     "output_type": "execute_result"
    }
   ],
   "source": [
    "d.group(2)"
   ]
  },
  {
   "cell_type": "code",
   "execution_count": 47,
   "id": "5feb0a94-d53c-412b-9b84-01bd040ac49e",
   "metadata": {
    "tags": []
   },
   "outputs": [
    {
     "data": {
      "text/plain": [
       "'2024'"
      ]
     },
     "execution_count": 47,
     "metadata": {},
     "output_type": "execute_result"
    }
   ],
   "source": [
    "d.group(3)"
   ]
  },
  {
   "cell_type": "code",
   "execution_count": 48,
   "id": "d95bd288-98b7-4f0b-b3e3-4781ce171715",
   "metadata": {
    "tags": []
   },
   "outputs": [
    {
     "data": {
      "text/plain": [
       "'4/13/2024'"
      ]
     },
     "execution_count": 48,
     "metadata": {},
     "output_type": "execute_result"
    }
   ],
   "source": [
    "d.group()"
   ]
  },
  {
   "cell_type": "code",
   "execution_count": 49,
   "id": "86078154-7777-4a04-9e95-1ea562063297",
   "metadata": {
    "tags": []
   },
   "outputs": [
    {
     "data": {
      "text/plain": [
       "('4', '13', '2024')"
      ]
     },
     "execution_count": 49,
     "metadata": {},
     "output_type": "execute_result"
    }
   ],
   "source": [
    "d.groups()"
   ]
  },
  {
   "cell_type": "code",
   "execution_count": 50,
   "id": "17684829-6e18-45e2-b7a7-82767be5cbe5",
   "metadata": {
    "tags": []
   },
   "outputs": [],
   "source": [
    "month, day, year = d.groups()"
   ]
  },
  {
   "cell_type": "code",
   "execution_count": 51,
   "id": "ee63476e-c9ff-49f7-9294-23bffa37e368",
   "metadata": {
    "tags": []
   },
   "outputs": [
    {
     "data": {
      "text/plain": [
       "'4'"
      ]
     },
     "execution_count": 51,
     "metadata": {},
     "output_type": "execute_result"
    }
   ],
   "source": [
    "month"
   ]
  },
  {
   "cell_type": "code",
   "execution_count": 52,
   "id": "c638db50-0ec5-41cd-aed2-bb4244739806",
   "metadata": {
    "tags": []
   },
   "outputs": [
    {
     "data": {
      "text/plain": [
       "'13'"
      ]
     },
     "execution_count": 52,
     "metadata": {},
     "output_type": "execute_result"
    }
   ],
   "source": [
    "day"
   ]
  },
  {
   "cell_type": "code",
   "execution_count": 53,
   "id": "09f75152-9033-4e1f-aa3e-db520b6a7614",
   "metadata": {
    "tags": []
   },
   "outputs": [
    {
     "data": {
      "text/plain": [
       "'2024'"
      ]
     },
     "execution_count": 53,
     "metadata": {},
     "output_type": "execute_result"
    }
   ],
   "source": [
    "year"
   ]
  },
  {
   "cell_type": "code",
   "execution_count": 54,
   "id": "1a1b6abf-bd88-47cf-873c-8c140481e684",
   "metadata": {
    "tags": []
   },
   "outputs": [],
   "source": [
    "d_pat = re.compile(r'(\\d+)/(\\d+)/(\\d+)')"
   ]
  },
  {
   "cell_type": "code",
   "execution_count": 55,
   "id": "39d64d13-51e9-4b0e-8ba9-385652b8318b",
   "metadata": {
    "tags": []
   },
   "outputs": [],
   "source": [
    "d_pat = re.compile('(\\d+)/(\\d+)/(\\d+)')"
   ]
  },
  {
   "cell_type": "code",
   "execution_count": 60,
   "id": "42731cfe-e263-4c7b-8628-03b76169547e",
   "metadata": {
    "tags": []
   },
   "outputs": [
    {
     "data": {
      "text/plain": [
       "<re.Match object; span=(0, 9), match='5/29/2024'>"
      ]
     },
     "execution_count": 60,
     "metadata": {},
     "output_type": "execute_result"
    }
   ],
   "source": [
    "d_pat.match(t1)"
   ]
  },
  {
   "cell_type": "code",
   "execution_count": 62,
   "id": "c231d485-f454-4a4e-b7b4-258467fa0901",
   "metadata": {
    "tags": []
   },
   "outputs": [
    {
     "name": "stdout",
     "output_type": "stream",
     "text": [
      "\n",
      "\n"
     ]
    }
   ],
   "source": [
    "print('\\n')"
   ]
  },
  {
   "cell_type": "code",
   "execution_count": 63,
   "id": "36588fb0-a454-4764-8efe-2810c625a31b",
   "metadata": {
    "tags": []
   },
   "outputs": [
    {
     "name": "stdout",
     "output_type": "stream",
     "text": [
      "a\n",
      "b\n"
     ]
    }
   ],
   "source": [
    "print('a\\nb')"
   ]
  },
  {
   "cell_type": "code",
   "execution_count": 64,
   "id": "b58bd560-30d4-4cd2-b61f-72a5cd7c6a14",
   "metadata": {
    "tags": []
   },
   "outputs": [
    {
     "name": "stdout",
     "output_type": "stream",
     "text": [
      "a\\nb\n"
     ]
    }
   ],
   "source": [
    "print(r'a\\nb')"
   ]
  },
  {
   "cell_type": "code",
   "execution_count": 65,
   "id": "5b420038-eebe-4904-9a75-95050c7de1b5",
   "metadata": {
    "tags": []
   },
   "outputs": [],
   "source": [
    "t3 = '4/13/2020abcde'"
   ]
  },
  {
   "cell_type": "code",
   "execution_count": 66,
   "id": "983ec09a-4583-436a-a7fd-bac882ffac15",
   "metadata": {
    "tags": []
   },
   "outputs": [],
   "source": [
    "d_pat = re.compile(r'(\\d+)/(\\d+)/(\\d+)')"
   ]
  },
  {
   "cell_type": "code",
   "execution_count": 67,
   "id": "edf6e3e2-9157-44d0-94aa-be72bc334c4f",
   "metadata": {
    "tags": []
   },
   "outputs": [
    {
     "data": {
      "text/plain": [
       "<re.Match object; span=(0, 9), match='4/13/2020'>"
      ]
     },
     "execution_count": 67,
     "metadata": {},
     "output_type": "execute_result"
    }
   ],
   "source": [
    "d_pat.match(t3)"
   ]
  },
  {
   "cell_type": "code",
   "execution_count": 68,
   "id": "7de260e8-7272-4895-8b8a-2e323a84e91a",
   "metadata": {
    "tags": []
   },
   "outputs": [],
   "source": [
    "d_pat = re.compile(r'(\\d+)/(\\d+)/(\\d+)$')"
   ]
  },
  {
   "cell_type": "code",
   "execution_count": 69,
   "id": "94082a53-8cc6-4a22-b54d-3c9a4bdee350",
   "metadata": {
    "tags": []
   },
   "outputs": [],
   "source": [
    "d_pat.match(t3)"
   ]
  },
  {
   "cell_type": "markdown",
   "id": "17caf06f-79c9-408a-a4c3-b4a6c7f637ed",
   "metadata": {},
   "source": [
    "# Finding and pasting text"
   ]
  },
  {
   "cell_type": "code",
   "execution_count": 70,
   "id": "f31c5562-bd0f-407e-9c7b-06463f157a34",
   "metadata": {
    "tags": []
   },
   "outputs": [
    {
     "data": {
      "text/plain": [
       "'python Python I am Ghazal Lalooha a Python instructor at Udemy Python Python.'"
      ]
     },
     "execution_count": 70,
     "metadata": {},
     "output_type": "execute_result"
    }
   ],
   "source": [
    "text"
   ]
  },
  {
   "cell_type": "code",
   "execution_count": 71,
   "id": "a75c2ffc-48c1-4319-a07b-de8f85b23af2",
   "metadata": {
    "tags": []
   },
   "outputs": [
    {
     "data": {
      "text/plain": [
       "'python R I am Ghazal Lalooha a R instructor at Udemy R R.'"
      ]
     },
     "execution_count": 71,
     "metadata": {},
     "output_type": "execute_result"
    }
   ],
   "source": [
    "text.replace('Python', 'R')"
   ]
  },
  {
   "cell_type": "code",
   "execution_count": 72,
   "id": "e2d3e36c-1b8c-46c8-bf35-69b83967e924",
   "metadata": {
    "tags": []
   },
   "outputs": [],
   "source": [
    "# 1/27/1993 -> 1993-1-27"
   ]
  },
  {
   "cell_type": "code",
   "execution_count": 73,
   "id": "3b245bb6-09f9-43b2-b539-1bad236c9ee9",
   "metadata": {
    "tags": []
   },
   "outputs": [],
   "source": [
    "t = '4/13/2024 and 5/8/2014'"
   ]
  },
  {
   "cell_type": "code",
   "execution_count": 74,
   "id": "a691c13c-d24e-4cc6-a780-c324f9cb99be",
   "metadata": {
    "tags": []
   },
   "outputs": [
    {
     "data": {
      "text/plain": [
       "'2024-4-13 and 2014-5-8'"
      ]
     },
     "execution_count": 74,
     "metadata": {},
     "output_type": "execute_result"
    }
   ],
   "source": [
    "re.sub(r'(\\d+)/(\\d+)/(\\d+)', r'\\3-\\1-\\2', t)"
   ]
  },
  {
   "cell_type": "code",
   "execution_count": 75,
   "id": "af67524b-89ac-4802-9352-002ab24a17cc",
   "metadata": {
    "tags": []
   },
   "outputs": [],
   "source": [
    "d_pat = re.compile(r'(\\d+)/(\\d+)/(\\d+)')"
   ]
  },
  {
   "cell_type": "code",
   "execution_count": 76,
   "id": "b364efcc-24b4-495f-987c-4e1a0509bb7f",
   "metadata": {
    "tags": []
   },
   "outputs": [
    {
     "data": {
      "text/plain": [
       "'2024-4-13 and 2014-5-8'"
      ]
     },
     "execution_count": 76,
     "metadata": {},
     "output_type": "execute_result"
    }
   ],
   "source": [
    "d_pat.sub(r'\\3-\\1-\\2', t)"
   ]
  },
  {
   "cell_type": "code",
   "execution_count": 77,
   "id": "0cd6de05-091e-403c-ab12-276989f065fa",
   "metadata": {
    "tags": []
   },
   "outputs": [],
   "source": [
    "nt , n = d_pat.subn(r'\\3-\\1-\\2', t)"
   ]
  },
  {
   "cell_type": "code",
   "execution_count": 78,
   "id": "41acedc3-6603-4b4c-b76f-5bedc7c21aad",
   "metadata": {
    "tags": []
   },
   "outputs": [
    {
     "data": {
      "text/plain": [
       "'2024-4-13 and 2014-5-8'"
      ]
     },
     "execution_count": 78,
     "metadata": {},
     "output_type": "execute_result"
    }
   ],
   "source": [
    "nt"
   ]
  },
  {
   "cell_type": "code",
   "execution_count": 79,
   "id": "9c4c2134-f9dc-4388-911a-62b7396d3e67",
   "metadata": {
    "tags": []
   },
   "outputs": [
    {
     "data": {
      "text/plain": [
       "2"
      ]
     },
     "execution_count": 79,
     "metadata": {},
     "output_type": "execute_result"
    }
   ],
   "source": [
    "n"
   ]
  },
  {
   "cell_type": "markdown",
   "id": "80213883-eb75-4272-bc87-960d0149983b",
   "metadata": {},
   "source": [
    "# Searching and Moving Case Insensitive Texts"
   ]
  },
  {
   "cell_type": "code",
   "execution_count": 80,
   "id": "bb6625d2-66e4-46a3-9a51-c620ccb0b07f",
   "metadata": {
    "tags": []
   },
   "outputs": [],
   "source": [
    "text = 'Python, python, Python, Udemy, udemy'"
   ]
  },
  {
   "cell_type": "code",
   "execution_count": 81,
   "id": "fb2d09df-b6c6-45bc-aed3-435a9897f2fe",
   "metadata": {
    "tags": []
   },
   "outputs": [
    {
     "data": {
      "text/plain": [
       "['Python', 'Python']"
      ]
     },
     "execution_count": 81,
     "metadata": {},
     "output_type": "execute_result"
    }
   ],
   "source": [
    "re.findall('Python', text)"
   ]
  },
  {
   "cell_type": "code",
   "execution_count": 82,
   "id": "27707501-65fe-4b48-9973-0109081d2aaa",
   "metadata": {
    "tags": []
   },
   "outputs": [
    {
     "data": {
      "text/plain": [
       "['Python', 'python', 'Python']"
      ]
     },
     "execution_count": 82,
     "metadata": {},
     "output_type": "execute_result"
    }
   ],
   "source": [
    "re.findall('Python', text, flags = re.IGNORECASE)"
   ]
  },
  {
   "cell_type": "code",
   "execution_count": 83,
   "id": "22057f7e-6bbc-468e-ac63-f7a918834b24",
   "metadata": {
    "tags": []
   },
   "outputs": [
    {
     "data": {
      "text/plain": [
       "'R, python, R, Udemy, udemy'"
      ]
     },
     "execution_count": 83,
     "metadata": {},
     "output_type": "execute_result"
    }
   ],
   "source": [
    "re.sub('Python', 'R', text)"
   ]
  },
  {
   "cell_type": "code",
   "execution_count": 84,
   "id": "30afdb04-cb88-4d24-bd07-5833b1105a13",
   "metadata": {
    "tags": []
   },
   "outputs": [
    {
     "data": {
      "text/plain": [
       "'R, R, R, Udemy, udemy'"
      ]
     },
     "execution_count": 84,
     "metadata": {},
     "output_type": "execute_result"
    }
   ],
   "source": [
    "re.sub('Python', 'R', text , flags = re.IGNORECASE)"
   ]
  },
  {
   "cell_type": "code",
   "execution_count": null,
   "id": "059bc84a-4625-4452-b3d3-1c1267014c11",
   "metadata": {},
   "outputs": [],
   "source": []
  }
 ],
 "metadata": {
  "kernelspec": {
   "display_name": "Python 3 (ipykernel)",
   "language": "python",
   "name": "python3"
  },
  "language_info": {
   "codemirror_mode": {
    "name": "ipython",
    "version": 3
   },
   "file_extension": ".py",
   "mimetype": "text/x-python",
   "name": "python",
   "nbconvert_exporter": "python",
   "pygments_lexer": "ipython3",
   "version": "3.11.3"
  }
 },
 "nbformat": 4,
 "nbformat_minor": 5
}
