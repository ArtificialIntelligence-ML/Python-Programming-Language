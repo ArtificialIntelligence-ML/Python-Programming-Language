{
 "cells": [
  {
   "cell_type": "markdown",
   "id": "f2594d37-0f9f-45ee-bcbd-9906d56aa0a2",
   "metadata": {},
   "source": [
    "# Determining the most frequent items in a sequence"
   ]
  },
  {
   "cell_type": "code",
   "execution_count": 2,
   "id": "4688ff30-ce52-4db5-8965-2794a4fac9b6",
   "metadata": {
    "tags": []
   },
   "outputs": [],
   "source": [
    "from collections import Counter"
   ]
  },
  {
   "cell_type": "code",
   "execution_count": 3,
   "id": "54ad1711-5f54-40fe-b776-b17c48521e41",
   "metadata": {
    "tags": []
   },
   "outputs": [],
   "source": [
    "W = ['Udemy', 'Python', 'Ghazal', '121', '53', 'Ghazal', 'Udemy','Udemy', '121', 'Python', 'Python', 'Python', 'Udemy', 'Python', '121','Ghazal']"
   ]
  },
  {
   "cell_type": "code",
   "execution_count": 5,
   "id": "99245eee-00fc-448e-a92e-217ca2045c01",
   "metadata": {
    "tags": []
   },
   "outputs": [],
   "source": [
    "W_count = Counter(W)"
   ]
  },
  {
   "cell_type": "code",
   "execution_count": 6,
   "id": "8a92a468-0f0a-448d-ab9f-f2c9c0c8f74f",
   "metadata": {
    "tags": []
   },
   "outputs": [
    {
     "data": {
      "text/plain": [
       "Counter({'Udemy': 4, 'Python': 5, 'Ghazal': 3, '121': 3, '53': 1})"
      ]
     },
     "execution_count": 6,
     "metadata": {},
     "output_type": "execute_result"
    }
   ],
   "source": [
    "W_count"
   ]
  },
  {
   "cell_type": "code",
   "execution_count": 7,
   "id": "b48cccb3-0bf9-49d8-aa1f-e238f08f5133",
   "metadata": {
    "tags": []
   },
   "outputs": [],
   "source": [
    "Top_two = W_count.most_common(2)"
   ]
  },
  {
   "cell_type": "code",
   "execution_count": 8,
   "id": "638546f4-03ed-466e-8442-0033e6644317",
   "metadata": {
    "tags": []
   },
   "outputs": [
    {
     "data": {
      "text/plain": [
       "[('Python', 5), ('Udemy', 4)]"
      ]
     },
     "execution_count": 8,
     "metadata": {},
     "output_type": "execute_result"
    }
   ],
   "source": [
    "Top_two"
   ]
  },
  {
   "cell_type": "code",
   "execution_count": 9,
   "id": "a3a0f00b-ea18-45ac-8291-8a645bcadaf9",
   "metadata": {
    "tags": []
   },
   "outputs": [
    {
     "data": {
      "text/plain": [
       "3"
      ]
     },
     "execution_count": 9,
     "metadata": {},
     "output_type": "execute_result"
    }
   ],
   "source": [
    "W_count['121']"
   ]
  },
  {
   "cell_type": "code",
   "execution_count": 10,
   "id": "78ec0a49-26c9-4ba4-8c32-0425dc0d28f8",
   "metadata": {
    "tags": []
   },
   "outputs": [
    {
     "data": {
      "text/plain": [
       "3"
      ]
     },
     "execution_count": 10,
     "metadata": {},
     "output_type": "execute_result"
    }
   ],
   "source": [
    "W_count['Ghazal']"
   ]
  },
  {
   "cell_type": "code",
   "execution_count": 11,
   "id": "2e061fca-b570-400b-9fda-4610338cac6f",
   "metadata": {
    "tags": []
   },
   "outputs": [],
   "source": [
    "W2 = ['java', 'c++', 'java', 'java', '1.2', 'c++', 'R', '1.2', 'Udemy', 'Python']"
   ]
  },
  {
   "cell_type": "code",
   "execution_count": 12,
   "id": "e2ec779a-f1ab-4d82-a679-f8dedde71389",
   "metadata": {
    "tags": []
   },
   "outputs": [],
   "source": [
    "for wo in W2:\n",
    "    W_count[wo] += 1"
   ]
  },
  {
   "cell_type": "code",
   "execution_count": 13,
   "id": "5ed2db85-162b-430f-9e3f-5628c3a1e72d",
   "metadata": {
    "tags": []
   },
   "outputs": [
    {
     "data": {
      "text/plain": [
       "Counter({'Udemy': 5,\n",
       "         'Python': 6,\n",
       "         'Ghazal': 3,\n",
       "         '121': 3,\n",
       "         '53': 1,\n",
       "         'java': 3,\n",
       "         'c++': 2,\n",
       "         '1.2': 2,\n",
       "         'R': 1})"
      ]
     },
     "execution_count": 13,
     "metadata": {},
     "output_type": "execute_result"
    }
   ],
   "source": [
    "W_count"
   ]
  },
  {
   "cell_type": "code",
   "execution_count": 14,
   "id": "1743c495-788c-4163-a324-f785920324af",
   "metadata": {
    "tags": []
   },
   "outputs": [],
   "source": [
    "W3 = ['java', 'Python', 'Python', 'R', 'Udemy']"
   ]
  },
  {
   "cell_type": "code",
   "execution_count": 15,
   "id": "4099c182-c42a-41b0-b9e0-4cf6316b5cd6",
   "metadata": {
    "tags": []
   },
   "outputs": [],
   "source": [
    "W_count.update(W3)"
   ]
  },
  {
   "cell_type": "code",
   "execution_count": 16,
   "id": "d2cad2d6-78ea-48f8-9aea-b14613e8e437",
   "metadata": {
    "tags": []
   },
   "outputs": [
    {
     "data": {
      "text/plain": [
       "Counter({'Udemy': 6,\n",
       "         'Python': 8,\n",
       "         'Ghazal': 3,\n",
       "         '121': 3,\n",
       "         '53': 1,\n",
       "         'java': 4,\n",
       "         'c++': 2,\n",
       "         '1.2': 2,\n",
       "         'R': 2})"
      ]
     },
     "execution_count": 16,
     "metadata": {},
     "output_type": "execute_result"
    }
   ],
   "source": [
    "W_count"
   ]
  },
  {
   "cell_type": "code",
   "execution_count": 17,
   "id": "8e6b335b-5a60-43ec-a7ea-ec453a2de02d",
   "metadata": {
    "tags": []
   },
   "outputs": [],
   "source": [
    "a = Counter(W)"
   ]
  },
  {
   "cell_type": "code",
   "execution_count": 18,
   "id": "e3ae9969-371e-4d88-8fa7-b1665b2d0ed3",
   "metadata": {
    "tags": []
   },
   "outputs": [],
   "source": [
    "b = Counter(W2)"
   ]
  },
  {
   "cell_type": "code",
   "execution_count": 19,
   "id": "0192e509-632b-4c97-83d8-9427a297bbab",
   "metadata": {
    "tags": []
   },
   "outputs": [
    {
     "data": {
      "text/plain": [
       "Counter({'Udemy': 4, 'Python': 5, 'Ghazal': 3, '121': 3, '53': 1})"
      ]
     },
     "execution_count": 19,
     "metadata": {},
     "output_type": "execute_result"
    }
   ],
   "source": [
    "a"
   ]
  },
  {
   "cell_type": "code",
   "execution_count": 20,
   "id": "0f33c24b-d5cc-421c-928d-d50e54802711",
   "metadata": {
    "tags": []
   },
   "outputs": [
    {
     "data": {
      "text/plain": [
       "Counter({'java': 3, 'c++': 2, '1.2': 2, 'R': 1, 'Udemy': 1, 'Python': 1})"
      ]
     },
     "execution_count": 20,
     "metadata": {},
     "output_type": "execute_result"
    }
   ],
   "source": [
    "b"
   ]
  },
  {
   "cell_type": "code",
   "execution_count": 21,
   "id": "ee20eff7-b112-4d71-839a-3fafcdf670ae",
   "metadata": {
    "tags": []
   },
   "outputs": [
    {
     "data": {
      "text/plain": [
       "Counter({'Udemy': 5,\n",
       "         'Python': 6,\n",
       "         'Ghazal': 3,\n",
       "         '121': 3,\n",
       "         '53': 1,\n",
       "         'java': 3,\n",
       "         'c++': 2,\n",
       "         '1.2': 2,\n",
       "         'R': 1})"
      ]
     },
     "execution_count": 21,
     "metadata": {},
     "output_type": "execute_result"
    }
   ],
   "source": [
    "a + b"
   ]
  },
  {
   "cell_type": "code",
   "execution_count": 22,
   "id": "87f720d1-33c1-4371-b7ac-1f3634e1bd9a",
   "metadata": {
    "tags": []
   },
   "outputs": [
    {
     "data": {
      "text/plain": [
       "Counter({'Udemy': 3, 'Python': 4, 'Ghazal': 3, '121': 3, '53': 1})"
      ]
     },
     "execution_count": 22,
     "metadata": {},
     "output_type": "execute_result"
    }
   ],
   "source": [
    "a - b"
   ]
  },
  {
   "cell_type": "markdown",
   "id": "09a0a8be-e536-4fb7-8b06-9c6c2756224a",
   "metadata": {},
   "source": [
    "# Sorting a list of dictionaryies by a common key"
   ]
  },
  {
   "cell_type": "code",
   "execution_count": 23,
   "id": "74f1cdbf-9432-48ae-a9a2-27f787f7f1a3",
   "metadata": {
    "tags": []
   },
   "outputs": [],
   "source": [
    "data = [ \n",
    "    {'fname': 'John', 'lname': 'Smith', 'SID': 1020},\n",
    "    {'fname': 'Linda', 'lname': 'Johnson', 'SID': 1024},    \n",
    "    {'fname': 'Andrew', 'lname': 'Williams', 'SID': 2020},\n",
    "    {'fname': 'Mary', 'lname': 'Jones', 'SID': 2022},\n",
    "    {'fname': 'James', 'lname': 'Brown', 'SID': 1028},\n",
    "    {'fname': 'Elizabeth', 'lname': 'Brown', 'SID': 2038},\n",
    "]"
   ]
  },
  {
   "cell_type": "code",
   "execution_count": 24,
   "id": "e3a2de0b-0885-4ffe-8b2d-1273ab008395",
   "metadata": {
    "tags": []
   },
   "outputs": [],
   "source": [
    "sort_by_fname = sorted(data, key = lambda s:s['fname'])"
   ]
  },
  {
   "cell_type": "code",
   "execution_count": 25,
   "id": "08abe687-5a6b-4b83-b21d-de590f653762",
   "metadata": {
    "tags": []
   },
   "outputs": [
    {
     "data": {
      "text/plain": [
       "[{'fname': 'Andrew', 'lname': 'Williams', 'SID': 2020},\n",
       " {'fname': 'Elizabeth', 'lname': 'Brown', 'SID': 2038},\n",
       " {'fname': 'James', 'lname': 'Brown', 'SID': 1028},\n",
       " {'fname': 'John', 'lname': 'Smith', 'SID': 1020},\n",
       " {'fname': 'Linda', 'lname': 'Johnson', 'SID': 1024},\n",
       " {'fname': 'Mary', 'lname': 'Jones', 'SID': 2022}]"
      ]
     },
     "execution_count": 25,
     "metadata": {},
     "output_type": "execute_result"
    }
   ],
   "source": [
    "sort_by_fname"
   ]
  },
  {
   "cell_type": "code",
   "execution_count": 26,
   "id": "42d3e320-df55-4f0c-a510-69b83e364255",
   "metadata": {
    "tags": []
   },
   "outputs": [],
   "source": [
    "sort_by_lname_fname = sorted(data, key = lambda s:(s['lname'], s['fname']))"
   ]
  },
  {
   "cell_type": "code",
   "execution_count": 27,
   "id": "15edb4d9-8215-46e4-8fd4-97a0d35677fc",
   "metadata": {
    "tags": []
   },
   "outputs": [
    {
     "data": {
      "text/plain": [
       "[{'fname': 'Elizabeth', 'lname': 'Brown', 'SID': 2038},\n",
       " {'fname': 'James', 'lname': 'Brown', 'SID': 1028},\n",
       " {'fname': 'Linda', 'lname': 'Johnson', 'SID': 1024},\n",
       " {'fname': 'Mary', 'lname': 'Jones', 'SID': 2022},\n",
       " {'fname': 'John', 'lname': 'Smith', 'SID': 1020},\n",
       " {'fname': 'Andrew', 'lname': 'Williams', 'SID': 2020}]"
      ]
     },
     "execution_count": 27,
     "metadata": {},
     "output_type": "execute_result"
    }
   ],
   "source": [
    "sort_by_lname_fname"
   ]
  },
  {
   "cell_type": "code",
   "execution_count": 28,
   "id": "aa7d443c-68b6-42ef-8445-8ac691d91190",
   "metadata": {
    "tags": []
   },
   "outputs": [],
   "source": [
    "from operator import itemgetter"
   ]
  },
  {
   "cell_type": "code",
   "execution_count": 29,
   "id": "e7a12535-1156-4515-ac56-5b109e829840",
   "metadata": {
    "tags": []
   },
   "outputs": [],
   "source": [
    "sort_by_fname = sorted(data, key = itemgetter('fname'))"
   ]
  },
  {
   "cell_type": "code",
   "execution_count": 30,
   "id": "aecdbc32-d079-404a-9ede-9a20a5f0bf0d",
   "metadata": {
    "tags": []
   },
   "outputs": [
    {
     "data": {
      "text/plain": [
       "[{'fname': 'Andrew', 'lname': 'Williams', 'SID': 2020},\n",
       " {'fname': 'Elizabeth', 'lname': 'Brown', 'SID': 2038},\n",
       " {'fname': 'James', 'lname': 'Brown', 'SID': 1028},\n",
       " {'fname': 'John', 'lname': 'Smith', 'SID': 1020},\n",
       " {'fname': 'Linda', 'lname': 'Johnson', 'SID': 1024},\n",
       " {'fname': 'Mary', 'lname': 'Jones', 'SID': 2022}]"
      ]
     },
     "execution_count": 30,
     "metadata": {},
     "output_type": "execute_result"
    }
   ],
   "source": [
    "sort_by_fname"
   ]
  },
  {
   "cell_type": "code",
   "execution_count": 31,
   "id": "345236d3-2408-47ce-9f65-e1f7e4fceed7",
   "metadata": {
    "tags": []
   },
   "outputs": [],
   "source": [
    "sort_by_sid = sorted(data, key = itemgetter('SID'))"
   ]
  },
  {
   "cell_type": "code",
   "execution_count": 32,
   "id": "4a86c1d7-aadf-4a54-8729-412b48fdad7e",
   "metadata": {
    "tags": []
   },
   "outputs": [
    {
     "data": {
      "text/plain": [
       "[{'fname': 'John', 'lname': 'Smith', 'SID': 1020},\n",
       " {'fname': 'Linda', 'lname': 'Johnson', 'SID': 1024},\n",
       " {'fname': 'James', 'lname': 'Brown', 'SID': 1028},\n",
       " {'fname': 'Andrew', 'lname': 'Williams', 'SID': 2020},\n",
       " {'fname': 'Mary', 'lname': 'Jones', 'SID': 2022},\n",
       " {'fname': 'Elizabeth', 'lname': 'Brown', 'SID': 2038}]"
      ]
     },
     "execution_count": 32,
     "metadata": {},
     "output_type": "execute_result"
    }
   ],
   "source": [
    "sort_by_sid"
   ]
  },
  {
   "cell_type": "code",
   "execution_count": 33,
   "id": "3afa40e1-76bf-48e2-b622-c592139dba7b",
   "metadata": {
    "tags": []
   },
   "outputs": [],
   "source": [
    "sort_by_lname_fname = sorted(data, key = itemgetter('lname', 'fname'))"
   ]
  },
  {
   "cell_type": "code",
   "execution_count": 34,
   "id": "70816daa-5b6c-48d3-988c-6d3556d3214f",
   "metadata": {
    "tags": []
   },
   "outputs": [
    {
     "data": {
      "text/plain": [
       "[{'fname': 'Elizabeth', 'lname': 'Brown', 'SID': 2038},\n",
       " {'fname': 'James', 'lname': 'Brown', 'SID': 1028},\n",
       " {'fname': 'Linda', 'lname': 'Johnson', 'SID': 1024},\n",
       " {'fname': 'Mary', 'lname': 'Jones', 'SID': 2022},\n",
       " {'fname': 'John', 'lname': 'Smith', 'SID': 1020},\n",
       " {'fname': 'Andrew', 'lname': 'Williams', 'SID': 2020}]"
      ]
     },
     "execution_count": 34,
     "metadata": {},
     "output_type": "execute_result"
    }
   ],
   "source": [
    "sort_by_lname_fname"
   ]
  },
  {
   "cell_type": "code",
   "execution_count": 35,
   "id": "05b31f67-1070-4878-9e45-0b7d9f88d14c",
   "metadata": {
    "tags": []
   },
   "outputs": [
    {
     "ename": "TypeError",
     "evalue": "'<' not supported between instances of 'dict' and 'dict'",
     "output_type": "error",
     "traceback": [
      "\u001b[1;31m---------------------------------------------------------------------------\u001b[0m",
      "\u001b[1;31mTypeError\u001b[0m                                 Traceback (most recent call last)",
      "Cell \u001b[1;32mIn[35], line 1\u001b[0m\n\u001b[1;32m----> 1\u001b[0m \u001b[38;5;28mmin\u001b[39m(data)\n",
      "\u001b[1;31mTypeError\u001b[0m: '<' not supported between instances of 'dict' and 'dict'"
     ]
    }
   ],
   "source": [
    "min(data)"
   ]
  },
  {
   "cell_type": "code",
   "execution_count": 36,
   "id": "403cb4a3-b82b-41f6-93cd-af47844736e2",
   "metadata": {
    "tags": []
   },
   "outputs": [
    {
     "data": {
      "text/plain": [
       "{'fname': 'John', 'lname': 'Smith', 'SID': 1020}"
      ]
     },
     "execution_count": 36,
     "metadata": {},
     "output_type": "execute_result"
    }
   ],
   "source": [
    "min(data, key = itemgetter('SID'))"
   ]
  },
  {
   "cell_type": "code",
   "execution_count": 37,
   "id": "69aa788f-ac5b-405c-b46d-5ac061e71f42",
   "metadata": {
    "tags": []
   },
   "outputs": [
    {
     "data": {
      "text/plain": [
       "{'fname': 'Elizabeth', 'lname': 'Brown', 'SID': 2038}"
      ]
     },
     "execution_count": 37,
     "metadata": {},
     "output_type": "execute_result"
    }
   ],
   "source": [
    "max(data, key = itemgetter('SID'))"
   ]
  },
  {
   "cell_type": "markdown",
   "id": "669438e0-2b29-4593-8dc3-0b04834bb5e7",
   "metadata": {},
   "source": [
    "# Sorting objects without native comparison support"
   ]
  },
  {
   "cell_type": "code",
   "execution_count": 39,
   "id": "951f3661-5e74-4e06-9b54-62ce7e2e57f6",
   "metadata": {
    "tags": []
   },
   "outputs": [],
   "source": [
    "class User:\n",
    "    def __init__(self, uid):\n",
    "        self.uid = uid\n",
    "        \n",
    "    def __repr__(self):\n",
    "        return 'User({})'.format(self.uid)"
   ]
  },
  {
   "cell_type": "code",
   "execution_count": 40,
   "id": "b55374ad-ccb1-4cbd-b0c0-7e7db69e2005",
   "metadata": {
    "tags": []
   },
   "outputs": [],
   "source": [
    "U = [User(1003),User(789),User(1200),User(495)]"
   ]
  },
  {
   "cell_type": "code",
   "execution_count": 41,
   "id": "e971d3ff-e1e1-4ccd-96db-ebe83da6927e",
   "metadata": {
    "tags": []
   },
   "outputs": [
    {
     "data": {
      "text/plain": [
       "[User(1003), User(789), User(1200), User(495)]"
      ]
     },
     "execution_count": 41,
     "metadata": {},
     "output_type": "execute_result"
    }
   ],
   "source": [
    "U"
   ]
  },
  {
   "cell_type": "code",
   "execution_count": 42,
   "id": "eb4bf3ab-cfcc-443f-a4ea-b027dd66dcda",
   "metadata": {
    "tags": []
   },
   "outputs": [
    {
     "data": {
      "text/plain": [
       "[User(495), User(789), User(1003), User(1200)]"
      ]
     },
     "execution_count": 42,
     "metadata": {},
     "output_type": "execute_result"
    }
   ],
   "source": [
    "sorted(U, key = lambda t:t.uid)"
   ]
  },
  {
   "cell_type": "code",
   "execution_count": 43,
   "id": "9d1ed3ae-8fe6-49f7-aafc-e626995b314d",
   "metadata": {
    "tags": []
   },
   "outputs": [],
   "source": [
    "from operator import attrgetter"
   ]
  },
  {
   "cell_type": "code",
   "execution_count": 45,
   "id": "974e624c-ca91-4530-9b56-248951f10fc2",
   "metadata": {
    "tags": []
   },
   "outputs": [
    {
     "data": {
      "text/plain": [
       "[User(495), User(789), User(1003), User(1200)]"
      ]
     },
     "execution_count": 45,
     "metadata": {},
     "output_type": "execute_result"
    }
   ],
   "source": [
    "sorted(U, key = attrgetter('uid'))"
   ]
  },
  {
   "cell_type": "code",
   "execution_count": 46,
   "id": "23a33e5d-e2a9-4363-b048-c5a6ae71fcef",
   "metadata": {
    "tags": []
   },
   "outputs": [
    {
     "data": {
      "text/plain": [
       "User(495)"
      ]
     },
     "execution_count": 46,
     "metadata": {},
     "output_type": "execute_result"
    }
   ],
   "source": [
    "min(U, key = attrgetter('uid'))"
   ]
  },
  {
   "cell_type": "code",
   "execution_count": 47,
   "id": "68982a1a-32c2-49be-b86e-5440d79fe844",
   "metadata": {
    "tags": []
   },
   "outputs": [
    {
     "data": {
      "text/plain": [
       "User(1200)"
      ]
     },
     "execution_count": 47,
     "metadata": {},
     "output_type": "execute_result"
    }
   ],
   "source": [
    "max(U, key = attrgetter('uid'))"
   ]
  },
  {
   "cell_type": "code",
   "execution_count": 48,
   "id": "5c4b0805-2d21-4d87-bdff-2de2e0fc3f51",
   "metadata": {
    "tags": []
   },
   "outputs": [],
   "source": [
    "data = [\n",
    "    {'m2': 120, 'price': 9.2, 'city': 'New York City'},\n",
    "    {'m2': 200, 'price': 11.2, 'city': 'Los Angeles'},\n",
    "    {'m2': 180, 'price': 1.6 , 'city': 'Houston'},\n",
    "    {'m2': 100, 'price': 7.9, 'city': 'New York City'},\n",
    "    {'m2': 150, 'price': 1.1, 'city': 'Houston'},\n",
    "    {'m2': 135, 'price': 10.1 , 'city': 'New York City'},\n",
    "    {'m2': 140, 'price': 7.6 , 'city': 'Los Angeles'},\n",
    "    {'m2': 175, 'price': 10.1, 'city': 'Los Angeles'}\n",
    "]"
   ]
  },
  {
   "cell_type": "code",
   "execution_count": 49,
   "id": "14a750aa-848a-449e-ae47-b2d7628c21c6",
   "metadata": {
    "tags": []
   },
   "outputs": [],
   "source": [
    "from operator import itemgetter"
   ]
  },
  {
   "cell_type": "code",
   "execution_count": 50,
   "id": "f4c2c818-806e-44c8-8cd8-26fdcb59b787",
   "metadata": {
    "tags": []
   },
   "outputs": [],
   "source": [
    "from itertools import groupby"
   ]
  },
  {
   "cell_type": "code",
   "execution_count": 52,
   "id": "3502f9d3-5a04-4161-9000-154c830152c5",
   "metadata": {
    "tags": []
   },
   "outputs": [],
   "source": [
    "data.sort(key = itemgetter('city'))"
   ]
  },
  {
   "cell_type": "code",
   "execution_count": 53,
   "id": "7853ffc9-c4ee-43d2-bb2e-f7461cd8b2ef",
   "metadata": {
    "tags": []
   },
   "outputs": [
    {
     "data": {
      "text/plain": [
       "[{'m2': 180, 'price': 1.6, 'city': 'Houston'},\n",
       " {'m2': 150, 'price': 1.1, 'city': 'Houston'},\n",
       " {'m2': 200, 'price': 11.2, 'city': 'Los Angeles'},\n",
       " {'m2': 140, 'price': 7.6, 'city': 'Los Angeles'},\n",
       " {'m2': 175, 'price': 10.1, 'city': 'Los Angeles'},\n",
       " {'m2': 120, 'price': 9.2, 'city': 'New York City'},\n",
       " {'m2': 100, 'price': 7.9, 'city': 'New York City'},\n",
       " {'m2': 135, 'price': 10.1, 'city': 'New York City'}]"
      ]
     },
     "execution_count": 53,
     "metadata": {},
     "output_type": "execute_result"
    }
   ],
   "source": [
    "data"
   ]
  },
  {
   "cell_type": "code",
   "execution_count": 54,
   "id": "bd9fccd3-63b7-4c65-bb5e-05cb259c832c",
   "metadata": {
    "tags": []
   },
   "outputs": [
    {
     "name": "stdout",
     "output_type": "stream",
     "text": [
      "Houston\n",
      "        {'m2': 180, 'price': 1.6, 'city': 'Houston'}\n",
      "        {'m2': 150, 'price': 1.1, 'city': 'Houston'}\n",
      "Los Angeles\n",
      "        {'m2': 200, 'price': 11.2, 'city': 'Los Angeles'}\n",
      "        {'m2': 140, 'price': 7.6, 'city': 'Los Angeles'}\n",
      "        {'m2': 175, 'price': 10.1, 'city': 'Los Angeles'}\n",
      "New York City\n",
      "        {'m2': 120, 'price': 9.2, 'city': 'New York City'}\n",
      "        {'m2': 100, 'price': 7.9, 'city': 'New York City'}\n",
      "        {'m2': 135, 'price': 10.1, 'city': 'New York City'}\n"
     ]
    }
   ],
   "source": [
    "for city, item in groupby(data, key = itemgetter('city')):\n",
    "    print(city)\n",
    "    for i in item:\n",
    "        print('       ', i)"
   ]
  },
  {
   "cell_type": "code",
   "execution_count": 55,
   "id": "dd308330-3559-4a0d-9c0e-a5ef04f16816",
   "metadata": {
    "tags": []
   },
   "outputs": [
    {
     "data": {
      "text/plain": [
       "[{'m2': 180, 'price': 1.6, 'city': 'Houston'},\n",
       " {'m2': 150, 'price': 1.1, 'city': 'Houston'},\n",
       " {'m2': 200, 'price': 11.2, 'city': 'Los Angeles'},\n",
       " {'m2': 140, 'price': 7.6, 'city': 'Los Angeles'},\n",
       " {'m2': 175, 'price': 10.1, 'city': 'Los Angeles'},\n",
       " {'m2': 120, 'price': 9.2, 'city': 'New York City'},\n",
       " {'m2': 100, 'price': 7.9, 'city': 'New York City'},\n",
       " {'m2': 135, 'price': 10.1, 'city': 'New York City'}]"
      ]
     },
     "execution_count": 55,
     "metadata": {},
     "output_type": "execute_result"
    }
   ],
   "source": [
    "data"
   ]
  },
  {
   "cell_type": "code",
   "execution_count": 56,
   "id": "8a1d5eba-9461-49db-b530-2b4d53df48f8",
   "metadata": {
    "tags": []
   },
   "outputs": [],
   "source": [
    "from collections import defaultdict"
   ]
  },
  {
   "cell_type": "code",
   "execution_count": 57,
   "id": "4787ce1c-570d-4d0c-9e18-fc34b0e1e81b",
   "metadata": {
    "tags": []
   },
   "outputs": [],
   "source": [
    "data_by_city = defaultdict(list)"
   ]
  },
  {
   "cell_type": "code",
   "execution_count": 58,
   "id": "b0f65761-e7fe-426e-85bb-5faf74b6768a",
   "metadata": {
    "tags": []
   },
   "outputs": [],
   "source": [
    "for r in data:\n",
    "    data_by_city[r['city']].append(r)"
   ]
  },
  {
   "cell_type": "code",
   "execution_count": 59,
   "id": "36e5cdf3-3c4b-48c2-831a-539fd27c3d62",
   "metadata": {
    "tags": []
   },
   "outputs": [
    {
     "name": "stdout",
     "output_type": "stream",
     "text": [
      "{'m2': 120, 'price': 9.2, 'city': 'New York City'}\n",
      "{'m2': 100, 'price': 7.9, 'city': 'New York City'}\n",
      "{'m2': 135, 'price': 10.1, 'city': 'New York City'}\n"
     ]
    }
   ],
   "source": [
    "for r in data_by_city['New York City']:\n",
    "    print(r)"
   ]
  },
  {
   "cell_type": "code",
   "execution_count": 60,
   "id": "a160b1c2-2b9e-4606-a67b-cf974dc929d3",
   "metadata": {
    "tags": []
   },
   "outputs": [
    {
     "name": "stdout",
     "output_type": "stream",
     "text": [
      "{'m2': 200, 'price': 11.2, 'city': 'Los Angeles'}\n",
      "{'m2': 140, 'price': 7.6, 'city': 'Los Angeles'}\n",
      "{'m2': 175, 'price': 10.1, 'city': 'Los Angeles'}\n"
     ]
    }
   ],
   "source": [
    "for r in data_by_city['Los Angeles']:\n",
    "    print(r)"
   ]
  },
  {
   "cell_type": "code",
   "execution_count": 61,
   "id": "d4d5ee17-b25e-453d-82e8-1ad9367a950a",
   "metadata": {
    "tags": []
   },
   "outputs": [
    {
     "name": "stdout",
     "output_type": "stream",
     "text": [
      "{'m2': 180, 'price': 1.6, 'city': 'Houston'}\n",
      "{'m2': 150, 'price': 1.1, 'city': 'Houston'}\n"
     ]
    }
   ],
   "source": [
    "for r in data_by_city['Houston']:\n",
    "    print(r)"
   ]
  },
  {
   "cell_type": "code",
   "execution_count": null,
   "id": "2b92fb42-bef9-457b-9765-9a3db0845bdb",
   "metadata": {},
   "outputs": [],
   "source": []
  }
 ],
 "metadata": {
  "kernelspec": {
   "display_name": "Python 3 (ipykernel)",
   "language": "python",
   "name": "python3"
  },
  "language_info": {
   "codemirror_mode": {
    "name": "ipython",
    "version": 3
   },
   "file_extension": ".py",
   "mimetype": "text/x-python",
   "name": "python",
   "nbconvert_exporter": "python",
   "pygments_lexer": "ipython3",
   "version": "3.11.3"
  }
 },
 "nbformat": 4,
 "nbformat_minor": 5
}
